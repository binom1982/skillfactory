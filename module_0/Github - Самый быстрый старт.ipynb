{
 "cells": [
  {
   "source": [
    "## Проект: Угадай число!\n",
    "Компьютер загадывает целое число от 1 до 100, небходимо угадать число за минимальное число попыток.\n"
   ],
   "cell_type": "markdown",
   "metadata": {}
  },
  {
   "cell_type": "code",
   "execution_count": 1,
   "metadata": {},
   "outputs": [],
   "source": [
    "import numpy as np"
   ]
  },
  {
   "cell_type": "code",
   "execution_count": 2,
   "metadata": {
    "tags": []
   },
   "outputs": [
    {
     "output_type": "stream",
     "name": "stdout",
     "text": [
      "Ваш алгоритм угадывает число в среднем за 5 попыток\n"
     ]
    },
    {
     "output_type": "execute_result",
     "data": {
      "text/plain": [
       "5"
      ]
     },
     "metadata": {},
     "execution_count": 2
    }
   ],
   "source": [
    "def game_core(number):\n",
    "    '''Сначала устанавливаем любое random число, а потом уменьшаем или увеличиваем \n",
    "        его в зависимости от того, больше оно или меньше нужного.\n",
    "        Функция принимает загаданное число и возвращает число попыток'''\n",
    "    count = 1\n",
    "    predict = np.random.randint(1,101)\n",
    "    \n",
    "    while number != predict:\n",
    "        count+=1\n",
    "\n",
    "        # вычисляем приращение на которое небходимо увеличить/уменьшить переменную predict\n",
    "        # преобразую в int и прибавляю 1 для того чтобы округлить в большую сторону \n",
    "        # без использования библиотек\n",
    "        increment = int(abs(number - predict)/2)+1 \n",
    "       \n",
    "        if number > predict:            \n",
    "            predict += increment\n",
    "        elif number < predict: \n",
    "            predict -= increment\n",
    "\n",
    "    return count # выход из цикла, если угадали\n",
    "\n",
    "        \n",
    "def score_game(game_core):\n",
    "    '''Запускаем игру 1000 раз, чтобы узнать, как быстро игра угадывает число'''\n",
    "    np.random.seed(1)  # фиксируем RANDOM SEED, чтобы ваш эксперимент был воспроизводим!\n",
    "    random_array = np.random.randint(1,101, size=(1000))\n",
    "   \n",
    "    # Сохраняем результаты выполенения алгоритма для 1000 повторений\n",
    "    count_ls = [game_core(number) for number in random_array]\n",
    "    \n",
    "    score = int(np.mean(count_ls))\n",
    "    print(f\"Ваш алгоритм угадывает число в среднем за {score} попыток\")\n",
    "    return(score)\n",
    "    \n",
    "\n",
    "# запускаем алгоритм\n",
    "score_game(game_core)"
   ]
  },
  {
   "cell_type": "code",
   "execution_count": null,
   "metadata": {},
   "outputs": [],
   "source": []
  }
 ],
 "metadata": {
  "kernelspec": {
   "display_name": "Python 3",
   "language": "python",
   "name": "python3"
  },
  "language_info": {
   "codemirror_mode": {
    "name": "ipython",
    "version": 3
   },
   "file_extension": ".py",
   "mimetype": "text/x-python",
   "name": "python",
   "nbconvert_exporter": "python",
   "pygments_lexer": "ipython3",
   "version": "3.8.3-final"
  }
 },
 "nbformat": 4,
 "nbformat_minor": 4
}