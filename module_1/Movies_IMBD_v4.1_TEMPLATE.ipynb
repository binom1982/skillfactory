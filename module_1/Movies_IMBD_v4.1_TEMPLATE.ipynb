{
 "cells": [
  {
   "cell_type": "code",
   "execution_count": 80,
   "metadata": {
    "_cell_guid": "b1076dfc-b9ad-4769-8c92-a6c4dae69d19",
    "_uuid": "8f2839f25d086af736a60e9eeb907d3b93b6e0e5",
    "colab": {},
    "colab_type": "code",
    "id": "U2D2gTdJVp90"
   },
   "outputs": [],
   "source": [
    "import numpy as np\n",
    "import pandas as pd\n",
    "import seaborn as sns\n",
    "import matplotlib.pyplot as plt\n",
    "from collections import Counter"
   ]
  },
  {
   "cell_type": "code",
   "execution_count": 81,
   "metadata": {
    "_cell_guid": "79c7e3d0-c299-4dcb-8224-4455121ee9b0",
    "_uuid": "d629ff2d2480ee46fbb7e2d37f6b5fab8052498a",
    "colab": {},
    "colab_type": "code",
    "id": "oyGfxL3eVp9-"
   },
   "outputs": [
    {
     "output_type": "execute_result",
     "data": {
      "text/plain": [
       "        imdb_id    budget    revenue                        original_title  \\\n",
       "1886  tt0131704  76000000   35134820  The Adventures of Rocky & Bullwinkle   \n",
       "1696  tt0431308  30000000  156835339                       P.S. I Love You   \n",
       "1854  tt0158622  83000000   59468275    The Flintstones in Viva Rock Vegas   \n",
       "1875  tt0219854  65000000   69700000                               The Kid   \n",
       "128   tt2267998  61000000  369330363                             Gone Girl   \n",
       "\n",
       "                                                   cast             director  \\\n",
       "1886  Rene Russo|Jason Alexander|Piper Perabo|Randy ...          Des McAnuff   \n",
       "1696  Hilary Swank|Gerard Butler|Lisa Kudrow|Harry C...  Richard LaGravenese   \n",
       "1854  Mark Addy|Stephen Baldwin|Kristen Johnston|Jan...         Brian Levant   \n",
       "1875  Bruce Willis|Spencer Breslin|Emily Mortimer|Li...       Jon Turteltaub   \n",
       "128   Ben Affleck|Rosamund Pike|Carrie Coon|Neil Pat...        David Fincher   \n",
       "\n",
       "                                             tagline  \\\n",
       "1886         This summer it's not the same old bull.   \n",
       "1696      His life ended. Now, a new one will begin.   \n",
       "1854                              Get ready to rock!   \n",
       "1875  Nobody ever grows up quite like they imagined.   \n",
       "128      You don't know what you've got 'til it's...   \n",
       "\n",
       "                                               overview  runtime  \\\n",
       "1886  Rocky and Bullwinkle have been living off the ...       88   \n",
       "1696  A young widow discovers that her late husband ...      126   \n",
       "1854  The Flintstones are at it again. The Flintston...       90   \n",
       "1875  Powerful businessman Russ Duritz is self-absor...      104   \n",
       "128   With his wife's disappearance having become th...      145   \n",
       "\n",
       "                                        genres  \\\n",
       "1886  Adventure|Animation|Action|Comedy|Family   \n",
       "1696                             Drama|Romance   \n",
       "1854     Science Fiction|Comedy|Family|Romance   \n",
       "1875                     Fantasy|Comedy|Family   \n",
       "128                     Mystery|Thriller|Drama   \n",
       "\n",
       "                                   production_companies release_date  \\\n",
       "1886  Universal Pictures|Capella International|KC Me...    6/30/2000   \n",
       "1696  Wendy Finerman Productions|Alcon Entertainment...   11/15/2007   \n",
       "1854            Universal Pictures|Amblin Entertainment    4/28/2000   \n",
       "1875                               Walt Disney Pictures     7/7/2000   \n",
       "128   Twentieth Century Fox Film Corporation|Regency...    10/1/2014   \n",
       "\n",
       "      vote_average  release_year  \n",
       "1886           4.0          2000  \n",
       "1696           7.0          2007  \n",
       "1854           4.4          2000  \n",
       "1875           5.9          2000  \n",
       "128            7.9          2014  "
      ],
      "text/html": "<div>\n<style scoped>\n    .dataframe tbody tr th:only-of-type {\n        vertical-align: middle;\n    }\n\n    .dataframe tbody tr th {\n        vertical-align: top;\n    }\n\n    .dataframe thead th {\n        text-align: right;\n    }\n</style>\n<table border=\"1\" class=\"dataframe\">\n  <thead>\n    <tr style=\"text-align: right;\">\n      <th></th>\n      <th>imdb_id</th>\n      <th>budget</th>\n      <th>revenue</th>\n      <th>original_title</th>\n      <th>cast</th>\n      <th>director</th>\n      <th>tagline</th>\n      <th>overview</th>\n      <th>runtime</th>\n      <th>genres</th>\n      <th>production_companies</th>\n      <th>release_date</th>\n      <th>vote_average</th>\n      <th>release_year</th>\n    </tr>\n  </thead>\n  <tbody>\n    <tr>\n      <th>1886</th>\n      <td>tt0131704</td>\n      <td>76000000</td>\n      <td>35134820</td>\n      <td>The Adventures of Rocky &amp; Bullwinkle</td>\n      <td>Rene Russo|Jason Alexander|Piper Perabo|Randy ...</td>\n      <td>Des McAnuff</td>\n      <td>This summer it's not the same old bull.</td>\n      <td>Rocky and Bullwinkle have been living off the ...</td>\n      <td>88</td>\n      <td>Adventure|Animation|Action|Comedy|Family</td>\n      <td>Universal Pictures|Capella International|KC Me...</td>\n      <td>6/30/2000</td>\n      <td>4.0</td>\n      <td>2000</td>\n    </tr>\n    <tr>\n      <th>1696</th>\n      <td>tt0431308</td>\n      <td>30000000</td>\n      <td>156835339</td>\n      <td>P.S. I Love You</td>\n      <td>Hilary Swank|Gerard Butler|Lisa Kudrow|Harry C...</td>\n      <td>Richard LaGravenese</td>\n      <td>His life ended. Now, a new one will begin.</td>\n      <td>A young widow discovers that her late husband ...</td>\n      <td>126</td>\n      <td>Drama|Romance</td>\n      <td>Wendy Finerman Productions|Alcon Entertainment...</td>\n      <td>11/15/2007</td>\n      <td>7.0</td>\n      <td>2007</td>\n    </tr>\n    <tr>\n      <th>1854</th>\n      <td>tt0158622</td>\n      <td>83000000</td>\n      <td>59468275</td>\n      <td>The Flintstones in Viva Rock Vegas</td>\n      <td>Mark Addy|Stephen Baldwin|Kristen Johnston|Jan...</td>\n      <td>Brian Levant</td>\n      <td>Get ready to rock!</td>\n      <td>The Flintstones are at it again. The Flintston...</td>\n      <td>90</td>\n      <td>Science Fiction|Comedy|Family|Romance</td>\n      <td>Universal Pictures|Amblin Entertainment</td>\n      <td>4/28/2000</td>\n      <td>4.4</td>\n      <td>2000</td>\n    </tr>\n    <tr>\n      <th>1875</th>\n      <td>tt0219854</td>\n      <td>65000000</td>\n      <td>69700000</td>\n      <td>The Kid</td>\n      <td>Bruce Willis|Spencer Breslin|Emily Mortimer|Li...</td>\n      <td>Jon Turteltaub</td>\n      <td>Nobody ever grows up quite like they imagined.</td>\n      <td>Powerful businessman Russ Duritz is self-absor...</td>\n      <td>104</td>\n      <td>Fantasy|Comedy|Family</td>\n      <td>Walt Disney Pictures</td>\n      <td>7/7/2000</td>\n      <td>5.9</td>\n      <td>2000</td>\n    </tr>\n    <tr>\n      <th>128</th>\n      <td>tt2267998</td>\n      <td>61000000</td>\n      <td>369330363</td>\n      <td>Gone Girl</td>\n      <td>Ben Affleck|Rosamund Pike|Carrie Coon|Neil Pat...</td>\n      <td>David Fincher</td>\n      <td>You don't know what you've got 'til it's...</td>\n      <td>With his wife's disappearance having become th...</td>\n      <td>145</td>\n      <td>Mystery|Thriller|Drama</td>\n      <td>Twentieth Century Fox Film Corporation|Regency...</td>\n      <td>10/1/2014</td>\n      <td>7.9</td>\n      <td>2014</td>\n    </tr>\n  </tbody>\n</table>\n</div>"
     },
     "metadata": {},
     "execution_count": 81
    }
   ],
   "source": [
    "data = pd.read_csv('movie_bd_v5.csv')\n",
    "data.sample(5)"
   ]
  },
  {
   "cell_type": "code",
   "execution_count": 82,
   "metadata": {
    "colab": {},
    "colab_type": "code",
    "id": "CoYUnagMVp-C"
   },
   "outputs": [
    {
     "output_type": "execute_result",
     "data": {
      "text/plain": [
       "             budget       revenue      runtime  vote_average  release_year\n",
       "count  1.889000e+03  1.889000e+03  1889.000000   1889.000000   1889.000000\n",
       "mean   5.431083e+07  1.553653e+08   109.658549      6.140762   2007.860773\n",
       "std    4.858721e+07  2.146698e+08    18.017041      0.764763      4.468841\n",
       "min    5.000000e+06  2.033165e+06    63.000000      3.300000   2000.000000\n",
       "25%    2.000000e+07  3.456058e+07    97.000000      5.600000   2004.000000\n",
       "50%    3.800000e+07  8.361541e+07   107.000000      6.100000   2008.000000\n",
       "75%    7.200000e+07  1.782626e+08   120.000000      6.600000   2012.000000\n",
       "max    3.800000e+08  2.781506e+09   214.000000      8.100000   2015.000000"
      ],
      "text/html": "<div>\n<style scoped>\n    .dataframe tbody tr th:only-of-type {\n        vertical-align: middle;\n    }\n\n    .dataframe tbody tr th {\n        vertical-align: top;\n    }\n\n    .dataframe thead th {\n        text-align: right;\n    }\n</style>\n<table border=\"1\" class=\"dataframe\">\n  <thead>\n    <tr style=\"text-align: right;\">\n      <th></th>\n      <th>budget</th>\n      <th>revenue</th>\n      <th>runtime</th>\n      <th>vote_average</th>\n      <th>release_year</th>\n    </tr>\n  </thead>\n  <tbody>\n    <tr>\n      <th>count</th>\n      <td>1.889000e+03</td>\n      <td>1.889000e+03</td>\n      <td>1889.000000</td>\n      <td>1889.000000</td>\n      <td>1889.000000</td>\n    </tr>\n    <tr>\n      <th>mean</th>\n      <td>5.431083e+07</td>\n      <td>1.553653e+08</td>\n      <td>109.658549</td>\n      <td>6.140762</td>\n      <td>2007.860773</td>\n    </tr>\n    <tr>\n      <th>std</th>\n      <td>4.858721e+07</td>\n      <td>2.146698e+08</td>\n      <td>18.017041</td>\n      <td>0.764763</td>\n      <td>4.468841</td>\n    </tr>\n    <tr>\n      <th>min</th>\n      <td>5.000000e+06</td>\n      <td>2.033165e+06</td>\n      <td>63.000000</td>\n      <td>3.300000</td>\n      <td>2000.000000</td>\n    </tr>\n    <tr>\n      <th>25%</th>\n      <td>2.000000e+07</td>\n      <td>3.456058e+07</td>\n      <td>97.000000</td>\n      <td>5.600000</td>\n      <td>2004.000000</td>\n    </tr>\n    <tr>\n      <th>50%</th>\n      <td>3.800000e+07</td>\n      <td>8.361541e+07</td>\n      <td>107.000000</td>\n      <td>6.100000</td>\n      <td>2008.000000</td>\n    </tr>\n    <tr>\n      <th>75%</th>\n      <td>7.200000e+07</td>\n      <td>1.782626e+08</td>\n      <td>120.000000</td>\n      <td>6.600000</td>\n      <td>2012.000000</td>\n    </tr>\n    <tr>\n      <th>max</th>\n      <td>3.800000e+08</td>\n      <td>2.781506e+09</td>\n      <td>214.000000</td>\n      <td>8.100000</td>\n      <td>2015.000000</td>\n    </tr>\n  </tbody>\n</table>\n</div>"
     },
     "metadata": {},
     "execution_count": 82
    }
   ],
   "source": [
    "data.describe()"
   ]
  },
  {
   "cell_type": "markdown",
   "metadata": {
    "colab_type": "text",
    "id": "DTIt7ezGVp-G"
   },
   "source": [
    "# Предобработка"
   ]
  },
  {
   "cell_type": "code",
   "execution_count": 83,
   "metadata": {
    "colab": {},
    "colab_type": "code",
    "id": "jNb40DwKVp-H"
   },
   "outputs": [
    {
     "output_type": "stream",
     "name": "stdout",
     "text": [
      "<class 'pandas.core.frame.DataFrame'>\nRangeIndex: 1889 entries, 0 to 1888\nData columns (total 19 columns):\n #   Column                     Non-Null Count  Dtype         \n---  ------                     --------------  -----         \n 0   imdb_id                    1889 non-null   object        \n 1   budget                     1889 non-null   int64         \n 2   revenue                    1889 non-null   int64         \n 3   original_title             1889 non-null   object        \n 4   cast                       1889 non-null   object        \n 5   director                   1889 non-null   object        \n 6   tagline                    1889 non-null   object        \n 7   overview                   1889 non-null   object        \n 8   runtime                    1889 non-null   int64         \n 9   genres                     1889 non-null   object        \n 10  production_companies       1889 non-null   object        \n 11  release_date               1889 non-null   datetime64[ns]\n 12  vote_average               1889 non-null   float64       \n 13  release_year               1889 non-null   int64         \n 14  profit                     1889 non-null   int64         \n 15  genres_list                1889 non-null   object        \n 16  cast_list                  1889 non-null   object        \n 17  director_list              1889 non-null   object        \n 18  production_companies_list  1889 non-null   object        \ndtypes: datetime64[ns](1), float64(1), int64(5), object(12)\nmemory usage: 280.5+ KB\n"
     ]
    }
   ],
   "source": [
    "answers = {} # создадим словарь для ответов\n",
    "\n",
    "# тут другие ваши предобработки колонок например:\n",
    "\n",
    "# 1) Добавляем столбец (profit = revenue - budget)\n",
    "data['profit'] = data['revenue']- data['budget']\n",
    "\n",
    "# 2) Добавляем столбец genres_list\n",
    "data['genres_list'] = data['genres'].apply(lambda x: str(x).split(sep='|'))\n",
    "\n",
    "# 3) Добавляем столбец cast_list\n",
    "data['cast_list'] = data['cast'].apply(lambda x: str(x).split(sep='|'))\n",
    "\n",
    "# 4) Добавляем director_list\n",
    "data['director_list'] = data['director'].apply(lambda x: str(x).split(sep='|'))\n",
    "\n",
    "# 5) Добавляем production_companies_list\n",
    "data['production_companies_list'] = data['production_companies'].apply(lambda x: str(x).split(sep='|'))\n",
    "\n",
    "data = data.astype({'release_date': 'datetime64'})\n",
    "\n",
    "#the time given in the dataset is in string format.\n",
    "#So we need to change this in datetime format\n",
    "# ...\n",
    "data.info()\n",
    "#data.head()"
   ]
  },
  {
   "cell_type": "markdown",
   "metadata": {
    "colab_type": "text",
    "id": "YxZaH-nPVp-L"
   },
   "source": [
    "# 1. У какого фильма из списка самый большой бюджет?"
   ]
  },
  {
   "cell_type": "markdown",
   "metadata": {
    "colab_type": "text",
    "id": "Nd-G5gX6Vp-M"
   },
   "source": [
    "Использовать варианты ответов в коде решения запрещено.    \n",
    "Вы думаете и в жизни у вас будут варианты ответов?)"
   ]
  },
  {
   "cell_type": "code",
   "execution_count": 84,
   "metadata": {
    "colab": {},
    "colab_type": "code",
    "id": "uVnXAY5RVp-O"
   },
   "outputs": [],
   "source": [
    "# в словарь вставляем номер вопроса и ваш ответ на него\n",
    "# Пример: \n",
    "answers['1'] = '2. Spider-Man 3 (tt0413300)'\n",
    "# запишите свой вариант ответа\n",
    "answers['1'] = '...'\n",
    "# если ответили верно, можете добавить комментарий со значком \"+\""
   ]
  },
  {
   "cell_type": "code",
   "execution_count": 85,
   "metadata": {
    "colab": {},
    "colab_type": "code",
    "id": "dZwb3m28Vp-S"
   },
   "outputs": [
    {
     "output_type": "display_data",
     "data": {
      "text/plain": "Fantastic Four                       2\nThe Gift                             2\nCharlie and the Chocolate Factory    1\nThe Wedding Planner                  1\nEvil Dead                            1\n                                    ..\nJurassic Park III                    1\nDylan Dog: Dead of Night             1\nGone Baby Gone                       1\nOrphan                               1\nThe Walk                             1\nName: original_title, Length: 1887, dtype: int64"
     },
     "metadata": {}
    },
    {
     "output_type": "display_data",
     "data": {
      "text/plain": "{'1': 'Pirates of the Caribbean: On Stranger Tides (tt1298650)'}"
     },
     "metadata": {}
    }
   ],
   "source": [
    "# тут пишем ваш код для решения данного вопроса:\n",
    "\n",
    "# ----------------------------------Способ 1-----------------------------\n",
    "# 1) Проверяем, что имя фильма не уникально.\n",
    "# В датафрейме встречаются фильмы с одинаковыми названиями (original_title), но с разным ид (imdb_id).\n",
    "# Например: 'The Gift ', 'Fantastic Four'   \n",
    "display(data['original_title'].value_counts().sort_values(ascending=False))\n",
    "\n",
    "# 2) Производим группировку и подсчет максимального 'budget' в разрезе ['imdb_id','original_title']\n",
    "grouped_data = data.groupby(['imdb_id','original_title'])['budget'].max().sort_values(ascending=False)\n",
    "\n",
    "answers['1'] = f'{grouped_data.index[0][1]} ({grouped_data.index[0][0]})' #\n",
    "display(answers)"
   ]
  },
  {
   "cell_type": "markdown",
   "metadata": {
    "colab_type": "text",
    "id": "K7L3nbRXVp-X"
   },
   "source": [
    "ВАРИАНТ 2"
   ]
  },
  {
   "cell_type": "code",
   "execution_count": 86,
   "metadata": {
    "colab": {},
    "colab_type": "code",
    "id": "OGaoQI7rVp-X"
   },
   "outputs": [
    {
     "output_type": "display_data",
     "data": {
      "text/plain": "imdb_id                                                              tt1298650\nbudget                                                               380000000\nrevenue                                                             1021683000\noriginal_title                     Pirates of the Caribbean: On Stranger Tides\ncast                         Johnny Depp|PenÃ©lope Cruz|Geoffrey Rush|Ian M...\ndirector                                                          Rob Marshall\ntagline                                            Live Forever Or Die Trying.\noverview                     Captain Jack Sparrow crosses paths with a woma...\nruntime                                                                    136\ngenres                                                Adventure|Action|Fantasy\nproduction_companies         Walt Disney Pictures|Jerry Bruckheimer Films|M...\nrelease_date                                               2011-05-11 00:00:00\nvote_average                                                               6.3\nrelease_year                                                              2011\nprofit                                                               641683000\ngenres_list                                       [Adventure, Action, Fantasy]\ncast_list                    [Johnny Depp, PenÃ©lope Cruz, Geoffrey Rush, I...\ndirector_list                                                   [Rob Marshall]\nproduction_companies_list    [Walt Disney Pictures, Jerry Bruckheimer Films...\nName: 0, dtype: object"
     },
     "metadata": {}
    },
    {
     "output_type": "display_data",
     "data": {
      "text/plain": "{'1': 'Pirates of the Caribbean: On Stranger Tides (tt1298650)'}"
     },
     "metadata": {}
    }
   ],
   "source": [
    "# ----------------------------------Способ 2-----------------------------\n",
    "# 1) Сортируем датафрейм по столбцу 'budget' по убывания и берем первую строку\n",
    "data_sorted = data.sort_values(['budget'], ascending=[0], ignore_index=True)\n",
    "display(data_sorted.iloc[0])\n",
    "\n",
    "answers['1'] = f'{data_sorted.iloc[0][3]} ({data_sorted.iloc[0][0]})' # +\n",
    "display(answers)"
   ]
  },
  {
   "cell_type": "markdown",
   "metadata": {
    "colab_type": "text",
    "id": "FNRbbI3vVp-c"
   },
   "source": [
    "# 2. Какой из фильмов самый длительный (в минутах)?"
   ]
  },
  {
   "cell_type": "code",
   "execution_count": 87,
   "metadata": {
    "colab": {},
    "colab_type": "code",
    "id": "vHAoEXNTVp-d"
   },
   "outputs": [],
   "source": [
    "# думаю логику работы с этим словарем вы уже поняли, \n",
    "# по этому не буду больше его дублировать\n",
    "answers['2'] = '...'"
   ]
  },
  {
   "cell_type": "code",
   "execution_count": 88,
   "metadata": {
    "colab": {},
    "colab_type": "code",
    "id": "ot-VX2XrVp-g"
   },
   "outputs": [
    {
     "output_type": "display_data",
     "data": {
      "text/plain": "{'1': 'Pirates of the Caribbean: On Stranger Tides (tt1298650)',\n '2': 'Gods and Generals (tt0279111)'}"
     },
     "metadata": {}
    }
   ],
   "source": [
    "# 1) Производим группировку и подсчет максимального 'runtime' в разрезе ['imdb_id','original_title']\n",
    "grouped_data = data.groupby(['imdb_id','original_title'])['runtime'].max().sort_values(ascending=False)\n",
    "#display(grouped_data)\n",
    "\n",
    "answers['2'] = f'{grouped_data.index[0][1]} ({grouped_data.index[0][0]})' # +\n",
    "display(answers)"
   ]
  },
  {
   "cell_type": "markdown",
   "metadata": {
    "colab_type": "text",
    "id": "bapLlpW8Vp-k"
   },
   "source": [
    "# 3. Какой из фильмов самый короткий (в минутах)?\n",
    "\n",
    "\n",
    "\n"
   ]
  },
  {
   "cell_type": "code",
   "execution_count": 89,
   "metadata": {
    "colab": {},
    "colab_type": "code",
    "id": "YBxaSHuAVp-l"
   },
   "outputs": [
    {
     "output_type": "display_data",
     "data": {
      "text/plain": "{'1': 'Pirates of the Caribbean: On Stranger Tides (tt1298650)',\n '2': 'Gods and Generals (tt0279111)',\n '3': 'Winnie the Pooh (tt1449283)'}"
     },
     "metadata": {}
    }
   ],
   "source": [
    "# 1) Производим группировку и подсчет минимального 'runtime' в разрезе ['imdb_id','original_title']\n",
    "grouped_data = data.groupby(['imdb_id','original_title'])['runtime'].max().sort_values(ascending=True)\n",
    "#display(grouped_data)\n",
    "\n",
    "answers['3'] = f'{grouped_data.index[0][1]} ({grouped_data.index[0][0]})' # +\n",
    "display(answers)"
   ]
  },
  {
   "cell_type": "markdown",
   "metadata": {
    "colab_type": "text",
    "id": "TfQbxbfNVp-p"
   },
   "source": [
    "# 4. Какова средняя длительность фильмов?\n"
   ]
  },
  {
   "cell_type": "code",
   "execution_count": 90,
   "metadata": {
    "colab": {},
    "colab_type": "code",
    "id": "5K6dKZYVVp-q"
   },
   "outputs": [
    {
     "output_type": "display_data",
     "data": {
      "text/plain": "{'1': 'Pirates of the Caribbean: On Stranger Tides (tt1298650)',\n '2': 'Gods and Generals (tt0279111)',\n '3': 'Winnie the Pooh (tt1449283)',\n '4': '110'}"
     },
     "metadata": {}
    }
   ],
   "source": [
    "# 1) Вычисляем среднее по столбцу 'runtime' по всем строкам\n",
    "films_mean = data['runtime'].mean()\n",
    "\n",
    "answers['4'] = f'{films_mean:.0f}' # +\n",
    "display(answers)"
   ]
  },
  {
   "cell_type": "markdown",
   "metadata": {
    "colab_type": "text",
    "id": "r5TvbnT_Vp-u"
   },
   "source": [
    "# 5. Каково медианное значение длительности фильмов? "
   ]
  },
  {
   "cell_type": "code",
   "execution_count": 91,
   "metadata": {
    "colab": {},
    "colab_type": "code",
    "id": "iBROplKnVp-v"
   },
   "outputs": [
    {
     "output_type": "display_data",
     "data": {
      "text/plain": "{'1': 'Pirates of the Caribbean: On Stranger Tides (tt1298650)',\n '2': 'Gods and Generals (tt0279111)',\n '3': 'Winnie the Pooh (tt1449283)',\n '4': '110',\n '5': '107'}"
     },
     "metadata": {}
    }
   ],
   "source": [
    "# 1) Вычисляем среднее по столбцу 'runtime' по всем строкам\n",
    "films_median = data['runtime'].median()\n",
    "\n",
    "answers['5'] = f'{films_median:.0f}' # +\n",
    "display(answers)"
   ]
  },
  {
   "cell_type": "markdown",
   "metadata": {
    "colab_type": "text",
    "id": "39P-deDSVp-y"
   },
   "source": [
    "# 6. Какой самый прибыльный фильм?\n",
    "#### Внимание! Здесь и далее под «прибылью» или «убытками» понимается разность между сборами и бюджетом фильма. (прибыль = сборы - бюджет) в нашем датасете это будет (profit = revenue - budget) "
   ]
  },
  {
   "cell_type": "code",
   "execution_count": 92,
   "metadata": {
    "colab": {},
    "colab_type": "code",
    "id": "UYZh4T9WVp-y"
   },
   "outputs": [
    {
     "output_type": "display_data",
     "data": {
      "text/plain": "{'1': 'Pirates of the Caribbean: On Stranger Tides (tt1298650)',\n '2': 'Gods and Generals (tt0279111)',\n '3': 'Winnie the Pooh (tt1449283)',\n '4': '110',\n '5': '107',\n '6': 'Avatar (tt0499549)'}"
     },
     "metadata": {}
    }
   ],
   "source": [
    "# лучше код получения столбца profit вынести в Предобработку что в начале\n",
    "\n",
    "# 1) Производим группировку и подсчет максимального 'profit' в разрезе ['imdb_id','original_title']\n",
    "grouped_data = data.groupby(['imdb_id','original_title'])['profit'].max().sort_values(ascending=False)\n",
    "#display(grouped_data)\n",
    "\n",
    "answers['6'] = f'{grouped_data.index[0][1]} ({grouped_data.index[0][0]})' # +\n",
    "display(answers)"
   ]
  },
  {
   "cell_type": "markdown",
   "metadata": {
    "colab_type": "text",
    "id": "M99JmIX4Vp-2"
   },
   "source": [
    "# 7. Какой фильм самый убыточный? "
   ]
  },
  {
   "cell_type": "code",
   "execution_count": 93,
   "metadata": {
    "colab": {},
    "colab_type": "code",
    "id": "w-D2m4XPVp-3"
   },
   "outputs": [
    {
     "output_type": "display_data",
     "data": {
      "text/plain": "{'1': 'Pirates of the Caribbean: On Stranger Tides (tt1298650)',\n '2': 'Gods and Generals (tt0279111)',\n '3': 'Winnie the Pooh (tt1449283)',\n '4': '110',\n '5': '107',\n '6': 'Avatar (tt0499549)',\n '7': 'The Lone Ranger (tt1210819)'}"
     },
     "metadata": {}
    }
   ],
   "source": [
    "# 1) Производим группировку и подсчет минимального 'profit' в разрезе ['imdb_id','original_title']\n",
    "grouped_data = data.groupby(['imdb_id','original_title'])['profit'].max().sort_values(ascending=True)\n",
    "#display(grouped_data)\n",
    "\n",
    "answers['7'] = f'{grouped_data.index[0][1]} ({grouped_data.index[0][0]})' # +\n",
    "display(answers)"
   ]
  },
  {
   "cell_type": "markdown",
   "metadata": {
    "colab_type": "text",
    "id": "wEOM5ERVVp-6"
   },
   "source": [
    "# 8. У скольких фильмов из датасета объем сборов оказался выше бюджета?"
   ]
  },
  {
   "cell_type": "code",
   "execution_count": 94,
   "metadata": {
    "colab": {},
    "colab_type": "code",
    "id": "y00_7HD6Vp-7"
   },
   "outputs": [
    {
     "output_type": "display_data",
     "data": {
      "text/plain": "{'1': 'Pirates of the Caribbean: On Stranger Tides (tt1298650)',\n '2': 'Gods and Generals (tt0279111)',\n '3': 'Winnie the Pooh (tt1449283)',\n '4': '110',\n '5': '107',\n '6': 'Avatar (tt0499549)',\n '7': 'The Lone Ranger (tt1210819)',\n '8': '1478'}"
     },
     "metadata": {}
    }
   ],
   "source": [
    "# 1) Вычисляем количество прибыльных фильмов\n",
    "films_profit = data[data['profit'] > 0]\n",
    "#display(films_profit)\n",
    "\n",
    "answers['8'] = f'{len(films_profit)}' # +\n",
    "display(answers)"
   ]
  },
  {
   "cell_type": "markdown",
   "metadata": {
    "colab_type": "text",
    "id": "xhpspA9KVp_A"
   },
   "source": [
    "# 9. Какой фильм оказался самым кассовым в 2008 году?"
   ]
  },
  {
   "cell_type": "code",
   "execution_count": 95,
   "metadata": {
    "colab": {},
    "colab_type": "code",
    "id": "MoUyQr9RVp_B"
   },
   "outputs": [
    {
     "output_type": "display_data",
     "data": {
      "text/plain": "{'1': 'Pirates of the Caribbean: On Stranger Tides (tt1298650)',\n '2': 'Gods and Generals (tt0279111)',\n '3': 'Winnie the Pooh (tt1449283)',\n '4': '110',\n '5': '107',\n '6': 'Avatar (tt0499549)',\n '7': 'The Lone Ranger (tt1210819)',\n '8': '1478',\n '9': 'The Dark Knight (tt0468569)'}"
     },
     "metadata": {}
    }
   ],
   "source": [
    "# 1) Отбираем все фильмы с датой выхода 2008 г.\n",
    "films_release_year_2008 = data[data['release_year'] == 2008]\n",
    "\n",
    "# 2) Производим группировку и подсчет максимального 'profit' в разрезе ['imdb_id','original_title']\n",
    "grouped_data = films_release_year_2008.groupby(['imdb_id','original_title'])['profit'].max().sort_values(ascending=False)\n",
    "#display(grouped_data)\n",
    "\n",
    "answers['9'] = f'{grouped_data.index[0][1]} ({grouped_data.index[0][0]})' # +\n",
    "display(answers)"
   ]
  },
  {
   "cell_type": "markdown",
   "metadata": {
    "colab_type": "text",
    "id": "Zi4hDKidVp_F"
   },
   "source": [
    "# 10. Самый убыточный фильм за период с 2012 по 2014 г. (включительно)?\n"
   ]
  },
  {
   "cell_type": "code",
   "execution_count": 96,
   "metadata": {
    "colab": {},
    "colab_type": "code",
    "id": "XqyRmufJVp_F"
   },
   "outputs": [
    {
     "output_type": "display_data",
     "data": {
      "text/plain": "{'1': 'Pirates of the Caribbean: On Stranger Tides (tt1298650)',\n '2': 'Gods and Generals (tt0279111)',\n '3': 'Winnie the Pooh (tt1449283)',\n '4': '110',\n '5': '107',\n '6': 'Avatar (tt0499549)',\n '7': 'The Lone Ranger (tt1210819)',\n '8': '1478',\n '9': 'The Dark Knight (tt0468569)',\n '10': 'The Lone Ranger (tt1210819)'}"
     },
     "metadata": {}
    }
   ],
   "source": [
    "# 1) Отбираем все фильмы с датой выхода за период с 2012 по 2014 г. (включительно).\n",
    "films_release_by_period = data[(data['release_year'] >= 2012) & (data['release_year'] <= 2014)]\n",
    "\n",
    "# 2) Производим группировку и подсчет максимального 'profit' в разрезе ['imdb_id','original_title']\n",
    "grouped_data = films_release_by_period.groupby(['imdb_id','original_title'])['profit'].max().sort_values(ascending=True)\n",
    "#display(grouped_data)\n",
    "\n",
    "answers['10'] = f'{grouped_data.index[0][1]} ({grouped_data.index[0][0]})' # +\n",
    "display(answers)"
   ]
  },
  {
   "cell_type": "markdown",
   "metadata": {
    "colab_type": "text",
    "id": "EA7Sa9dkVp_I"
   },
   "source": [
    "# 11. Какого жанра фильмов больше всего?"
   ]
  },
  {
   "cell_type": "code",
   "execution_count": 97,
   "metadata": {
    "colab": {},
    "colab_type": "code",
    "id": "zsJAwJ8QVp_J"
   },
   "outputs": [
    {
     "output_type": "display_data",
     "data": {
      "text/plain": "{'1': 'Pirates of the Caribbean: On Stranger Tides (tt1298650)',\n '2': 'Gods and Generals (tt0279111)',\n '3': 'Winnie the Pooh (tt1449283)',\n '4': '110',\n '5': '107',\n '6': 'Avatar (tt0499549)',\n '7': 'The Lone Ranger (tt1210819)',\n '8': '1478',\n '9': 'The Dark Knight (tt0468569)',\n '10': 'The Lone Ranger (tt1210819)',\n '11': 'Drama'}"
     },
     "metadata": {}
    }
   ],
   "source": [
    "# эту задачу тоже можно решать разными подходами, попробуй реализовать разные варианты\n",
    "# если будешь добавлять функцию - выноси ее в предобработку что в начале\n",
    "\n",
    "# ----------------------------------Способ 1 (с помощью Counter)-----------------------------\n",
    "genre_counter = Counter()\n",
    "# 1) Создаем счетчик genre_counter и помещаем в него все жанры разделенные |\n",
    "\n",
    "for genre_str in data['genres']:\n",
    "    for genre in genre_str.split(sep='|'):\n",
    "        genre_counter[genre]+=1\n",
    "\n",
    "#display(genre_counter)\n",
    "\n",
    "answers['11'] = f'{genre_counter.most_common(1)[0][0]}' # \n",
    "display(answers)"
   ]
  },
  {
   "source": [
    "ВАРИАНТ 2"
   ],
   "cell_type": "markdown",
   "metadata": {}
  },
  {
   "cell_type": "code",
   "execution_count": 98,
   "metadata": {},
   "outputs": [
    {
     "output_type": "display_data",
     "data": {
      "text/plain": "{'1': 'Pirates of the Caribbean: On Stranger Tides (tt1298650)',\n '2': 'Gods and Generals (tt0279111)',\n '3': 'Winnie the Pooh (tt1449283)',\n '4': '110',\n '5': '107',\n '6': 'Avatar (tt0499549)',\n '7': 'The Lone Ranger (tt1210819)',\n '8': '1478',\n '9': 'The Dark Knight (tt0468569)',\n '10': 'The Lone Ranger (tt1210819)',\n '11': 'Drama'}"
     },
     "metadata": {}
    }
   ],
   "source": [
    "# ----------------------------------Способ 2 (с помощью explode)-----------------------------\n",
    "# 1) C помощью метода explode получим новый датафрейм\n",
    "data_explode = data.explode('genres_list')\n",
    "\n",
    "genres_statistic = data_explode['genres_list'].value_counts()\n",
    "#display(genres_statistic)\n",
    "\n",
    "answers['11'] = f'{genres_statistic.index[0]}' # \n",
    "display(answers)"
   ]
  },
  {
   "cell_type": "markdown",
   "metadata": {
    "colab_type": "text",
    "id": "Ax6g2C8SVp_M"
   },
   "source": [
    "ВАРИАНТ 3"
   ]
  },
  {
   "cell_type": "code",
   "execution_count": 99,
   "metadata": {
    "colab": {},
    "colab_type": "code",
    "id": "otO3SbrSVp_N"
   },
   "outputs": [
    {
     "output_type": "display_data",
     "data": {
      "text/plain": "{'1': 'Pirates of the Caribbean: On Stranger Tides (tt1298650)',\n '2': 'Gods and Generals (tt0279111)',\n '3': 'Winnie the Pooh (tt1449283)',\n '4': '110',\n '5': '107',\n '6': 'Avatar (tt0499549)',\n '7': 'The Lone Ranger (tt1210819)',\n '8': '1478',\n '9': 'The Dark Knight (tt0468569)',\n '10': 'The Lone Ranger (tt1210819)',\n '11': 'Drama'}"
     },
     "metadata": {}
    }
   ],
   "source": [
    "\n",
    "# ----------------------------------Способ 3 (с помощью stack)-----------------------------\n",
    "\n",
    "# 1) Создаем датафрейм genres_list в котором столбцы это разделенные жанры и с помощью метода stack получим новый датафрейм\n",
    "genres_list =data['genres'].apply(lambda x: pd.Series(str(x).split(sep='|')))\n",
    "#display(genres_list)\n",
    "\n",
    "genres_list_df = genres_list.stack()\n",
    "genres_statistic = genres_list_df.value_counts()\n",
    "#display(genres_statistic)\n",
    "\n",
    "answers['11'] = f'{genres_statistic.index[0]}' # \n",
    "display(answers)"
   ]
  },
  {
   "cell_type": "markdown",
   "metadata": {
    "colab_type": "text",
    "id": "T9_bPWpkVp_Q"
   },
   "source": [
    "# 12. Фильмы какого жанра чаще всего становятся прибыльными? "
   ]
  },
  {
   "cell_type": "code",
   "execution_count": 100,
   "metadata": {
    "colab": {},
    "colab_type": "code",
    "id": "Tmt8MaK1Vp_R"
   },
   "outputs": [
    {
     "output_type": "display_data",
     "data": {
      "text/plain": "Drama              560\nComedy             551\nThriller           446\nAction             444\nAdventure          337\nRomance            242\nCrime              231\nFamily             226\nScience Fiction    195\nFantasy            188\nHorror             150\nAnimation          120\nMystery            119\nMusic               47\nHistory             46\nWar                 41\nWestern             12\nDocumentary          7\nName: genres_list, dtype: int64"
     },
     "metadata": {}
    },
    {
     "output_type": "display_data",
     "data": {
      "text/plain": "{'1': 'Pirates of the Caribbean: On Stranger Tides (tt1298650)',\n '2': 'Gods and Generals (tt0279111)',\n '3': 'Winnie the Pooh (tt1449283)',\n '4': '110',\n '5': '107',\n '6': 'Avatar (tt0499549)',\n '7': 'The Lone Ranger (tt1210819)',\n '8': '1478',\n '9': 'The Dark Knight (tt0468569)',\n '10': 'The Lone Ranger (tt1210819)',\n '11': 'Drama',\n '12': 'Drama'}"
     },
     "metadata": {}
    }
   ],
   "source": [
    "#C помощью метода explode получим новый датафрейм\n",
    "data_explode = data.explode('genres_list')\n",
    "#display(data_explode)\n",
    "\n",
    "# 2) В датафрейме data_explode оставляем только те строки, где 'profit' > 0\n",
    "genres_statistic = data_explode[data_explode['profit'] > 0 ]['genres_list'].value_counts()\n",
    "display(genres_statistic)\n",
    "\n",
    "answers['12'] = f'{genres_statistic.index[0]}' # \n",
    "display(answers)"
   ]
  },
  {
   "cell_type": "markdown",
   "metadata": {
    "colab_type": "text",
    "id": "0F23bgsDVp_U"
   },
   "source": [
    "# 13. У какого режиссера самые большие суммарные кассовые сборы?"
   ]
  },
  {
   "cell_type": "code",
   "execution_count": 101,
   "metadata": {
    "colab": {},
    "colab_type": "code",
    "id": "K6Z3J8ygVp_X"
   },
   "outputs": [
    {
     "output_type": "display_data",
     "data": {
      "text/plain": "director_list\nPeter Jackson        6490593685\nChristopher Nolan    4167548502\nDavid Yates          4154295625\nMichael Bay          3886938960\nJ.J. Abrams          3579169916\n                        ...    \nDavid MichÃ´d           2295423\nSteven Shainberg        2281089\nPaul Schrader           2062066\nKeanu Reeves            2054941\nSimon Hunter            2033165\nName: revenue, Length: 997, dtype: int64"
     },
     "metadata": {}
    },
    {
     "output_type": "display_data",
     "data": {
      "text/plain": "{'1': 'Pirates of the Caribbean: On Stranger Tides (tt1298650)',\n '2': 'Gods and Generals (tt0279111)',\n '3': 'Winnie the Pooh (tt1449283)',\n '4': '110',\n '5': '107',\n '6': 'Avatar (tt0499549)',\n '7': 'The Lone Ranger (tt1210819)',\n '8': '1478',\n '9': 'The Dark Knight (tt0468569)',\n '10': 'The Lone Ranger (tt1210819)',\n '11': 'Drama',\n '12': 'Drama',\n '13': 'Peter Jackson'}"
     },
     "metadata": {}
    }
   ],
   "source": [
    "# 1) Производим группировку и подсчет максимально 'revenue' в разрезе ['director_list']\n",
    "data_explode = data.explode('director_list')\n",
    "grouped_data = data_explode.groupby('director_list')['revenue'].sum().sort_values(ascending=False)\n",
    "display(grouped_data)\n",
    "answers['13'] = f'{grouped_data.index[0]}' # +\n",
    "display(answers)"
   ]
  },
  {
   "cell_type": "markdown",
   "metadata": {
    "colab_type": "text",
    "id": "PsYC9FgRVp_a"
   },
   "source": [
    "# 14. Какой режисер снял больше всего фильмов в стиле Action?"
   ]
  },
  {
   "cell_type": "code",
   "execution_count": 102,
   "metadata": {
    "colab": {},
    "colab_type": "code",
    "id": "wd2M-wHeVp_b"
   },
   "outputs": [
    {
     "output_type": "display_data",
     "data": {
      "text/plain": "Robert Rodriguez      9\nPaul W.S. Anderson    7\nMichael Bay           7\nAntoine Fuqua         6\nRidley Scott          6\n                     ..\nRian Johnson          1\nShane Acker           1\nPatrick Lussier       1\nSean McNamara         1\nRob Letterman         1\nName: director_list, Length: 364, dtype: int64"
     },
     "metadata": {}
    },
    {
     "output_type": "display_data",
     "data": {
      "text/plain": "{'1': 'Pirates of the Caribbean: On Stranger Tides (tt1298650)',\n '2': 'Gods and Generals (tt0279111)',\n '3': 'Winnie the Pooh (tt1449283)',\n '4': '110',\n '5': '107',\n '6': 'Avatar (tt0499549)',\n '7': 'The Lone Ranger (tt1210819)',\n '8': '1478',\n '9': 'The Dark Knight (tt0468569)',\n '10': 'The Lone Ranger (tt1210819)',\n '11': 'Drama',\n '12': 'Drama',\n '13': 'Peter Jackson',\n '14': 'Robert Rodriguez'}"
     },
     "metadata": {}
    }
   ],
   "source": [
    "# 1) C помощью метода explode получим новый датафрейм\n",
    "data_explode = data.explode('director_list')\n",
    "#display(data_explode)\n",
    "\n",
    "director_statistic = data_explode[data_explode['genres'].str.contains('Action')]['director_list'].value_counts()\n",
    "display(director_statistic)\n",
    "\n",
    "answers['14'] = f'{director_statistic.index[0]}' # +\n",
    "display(answers)"
   ]
  },
  {
   "cell_type": "markdown",
   "metadata": {
    "colab_type": "text",
    "id": "PQ0KciD7Vp_f"
   },
   "source": [
    "# 15. Фильмы с каким актером принесли самые высокие кассовые сборы в 2012 году? "
   ]
  },
  {
   "cell_type": "code",
   "execution_count": 103,
   "metadata": {
    "colab": {},
    "colab_type": "code",
    "id": "aga62oeKVp_g"
   },
   "outputs": [
    {
     "output_type": "display_data",
     "data": {
      "text/plain": "cast_list\nChris Hemsworth      2027450773\nDenis Leary          1629460639\nAnne Hathaway        1522851057\nChris Evans          1519557910\nRobert Downey Jr.    1519557910\n                        ...    \nJason Bateman           3428048\nDanny Huston            2106557\nSami Gayle              2106557\nJosh Lucas              2106557\nNicolas Cage            2106557\nName: revenue, Length: 466, dtype: int64"
     },
     "metadata": {}
    },
    {
     "output_type": "display_data",
     "data": {
      "text/plain": "{'1': 'Pirates of the Caribbean: On Stranger Tides (tt1298650)',\n '2': 'Gods and Generals (tt0279111)',\n '3': 'Winnie the Pooh (tt1449283)',\n '4': '110',\n '5': '107',\n '6': 'Avatar (tt0499549)',\n '7': 'The Lone Ranger (tt1210819)',\n '8': '1478',\n '9': 'The Dark Knight (tt0468569)',\n '10': 'The Lone Ranger (tt1210819)',\n '11': 'Drama',\n '12': 'Drama',\n '13': 'Peter Jackson',\n '14': 'Robert Rodriguez',\n '15': 'Chris Hemsworth'}"
     },
     "metadata": {}
    }
   ],
   "source": [
    "# 1) C помощью метода explode получим новый датафрейм\n",
    "data_explode = data.explode('cast_list')\n",
    "#display(data_explode.head())\n",
    "\n",
    "# 2) В датафрейме data_explode оставляем только те строки, где 'release_year' == 2012.\n",
    "# Результат преобразуем в новый датафрейм 'cast_statistic_df'\n",
    "cast_statistic_df = data_explode[data_explode['release_year'] == 2012 ][['cast_list','revenue']].reset_index()\n",
    "#display(cast_statistic_df.head())\n",
    "\n",
    "# 3) Вычисляем сумму всех кассовых сборов для каждого актера\n",
    "best_cast = cast_statistic_df.groupby('cast_list')['revenue'].sum().sort_values(ascending=False)\n",
    "display(best_cast)\n",
    "\n",
    "answers['15'] = f'{best_cast.index[0]}' # +\n",
    "display(answers)"
   ]
  },
  {
   "cell_type": "markdown",
   "metadata": {
    "colab_type": "text",
    "id": "mWHyyL7QVp_j"
   },
   "source": [
    "# 16. Какой актер снялся в большем количестве высокобюджетных фильмов?"
   ]
  },
  {
   "cell_type": "code",
   "execution_count": 104,
   "metadata": {
    "colab": {},
    "colab_type": "code",
    "id": "qQtmHKTFVp_k"
   },
   "outputs": [
    {
     "output_type": "display_data",
     "data": {
      "text/plain": "Matt Damon           18\nAdam Sandler         17\nAngelina Jolie       16\nSamuel L. Jackson    15\nEddie Murphy         15\n                     ..\nPeter Mullan          1\nScott Speedman        1\nAyelet Zurer          1\nSantino Fontana       1\nKaty Perry            1\nName: cast_list, Length: 1505, dtype: int64"
     },
     "metadata": {}
    },
    {
     "output_type": "display_data",
     "data": {
      "text/plain": "{'1': 'Pirates of the Caribbean: On Stranger Tides (tt1298650)',\n '2': 'Gods and Generals (tt0279111)',\n '3': 'Winnie the Pooh (tt1449283)',\n '4': '110',\n '5': '107',\n '6': 'Avatar (tt0499549)',\n '7': 'The Lone Ranger (tt1210819)',\n '8': '1478',\n '9': 'The Dark Knight (tt0468569)',\n '10': 'The Lone Ranger (tt1210819)',\n '11': 'Drama',\n '12': 'Drama',\n '13': 'Peter Jackson',\n '14': 'Robert Rodriguez',\n '15': 'Chris Hemsworth',\n '16': 'Matt Damon'}"
     },
     "metadata": {}
    }
   ],
   "source": [
    "# 1) C помощью метода explode получим новый датафрейм\n",
    "data_explode = data.explode('cast_list')\n",
    "#display(data_explode.head())\n",
    "\n",
    "# 2) В датафрейме data_explode оставляем только те строки, где 'budget' выше среднего\n",
    "cast_statistic = data_explode[data_explode['budget'] > data_explode['budget'].mean()]['cast_list'].value_counts().sort_values(ascending=False)\n",
    "display(cast_statistic)\n",
    "\n",
    "answers['16'] = f'{cast_statistic.index[0]}' # +\n",
    "display(answers)"
   ]
  },
  {
   "cell_type": "markdown",
   "metadata": {
    "colab_type": "text",
    "id": "NIh6AaW5Vp_n"
   },
   "source": [
    "# 17. В фильмах какого жанра больше всего снимался Nicolas Cage? "
   ]
  },
  {
   "cell_type": "code",
   "execution_count": 105,
   "metadata": {
    "colab": {},
    "colab_type": "code",
    "id": "H74SJDIBVp_n"
   },
   "outputs": [
    {
     "output_type": "display_data",
     "data": {
      "text/plain": "Action             17\nThriller           15\nDrama              12\nCrime              10\nFantasy             8\nAdventure           7\nComedy              6\nScience Fiction     4\nFamily              3\nAnimation           3\nMystery             3\nHistory             2\nRomance             1\nWar                 1\nHorror              1\nName: genres_list, dtype: int64"
     },
     "metadata": {}
    },
    {
     "output_type": "display_data",
     "data": {
      "text/plain": "{'1': 'Pirates of the Caribbean: On Stranger Tides (tt1298650)',\n '2': 'Gods and Generals (tt0279111)',\n '3': 'Winnie the Pooh (tt1449283)',\n '4': '110',\n '5': '107',\n '6': 'Avatar (tt0499549)',\n '7': 'The Lone Ranger (tt1210819)',\n '8': '1478',\n '9': 'The Dark Knight (tt0468569)',\n '10': 'The Lone Ranger (tt1210819)',\n '11': 'Drama',\n '12': 'Drama',\n '13': 'Peter Jackson',\n '14': 'Robert Rodriguez',\n '15': 'Chris Hemsworth',\n '16': 'Matt Damon',\n '17': 'Action'}"
     },
     "metadata": {}
    }
   ],
   "source": [
    "# 1) C помощью метода explode получим новый датафрейм\n",
    "data_explode = data.explode('cast_list')\n",
    "#display(data_explode.head())\n",
    "\n",
    "# 2) В датафрейме data_explode оставляем только те строки, где 'cast_list' == 'Nicolas Cage'\n",
    "nicolas_cage_df = data_explode[data_explode['cast_list'] == 'Nicolas Cage'].explode('genres_list')\n",
    "\n",
    "most_popular_genre = nicolas_cage_df['genres_list'].value_counts().sort_values(ascending=False)\n",
    "\n",
    "display(most_popular_genre)\n",
    "\n",
    "answers['17'] = f'{most_popular_genre.index[0]}' # +\n",
    "display(answers)"
   ]
  },
  {
   "cell_type": "markdown",
   "metadata": {
    "colab_type": "text",
    "id": "RqOmPRfWVp_q"
   },
   "source": [
    "# 18. Самый убыточный фильм от Paramount Pictures"
   ]
  },
  {
   "cell_type": "code",
   "execution_count": 106,
   "metadata": {
    "colab": {},
    "colab_type": "code",
    "id": "9E_B0Y96Vp_r"
   },
   "outputs": [
    {
     "output_type": "display_data",
     "data": {
      "text/plain": "{'1': 'Pirates of the Caribbean: On Stranger Tides (tt1298650)',\n '2': 'Gods and Generals (tt0279111)',\n '3': 'Winnie the Pooh (tt1449283)',\n '4': '110',\n '5': '107',\n '6': 'Avatar (tt0499549)',\n '7': 'The Lone Ranger (tt1210819)',\n '8': '1478',\n '9': 'The Dark Knight (tt0468569)',\n '10': 'The Lone Ranger (tt1210819)',\n '11': 'Drama',\n '12': 'Drama',\n '13': 'Peter Jackson',\n '14': 'Robert Rodriguez',\n '15': 'Chris Hemsworth',\n '16': 'Matt Damon',\n '17': 'Action',\n '18': 'K-19: The Widowmaker (tt0267626)'}"
     },
     "metadata": {}
    }
   ],
   "source": [
    "# 1) C помощью метода explode получим новый датафрейм\n",
    "data_explode = data.explode('production_companies_list')\n",
    "#display(data_explode.info())\n",
    "\n",
    "# 2) В датафрейме data_explode оставляем только те строки, где 'production_companies_list'== 'Paramount Pictures'\n",
    "pp_films = data_explode[data_explode['production_companies_list'] == 'Paramount Pictures'].sort_values(['profit'], ascending=[1], ignore_index=True)\n",
    "#display(pp_films)\n",
    "\n",
    "answers['18'] = f'{pp_films.iloc[0][3]} ({pp_films.iloc[0][0]})' # +\n",
    "display(answers)"
   ]
  },
  {
   "cell_type": "markdown",
   "metadata": {
    "colab_type": "text",
    "id": "vS8Ur6ddVp_u"
   },
   "source": [
    "# 19. Какой год стал самым успешным по суммарным кассовым сборам?"
   ]
  },
  {
   "cell_type": "code",
   "execution_count": 107,
   "metadata": {
    "colab": {},
    "colab_type": "code",
    "id": "Dnbt4GdIVp_v"
   },
   "outputs": [
    {
     "output_type": "display_data",
     "data": {
      "text/plain": "release_year\n2015    25449202382\n2014    23405862953\n2013    23213799791\n2012    23079001687\n2011    22676791872\n2010    21071204961\n2009    20261791024\n2008    18252781990\n2007    18162406801\n2004    15663430720\n2005    15309425558\n2006    14775042320\n2003    14346123312\n2002    14136361487\n2001    13017764865\n2000    10664099805\nName: revenue, dtype: int64"
     },
     "metadata": {}
    },
    {
     "output_type": "display_data",
     "data": {
      "text/plain": "{'1': 'Pirates of the Caribbean: On Stranger Tides (tt1298650)',\n '2': 'Gods and Generals (tt0279111)',\n '3': 'Winnie the Pooh (tt1449283)',\n '4': '110',\n '5': '107',\n '6': 'Avatar (tt0499549)',\n '7': 'The Lone Ranger (tt1210819)',\n '8': '1478',\n '9': 'The Dark Knight (tt0468569)',\n '10': 'The Lone Ranger (tt1210819)',\n '11': 'Drama',\n '12': 'Drama',\n '13': 'Peter Jackson',\n '14': 'Robert Rodriguez',\n '15': 'Chris Hemsworth',\n '16': 'Matt Damon',\n '17': 'Action',\n '18': 'K-19: The Widowmaker (tt0267626)',\n '19': '2015'}"
     },
     "metadata": {}
    }
   ],
   "source": [
    "# 1) Группируем по 'release_year' и считаем сумму\n",
    "best_year = data.groupby('release_year')['revenue'].sum().sort_values(ascending=False)\n",
    "display(best_year)\n",
    "\n",
    "answers['19'] = f'{best_year.index[0]}' # +\n",
    "display(answers)"
   ]
  },
  {
   "cell_type": "markdown",
   "metadata": {
    "colab_type": "text",
    "id": "JAzJh4QAVp_z"
   },
   "source": [
    "# 20. Какой самый прибыльный год для студии Warner Bros?"
   ]
  },
  {
   "cell_type": "code",
   "execution_count": 108,
   "metadata": {
    "colab": {},
    "colab_type": "code",
    "id": "wgVu02DEVp_0"
   },
   "outputs": [
    {
     "output_type": "display_data",
     "data": {
      "text/plain": "release_year\n2014    2295464519\n2007    2201675217\n2008    2134595031\n2010    1974712985\n2011    1871393682\n2003    1855493377\n2009    1822454136\n2013    1636453400\n2004    1631933725\n2005    1551980298\n2001    1343545668\n2012    1258020056\n2002    1022709901\n2015     870368348\n2006     620170743\n2000     452631386\nName: profit, dtype: int64"
     },
     "metadata": {}
    },
    {
     "output_type": "display_data",
     "data": {
      "text/plain": "{'1': 'Pirates of the Caribbean: On Stranger Tides (tt1298650)',\n '2': 'Gods and Generals (tt0279111)',\n '3': 'Winnie the Pooh (tt1449283)',\n '4': '110',\n '5': '107',\n '6': 'Avatar (tt0499549)',\n '7': 'The Lone Ranger (tt1210819)',\n '8': '1478',\n '9': 'The Dark Knight (tt0468569)',\n '10': 'The Lone Ranger (tt1210819)',\n '11': 'Drama',\n '12': 'Drama',\n '13': 'Peter Jackson',\n '14': 'Robert Rodriguez',\n '15': 'Chris Hemsworth',\n '16': 'Matt Damon',\n '17': 'Action',\n '18': 'K-19: The Widowmaker (tt0267626)',\n '19': '2015',\n '20': '2014'}"
     },
     "metadata": {}
    }
   ],
   "source": [
    "# 1) Находим словосочетание 'Warner Bros'\n",
    "wb_films = data[data['production_companies'].str.contains('Warner Bros')]\n",
    "#display(wb_films)\n",
    "\n",
    "# 3) Вычисляем 'profit' по всем годам\n",
    "best_year = wb_films.groupby('release_year')['profit'].sum().sort_values(ascending=False)\n",
    "display(best_year)\n",
    "\n",
    "answers['20'] = f'{best_year.index[0]}' # +\n",
    "display(answers)"
   ]
  },
  {
   "cell_type": "markdown",
   "metadata": {
    "colab_type": "text",
    "id": "8Im1S2HRVp_4"
   },
   "source": [
    "# 21. В каком месяце за все годы суммарно вышло больше всего фильмов?"
   ]
  },
  {
   "cell_type": "code",
   "execution_count": 109,
   "metadata": {
    "colab": {},
    "colab_type": "code",
    "id": "lev6TH7gVp_4"
   },
   "outputs": [
    {
     "output_type": "display_data",
     "data": {
      "text/plain": "release_month\n9     227\n12    190\n10    186\n8     161\n3     156\n4     149\n6     147\n11    146\n7     142\n5     140\n2     135\n1     110\nName: imdb_id, dtype: int64"
     },
     "metadata": {}
    },
    {
     "output_type": "display_data",
     "data": {
      "text/plain": "{'1': 'Pirates of the Caribbean: On Stranger Tides (tt1298650)',\n '2': 'Gods and Generals (tt0279111)',\n '3': 'Winnie the Pooh (tt1449283)',\n '4': '110',\n '5': '107',\n '6': 'Avatar (tt0499549)',\n '7': 'The Lone Ranger (tt1210819)',\n '8': '1478',\n '9': 'The Dark Knight (tt0468569)',\n '10': 'The Lone Ranger (tt1210819)',\n '11': 'Drama',\n '12': 'Drama',\n '13': 'Peter Jackson',\n '14': 'Robert Rodriguez',\n '15': 'Chris Hemsworth',\n '16': 'Matt Damon',\n '17': 'Action',\n '18': 'K-19: The Widowmaker (tt0267626)',\n '19': '2015',\n '20': '2014',\n '21': 'September'}"
     },
     "metadata": {}
    }
   ],
   "source": [
    "import calendar\n",
    "\n",
    "# 1) Создаем столбец 'release_month' с номером месяца\n",
    "data['release_month'] = pd.DatetimeIndex(data['release_date']).month\n",
    "\n",
    "grouped_data = data.groupby('release_month')['imdb_id'].count().sort_values(ascending=False)\n",
    "display(grouped_data)\n",
    "\n",
    "answers['21'] = f'{calendar.month_name[grouped_data.index[0]]}' # +\n",
    "display(answers)"
   ]
  },
  {
   "cell_type": "markdown",
   "metadata": {
    "colab_type": "text",
    "id": "uAJsZ_NeVp_7"
   },
   "source": [
    "# 22. Сколько суммарно вышло фильмов летом? (за июнь, июль, август)"
   ]
  },
  {
   "cell_type": "code",
   "execution_count": 110,
   "metadata": {
    "colab": {},
    "colab_type": "code",
    "id": "Aa-hEREoVp_8"
   },
   "outputs": [
    {
     "output_type": "display_data",
     "data": {
      "text/plain": "release_month\n9     227\n12    190\n10    186\n8     161\n3     156\n4     149\n6     147\n11    146\n7     142\n5     140\n2     135\n1     110\nName: imdb_id, dtype: int64"
     },
     "metadata": {}
    },
    {
     "output_type": "display_data",
     "data": {
      "text/plain": "{'1': 'Pirates of the Caribbean: On Stranger Tides (tt1298650)',\n '2': 'Gods and Generals (tt0279111)',\n '3': 'Winnie the Pooh (tt1449283)',\n '4': '110',\n '5': '107',\n '6': 'Avatar (tt0499549)',\n '7': 'The Lone Ranger (tt1210819)',\n '8': '1478',\n '9': 'The Dark Knight (tt0468569)',\n '10': 'The Lone Ranger (tt1210819)',\n '11': 'Drama',\n '12': 'Drama',\n '13': 'Peter Jackson',\n '14': 'Robert Rodriguez',\n '15': 'Chris Hemsworth',\n '16': 'Matt Damon',\n '17': 'Action',\n '18': 'K-19: The Widowmaker (tt0267626)',\n '19': '2015',\n '20': '2014',\n '21': 'September',\n '22': '450'}"
     },
     "metadata": {}
    }
   ],
   "source": [
    "import calendar\n",
    "\n",
    "# 1) Создаем столбец 'release_month' с номером месяца\n",
    "data['release_month'] = pd.DatetimeIndex(data['release_date']).month\n",
    "\n",
    "grouped_data = data.groupby('release_month')['imdb_id'].count().sort_values(ascending=False)\n",
    "display(grouped_data)\n",
    "\n",
    "films = [grouped_data[6],grouped_data[7],grouped_data[8]]\n",
    "#display(films)\n",
    "\n",
    "answers['22'] = f'{sum(films)}' # +\n",
    "display(answers)"
   ]
  },
  {
   "cell_type": "markdown",
   "metadata": {
    "colab_type": "text",
    "id": "G94ppOY1VqAA"
   },
   "source": [
    "# 23. Для какого режиссера зима – самое продуктивное время года? "
   ]
  },
  {
   "cell_type": "code",
   "execution_count": 111,
   "metadata": {
    "colab": {},
    "colab_type": "code",
    "id": "RhNTsamuVqAB"
   },
   "outputs": [
    {
     "output_type": "display_data",
     "data": {
      "text/plain": "director_list\nPeter Jackson            7\nSteven Soderbergh        6\nClint Eastwood           6\nMartin Scorsese          4\nAdam Shankman            4\n                        ..\nMatt Bettinelli-Olpin    1\nMatt Reeves              1\nMatthew O'Callaghan      1\nMatthew Vaughn           1\nJon Avnet                1\nName: imdb_id, Length: 358, dtype: int64"
     },
     "metadata": {}
    },
    {
     "output_type": "display_data",
     "data": {
      "text/plain": "{'1': 'Pirates of the Caribbean: On Stranger Tides (tt1298650)',\n '2': 'Gods and Generals (tt0279111)',\n '3': 'Winnie the Pooh (tt1449283)',\n '4': '110',\n '5': '107',\n '6': 'Avatar (tt0499549)',\n '7': 'The Lone Ranger (tt1210819)',\n '8': '1478',\n '9': 'The Dark Knight (tt0468569)',\n '10': 'The Lone Ranger (tt1210819)',\n '11': 'Drama',\n '12': 'Drama',\n '13': 'Peter Jackson',\n '14': 'Robert Rodriguez',\n '15': 'Chris Hemsworth',\n '16': 'Matt Damon',\n '17': 'Action',\n '18': 'K-19: The Widowmaker (tt0267626)',\n '19': '2015',\n '20': '2014',\n '21': 'September',\n '22': '450',\n '23': 'Peter Jackson'}"
     },
     "metadata": {}
    }
   ],
   "source": [
    "# 1) Создаем столбец 'release_month' с номером месяца\n",
    "data['release_month'] = pd.DatetimeIndex(data['release_date']).month\n",
    "\n",
    "# 2) C помощью метода explode получим новый датафрейм\n",
    "data_explode = data.explode('director_list')\n",
    "#display(data_explode)\n",
    "\n",
    "# 3) Одбираем только зимние месяцы и группируем по 'release_month','director_list'\n",
    "grouped_data = data_explode[data_explode['release_month'].isin([12,1,2])].groupby(['release_month','director_list'])['imdb_id'].count().reset_index()\n",
    "#display(grouped_data)\n",
    "\n",
    "# 4)  группируем по 'director_list' и считаем сумму по выпущенным фильмам \n",
    "data_winter = grouped_data.groupby('director_list')['imdb_id'].sum().sort_values(ascending=False)\n",
    "display(data_winter)\n",
    "\n",
    "answers['23'] = f'{data_winter.index[0]}' # +\n",
    "display(answers)"
   ]
  },
  {
   "cell_type": "markdown",
   "metadata": {
    "colab_type": "text",
    "id": "RBo0JVjVVqAF"
   },
   "source": [
    "# 24. Какая студия дает самые длинные названия своим фильмам по количеству символов?"
   ]
  },
  {
   "cell_type": "code",
   "execution_count": 112,
   "metadata": {
    "colab": {},
    "colab_type": "code",
    "id": "QRGS8L0iVqAG"
   },
   "outputs": [
    {
     "output_type": "display_data",
     "data": {
      "text/plain": "production_companies_list\nFour By Two Productions                   83\nTwentieth Century Fox Film Corporation    83\nWalden Media                              62\nWalt Disney                               62\nJim Henson Company, The                   59\n                                          ..\nEverest Entertainment                      3\nBerlanti Productions                       3\nXM2 Productions                            2\nGlobal Entertainment Group                 2\nIxtlan Productions                         2\nName: original_title_length, Length: 1771, dtype: int64"
     },
     "metadata": {}
    },
    {
     "output_type": "display_data",
     "data": {
      "text/plain": "{'1': 'Pirates of the Caribbean: On Stranger Tides (tt1298650)',\n '2': 'Gods and Generals (tt0279111)',\n '3': 'Winnie the Pooh (tt1449283)',\n '4': '110',\n '5': '107',\n '6': 'Avatar (tt0499549)',\n '7': 'The Lone Ranger (tt1210819)',\n '8': '1478',\n '9': 'The Dark Knight (tt0468569)',\n '10': 'The Lone Ranger (tt1210819)',\n '11': 'Drama',\n '12': 'Drama',\n '13': 'Peter Jackson',\n '14': 'Robert Rodriguez',\n '15': 'Chris Hemsworth',\n '16': 'Matt Damon',\n '17': 'Action',\n '18': 'K-19: The Widowmaker (tt0267626)',\n '19': '2015',\n '20': '2014',\n '21': 'September',\n '22': '450',\n '23': 'Peter Jackson',\n '24': 'Four By Two Productions'}"
     },
     "metadata": {}
    }
   ],
   "source": [
    "# 1) Создаем столбец 'original_title_length' c длиной названий фильмов\n",
    "data['original_title_length'] = data['original_title'].map(lambda x: len(x))\n",
    "\n",
    "# 2) C помощью метода explode получим новый датафрейм\n",
    "data_explode = data.explode('production_companies_list')\n",
    "#display(data_explode)\n",
    "\n",
    "# 3) Группируем по 'production_companies_list' и считаем максимум по 'original_title_length'\n",
    "grouped_data = data_explode.groupby('production_companies_list')['original_title_length'].max().sort_values(ascending=False)\n",
    "display(grouped_data)\n",
    "\n",
    "answers['24'] = f'{grouped_data.index[0]}' # ?\n",
    "display(answers)"
   ]
  },
  {
   "cell_type": "markdown",
   "metadata": {
    "colab_type": "text",
    "id": "9G0hbvR7VqAK"
   },
   "source": [
    "# 25. Описание фильмов какой студии в среднем самые длинные по количеству слов?"
   ]
  },
  {
   "cell_type": "code",
   "execution_count": 113,
   "metadata": {
    "colab": {},
    "colab_type": "code",
    "id": "Ge2GsLNxVqAK"
   },
   "outputs": [
    {
     "output_type": "display_data",
     "data": {
      "text/plain": "production_companies_list\nMidnight Picture Show                    1000.0\nRoom 9 Entertainment                      964.0\nBrookwell-McNamara Entertainment          936.0\nLions Gate Family Entertainment           909.0\nCrest Animation Productions               909.0\n                                          ...  \nProjection Pictures                        74.0\nLondon Boulevard                           74.0\nPhantom Four                               72.0\nEmpire Pictures                            62.0\nMotion Picture Corporation of America      59.0\nName: overview_length, Length: 1771, dtype: float64"
     },
     "metadata": {}
    },
    {
     "output_type": "display_data",
     "data": {
      "text/plain": "{'1': 'Pirates of the Caribbean: On Stranger Tides (tt1298650)',\n '2': 'Gods and Generals (tt0279111)',\n '3': 'Winnie the Pooh (tt1449283)',\n '4': '110',\n '5': '107',\n '6': 'Avatar (tt0499549)',\n '7': 'The Lone Ranger (tt1210819)',\n '8': '1478',\n '9': 'The Dark Knight (tt0468569)',\n '10': 'The Lone Ranger (tt1210819)',\n '11': 'Drama',\n '12': 'Drama',\n '13': 'Peter Jackson',\n '14': 'Robert Rodriguez',\n '15': 'Chris Hemsworth',\n '16': 'Matt Damon',\n '17': 'Action',\n '18': 'K-19: The Widowmaker (tt0267626)',\n '19': '2015',\n '20': '2014',\n '21': 'September',\n '22': '450',\n '23': 'Peter Jackson',\n '24': 'Four By Two Productions',\n '25': 'Midnight Picture Show'}"
     },
     "metadata": {}
    }
   ],
   "source": [
    "# 1) Создаем столбец 'original_title_length' c длиной названий фильмов\n",
    "data['overview_length'] = data['overview'].map(lambda x: len(x))\n",
    "\n",
    "# 2) C помощью метода explode получим новый датафрейм\n",
    "data_explode = data.explode('production_companies_list')\n",
    "#display(data_explode)\n",
    "\n",
    "# 3) Группируем по 'production_companies_list' и считаем среднее по 'overview_length'\n",
    "grouped_data = data_explode.groupby('production_companies_list')['overview_length'].mean().sort_values(ascending=False)\n",
    "display(grouped_data)\n",
    "\n",
    "answers['25'] = f'{grouped_data.index[0]}' # +\n",
    "display(answers)"
   ]
  },
  {
   "cell_type": "markdown",
   "metadata": {
    "colab_type": "text",
    "id": "FJ1AFt90VqAP"
   },
   "source": [
    "# 26. Какие фильмы входят в 1 процент лучших по рейтингу? \n",
    "по vote_average"
   ]
  },
  {
   "cell_type": "code",
   "execution_count": 114,
   "metadata": {
    "colab": {},
    "colab_type": "code",
    "id": "8qmJVq4CVqAQ"
   },
   "outputs": [
    {
     "output_type": "display_data",
     "data": {
      "text/plain": "7.8"
     },
     "metadata": {}
    },
    {
     "output_type": "display_data",
     "data": {
      "text/plain": "9                                          Inside Out\n34                                               Room\n118                                      Interstellar\n119                           Guardians of the Galaxy\n125                                The Imitation Game\n128                                         Gone Girl\n138                          The Grand Budapest Hotel\n370                                         Inception\n599                                   The Dark Knight\n872                                       The Pianist\n1081    The Lord of the Rings: The Return of the King\n1183                          The Wolf of Wall Street\n1191                                 12 Years a Slave\n1800                                          Memento\nName: original_title, dtype: object"
     },
     "metadata": {}
    },
    {
     "output_type": "display_data",
     "data": {
      "text/plain": "14"
     },
     "metadata": {}
    },
    {
     "output_type": "display_data",
     "data": {
      "text/plain": "{'1': 'Pirates of the Caribbean: On Stranger Tides (tt1298650)',\n '2': 'Gods and Generals (tt0279111)',\n '3': 'Winnie the Pooh (tt1449283)',\n '4': '110',\n '5': '107',\n '6': 'Avatar (tt0499549)',\n '7': 'The Lone Ranger (tt1210819)',\n '8': '1478',\n '9': 'The Dark Knight (tt0468569)',\n '10': 'The Lone Ranger (tt1210819)',\n '11': 'Drama',\n '12': 'Drama',\n '13': 'Peter Jackson',\n '14': 'Robert Rodriguez',\n '15': 'Chris Hemsworth',\n '16': 'Matt Damon',\n '17': 'Action',\n '18': 'K-19: The Widowmaker (tt0267626)',\n '19': '2015',\n '20': '2014',\n '21': 'September',\n '22': '450',\n '23': 'Peter Jackson',\n '24': 'Four By Two Productions',\n '25': 'Midnight Picture Show',\n '26': 'Inside Out,Room,Interstellar,Guardians of the Galaxy,The Imitation Game,Gone Girl,The Grand Budapest Hotel,Inception,The Dark Knight,The Pianist,The Lord of the Rings: The Return of the King,The Wolf of Wall Street,12 Years a Slave,Memento'}"
     },
     "metadata": {}
    }
   ],
   "source": [
    "# 1) Находим 99 квантиль распределения 'vote_average'\n",
    "quantile_99 = data['vote_average'].quantile(0.99)\n",
    "display(quantile_99)\n",
    "\n",
    "#best_films = data.loc[data['vote_average'].isin([5.0,7.4,4.9,7.6])]['original_title']\n",
    "best_films = data.loc[data['vote_average'] > quantile_99 ]['original_title']\n",
    "display(best_films, len(best_films))\n",
    "\n",
    "best_films_str = ','.join(best_films)\n",
    "# grouped_data = data.groupby(['imdb_id','original_title'])['vote_average'].value_counts(normalize=True).sort_values(ascending=False)\n",
    "# display(grouped_data)\n",
    "\n",
    "answers['26'] = f'{best_films_str}' # +\n",
    "display(answers)"
   ]
  },
  {
   "cell_type": "markdown",
   "metadata": {
    "colab_type": "text",
    "id": "MdXsUXbCVqAV"
   },
   "source": [
    "# 27. Какие актеры чаще всего снимаются в одном фильме вместе?\n"
   ]
  },
  {
   "cell_type": "code",
   "execution_count": 115,
   "metadata": {},
   "outputs": [
    {
     "output_type": "display_data",
     "data": {
      "text/plain": "(Daniel Radcliffe, Rupert Grint)       8\n(Daniel Radcliffe, Emma Watson)        8\n(Rupert Grint, Emma Watson)            7\n(Johnny Depp, Helena Bonham Carter)    6\n(Ben Stiller, Owen Wilson)             6\n                                      ..\n(Steve Zahn, Brittany Murphy)          1\n(Dan Futterman, Denis O'Hare)          1\n(Christian Bale, Moon Bloodgood)       1\n(Lindsay Lohan, Rachel McAdams)        1\n(Melissa George, Jesse James)          1\nName: pairs, Length: 18121, dtype: int64"
     },
     "metadata": {}
    },
    {
     "output_type": "display_data",
     "data": {
      "text/plain": "{'1': 'Pirates of the Caribbean: On Stranger Tides (tt1298650)',\n '2': 'Gods and Generals (tt0279111)',\n '3': 'Winnie the Pooh (tt1449283)',\n '4': '110',\n '5': '107',\n '6': 'Avatar (tt0499549)',\n '7': 'The Lone Ranger (tt1210819)',\n '8': '1478',\n '9': 'The Dark Knight (tt0468569)',\n '10': 'The Lone Ranger (tt1210819)',\n '11': 'Drama',\n '12': 'Drama',\n '13': 'Peter Jackson',\n '14': 'Robert Rodriguez',\n '15': 'Chris Hemsworth',\n '16': 'Matt Damon',\n '17': 'Action',\n '18': 'K-19: The Widowmaker (tt0267626)',\n '19': '2015',\n '20': '2014',\n '21': 'September',\n '22': '450',\n '23': 'Peter Jackson',\n '24': 'Four By Two Productions',\n '25': 'Midnight Picture Show',\n '26': 'Inside Out,Room,Interstellar,Guardians of the Galaxy,The Imitation Game,Gone Girl,The Grand Budapest Hotel,Inception,The Dark Knight,The Pianist,The Lord of the Rings: The Return of the King,The Wolf of Wall Street,12 Years a Slave,Memento',\n '27': \"('Daniel Radcliffe', 'Rupert Grint')\"}"
     },
     "metadata": {}
    }
   ],
   "source": [
    "# ----------------------------------Способ 1-----------------------------\n",
    "from itertools import combinations\n",
    "\n",
    "# 1) Создаем новый датафрейм\n",
    "data_new = data[['imdb_id','cast_list']]\n",
    "\n",
    "# 2) С помощью combinations получаем все возможные пары актеров\n",
    "data_new['pairs'] = data_new['cast_list'].apply(lambda s: list(combinations(s, 2))) \n",
    "#display(data_new)\n",
    "\n",
    "data_new = data_new.explode('pairs')\n",
    "#display(data_new)\n",
    "\n",
    "pairs = data_new['pairs'].value_counts()\n",
    "display(pairs)\n",
    "\n",
    "answers['27'] = f'{pairs.index[0]}' # +\n",
    "display(answers)"
   ]
  },
  {
   "cell_type": "code",
   "execution_count": 116,
   "metadata": {},
   "outputs": [
    {
     "output_type": "display_data",
     "data": {
      "text/plain": "cast_list_x          cast_list_y             \nDaniel Radcliffe     Emma Watson                 8\n                     Rupert Grint                8\nRupert Grint         Emma Watson                 7\nJohnny Depp          Helena Bonham Carter        6\nBen Stiller          Owen Wilson                 6\n                                                ..\nMatthew McConaughey  Rene Russo                  1\n                     Reese Witherspoon           1\n                     Powers Boothe               1\n                     PenÃ©lope Cruz              1\n50 Cent              Adewale Akinnuoye-Agbaje    1\nName: imdb_id, Length: 18119, dtype: int64"
     },
     "metadata": {}
    }
   ],
   "source": [
    "# ----------------------------------Способ 2-----------------------------\n",
    "# 1) Создаем новый датафрейм c помощью explode\n",
    "data_new = data[['imdb_id','cast_list']].explode('cast_list')\n",
    "#display(data_new)\n",
    "\n",
    "# 2) Производим внутренней самосоединение data_new сам с собой по ключу 'imdb_id' чтобы получить всевозможные пары актеров\n",
    "data_joined = data_new.merge(data_new, on='imdb_id', how='inner')\n",
    "\n",
    "# 3) Убираем равные пары с одикаковыми парами\n",
    "data_joined = data_joined[data_joined['cast_list_x'] != data_joined['cast_list_y']]\n",
    "\n",
    "# 4) Создаем столбе 'pairs' чтобы потом оставить только одну пару вида (а,b) а пару (b,a) удалить\n",
    "data_joined['pairs'] =  data_joined.apply(lambda s: '|'.join(sorted([s.iloc[0],s.iloc[1],s.iloc[2]])), axis=1)\n",
    "\n",
    "# 5) Удаляем ненужные пары\n",
    "data_joined = data_joined.drop_duplicates(subset='pairs')\n",
    "\n",
    "result = data_joined.groupby(['cast_list_x','cast_list_y'])['imdb_id'].count().sort_values(ascending=False)\n",
    "display(result)\n",
    "#result.index[0]\n",
    "# answers['27'] = f'{pairs.index[0]}' # +\n",
    "# display(answers)"
   ]
  },
  {
   "cell_type": "markdown",
   "metadata": {
    "colab_type": "text",
    "id": "U0nONFnGVqAX"
   },
   "source": [
    "# Submission"
   ]
  },
  {
   "cell_type": "code",
   "execution_count": 117,
   "metadata": {
    "colab": {},
    "colab_type": "code",
    "id": "IfcaRO9-VqAX",
    "outputId": "0f132912-32bb-4196-c98c-abfbc4ad5a5f"
   },
   "outputs": [
    {
     "output_type": "execute_result",
     "data": {
      "text/plain": [
       "{'1': 'Pirates of the Caribbean: On Stranger Tides (tt1298650)',\n",
       " '2': 'Gods and Generals (tt0279111)',\n",
       " '3': 'Winnie the Pooh (tt1449283)',\n",
       " '4': '110',\n",
       " '5': '107',\n",
       " '6': 'Avatar (tt0499549)',\n",
       " '7': 'The Lone Ranger (tt1210819)',\n",
       " '8': '1478',\n",
       " '9': 'The Dark Knight (tt0468569)',\n",
       " '10': 'The Lone Ranger (tt1210819)',\n",
       " '11': 'Drama',\n",
       " '12': 'Drama',\n",
       " '13': 'Peter Jackson',\n",
       " '14': 'Robert Rodriguez',\n",
       " '15': 'Chris Hemsworth',\n",
       " '16': 'Matt Damon',\n",
       " '17': 'Action',\n",
       " '18': 'K-19: The Widowmaker (tt0267626)',\n",
       " '19': '2015',\n",
       " '20': '2014',\n",
       " '21': 'September',\n",
       " '22': '450',\n",
       " '23': 'Peter Jackson',\n",
       " '24': 'Four By Two Productions',\n",
       " '25': 'Midnight Picture Show',\n",
       " '26': 'Inside Out,Room,Interstellar,Guardians of the Galaxy,The Imitation Game,Gone Girl,The Grand Budapest Hotel,Inception,The Dark Knight,The Pianist,The Lord of the Rings: The Return of the King,The Wolf of Wall Street,12 Years a Slave,Memento',\n",
       " '27': \"('Daniel Radcliffe', 'Rupert Grint')\"}"
      ]
     },
     "metadata": {},
     "execution_count": 117
    }
   ],
   "source": [
    "# в конце можно посмотреть свои ответы к каждому вопросу\n",
    "answers"
   ]
  },
  {
   "cell_type": "code",
   "execution_count": 118,
   "metadata": {
    "colab": {},
    "colab_type": "code",
    "id": "SiRmHPl8VqAd"
   },
   "outputs": [
    {
     "output_type": "execute_result",
     "data": {
      "text/plain": [
       "27"
      ]
     },
     "metadata": {},
     "execution_count": 118
    }
   ],
   "source": [
    "# и убедиться что ни чего не пропустил)\n",
    "len(answers)"
   ]
  },
  {
   "cell_type": "code",
   "execution_count": 0,
   "metadata": {
    "colab": {},
    "colab_type": "code",
    "id": "uCfuTkRbVqAg"
   },
   "outputs": [],
   "source": []
  },
  {
   "cell_type": "code",
   "execution_count": 0,
   "metadata": {
    "colab": {},
    "colab_type": "code",
    "id": "Vwx3NrkSVqAl"
   },
   "outputs": [],
   "source": []
  }
 ],
 "metadata": {
  "colab": {
   "name": "Copy of [SF-DST] Movies IMBD v4.1 TEMPLATE.ipynb",
   "provenance": []
  },
  "kernelspec": {
   "display_name": "Python 3",
   "language": "python",
   "name": "python3"
  },
  "language_info": {
   "codemirror_mode": {
    "name": "ipython",
    "version": 3
   },
   "file_extension": ".py",
   "mimetype": "text/x-python",
   "name": "python",
   "nbconvert_exporter": "python",
   "pygments_lexer": "ipython3",
   "version": "3.8.3-final"
  }
 },
 "nbformat": 4,
 "nbformat_minor": 1
}