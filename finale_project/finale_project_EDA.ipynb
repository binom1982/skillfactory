{
 "cells": [
  {
   "cell_type": "markdown",
   "metadata": {},
   "source": [
    "# Группа: DST-48\n",
    "**Sergey Pinaev - binom1982@gmail.com**\n",
    "# Финальный проект \n",
    "Предсказание стоимости домов, основываясь на истории предложений.  \n",
    "\n",
    "Ссылка на соревнование: [[SF-DST] Car Price prediction](https://www.kaggle.com/c/sf-dst-car-price-prediction-part2)\n",
    "\n",
    "<p align=\"center\" width=\"100%\">\n",
    "<img src=\"https://habrastorage.org/r/w1560/getpro/habr/upload_files/080/2a6/5e7/0802a65e78ee2bd84388c0d1ebab98d5.png\" width=\"auto\"/>\n",
    "</p>\n",
    "<hr>"
   ]
  },
  {
   "cell_type": "markdown",
   "metadata": {},
   "source": [
    "## Task"
   ]
  },
  {
   "cell_type": "markdown",
   "metadata": {},
   "source": [
    "Ко мне обратился представитель крупного агентства недвижимости со следующей проблемой:\n",
    "\n",
    "Мои риелторы тратят катастрофически много времени на сортировку объявлений и поиск выгодных предложений. Поэтому их скорость реакции, да и, сказать по правде, качество анализа не дотягивает до уровня конкурентов. А это сказывается на наших финансовых показателях. Твоя задача — разработать модель, которая бы позволила обойти конкурентов по скорости и качеству совершения сделок. Датасет прикладываю.\n",
    "\n",
    "**Цель**: разработать сервис, который будет предсказывать стоимость домов, основываясь на истории предложений."
   ]
  },
  {
   "cell_type": "markdown",
   "metadata": {},
   "source": [
    "## Data Description:"
   ]
  },
  {
   "cell_type": "markdown",
   "metadata": {},
   "source": [
    "В датасете 18 колонок\n",
    "\n",
    "Целевая переменная **target** - цена объекта недвижимости\n",
    "* **status** - статус объявления\n",
    "* **private pool** - наличие бассейна, вероятно дублируется столбцом **PrivatePool**\n",
    "* **propertyType** - тип объекта недвижимости\n",
    "* **street**- адрес\n",
    "* **baths** - количество ванных комнат\n",
    "* **homeFacts**- информация о доме. Этот столбец надо парсить\n",
    "* **fireplace** - наличие камина\n",
    "* **city** - город\n",
    "* **schools** - рейтинг и близость образовательных учреждений. Нужно парсить\n",
    "* **sqft** - площадь в квадратных футах\n",
    "* **zipcode** - почтовый индекс\n",
    "* **beds**- количество спальен (или количество кроватей) \n",
    "* **state** - штат\n",
    "* **stories** - вероятно, количество владельцев или продаж этого дома\n",
    "* **mls-id** - идентификационный номер в системе MLS. Вероятно, дополняется столбцом **MlsId**\n"
   ]
  },
  {
   "cell_type": "markdown",
   "metadata": {},
   "source": [
    "## Libraries"
   ]
  },
  {
   "cell_type": "code",
   "execution_count": 147,
   "metadata": {},
   "outputs": [
    {
     "name": "stdout",
     "output_type": "stream",
     "text": [
      "Python       : 3.8.12 (default, Oct 12 2021, 03:01:40) [MSC v.1916 64 bit (AMD64)]\n",
      "Numpy        : 1.19.5\n",
      "Tensorflow   : 2.5.0\n",
      "Keras        : 2.5.0\n",
      "Num GPUs Available:  1\n",
      "GPU 0: NVIDIA GeForce RTX 2070 SUPER (UUID: GPU-f6280479-d16b-33b8-dd70-6511eca96aa8)\n"
     ]
    }
   ],
   "source": [
    "# This Python 3 environment comes with many helpful analytics libraries installed\n",
    "# It is defined by the kaggle/python Docker image: https://github.com/kaggle/docker-python\n",
    "# For example, here's several helpful packages to load\n",
    "\n",
    "import random\n",
    "import numpy as np # linear algebra\n",
    "import pandas as pd # data processing, CSV file I/O (e.g. pd.read_csv)\n",
    "import os\n",
    "import sys\n",
    "import PIL\n",
    "import cv2\n",
    "import re\n",
    "import json\n",
    "\n",
    "# import datetime, time\n",
    "from datetime import timedelta, datetime, date, time\n",
    "\n",
    "# Input data files are available in the read-only \"../input/\" directory\n",
    "# For example, running this (by clicking run or pressing Shift+Enter) will list all files under the input directory\n",
    "\n",
    "from catboost import CatBoostRegressor\n",
    "from sklearn.model_selection import train_test_split\n",
    "from sklearn.preprocessing import MinMaxScaler\n",
    "\n",
    "from sklearn.model_selection import train_test_split\n",
    "from sklearn.model_selection import KFold\n",
    "\n",
    "# import xgboost as xgb\n",
    "from sklearn.ensemble import GradientBoostingRegressor\n",
    "from sklearn.ensemble import BaggingRegressor\n",
    "from sklearn.ensemble import StackingRegressor\n",
    "from catboost import CatBoostRegressor\n",
    "\n",
    "from sklearn.linear_model import LinearRegression, LogisticRegression, LogisticRegressionCV\n",
    "from sklearn.ensemble import RandomForestRegressor\n",
    "from sklearn.preprocessing import LabelEncoder, OneHotEncoder, StandardScaler, MinMaxScaler, RobustScaler\n",
    "from sklearn.feature_selection import RFE # Рекурсивное устранение признаков (RFE)\n",
    "from sklearn.metrics import mean_absolute_percentage_error, mean_absolute_error\n",
    "\n",
    "# # keras\n",
    "import tensorflow as tf\n",
    "import tensorflow.keras.layers as L\n",
    "from tensorflow.keras.models import Model, Sequential\n",
    "from tensorflow.keras.preprocessing.text import Tokenizer\n",
    "from tensorflow.keras.preprocessing import sequence\n",
    "from tensorflow.keras.callbacks import ModelCheckpoint, EarlyStopping\n",
    "import albumentations\n",
    "\n",
    "# plt\n",
    "import matplotlib.pyplot as plt\n",
    "import seaborn as sns\n",
    "#увеличим дефолтный размер графиков\n",
    "from pylab import rcParams\n",
    "rcParams['figure.figsize'] = 10, 5\n",
    "#графики в svg выглядят более четкими\n",
    "%config InlineBackend.figure_format = 'svg' \n",
    "%matplotlib inline\n",
    "plt.style.use('fivethirtyeight')\n",
    "# Подключаем форматирование Markdown\n",
    "from IPython.display import Markdown\n",
    "\n",
    "print('Python       :', sys.version.split('\\n')[0])\n",
    "print('Numpy        :', np.__version__)\n",
    "print('Tensorflow   :', tf.__version__)\n",
    "print('Keras        :', tf.keras.__version__)\n",
    "\n",
    "# Чтобы вычисления проходили на GPU необходимо чтобы tensorflow определил GPU.\n",
    "# Как это сделать практически без боли написано здесь https://artificialintelligence.so/forums/discussion/how-to-install-tensorflow/\n",
    "print(\"Num GPUs Available: \", len(tf.config.list_physical_devices('GPU')))\n",
    "tf.config.list_physical_devices()\n",
    "# Подключим видеокарту\n",
    "!nvidia-smi -L\n",
    "# !pip freeze > requirements.txt"
   ]
  },
  {
   "cell_type": "code",
   "execution_count": 148,
   "metadata": {},
   "outputs": [],
   "source": [
    "# всегда фиксируйте RANDOM_SEED, чтобы ваши эксперименты были воспроизводимы!\n",
    "RANDOM_SEED = 42\n",
    "np.random.seed(RANDOM_SEED)\n",
    "isWorking = False # флаг для запуска кода"
   ]
  },
  {
   "cell_type": "markdown",
   "metadata": {},
   "source": [
    "## Functions"
   ]
  },
  {
   "cell_type": "code",
   "execution_count": 149,
   "metadata": {},
   "outputs": [],
   "source": [
    "def mape(y_true, y_pred):\n",
    "    return np.mean(np.abs((y_pred-y_true)/y_true))\n",
    "\n",
    "\n",
    "def get_other_values(series, percentile=90):\n",
    "    '''\n",
    "    Возвращает список значений ниже определенного порога, которые необходимо переменовать\n",
    "    '''\n",
    "    value_counts = series.value_counts()\n",
    "    # Найдем значения описывающие percentile всех значений\n",
    "    top_values = int(np.percentile(series.value_counts(dropna=False), percentile))\n",
    "    # Оставим только percentile значений\n",
    "    other = value_counts[value_counts < top_values].index\n",
    "#     display(other)\n",
    "    return other\n",
    "\n",
    "def get_emission_limits(data_series):\n",
    "    '''\n",
    "    Возвращает кортеж границ выбросов вычесленных на основе межвартильного размаха и 1 и 99 перцентиль.\n",
    "    При необходимости данные выходящие за нижнюю и верхнюю границу можно не удалять а присваивать им значение  1 и 99 перцентиля.\n",
    "    df.loc[df['column'] < min_emission_limits, 'column'] = perc01\n",
    "    df.loc[df['column'] > max_emission_limits, 'column'] = perc99\n",
    "    '''\n",
    "    perc25, perc75 = np.percentile(data_series,[25,75])\n",
    "    perc1, perc99 = np.percentile(data_series,[1,99])\n",
    "    # perc0, perc100 = np.percentile(data_series,[0,100])\n",
    "    # print(perc0, perc100) # Иногда выбросы меньше/больше min/max значений так что можно было бы доработать\n",
    "    \n",
    "    IQR = perc75 - perc25\n",
    "    min_emission_limits = perc25 - 1.5*IQR\n",
    "    max_emission_limits = perc75 + 1.5*IQR\n",
    "\n",
    "    '''Выводит распределение данных для каждого столбца в датасете'''\n",
    "    l = ['| P1 | Min emission | P25 | IQR | P75 | Max emission | P99 |',\n",
    "         '|-----|:-----:|----|-----|----|:-----:|-----|',\n",
    "        f'|{perc1}|{min_emission_limits}|{perc25}|{IQR}|{perc75}|{max_emission_limits}|{perc99}|']\n",
    "            \n",
    "    display(Markdown('\\n'.join(l)))\n",
    "    return perc1, min_emission_limits, max_emission_limits, perc99\n",
    "\n",
    "\n",
    "def get_boxplot(dataset, column, value, axes, kind=True):\n",
    "    '''Отображет boxplot'''\n",
    "    #fig, axes = plt.subplots(figsize=(10, 4))\n",
    "    \n",
    "    if kind:\n",
    "        sns.boxplot(x=column, y=value, data=dataset, ax=axes)\n",
    "    else:\n",
    "        sns.violinplot(x=column, y=value, data=dataset, ax=axes)\n",
    "    # plt.xticks(rotation=45)\n",
    "    # ax.set_title('Boxplot for ' + column)\n",
    "    # plt.show()\n",
    "    \n",
    "    \n",
    "def myround(x, prec=2, base=.05):\n",
    "    return round(base * round(float(x)/base), prec)\n",
    "\n"
   ]
  },
  {
   "cell_type": "markdown",
   "metadata": {},
   "source": [
    "## Loading data"
   ]
  },
  {
   "cell_type": "code",
   "execution_count": 150,
   "metadata": {},
   "outputs": [],
   "source": [
    "PATH = \"G:/Datasets/finale_project/data.csv/data.csv\"\n",
    "data = pd.read_csv(PATH)"
   ]
  },
  {
   "cell_type": "code",
   "execution_count": 151,
   "metadata": {},
   "outputs": [
    {
     "data": {
      "text/html": [
       "<div>\n",
       "<style scoped>\n",
       "    .dataframe tbody tr th:only-of-type {\n",
       "        vertical-align: middle;\n",
       "    }\n",
       "\n",
       "    .dataframe tbody tr th {\n",
       "        vertical-align: top;\n",
       "    }\n",
       "\n",
       "    .dataframe thead th {\n",
       "        text-align: right;\n",
       "    }\n",
       "</style>\n",
       "<table border=\"1\" class=\"dataframe\">\n",
       "  <thead>\n",
       "    <tr style=\"text-align: right;\">\n",
       "      <th></th>\n",
       "      <th>0</th>\n",
       "      <th>1</th>\n",
       "      <th>2</th>\n",
       "      <th>3</th>\n",
       "    </tr>\n",
       "  </thead>\n",
       "  <tbody>\n",
       "    <tr>\n",
       "      <th>status</th>\n",
       "      <td>Active</td>\n",
       "      <td>for sale</td>\n",
       "      <td>for sale</td>\n",
       "      <td>for sale</td>\n",
       "    </tr>\n",
       "    <tr>\n",
       "      <th>private_pool</th>\n",
       "      <td>NaN</td>\n",
       "      <td>NaN</td>\n",
       "      <td>NaN</td>\n",
       "      <td>NaN</td>\n",
       "    </tr>\n",
       "    <tr>\n",
       "      <th>propertyType</th>\n",
       "      <td>Single Family Home</td>\n",
       "      <td>single-family home</td>\n",
       "      <td>single-family home</td>\n",
       "      <td>single-family home</td>\n",
       "    </tr>\n",
       "    <tr>\n",
       "      <th>street</th>\n",
       "      <td>240 Heather Ln</td>\n",
       "      <td>12911 E Heroy Ave</td>\n",
       "      <td>2005 Westridge Rd</td>\n",
       "      <td>4311 Livingston Ave</td>\n",
       "    </tr>\n",
       "    <tr>\n",
       "      <th>baths</th>\n",
       "      <td>3.5</td>\n",
       "      <td>3 Baths</td>\n",
       "      <td>2 Baths</td>\n",
       "      <td>8 Baths</td>\n",
       "    </tr>\n",
       "    <tr>\n",
       "      <th>homeFacts</th>\n",
       "      <td>{'atAGlanceFacts': [{'factValue': '2019', 'fac...</td>\n",
       "      <td>{'atAGlanceFacts': [{'factValue': '2019', 'fac...</td>\n",
       "      <td>{'atAGlanceFacts': [{'factValue': '1961', 'fac...</td>\n",
       "      <td>{'atAGlanceFacts': [{'factValue': '2006', 'fac...</td>\n",
       "    </tr>\n",
       "    <tr>\n",
       "      <th>fireplace</th>\n",
       "      <td>Gas Logs</td>\n",
       "      <td>NaN</td>\n",
       "      <td>yes</td>\n",
       "      <td>yes</td>\n",
       "    </tr>\n",
       "    <tr>\n",
       "      <th>city</th>\n",
       "      <td>Southern Pines</td>\n",
       "      <td>Spokane Valley</td>\n",
       "      <td>Los Angeles</td>\n",
       "      <td>Dallas</td>\n",
       "    </tr>\n",
       "    <tr>\n",
       "      <th>schools</th>\n",
       "      <td>[{'rating': ['4', '4', '7', 'NR', '4', '7', 'N...</td>\n",
       "      <td>[{'rating': ['4/10', 'None/10', '4/10'], 'data...</td>\n",
       "      <td>[{'rating': ['8/10', '4/10', '8/10'], 'data': ...</td>\n",
       "      <td>[{'rating': ['9/10', '9/10', '10/10', '9/10'],...</td>\n",
       "    </tr>\n",
       "    <tr>\n",
       "      <th>sqft</th>\n",
       "      <td>2900</td>\n",
       "      <td>1,947 sqft</td>\n",
       "      <td>3,000 sqft</td>\n",
       "      <td>6,457 sqft</td>\n",
       "    </tr>\n",
       "    <tr>\n",
       "      <th>zipcode</th>\n",
       "      <td>28387</td>\n",
       "      <td>99216</td>\n",
       "      <td>90049</td>\n",
       "      <td>75205</td>\n",
       "    </tr>\n",
       "    <tr>\n",
       "      <th>beds</th>\n",
       "      <td>4</td>\n",
       "      <td>3 Beds</td>\n",
       "      <td>3 Beds</td>\n",
       "      <td>5 Beds</td>\n",
       "    </tr>\n",
       "    <tr>\n",
       "      <th>state</th>\n",
       "      <td>NC</td>\n",
       "      <td>WA</td>\n",
       "      <td>CA</td>\n",
       "      <td>TX</td>\n",
       "    </tr>\n",
       "    <tr>\n",
       "      <th>stories</th>\n",
       "      <td>NaN</td>\n",
       "      <td>2.0</td>\n",
       "      <td>1.0</td>\n",
       "      <td>3.0</td>\n",
       "    </tr>\n",
       "    <tr>\n",
       "      <th>mls_id</th>\n",
       "      <td>NaN</td>\n",
       "      <td>NaN</td>\n",
       "      <td>NaN</td>\n",
       "      <td>NaN</td>\n",
       "    </tr>\n",
       "    <tr>\n",
       "      <th>PrivatePool</th>\n",
       "      <td>NaN</td>\n",
       "      <td>NaN</td>\n",
       "      <td>yes</td>\n",
       "      <td>NaN</td>\n",
       "    </tr>\n",
       "    <tr>\n",
       "      <th>MlsId</th>\n",
       "      <td>611019</td>\n",
       "      <td>201916904</td>\n",
       "      <td>FR19221027</td>\n",
       "      <td>14191809</td>\n",
       "    </tr>\n",
       "    <tr>\n",
       "      <th>target</th>\n",
       "      <td>$418,000</td>\n",
       "      <td>$310,000</td>\n",
       "      <td>$2,895,000</td>\n",
       "      <td>$2,395,000</td>\n",
       "    </tr>\n",
       "  </tbody>\n",
       "</table>\n",
       "</div>"
      ],
      "text/plain": [
       "                                                              0  \\\n",
       "status                                                   Active   \n",
       "private_pool                                                NaN   \n",
       "propertyType                                 Single Family Home   \n",
       "street                                           240 Heather Ln   \n",
       "baths                                                       3.5   \n",
       "homeFacts     {'atAGlanceFacts': [{'factValue': '2019', 'fac...   \n",
       "fireplace                                              Gas Logs   \n",
       "city                                             Southern Pines   \n",
       "schools       [{'rating': ['4', '4', '7', 'NR', '4', '7', 'N...   \n",
       "sqft                                                       2900   \n",
       "zipcode                                                   28387   \n",
       "beds                                                          4   \n",
       "state                                                        NC   \n",
       "stories                                                     NaN   \n",
       "mls_id                                                      NaN   \n",
       "PrivatePool                                                 NaN   \n",
       "MlsId                                                    611019   \n",
       "target                                                 $418,000   \n",
       "\n",
       "                                                              1  \\\n",
       "status                                                 for sale   \n",
       "private_pool                                                NaN   \n",
       "propertyType                                 single-family home   \n",
       "street                                        12911 E Heroy Ave   \n",
       "baths                                                   3 Baths   \n",
       "homeFacts     {'atAGlanceFacts': [{'factValue': '2019', 'fac...   \n",
       "fireplace                                                   NaN   \n",
       "city                                             Spokane Valley   \n",
       "schools       [{'rating': ['4/10', 'None/10', '4/10'], 'data...   \n",
       "sqft                                                 1,947 sqft   \n",
       "zipcode                                                   99216   \n",
       "beds                                                     3 Beds   \n",
       "state                                                        WA   \n",
       "stories                                                     2.0   \n",
       "mls_id                                                      NaN   \n",
       "PrivatePool                                                 NaN   \n",
       "MlsId                                                 201916904   \n",
       "target                                                 $310,000   \n",
       "\n",
       "                                                              2  \\\n",
       "status                                                 for sale   \n",
       "private_pool                                                NaN   \n",
       "propertyType                                 single-family home   \n",
       "street                                        2005 Westridge Rd   \n",
       "baths                                                   2 Baths   \n",
       "homeFacts     {'atAGlanceFacts': [{'factValue': '1961', 'fac...   \n",
       "fireplace                                                   yes   \n",
       "city                                                Los Angeles   \n",
       "schools       [{'rating': ['8/10', '4/10', '8/10'], 'data': ...   \n",
       "sqft                                                 3,000 sqft   \n",
       "zipcode                                                   90049   \n",
       "beds                                                     3 Beds   \n",
       "state                                                        CA   \n",
       "stories                                                     1.0   \n",
       "mls_id                                                      NaN   \n",
       "PrivatePool                                                 yes   \n",
       "MlsId                                                FR19221027   \n",
       "target                                               $2,895,000   \n",
       "\n",
       "                                                              3  \n",
       "status                                                 for sale  \n",
       "private_pool                                                NaN  \n",
       "propertyType                                 single-family home  \n",
       "street                                      4311 Livingston Ave  \n",
       "baths                                                   8 Baths  \n",
       "homeFacts     {'atAGlanceFacts': [{'factValue': '2006', 'fac...  \n",
       "fireplace                                                   yes  \n",
       "city                                                     Dallas  \n",
       "schools       [{'rating': ['9/10', '9/10', '10/10', '9/10'],...  \n",
       "sqft                                                 6,457 sqft  \n",
       "zipcode                                                   75205  \n",
       "beds                                                     5 Beds  \n",
       "state                                                        TX  \n",
       "stories                                                     3.0  \n",
       "mls_id                                                      NaN  \n",
       "PrivatePool                                                 NaN  \n",
       "MlsId                                                  14191809  \n",
       "target                                               $2,395,000  "
      ]
     },
     "metadata": {},
     "output_type": "display_data"
    }
   ],
   "source": [
    "data.columns = data.columns.map(lambda x: x.replace(' ', '_').replace('-', '_'))\n",
    "display(data.head(4).T)"
   ]
  },
  {
   "cell_type": "code",
   "execution_count": 152,
   "metadata": {},
   "outputs": [
    {
     "name": "stdout",
     "output_type": "stream",
     "text": [
      "<class 'pandas.core.frame.DataFrame'>\n",
      "RangeIndex: 377185 entries, 0 to 377184\n",
      "Data columns (total 18 columns):\n",
      " #   Column        Non-Null Count   Dtype \n",
      "---  ------        --------------   ----- \n",
      " 0   status        337267 non-null  object\n",
      " 1   private_pool  4181 non-null    object\n",
      " 2   propertyType  342452 non-null  object\n",
      " 3   street        377183 non-null  object\n",
      " 4   baths         270847 non-null  object\n",
      " 5   homeFacts     377185 non-null  object\n",
      " 6   fireplace     103115 non-null  object\n",
      " 7   city          377151 non-null  object\n",
      " 8   schools       377185 non-null  object\n",
      " 9   sqft          336608 non-null  object\n",
      " 10  zipcode       377185 non-null  object\n",
      " 11  beds          285903 non-null  object\n",
      " 12  state         377185 non-null  object\n",
      " 13  stories       226470 non-null  object\n",
      " 14  mls_id        24942 non-null   object\n",
      " 15  PrivatePool   40311 non-null   object\n",
      " 16  MlsId         310305 non-null  object\n",
      " 17  target        374704 non-null  object\n",
      "dtypes: object(18)\n",
      "memory usage: 51.8+ MB\n"
     ]
    }
   ],
   "source": [
    "data.info()"
   ]
  },
  {
   "cell_type": "code",
   "execution_count": 153,
   "metadata": {},
   "outputs": [
    {
     "data": {
      "text/html": [
       "<div>\n",
       "<style scoped>\n",
       "    .dataframe tbody tr th:only-of-type {\n",
       "        vertical-align: middle;\n",
       "    }\n",
       "\n",
       "    .dataframe tbody tr th {\n",
       "        vertical-align: top;\n",
       "    }\n",
       "\n",
       "    .dataframe thead th {\n",
       "        text-align: right;\n",
       "    }\n",
       "</style>\n",
       "<table border=\"1\" class=\"dataframe\">\n",
       "  <thead>\n",
       "    <tr style=\"text-align: right;\">\n",
       "      <th></th>\n",
       "      <th>status</th>\n",
       "      <th>private_pool</th>\n",
       "      <th>propertyType</th>\n",
       "      <th>street</th>\n",
       "      <th>baths</th>\n",
       "      <th>homeFacts</th>\n",
       "      <th>fireplace</th>\n",
       "      <th>city</th>\n",
       "      <th>schools</th>\n",
       "      <th>sqft</th>\n",
       "      <th>zipcode</th>\n",
       "      <th>beds</th>\n",
       "      <th>state</th>\n",
       "      <th>stories</th>\n",
       "      <th>mls_id</th>\n",
       "      <th>PrivatePool</th>\n",
       "      <th>MlsId</th>\n",
       "      <th>target</th>\n",
       "    </tr>\n",
       "  </thead>\n",
       "  <tbody>\n",
       "    <tr>\n",
       "      <th>count</th>\n",
       "      <td>337267</td>\n",
       "      <td>4181</td>\n",
       "      <td>342452</td>\n",
       "      <td>377183</td>\n",
       "      <td>270847</td>\n",
       "      <td>377185</td>\n",
       "      <td>103115</td>\n",
       "      <td>377151</td>\n",
       "      <td>377185</td>\n",
       "      <td>336608</td>\n",
       "      <td>377185</td>\n",
       "      <td>285903</td>\n",
       "      <td>377185</td>\n",
       "      <td>226470</td>\n",
       "      <td>24942</td>\n",
       "      <td>40311</td>\n",
       "      <td>310305</td>\n",
       "      <td>374704</td>\n",
       "    </tr>\n",
       "    <tr>\n",
       "      <th>unique</th>\n",
       "      <td>159</td>\n",
       "      <td>1</td>\n",
       "      <td>1280</td>\n",
       "      <td>337076</td>\n",
       "      <td>229</td>\n",
       "      <td>321009</td>\n",
       "      <td>1653</td>\n",
       "      <td>2026</td>\n",
       "      <td>297365</td>\n",
       "      <td>25405</td>\n",
       "      <td>4549</td>\n",
       "      <td>1184</td>\n",
       "      <td>39</td>\n",
       "      <td>348</td>\n",
       "      <td>24907</td>\n",
       "      <td>2</td>\n",
       "      <td>232944</td>\n",
       "      <td>43939</td>\n",
       "    </tr>\n",
       "    <tr>\n",
       "      <th>top</th>\n",
       "      <td>for sale</td>\n",
       "      <td>Yes</td>\n",
       "      <td>single-family home</td>\n",
       "      <td>Address Not Disclosed</td>\n",
       "      <td>2 Baths</td>\n",
       "      <td>{'atAGlanceFacts': [{'factValue': '', 'factLab...</td>\n",
       "      <td>yes</td>\n",
       "      <td>Houston</td>\n",
       "      <td>[{'rating': [], 'data': {'Distance': [], 'Grad...</td>\n",
       "      <td>0</td>\n",
       "      <td>32137</td>\n",
       "      <td>3 Beds</td>\n",
       "      <td>FL</td>\n",
       "      <td>1.0</td>\n",
       "      <td>No MLS#</td>\n",
       "      <td>yes</td>\n",
       "      <td>NO MLS</td>\n",
       "      <td>$225,000</td>\n",
       "    </tr>\n",
       "    <tr>\n",
       "      <th>freq</th>\n",
       "      <td>156104</td>\n",
       "      <td>4181</td>\n",
       "      <td>92206</td>\n",
       "      <td>672</td>\n",
       "      <td>52466</td>\n",
       "      <td>7174</td>\n",
       "      <td>50356</td>\n",
       "      <td>24442</td>\n",
       "      <td>4204</td>\n",
       "      <td>11854</td>\n",
       "      <td>2141</td>\n",
       "      <td>53459</td>\n",
       "      <td>115449</td>\n",
       "      <td>67454</td>\n",
       "      <td>3</td>\n",
       "      <td>28793</td>\n",
       "      <td>24</td>\n",
       "      <td>1462</td>\n",
       "    </tr>\n",
       "  </tbody>\n",
       "</table>\n",
       "</div>"
      ],
      "text/plain": [
       "          status private_pool        propertyType                 street  \\\n",
       "count     337267         4181              342452                 377183   \n",
       "unique       159            1                1280                 337076   \n",
       "top     for sale          Yes  single-family home  Address Not Disclosed   \n",
       "freq      156104         4181               92206                    672   \n",
       "\n",
       "          baths                                          homeFacts fireplace  \\\n",
       "count    270847                                             377185    103115   \n",
       "unique      229                                             321009      1653   \n",
       "top     2 Baths  {'atAGlanceFacts': [{'factValue': '', 'factLab...       yes   \n",
       "freq      52466                                               7174     50356   \n",
       "\n",
       "           city                                            schools    sqft  \\\n",
       "count    377151                                             377185  336608   \n",
       "unique     2026                                             297365   25405   \n",
       "top     Houston  [{'rating': [], 'data': {'Distance': [], 'Grad...       0   \n",
       "freq      24442                                               4204   11854   \n",
       "\n",
       "       zipcode    beds   state stories   mls_id PrivatePool   MlsId    target  \n",
       "count   377185  285903  377185  226470    24942       40311  310305    374704  \n",
       "unique    4549    1184      39     348    24907           2  232944     43939  \n",
       "top      32137  3 Beds      FL     1.0  No MLS#         yes  NO MLS  $225,000  \n",
       "freq      2141   53459  115449   67454        3       28793      24      1462  "
      ]
     },
     "execution_count": 153,
     "metadata": {},
     "output_type": "execute_result"
    }
   ],
   "source": [
    "data.describe()"
   ]
  },
  {
   "cell_type": "markdown",
   "metadata": {},
   "source": [
    "## EDA"
   ]
  },
  {
   "cell_type": "code",
   "execution_count": 154,
   "metadata": {},
   "outputs": [],
   "source": [
    "# список столбцов для удаления\n",
    "delete_col = []"
   ]
  },
  {
   "cell_type": "markdown",
   "metadata": {},
   "source": [
    "### Columns \"mls_id\" and \"MlsId\""
   ]
  },
  {
   "cell_type": "code",
   "execution_count": 155,
   "metadata": {},
   "outputs": [
    {
     "name": "stdout",
     "output_type": "stream",
     "text": [
      "Пропуски: 352243\n",
      "Уникальных: 43939\n"
     ]
    },
    {
     "data": {
      "text/plain": [
       "NaN                        66880\n",
       "NO MLS                        24\n",
       "No MLS #                      16\n",
       " A, Houston, TX 77008         13\n",
       " 12A, Orlando, FL 32833       11\n",
       "                           ...  \n",
       "4139661                        2\n",
       "72578274                       2\n",
       "3564047                        2\n",
       "14228422                       2\n",
       "58868465                       2\n",
       "Name: MlsId, Length: 61272, dtype: int64"
      ]
     },
     "execution_count": 155,
     "metadata": {},
     "output_type": "execute_result"
    }
   ],
   "source": [
    "# Начнем с удаления дубликатов в столбцах в названиях которых присутвует \"id\". \n",
    "print('Пропуски:', data.mls_id.isna().sum())\n",
    "print('Уникальных:', data.target.nunique())\n",
    "\n",
    "MlsId =  data.MlsId.value_counts(dropna=False)\n",
    "MlsId[MlsId >= 2]"
   ]
  },
  {
   "cell_type": "code",
   "execution_count": 156,
   "metadata": {},
   "outputs": [
    {
     "data": {
      "text/html": [
       "<div>\n",
       "<style scoped>\n",
       "    .dataframe tbody tr th:only-of-type {\n",
       "        vertical-align: middle;\n",
       "    }\n",
       "\n",
       "    .dataframe tbody tr th {\n",
       "        vertical-align: top;\n",
       "    }\n",
       "\n",
       "    .dataframe thead th {\n",
       "        text-align: right;\n",
       "    }\n",
       "</style>\n",
       "<table border=\"1\" class=\"dataframe\">\n",
       "  <thead>\n",
       "    <tr style=\"text-align: right;\">\n",
       "      <th></th>\n",
       "      <th>status</th>\n",
       "      <th>private_pool</th>\n",
       "      <th>propertyType</th>\n",
       "      <th>street</th>\n",
       "      <th>baths</th>\n",
       "      <th>homeFacts</th>\n",
       "      <th>fireplace</th>\n",
       "      <th>city</th>\n",
       "      <th>schools</th>\n",
       "      <th>sqft</th>\n",
       "      <th>zipcode</th>\n",
       "      <th>beds</th>\n",
       "      <th>state</th>\n",
       "      <th>stories</th>\n",
       "      <th>mls_id</th>\n",
       "      <th>PrivatePool</th>\n",
       "      <th>MlsId</th>\n",
       "      <th>target</th>\n",
       "    </tr>\n",
       "  </thead>\n",
       "  <tbody>\n",
       "    <tr>\n",
       "      <th>4215</th>\n",
       "      <td>for sale</td>\n",
       "      <td>NaN</td>\n",
       "      <td>single-family home</td>\n",
       "      <td>415 Isolde Dr</td>\n",
       "      <td>5 Baths</td>\n",
       "      <td>{'atAGlanceFacts': [{'factValue': '2012', 'fac...</td>\n",
       "      <td>yes</td>\n",
       "      <td>Houston</td>\n",
       "      <td>[{'rating': ['10/10', '8/10', '10/10'], 'data'...</td>\n",
       "      <td>3,991 sqft</td>\n",
       "      <td>77024</td>\n",
       "      <td>4 Beds</td>\n",
       "      <td>TX</td>\n",
       "      <td>2.0</td>\n",
       "      <td>NaN</td>\n",
       "      <td>NaN</td>\n",
       "      <td>58868465</td>\n",
       "      <td>$1,050,000</td>\n",
       "    </tr>\n",
       "    <tr>\n",
       "      <th>106792</th>\n",
       "      <td>NaN</td>\n",
       "      <td>NaN</td>\n",
       "      <td>Single Family</td>\n",
       "      <td>415 Isolde Dr</td>\n",
       "      <td>5</td>\n",
       "      <td>{'atAGlanceFacts': [{'factValue': '2012', 'fac...</td>\n",
       "      <td>NaN</td>\n",
       "      <td>Houston</td>\n",
       "      <td>[{'rating': ['10/10', '10/10', '8/10'], 'data'...</td>\n",
       "      <td>3,991</td>\n",
       "      <td>77024</td>\n",
       "      <td>4</td>\n",
       "      <td>TX</td>\n",
       "      <td>2.0</td>\n",
       "      <td>NaN</td>\n",
       "      <td>NaN</td>\n",
       "      <td>58868465</td>\n",
       "      <td>$1,050,000</td>\n",
       "    </tr>\n",
       "  </tbody>\n",
       "</table>\n",
       "</div>"
      ],
      "text/plain": [
       "          status private_pool        propertyType         street    baths  \\\n",
       "4215    for sale          NaN  single-family home  415 Isolde Dr  5 Baths   \n",
       "106792       NaN          NaN       Single Family  415 Isolde Dr        5   \n",
       "\n",
       "                                                homeFacts fireplace     city  \\\n",
       "4215    {'atAGlanceFacts': [{'factValue': '2012', 'fac...       yes  Houston   \n",
       "106792  {'atAGlanceFacts': [{'factValue': '2012', 'fac...       NaN  Houston   \n",
       "\n",
       "                                                  schools        sqft zipcode  \\\n",
       "4215    [{'rating': ['10/10', '8/10', '10/10'], 'data'...  3,991 sqft   77024   \n",
       "106792  [{'rating': ['10/10', '10/10', '8/10'], 'data'...       3,991   77024   \n",
       "\n",
       "          beds state stories mls_id PrivatePool     MlsId      target  \n",
       "4215    4 Beds    TX     2.0    NaN         NaN  58868465  $1,050,000  \n",
       "106792       4    TX     2.0    NaN         NaN  58868465  $1,050,000  "
      ]
     },
     "metadata": {},
     "output_type": "display_data"
    }
   ],
   "source": [
    "display(data[data.MlsId == '58868465'])"
   ]
  },
  {
   "cell_type": "markdown",
   "metadata": {},
   "source": [
    "По самому частому 'MlsId' 6 записей по 3 в SAN ANTONIO и SEATTLE.\n",
    "Данные дублируют друг друга. Желательно удалить строки дубликатов.\n",
    "\n",
    "В них больше всего пропусков, соответственно, поэтому дополнение датасета данными из другой базы данных, \n",
    "например американской базы риелторов по этим id, представляется нецелесообразным, \n",
    "так как датасет будет дополнен неравномерно."
   ]
  },
  {
   "cell_type": "code",
   "execution_count": 157,
   "metadata": {},
   "outputs": [],
   "source": [
    "# TODO Пока удалим столбец (по этому столбцу позже можно удалить дубли)\n",
    "delete_col.append(\"MlsId\")\n",
    "delete_col.append(\"mls_id\")\n"
   ]
  },
  {
   "cell_type": "code",
   "execution_count": 158,
   "metadata": {},
   "outputs": [],
   "source": [
    "# # Визуализируем пропуски:\n",
    "# fig, ax = plt.subplots(figsize=(15,10))\n",
    "# sns_heatmap=sns.heatmap(data.isnull(), yticklabels=False, cbar=False, cmap= 'coolwarm')"
   ]
  },
  {
   "cell_type": "markdown",
   "metadata": {},
   "source": [
    "### Column \"status\""
   ]
  },
  {
   "cell_type": "code",
   "execution_count": 159,
   "metadata": {},
   "outputs": [
    {
     "name": "stdout",
     "output_type": "stream",
     "text": [
      "Пропуски: 39918\n",
      "Уникальных: 159\n"
     ]
    },
    {
     "data": {
      "text/plain": [
       "FOR SALE                     199571\n",
       "ACTIVE                       105207\n",
       "NaN                           39918\n",
       "FORECLOSURE                    6769\n",
       "NEW CONSTRUCTION               5475\n",
       "PENDING                        4807\n",
       "PRE-FORECLOSURE                2119\n",
       "PRE-FORECLOSURE / AUCTION      1560\n",
       "P                              1488\n",
       "UNDER CONTRACT SHOW            1183\n",
       " / AUCTION                      936\n",
       "UNDER CONTRACT   SHOWING        793\n",
       "ACTIVE UNDER CONTRACT           718\n",
       "UNDER CONTRACT                  692\n",
       "NEW                             690\n",
       "CONTINGENT                      581\n",
       "PRICE CHANGE                    563\n",
       "AUCTION                         536\n",
       "FORECLOSED                      459\n",
       "A ACTIVE                        443\n",
       "Name: status, dtype: int64"
      ]
     },
     "metadata": {},
     "output_type": "display_data"
    }
   ],
   "source": [
    "print('Пропуски:', data.status.isna().sum())\n",
    "print('Уникальных:', data.status.nunique())\n",
    "\n",
    "data.status = data.status.str.upper()\n",
    "display(data.status.value_counts(dropna=False)[:20])"
   ]
  },
  {
   "cell_type": "markdown",
   "metadata": {},
   "source": [
    "Больше 250.000 записей о продаже готовой недвижимости **ACTIVE**, **FOR SALE**,\n",
    "**NaN** значений около 40.000.\n",
    "\n",
    "Много записей о :\n",
    "* строящемся жилье **PENDING** \n",
    "* о выкупе у должников **FORECLOUSER**\n",
    "* отдельно указываются новостройки **NEW CONSTRUCTION**.\n",
    " \n",
    "Не очень понятна принципиальная разница между категориями 'ACTIVE' и 'FOR SALE'. Они по сути отражают одно и то же сотояние объекта недвижимоти - готовность объекта к продаже(активное объявление). \n",
    "\n",
    "Насчет заполнения пропусков. Раз они присутствуют в датасете - они должны быть активными и готовыми к продаже, как и абсолютное большинство других объявлений."
   ]
  },
  {
   "cell_type": "code",
   "execution_count": 160,
   "metadata": {},
   "outputs": [],
   "source": [
    "def parse_status(value):\n",
    "    if type(value)==str:\n",
    "        s = str(value)\n",
    "        if 'AUCTION' in s: return 'AUCTION'\n",
    "        if 'COMIN' in s or 'DILIGE' in s: return 'COMING'\n",
    "        if 'RENT' in s: return 'RENT'\n",
    "        if 'LEASE' in s: return 'RENT'\n",
    "        if 'PURCH' in s: return 'RENT'\n",
    "        if 'PEND' in s: return 'PENDING'\n",
    "        if 'FOREC' in s: return 'FORECLOSURE'\n",
    "        if 'NEW' in s: return 'NEW'\n",
    "        if 'CONTRACT' in s: return 'CONTRACT'\n",
    "        if 'CONTINGE' in s: return 'CONTINGENT'\n",
    "        if 'SOLD' in s or 'CLOSED' in s or 'ACCEPT' in s: return 'SOLD'\n",
    "        if 'ACTIV' in s: return 'ACTIVE'\n",
    "        if 'FOR SALE' in s: return 'FOR SALE'\n",
    "        if 'BACKUP' in s: return 'CONTRACT'\n",
    "        if 'BACK' in s or 'EXTEND' in s: return 'ACTIVE'\n",
    "        if 'CONTINUE' in s: return 'ACTIVE'\n",
    "        if s == 'C' or  s == 'CT': return 'CONTRACT'\n",
    "        if s == 'P': return 'PENDING'\n",
    "        if s == 'PS' or s == 'PF' or s == 'PI': return 'PENDING'\n",
    "       \n",
    "        else: return s\n",
    "    else:\n",
    "         # if s == 'nan' : return  \"NO_DATA\" # 'ACTIVE'\n",
    "        return \"NO_DATA\""
   ]
  },
  {
   "cell_type": "code",
   "execution_count": 161,
   "metadata": {},
   "outputs": [
    {
     "data": {
      "text/plain": [
       "FOR SALE        199571\n",
       "ACTIVE          105909\n",
       "NO_DATA          39918\n",
       "FORECLOSURE       9349\n",
       "PENDING           6891\n",
       "NEW               6165\n",
       "CONTRACT          3848\n",
       "AUCTION           3070\n",
       "CONTINGENT        1027\n",
       "PRICE CHANGE       563\n",
       "RENT               424\n",
       "SOLD               313\n",
       "COMING             137\n",
       "Name: status, dtype: int64"
      ]
     },
     "metadata": {},
     "output_type": "display_data"
    }
   ],
   "source": [
    "status = data.status.map(parse_status)\n",
    "display(status.value_counts(dropna=False))\n",
    "data.status = status.astype(\"category\")\n",
    "# data.status.hist(figsize=(15,5), log=False, bins=50, xrot=90);\n",
    "# plt.tight_layout()"
   ]
  },
  {
   "cell_type": "code",
   "execution_count": 162,
   "metadata": {},
   "outputs": [],
   "source": [
    "# Видно, что для объявления о сдаче недвижимости в аренду, цена считается за месяц и в стоимости присутствует\n",
    "# приписка о помесячной оплате '/mo'. \n",
    "# Наш датасет должен содеражть данные о продаже жилья, а сдача жилья это уже для другой задачи. \n",
    "# Поэтому удалим удалим 424 записи со статусом 'RENT'.\n",
    "data[data.status == 'RENT']['target'][:8]\n",
    "\n",
    "# Удаляем записи\n",
    "data = data[data.status != 'RENT']"
   ]
  },
  {
   "cell_type": "markdown",
   "metadata": {},
   "source": [
    "### Columns \"private pool\" and \"PrivatePool\""
   ]
  },
  {
   "cell_type": "code",
   "execution_count": 163,
   "metadata": {},
   "outputs": [
    {
     "name": "stdout",
     "output_type": "stream",
     "text": [
      "Пропуски: 372580\n",
      "Уникальных: 1\n"
     ]
    },
    {
     "data": {
      "text/plain": [
       "NaN    372580\n",
       "YES      4181\n",
       "Name: private_pool, dtype: int64"
      ]
     },
     "metadata": {},
     "output_type": "display_data"
    },
    {
     "data": {
      "text/plain": [
       "False    372580\n",
       "True       4181\n",
       "Name: private_pool, dtype: int64"
      ]
     },
     "metadata": {},
     "output_type": "display_data"
    }
   ],
   "source": [
    "# private_pool\n",
    "print('Пропуски:', data.private_pool.isna().sum())\n",
    "print('Уникальных:', data.private_pool.nunique())\n",
    "data.private_pool = data.private_pool.str.upper()\n",
    "\n",
    "display(data.private_pool.value_counts(dropna=False))\n",
    "data.private_pool.fillna(0, inplace=True)\n",
    "data.private_pool = data.private_pool.apply(lambda x: 1 if x == 'YES' else 0).astype('bool')\n",
    "display(data.private_pool.value_counts(dropna=False))\n",
    "\n",
    "# Данные о бассеинах не пересекаются"
   ]
  },
  {
   "cell_type": "code",
   "execution_count": 164,
   "metadata": {},
   "outputs": [
    {
     "name": "stdout",
     "output_type": "stream",
     "text": [
      "Пропуски: 336547\n",
      "Уникальных: 2\n"
     ]
    },
    {
     "data": {
      "text/plain": [
       "NaN    336547\n",
       "YES     40214\n",
       "Name: PrivatePool, dtype: int64"
      ]
     },
     "metadata": {},
     "output_type": "display_data"
    },
    {
     "data": {
      "text/plain": [
       "False    336547\n",
       "True      40214\n",
       "Name: PrivatePool, dtype: int64"
      ]
     },
     "metadata": {},
     "output_type": "display_data"
    }
   ],
   "source": [
    "# PrivatePool\n",
    "print('Пропуски:', data.PrivatePool.isna().sum())\n",
    "print('Уникальных:', data.PrivatePool.nunique())\n",
    "data.PrivatePool = data.PrivatePool.str.upper()\n",
    "\n",
    "display(data.PrivatePool.value_counts(dropna=False))\n",
    "# data.PrivatePool = data.PrivatePool.apply(lambda x: x if type(x)!=str else x.lower())\n",
    "data.PrivatePool.fillna(0, inplace=True)\n",
    "data.PrivatePool = data.PrivatePool.apply(lambda x: 1 if x == 'YES' else 0).astype('bool')\n",
    "display(data.PrivatePool.value_counts(dropna=False))"
   ]
  },
  {
   "cell_type": "markdown",
   "metadata": {},
   "source": [
    "Данные из столбцов не пересекаются.\n",
    "Заполним NaN нулями, заменим 'Yes' и 'yes' на единицы и объединим эти два столбца"
   ]
  },
  {
   "cell_type": "code",
   "execution_count": 165,
   "metadata": {},
   "outputs": [
    {
     "data": {
      "text/plain": [
       "False    332366\n",
       "True      44395\n",
       "Name: private_pool_union, dtype: int64"
      ]
     },
     "metadata": {},
     "output_type": "display_data"
    }
   ],
   "source": [
    "# TODO Я пока не могу понять почему эти данные не пересекаются, тут чтото не так!\n",
    "data['private_pool_union'] = False\n",
    "data.loc[data['private_pool'], 'private_pool_union'] = True\n",
    "data.loc[data['PrivatePool'], 'private_pool_union'] = True\n",
    "display(data.private_pool_union.value_counts(dropna=False))"
   ]
  },
  {
   "cell_type": "code",
   "execution_count": 166,
   "metadata": {},
   "outputs": [],
   "source": [
    "# TODO Пока удалим столбец (по этому столбцу позже можно удалить дубли)\n",
    "delete_col.append('private_pool')\n",
    "delete_col.append('PrivatePool')"
   ]
  },
  {
   "cell_type": "markdown",
   "metadata": {},
   "source": [
    "### Column \"propertyType\""
   ]
  },
  {
   "cell_type": "code",
   "execution_count": 167,
   "metadata": {},
   "outputs": [
    {
     "name": "stdout",
     "output_type": "stream",
     "text": [
      "Пропуски: 34733\n",
      "Уникальных: 1280\n"
     ]
    },
    {
     "data": {
      "text/plain": [
       "SINGLE-FAMILY HOME                                             91989\n",
       "SINGLE FAMILY                                                  62869\n",
       "CONDO                                                          42522\n",
       "NaN                                                            34733\n",
       "SINGLE FAMILY HOME                                             31717\n",
       "                                                               ...  \n",
       "CUSTOM, ELEVATED, OTHER                                            1\n",
       "CONTEMPORARY, FARMHOUSE                                            1\n",
       "2 STORIES, TRADITIONAL, MEDITERRANEAN, TEXAS HILL COUNTRY          1\n",
       "1 STORY, CONTEMPORARY, TRADITIONAL, MEDITERRANEAN                  1\n",
       "BILEVEL, CONVERTED DWELLING, LOFT WITH BEDROOMS, CONDO/UNIT        1\n",
       "Name: propertyType, Length: 1273, dtype: int64"
      ]
     },
     "metadata": {},
     "output_type": "display_data"
    }
   ],
   "source": [
    "print('Пропуски:', data.propertyType.isna().sum())\n",
    "print('Уникальных:', data.propertyType.nunique())\n",
    "data.propertyType = data.propertyType.str.upper()\n",
    "display(data.propertyType.value_counts(dropna=False))\n",
    "\n",
    "# propertyType = data.propertyType.apply(lambda x: x if type(x)!=str else x.replace(' ', '').replace('-', ''))\n",
    "# propertyType = propertyType.apply(lambda x: x if type(x)!=str else x.replace('singlefamilyhome', 'singlefamily'))\n",
    "\n",
    "# display(propertyType.value_counts(dropna=False))\n",
    "# Имеем 1280 описаний типа недвижимости. Надо разбить на разумное число категорий."
   ]
  },
  {
   "cell_type": "code",
   "execution_count": 168,
   "metadata": {},
   "outputs": [],
   "source": [
    "def parse_property_type(s):\n",
    "    s = str(s)\n",
    "    if 'SINGLE' in s or 'TRADITIONAL' in s: return 'SINGLE'\n",
    "    if 'CONDO' in s or 'FLAT' in s: return 'FLAT'\n",
    "    if 'TOWNH' in s: return 'TOWNHOUSE'\n",
    "    if 'COOP' in s or 'CO-OP' in s: return 'COOP'\n",
    "    if 'LAND' in s: return 'LAND'\n",
    "    if 'MULTI' in s: return 'MULTI'\n",
    "    if 'CONTEMPO' in s: return 'CONTEMPORARY'\n",
    "    if 'MOBI' in s or 'CARRI' in s: return 'MOBILE'\n",
    "    if 'TWO STOR' in s or '2 STOR' in s: return 'TWO-STORY'\n",
    "    if 'ONE STOR' in s or '1 STOR' in s: return 'ONE-STORY'\n",
    "    if 'STOR' in s in s: return 'MULTY-STORY'\n",
    "    if 'DETA' in s or 'DETA' in s: return 'DETACHED'\n",
    "    # if 'MID' in s or '5-9' in s  or '4' in s or '3' in s: return 'MID-RISE'\n",
    "    # if 'LOW' in s: return 'LOW-RISE'\n",
    "    # if 'HIGH' in s or 'UNIT' in s: return 'HIGH-RISE'\n",
    "    if 'RISE' in s or 'UNIT' in s or 'HIGH' in s: return 'FLAT'\n",
    "    if 'PENT' in s: return 'PENTHOUSE'\n",
    "    if 'RAN' in s: return 'RANCH'\n",
    "    if 'GARD' in s: return 'GARDEN HOME'\n",
    "    if 'CUST' in s or 'MANUF' in s or 'CRAFT' in s: return 'CUSTOM'\n",
    "    if 'ATTA' in s or 'PLEX' in s: return 'ATTACHED'\n",
    "    if 'FARM' in s: return 'FARM'\n",
    "    if 'LEVEL' in s: return 'SPLIT-LEVEL'\n",
    "    if 'OTHER' in s: return 'OTHER'\n",
    "    if 'COLO' in s: return 'COLONIAL'\n",
    "    if 'WARE' in s or 'COM' in s: return 'COMMERCICAL'\n",
    "    if 'COTT' in s or 'RESID' in s or 'COURT' in s: return 'COTTAGE'\n",
    "    if 'BOAT' in s: return 'BOATHOUSE'\n",
    "\n",
    "    if s == 'nan' or s == '': \n",
    "        return 'SINGLE'\n",
    "\n",
    "    else:\n",
    "         return 'OTHER'"
   ]
  },
  {
   "cell_type": "code",
   "execution_count": 169,
   "metadata": {},
   "outputs": [
    {
     "data": {
      "text/plain": [
       "SINGLE          232829\n",
       "FLAT             53010\n",
       "LAND             31494\n",
       "TOWNHOUSE        18528\n",
       "MULTI            12365\n",
       "OTHER             4420\n",
       "ONE-STORY         4009\n",
       "COOP              3840\n",
       "MOBILE            3521\n",
       "RANCH             3475\n",
       "CONTEMPORARY      3383\n",
       "TWO-STORY         2505\n",
       "COLONIAL          1257\n",
       "CUSTOM             477\n",
       "GARDEN HOME        358\n",
       "SPLIT-LEVEL        345\n",
       "MULTY-STORY        230\n",
       "COTTAGE            199\n",
       "ATTACHED           179\n",
       "DETACHED           157\n",
       "PENTHOUSE           79\n",
       "FARM                78\n",
       "COMMERCICAL         19\n",
       "BOATHOUSE            4\n",
       "Name: propertyType, dtype: int64"
      ]
     },
     "metadata": {},
     "output_type": "display_data"
    }
   ],
   "source": [
    "data.propertyType = data.propertyType = data.propertyType.map(parse_property_type).astype('category')\n",
    "display(data.propertyType.value_counts(dropna=False))\n",
    "\n",
    "# data.propertyType.hist(figsize=(15,5), log=False, bins=200, xrot=90, orientation=\"vertical\");\n",
    "# plt.tight_layout()"
   ]
  },
  {
   "cell_type": "code",
   "execution_count": 170,
   "metadata": {},
   "outputs": [
    {
     "data": {
      "text/plain": [
       "SINGLE          232829\n",
       "FLAT             53010\n",
       "LAND             31494\n",
       "TOWNHOUSE        18528\n",
       "MULTI            12365\n",
       "OTHER             4420\n",
       "ONE-STORY         4009\n",
       "COOP              3840\n",
       "MOBILE            3521\n",
       "RANCH             3475\n",
       "CONTEMPORARY      3383\n",
       "TWO-STORY         2505\n",
       "COLONIAL          1257\n",
       "CUSTOM             477\n",
       "GARDEN HOME        358\n",
       "SPLIT-LEVEL        345\n",
       "MULTY-STORY        230\n",
       "COTTAGE            199\n",
       "ATTACHED           179\n",
       "DETACHED           157\n",
       "PENTHOUSE           79\n",
       "BOATHOUSE            0\n",
       "FARM                 0\n",
       "COMMERCICAL          0\n",
       "Name: propertyType, dtype: int64"
      ]
     },
     "metadata": {},
     "output_type": "display_data"
    }
   ],
   "source": [
    "#mask = (data.propertyType != 'FARM') #and (data.propertyType != 'COMMERCICAL') and (data.propertyType != 'BOATHOUSE')\n",
    "mask = ~data.propertyType.isin(['FARM', 'COMMERCICAL', 'BOATHOUSE'])\n",
    "data = data[mask]\n",
    "display(data.propertyType.value_counts(dropna=False))\n",
    "# propertyType.propertyType[~mask]"
   ]
  },
  {
   "cell_type": "markdown",
   "metadata": {},
   "source": [
    "### Column \"street\""
   ]
  },
  {
   "cell_type": "code",
   "execution_count": 171,
   "metadata": {},
   "outputs": [
    {
     "name": "stdout",
     "output_type": "stream",
     "text": [
      "Пропуски: 2\n",
      "Уникальных: 336646\n"
     ]
    },
    {
     "data": {
      "text/plain": [
       "ADDRESS NOT DISCLOSED    672\n",
       "UNDISCLOSED ADDRESS      516\n",
       "(UNDISCLOSED ADDRESS)    391\n",
       "ADDRESS NOT AVAILABLE    175\n",
       "UNKNOWN ADDRESS           72\n",
       "                        ... \n",
       "2664 ROSEBUD LN            1\n",
       "8246 SHARONDALE DR         1\n",
       "3739 NE 165TH ST           1\n",
       "6101 SW 106TH ST           1\n",
       "5983 MIDCROWN DR           1\n",
       "Name: street, Length: 335837, dtype: int64"
      ]
     },
     "metadata": {},
     "output_type": "display_data"
    }
   ],
   "source": [
    "print('Пропуски:', data.street.isna().sum())\n",
    "print('Уникальных:', data.street.nunique())\n",
    "data.street = data.street.str.upper()\n",
    "display(data.street.value_counts(dropna=False))"
   ]
  },
  {
   "cell_type": "markdown",
   "metadata": {},
   "source": [
    "Более 336 тысяч уникальных адресов. \n",
    "Возможно можно было бы извлечь из адресов геолокацию, для определения новых признаков таких как район, центр и тд. и посчитать для них среднюю или медианную цену. Но пока времени на это нет, если останется то попробую.\n",
    "\n",
    "Почти в каждом адресе есть аббревиатуры типа улицы, например 'BLVD' -бульвар, 'ROAD' - дорога и т.п. а также номер дома.\n",
    "\n",
    "Попробую из столбца 'street' сделать категориальный признак с типом улицы.   "
   ]
  },
  {
   "cell_type": "code",
   "execution_count": 172,
   "metadata": {},
   "outputs": [],
   "source": [
    "def parse_street(s):\n",
    "    s = str(s)\n",
    "    if 'ADDRESS' in s: return 'NO_ADDRESS'\n",
    "    elif 'BLVD' in s or 'BOULEVARD' in s: return 'BOULEVARD'\n",
    "    elif 'WAY' in s: return 'HWAY'\n",
    "    elif 'CIR' in s: return 'CIRCLE'\n",
    "    elif 'CT' in s or 'COURT' in s: return 'COURT'\n",
    "    elif 'DR' in s or 'DRIVE' in s: return 'DRIVE'\n",
    "    elif 'RD' in s or 'ROAD' in s: return 'ROAD'\n",
    "    elif 'AVE' in s: return 'AVENUE'\n",
    "    elif 'ST' in s or 'STREET' in s: return 'STREET'\n",
    "    elif 'PL' in s: return 'PLACE'\n",
    "    elif 'LANE' in s: return 'LANE'\n",
    "    elif 'TR' in s or 'TRL' in s or 'TRAIL' in s: return 'TRAIL'\n",
    "    elif 'PARK' in s: return 'PARK'\n",
    "    else: return 'OTHER'"
   ]
  },
  {
   "cell_type": "code",
   "execution_count": 173,
   "metadata": {},
   "outputs": [
    {
     "data": {
      "text/plain": [
       "STREET        86010\n",
       "DRIVE         65544\n",
       "AVENUE        60611\n",
       "OTHER         43779\n",
       "ROAD          43198\n",
       "COURT         19993\n",
       "PLACE         15291\n",
       "BOULEVARD     13616\n",
       "HWAY          12537\n",
       "CIRCLE         8821\n",
       "TRAIL          4342\n",
       "NO_ADDRESS     1834\n",
       "PARK            745\n",
       "LANE            339\n",
       "Name: street_type, dtype: int64"
      ]
     },
     "metadata": {},
     "output_type": "display_data"
    },
    {
     "data": {
      "image/svg+xml": "<?xml version=\"1.0\" encoding=\"utf-8\" standalone=\"no\"?>\r\n<!DOCTYPE svg PUBLIC \"-//W3C//DTD SVG 1.1//EN\"\r\n  \"http://www.w3.org/Graphics/SVG/1.1/DTD/svg11.dtd\">\r\n<svg height=\"344.015937pt\" version=\"1.1\" viewBox=\"0 0 848.8225 344.015937\" width=\"848.8225pt\" xmlns=\"http://www.w3.org/2000/svg\" xmlns:xlink=\"http://www.w3.org/1999/xlink\">\r\n <metadata>\r\n  <rdf:RDF xmlns:cc=\"http://creativecommons.org/ns#\" xmlns:dc=\"http://purl.org/dc/elements/1.1/\" xmlns:rdf=\"http://www.w3.org/1999/02/22-rdf-syntax-ns#\">\r\n   <cc:Work>\r\n    <dc:type rdf:resource=\"http://purl.org/dc/dcmitype/StillImage\"/>\r\n    <dc:date>2022-04-06T20:30:26.562063</dc:date>\r\n    <dc:format>image/svg+xml</dc:format>\r\n    <dc:creator>\r\n     <cc:Agent>\r\n      <dc:title>Matplotlib v3.4.3, https://matplotlib.org/</dc:title>\r\n     </cc:Agent>\r\n    </dc:creator>\r\n   </cc:Work>\r\n  </rdf:RDF>\r\n </metadata>\r\n <defs>\r\n  <style type=\"text/css\">*{stroke-linecap:butt;stroke-linejoin:round;}</style>\r\n </defs>\r\n <g id=\"figure_1\">\r\n  <g id=\"patch_1\">\r\n   <path d=\"M 0 344.015937 \r\nL 848.8225 344.015937 \r\nL 848.8225 0 \r\nL 0 0 \r\nz\r\n\" style=\"fill:#f0f0f0;\"/>\r\n  </g>\r\n  <g id=\"axes_1\">\r\n   <g id=\"patch_2\">\r\n    <path d=\"M 55.2375 237.335 \r\nL 841.6225 237.335 \r\nL 841.6225 7.2 \r\nL 55.2375 7.2 \r\nz\r\n\" style=\"fill:#f0f0f0;\"/>\r\n   </g>\r\n   <g id=\"matplotlib.axis_1\">\r\n    <g id=\"xtick_1\">\r\n     <g id=\"line2d_1\">\r\n      <path clip-path=\"url(#pe36a231674)\" d=\"M 90.982273 237.335 \r\nL 90.982273 7.2 \r\n\" style=\"fill:none;stroke:#cbcbcb;\"/>\r\n     </g>\r\n     <g id=\"line2d_2\"/>\r\n     <g id=\"text_1\">\r\n      <!-- OTHER -->\r\n      <g transform=\"translate(94.845398 289.509062)rotate(-90)scale(0.14 -0.14)\">\r\n       <defs>\r\n        <path d=\"M 2522 4238 \r\nQ 1834 4238 1429 3725 \r\nQ 1025 3213 1025 2328 \r\nQ 1025 1447 1429 934 \r\nQ 1834 422 2522 422 \r\nQ 3209 422 3611 934 \r\nQ 4013 1447 4013 2328 \r\nQ 4013 3213 3611 3725 \r\nQ 3209 4238 2522 4238 \r\nz\r\nM 2522 4750 \r\nQ 3503 4750 4090 4092 \r\nQ 4678 3434 4678 2328 \r\nQ 4678 1225 4090 567 \r\nQ 3503 -91 2522 -91 \r\nQ 1538 -91 948 565 \r\nQ 359 1222 359 2328 \r\nQ 359 3434 948 4092 \r\nQ 1538 4750 2522 4750 \r\nz\r\n\" id=\"DejaVuSans-4f\" transform=\"scale(0.015625)\"/>\r\n        <path d=\"M -19 4666 \r\nL 3928 4666 \r\nL 3928 4134 \r\nL 2272 4134 \r\nL 2272 0 \r\nL 1638 0 \r\nL 1638 4134 \r\nL -19 4134 \r\nL -19 4666 \r\nz\r\n\" id=\"DejaVuSans-54\" transform=\"scale(0.015625)\"/>\r\n        <path d=\"M 628 4666 \r\nL 1259 4666 \r\nL 1259 2753 \r\nL 3553 2753 \r\nL 3553 4666 \r\nL 4184 4666 \r\nL 4184 0 \r\nL 3553 0 \r\nL 3553 2222 \r\nL 1259 2222 \r\nL 1259 0 \r\nL 628 0 \r\nL 628 4666 \r\nz\r\n\" id=\"DejaVuSans-48\" transform=\"scale(0.015625)\"/>\r\n        <path d=\"M 628 4666 \r\nL 3578 4666 \r\nL 3578 4134 \r\nL 1259 4134 \r\nL 1259 2753 \r\nL 3481 2753 \r\nL 3481 2222 \r\nL 1259 2222 \r\nL 1259 531 \r\nL 3634 531 \r\nL 3634 0 \r\nL 628 0 \r\nL 628 4666 \r\nz\r\n\" id=\"DejaVuSans-45\" transform=\"scale(0.015625)\"/>\r\n        <path d=\"M 2841 2188 \r\nQ 3044 2119 3236 1894 \r\nQ 3428 1669 3622 1275 \r\nL 4263 0 \r\nL 3584 0 \r\nL 2988 1197 \r\nQ 2756 1666 2539 1819 \r\nQ 2322 1972 1947 1972 \r\nL 1259 1972 \r\nL 1259 0 \r\nL 628 0 \r\nL 628 4666 \r\nL 2053 4666 \r\nQ 2853 4666 3247 4331 \r\nQ 3641 3997 3641 3322 \r\nQ 3641 2881 3436 2590 \r\nQ 3231 2300 2841 2188 \r\nz\r\nM 1259 4147 \r\nL 1259 2491 \r\nL 2053 2491 \r\nQ 2509 2491 2742 2702 \r\nQ 2975 2913 2975 3322 \r\nQ 2975 3731 2742 3939 \r\nQ 2509 4147 2053 4147 \r\nL 1259 4147 \r\nz\r\n\" id=\"DejaVuSans-52\" transform=\"scale(0.015625)\"/>\r\n       </defs>\r\n       <use xlink:href=\"#DejaVuSans-4f\"/>\r\n       <use x=\"78.710938\" xlink:href=\"#DejaVuSans-54\"/>\r\n       <use x=\"139.794922\" xlink:href=\"#DejaVuSans-48\"/>\r\n       <use x=\"214.990234\" xlink:href=\"#DejaVuSans-45\"/>\r\n       <use x=\"278.173828\" xlink:href=\"#DejaVuSans-52\"/>\r\n      </g>\r\n     </g>\r\n    </g>\r\n    <g id=\"xtick_2\">\r\n     <g id=\"line2d_3\">\r\n      <path clip-path=\"url(#pe36a231674)\" d=\"M 145.974231 237.335 \r\nL 145.974231 7.2 \r\n\" style=\"fill:none;stroke:#cbcbcb;\"/>\r\n     </g>\r\n     <g id=\"line2d_4\"/>\r\n     <g id=\"text_2\">\r\n      <!-- AVENUE -->\r\n      <g transform=\"translate(149.837356 297.50875)rotate(-90)scale(0.14 -0.14)\">\r\n       <defs>\r\n        <path d=\"M 2188 4044 \r\nL 1331 1722 \r\nL 3047 1722 \r\nL 2188 4044 \r\nz\r\nM 1831 4666 \r\nL 2547 4666 \r\nL 4325 0 \r\nL 3669 0 \r\nL 3244 1197 \r\nL 1141 1197 \r\nL 716 0 \r\nL 50 0 \r\nL 1831 4666 \r\nz\r\n\" id=\"DejaVuSans-41\" transform=\"scale(0.015625)\"/>\r\n        <path d=\"M 1831 0 \r\nL 50 4666 \r\nL 709 4666 \r\nL 2188 738 \r\nL 3669 4666 \r\nL 4325 4666 \r\nL 2547 0 \r\nL 1831 0 \r\nz\r\n\" id=\"DejaVuSans-56\" transform=\"scale(0.015625)\"/>\r\n        <path d=\"M 628 4666 \r\nL 1478 4666 \r\nL 3547 763 \r\nL 3547 4666 \r\nL 4159 4666 \r\nL 4159 0 \r\nL 3309 0 \r\nL 1241 3903 \r\nL 1241 0 \r\nL 628 0 \r\nL 628 4666 \r\nz\r\n\" id=\"DejaVuSans-4e\" transform=\"scale(0.015625)\"/>\r\n        <path d=\"M 556 4666 \r\nL 1191 4666 \r\nL 1191 1831 \r\nQ 1191 1081 1462 751 \r\nQ 1734 422 2344 422 \r\nQ 2950 422 3222 751 \r\nQ 3494 1081 3494 1831 \r\nL 3494 4666 \r\nL 4128 4666 \r\nL 4128 1753 \r\nQ 4128 841 3676 375 \r\nQ 3225 -91 2344 -91 \r\nQ 1459 -91 1007 375 \r\nQ 556 841 556 1753 \r\nL 556 4666 \r\nz\r\n\" id=\"DejaVuSans-55\" transform=\"scale(0.015625)\"/>\r\n       </defs>\r\n       <use xlink:href=\"#DejaVuSans-41\"/>\r\n       <use x=\"62.033203\" xlink:href=\"#DejaVuSans-56\"/>\r\n       <use x=\"130.441406\" xlink:href=\"#DejaVuSans-45\"/>\r\n       <use x=\"193.625\" xlink:href=\"#DejaVuSans-4e\"/>\r\n       <use x=\"268.429688\" xlink:href=\"#DejaVuSans-55\"/>\r\n       <use x=\"341.623047\" xlink:href=\"#DejaVuSans-45\"/>\r\n      </g>\r\n     </g>\r\n    </g>\r\n    <g id=\"xtick_3\">\r\n     <g id=\"line2d_5\">\r\n      <path clip-path=\"url(#pe36a231674)\" d=\"M 200.966189 237.335 \r\nL 200.966189 7.2 \r\n\" style=\"fill:none;stroke:#cbcbcb;\"/>\r\n     </g>\r\n     <g id=\"line2d_6\"/>\r\n     <g id=\"text_3\">\r\n      <!-- ROAD -->\r\n      <g transform=\"translate(204.829314 281.695312)rotate(-90)scale(0.14 -0.14)\">\r\n       <defs>\r\n        <path d=\"M 1259 4147 \r\nL 1259 519 \r\nL 2022 519 \r\nQ 2988 519 3436 956 \r\nQ 3884 1394 3884 2338 \r\nQ 3884 3275 3436 3711 \r\nQ 2988 4147 2022 4147 \r\nL 1259 4147 \r\nz\r\nM 628 4666 \r\nL 1925 4666 \r\nQ 3281 4666 3915 4102 \r\nQ 4550 3538 4550 2338 \r\nQ 4550 1131 3912 565 \r\nQ 3275 0 1925 0 \r\nL 628 0 \r\nL 628 4666 \r\nz\r\n\" id=\"DejaVuSans-44\" transform=\"scale(0.015625)\"/>\r\n       </defs>\r\n       <use xlink:href=\"#DejaVuSans-52\"/>\r\n       <use x=\"69.482422\" xlink:href=\"#DejaVuSans-4f\"/>\r\n       <use x=\"146.443359\" xlink:href=\"#DejaVuSans-41\"/>\r\n       <use x=\"214.851562\" xlink:href=\"#DejaVuSans-44\"/>\r\n      </g>\r\n     </g>\r\n    </g>\r\n    <g id=\"xtick_4\">\r\n     <g id=\"line2d_7\">\r\n      <path clip-path=\"url(#pe36a231674)\" d=\"M 255.958147 237.335 \r\nL 255.958147 7.2 \r\n\" style=\"fill:none;stroke:#cbcbcb;\"/>\r\n     </g>\r\n     <g id=\"line2d_8\"/>\r\n     <g id=\"text_4\">\r\n      <!-- STREET -->\r\n      <g transform=\"translate(259.821272 294.245)rotate(-90)scale(0.14 -0.14)\">\r\n       <defs>\r\n        <path d=\"M 3425 4513 \r\nL 3425 3897 \r\nQ 3066 4069 2747 4153 \r\nQ 2428 4238 2131 4238 \r\nQ 1616 4238 1336 4038 \r\nQ 1056 3838 1056 3469 \r\nQ 1056 3159 1242 3001 \r\nQ 1428 2844 1947 2747 \r\nL 2328 2669 \r\nQ 3034 2534 3370 2195 \r\nQ 3706 1856 3706 1288 \r\nQ 3706 609 3251 259 \r\nQ 2797 -91 1919 -91 \r\nQ 1588 -91 1214 -16 \r\nQ 841 59 441 206 \r\nL 441 856 \r\nQ 825 641 1194 531 \r\nQ 1563 422 1919 422 \r\nQ 2459 422 2753 634 \r\nQ 3047 847 3047 1241 \r\nQ 3047 1584 2836 1778 \r\nQ 2625 1972 2144 2069 \r\nL 1759 2144 \r\nQ 1053 2284 737 2584 \r\nQ 422 2884 422 3419 \r\nQ 422 4038 858 4394 \r\nQ 1294 4750 2059 4750 \r\nQ 2388 4750 2728 4690 \r\nQ 3069 4631 3425 4513 \r\nz\r\n\" id=\"DejaVuSans-53\" transform=\"scale(0.015625)\"/>\r\n       </defs>\r\n       <use xlink:href=\"#DejaVuSans-53\"/>\r\n       <use x=\"63.476562\" xlink:href=\"#DejaVuSans-54\"/>\r\n       <use x=\"124.560547\" xlink:href=\"#DejaVuSans-52\"/>\r\n       <use x=\"194.042969\" xlink:href=\"#DejaVuSans-45\"/>\r\n       <use x=\"257.226562\" xlink:href=\"#DejaVuSans-45\"/>\r\n       <use x=\"320.410156\" xlink:href=\"#DejaVuSans-54\"/>\r\n      </g>\r\n     </g>\r\n    </g>\r\n    <g id=\"xtick_5\">\r\n     <g id=\"line2d_9\">\r\n      <path clip-path=\"url(#pe36a231674)\" d=\"M 310.950105 237.335 \r\nL 310.950105 7.2 \r\n\" style=\"fill:none;stroke:#cbcbcb;\"/>\r\n     </g>\r\n     <g id=\"line2d_10\"/>\r\n     <g id=\"text_5\">\r\n      <!-- COURT -->\r\n      <g transform=\"translate(314.81323 289.141562)rotate(-90)scale(0.14 -0.14)\">\r\n       <defs>\r\n        <path d=\"M 4122 4306 \r\nL 4122 3641 \r\nQ 3803 3938 3442 4084 \r\nQ 3081 4231 2675 4231 \r\nQ 1875 4231 1450 3742 \r\nQ 1025 3253 1025 2328 \r\nQ 1025 1406 1450 917 \r\nQ 1875 428 2675 428 \r\nQ 3081 428 3442 575 \r\nQ 3803 722 4122 1019 \r\nL 4122 359 \r\nQ 3791 134 3420 21 \r\nQ 3050 -91 2638 -91 \r\nQ 1578 -91 968 557 \r\nQ 359 1206 359 2328 \r\nQ 359 3453 968 4101 \r\nQ 1578 4750 2638 4750 \r\nQ 3056 4750 3426 4639 \r\nQ 3797 4528 4122 4306 \r\nz\r\n\" id=\"DejaVuSans-43\" transform=\"scale(0.015625)\"/>\r\n       </defs>\r\n       <use xlink:href=\"#DejaVuSans-43\"/>\r\n       <use x=\"69.824219\" xlink:href=\"#DejaVuSans-4f\"/>\r\n       <use x=\"148.535156\" xlink:href=\"#DejaVuSans-55\"/>\r\n       <use x=\"221.728516\" xlink:href=\"#DejaVuSans-52\"/>\r\n       <use x=\"283.960938\" xlink:href=\"#DejaVuSans-54\"/>\r\n      </g>\r\n     </g>\r\n    </g>\r\n    <g id=\"xtick_6\">\r\n     <g id=\"line2d_11\">\r\n      <path clip-path=\"url(#pe36a231674)\" d=\"M 365.942063 237.335 \r\nL 365.942063 7.2 \r\n\" style=\"fill:none;stroke:#cbcbcb;\"/>\r\n     </g>\r\n     <g id=\"line2d_12\"/>\r\n     <g id=\"text_6\">\r\n      <!-- DRIVE -->\r\n      <g transform=\"translate(369.805188 283.895937)rotate(-90)scale(0.14 -0.14)\">\r\n       <defs>\r\n        <path d=\"M 628 4666 \r\nL 1259 4666 \r\nL 1259 0 \r\nL 628 0 \r\nL 628 4666 \r\nz\r\n\" id=\"DejaVuSans-49\" transform=\"scale(0.015625)\"/>\r\n       </defs>\r\n       <use xlink:href=\"#DejaVuSans-44\"/>\r\n       <use x=\"77.001953\" xlink:href=\"#DejaVuSans-52\"/>\r\n       <use x=\"146.484375\" xlink:href=\"#DejaVuSans-49\"/>\r\n       <use x=\"175.976562\" xlink:href=\"#DejaVuSans-56\"/>\r\n       <use x=\"244.384766\" xlink:href=\"#DejaVuSans-45\"/>\r\n      </g>\r\n     </g>\r\n    </g>\r\n    <g id=\"xtick_7\">\r\n     <g id=\"line2d_13\">\r\n      <path clip-path=\"url(#pe36a231674)\" d=\"M 420.934021 237.335 \r\nL 420.934021 7.2 \r\n\" style=\"fill:none;stroke:#cbcbcb;\"/>\r\n     </g>\r\n     <g id=\"line2d_14\"/>\r\n     <g id=\"text_7\">\r\n      <!-- PLACE -->\r\n      <g transform=\"translate(424.797146 285.34625)rotate(-90)scale(0.14 -0.14)\">\r\n       <defs>\r\n        <path d=\"M 1259 4147 \r\nL 1259 2394 \r\nL 2053 2394 \r\nQ 2494 2394 2734 2622 \r\nQ 2975 2850 2975 3272 \r\nQ 2975 3691 2734 3919 \r\nQ 2494 4147 2053 4147 \r\nL 1259 4147 \r\nz\r\nM 628 4666 \r\nL 2053 4666 \r\nQ 2838 4666 3239 4311 \r\nQ 3641 3956 3641 3272 \r\nQ 3641 2581 3239 2228 \r\nQ 2838 1875 2053 1875 \r\nL 1259 1875 \r\nL 1259 0 \r\nL 628 0 \r\nL 628 4666 \r\nz\r\n\" id=\"DejaVuSans-50\" transform=\"scale(0.015625)\"/>\r\n        <path d=\"M 628 4666 \r\nL 1259 4666 \r\nL 1259 531 \r\nL 3531 531 \r\nL 3531 0 \r\nL 628 0 \r\nL 628 4666 \r\nz\r\n\" id=\"DejaVuSans-4c\" transform=\"scale(0.015625)\"/>\r\n       </defs>\r\n       <use xlink:href=\"#DejaVuSans-50\"/>\r\n       <use x=\"60.302734\" xlink:href=\"#DejaVuSans-4c\"/>\r\n       <use x=\"118.265625\" xlink:href=\"#DejaVuSans-41\"/>\r\n       <use x=\"184.923828\" xlink:href=\"#DejaVuSans-43\"/>\r\n       <use x=\"254.748047\" xlink:href=\"#DejaVuSans-45\"/>\r\n      </g>\r\n     </g>\r\n    </g>\r\n    <g id=\"xtick_8\">\r\n     <g id=\"line2d_15\">\r\n      <path clip-path=\"url(#pe36a231674)\" d=\"M 475.925979 237.335 \r\nL 475.925979 7.2 \r\n\" style=\"fill:none;stroke:#cbcbcb;\"/>\r\n     </g>\r\n     <g id=\"line2d_16\"/>\r\n     <g id=\"text_8\">\r\n      <!-- CIRCLE -->\r\n      <g transform=\"translate(479.789104 290.191562)rotate(-90)scale(0.14 -0.14)\">\r\n       <use xlink:href=\"#DejaVuSans-43\"/>\r\n       <use x=\"69.824219\" xlink:href=\"#DejaVuSans-49\"/>\r\n       <use x=\"99.316406\" xlink:href=\"#DejaVuSans-52\"/>\r\n       <use x=\"163.798828\" xlink:href=\"#DejaVuSans-43\"/>\r\n       <use x=\"233.623047\" xlink:href=\"#DejaVuSans-4c\"/>\r\n       <use x=\"289.335938\" xlink:href=\"#DejaVuSans-45\"/>\r\n      </g>\r\n     </g>\r\n    </g>\r\n    <g id=\"xtick_9\">\r\n     <g id=\"line2d_17\">\r\n      <path clip-path=\"url(#pe36a231674)\" d=\"M 530.917937 237.335 \r\nL 530.917937 7.2 \r\n\" style=\"fill:none;stroke:#cbcbcb;\"/>\r\n     </g>\r\n     <g id=\"line2d_18\"/>\r\n     <g id=\"text_9\">\r\n      <!-- BOULEVARD -->\r\n      <g transform=\"translate(534.781062 326.878125)rotate(-90)scale(0.14 -0.14)\">\r\n       <defs>\r\n        <path d=\"M 1259 2228 \r\nL 1259 519 \r\nL 2272 519 \r\nQ 2781 519 3026 730 \r\nQ 3272 941 3272 1375 \r\nQ 3272 1813 3026 2020 \r\nQ 2781 2228 2272 2228 \r\nL 1259 2228 \r\nz\r\nM 1259 4147 \r\nL 1259 2741 \r\nL 2194 2741 \r\nQ 2656 2741 2882 2914 \r\nQ 3109 3088 3109 3444 \r\nQ 3109 3797 2882 3972 \r\nQ 2656 4147 2194 4147 \r\nL 1259 4147 \r\nz\r\nM 628 4666 \r\nL 2241 4666 \r\nQ 2963 4666 3353 4366 \r\nQ 3744 4066 3744 3513 \r\nQ 3744 3084 3544 2831 \r\nQ 3344 2578 2956 2516 \r\nQ 3422 2416 3680 2098 \r\nQ 3938 1781 3938 1306 \r\nQ 3938 681 3513 340 \r\nQ 3088 0 2303 0 \r\nL 628 0 \r\nL 628 4666 \r\nz\r\n\" id=\"DejaVuSans-42\" transform=\"scale(0.015625)\"/>\r\n       </defs>\r\n       <use xlink:href=\"#DejaVuSans-42\"/>\r\n       <use x=\"66.853516\" xlink:href=\"#DejaVuSans-4f\"/>\r\n       <use x=\"145.564453\" xlink:href=\"#DejaVuSans-55\"/>\r\n       <use x=\"218.757812\" xlink:href=\"#DejaVuSans-4c\"/>\r\n       <use x=\"274.470703\" xlink:href=\"#DejaVuSans-45\"/>\r\n       <use x=\"337.654297\" xlink:href=\"#DejaVuSans-56\"/>\r\n       <use x=\"399.6875\" xlink:href=\"#DejaVuSans-41\"/>\r\n       <use x=\"468.095703\" xlink:href=\"#DejaVuSans-52\"/>\r\n       <use x=\"537.578125\" xlink:href=\"#DejaVuSans-44\"/>\r\n      </g>\r\n     </g>\r\n    </g>\r\n    <g id=\"xtick_10\">\r\n     <g id=\"line2d_19\">\r\n      <path clip-path=\"url(#pe36a231674)\" d=\"M 585.909895 237.335 \r\nL 585.909895 7.2 \r\n\" style=\"fill:none;stroke:#cbcbcb;\"/>\r\n     </g>\r\n     <g id=\"line2d_20\"/>\r\n     <g id=\"text_10\">\r\n      <!-- HWAY -->\r\n      <g transform=\"translate(589.77302 281.47875)rotate(-90)scale(0.14 -0.14)\">\r\n       <defs>\r\n        <path d=\"M 213 4666 \r\nL 850 4666 \r\nL 1831 722 \r\nL 2809 4666 \r\nL 3519 4666 \r\nL 4500 722 \r\nL 5478 4666 \r\nL 6119 4666 \r\nL 4947 0 \r\nL 4153 0 \r\nL 3169 4050 \r\nL 2175 0 \r\nL 1381 0 \r\nL 213 4666 \r\nz\r\n\" id=\"DejaVuSans-57\" transform=\"scale(0.015625)\"/>\r\n        <path d=\"M -13 4666 \r\nL 666 4666 \r\nL 1959 2747 \r\nL 3244 4666 \r\nL 3922 4666 \r\nL 2272 2222 \r\nL 2272 0 \r\nL 1638 0 \r\nL 1638 2222 \r\nL -13 4666 \r\nz\r\n\" id=\"DejaVuSans-59\" transform=\"scale(0.015625)\"/>\r\n       </defs>\r\n       <use xlink:href=\"#DejaVuSans-48\"/>\r\n       <use x=\"75.195312\" xlink:href=\"#DejaVuSans-57\"/>\r\n       <use x=\"168.572266\" xlink:href=\"#DejaVuSans-41\"/>\r\n       <use x=\"229.230469\" xlink:href=\"#DejaVuSans-59\"/>\r\n      </g>\r\n     </g>\r\n    </g>\r\n    <g id=\"xtick_11\">\r\n     <g id=\"line2d_21\">\r\n      <path clip-path=\"url(#pe36a231674)\" d=\"M 640.901853 237.335 \r\nL 640.901853 7.2 \r\n\" style=\"fill:none;stroke:#cbcbcb;\"/>\r\n     </g>\r\n     <g id=\"line2d_22\"/>\r\n     <g id=\"text_11\">\r\n      <!-- LANE -->\r\n      <g transform=\"translate(644.764978 277.8475)rotate(-90)scale(0.14 -0.14)\">\r\n       <use xlink:href=\"#DejaVuSans-4c\"/>\r\n       <use x=\"57.962891\" xlink:href=\"#DejaVuSans-41\"/>\r\n       <use x=\"126.371094\" xlink:href=\"#DejaVuSans-4e\"/>\r\n       <use x=\"201.175781\" xlink:href=\"#DejaVuSans-45\"/>\r\n      </g>\r\n     </g>\r\n    </g>\r\n    <g id=\"xtick_12\">\r\n     <g id=\"line2d_23\">\r\n      <path clip-path=\"url(#pe36a231674)\" d=\"M 695.893811 237.335 \r\nL 695.893811 7.2 \r\n\" style=\"fill:none;stroke:#cbcbcb;\"/>\r\n     </g>\r\n     <g id=\"line2d_24\"/>\r\n     <g id=\"text_12\">\r\n      <!-- TRAIL -->\r\n      <g transform=\"translate(699.756936 280.06125)rotate(-90)scale(0.14 -0.14)\">\r\n       <use xlink:href=\"#DejaVuSans-54\"/>\r\n       <use x=\"61.083984\" xlink:href=\"#DejaVuSans-52\"/>\r\n       <use x=\"126.566406\" xlink:href=\"#DejaVuSans-41\"/>\r\n       <use x=\"194.974609\" xlink:href=\"#DejaVuSans-49\"/>\r\n       <use x=\"224.466797\" xlink:href=\"#DejaVuSans-4c\"/>\r\n      </g>\r\n     </g>\r\n    </g>\r\n    <g id=\"xtick_13\">\r\n     <g id=\"line2d_25\">\r\n      <path clip-path=\"url(#pe36a231674)\" d=\"M 750.885769 237.335 \r\nL 750.885769 7.2 \r\n\" style=\"fill:none;stroke:#cbcbcb;\"/>\r\n     </g>\r\n     <g id=\"line2d_26\"/>\r\n     <g id=\"text_13\">\r\n      <!-- PARK -->\r\n      <g transform=\"translate(754.748894 276.869687)rotate(-90)scale(0.14 -0.14)\">\r\n       <defs>\r\n        <path d=\"M 628 4666 \r\nL 1259 4666 \r\nL 1259 2694 \r\nL 3353 4666 \r\nL 4166 4666 \r\nL 1850 2491 \r\nL 4331 0 \r\nL 3500 0 \r\nL 1259 2247 \r\nL 1259 0 \r\nL 628 0 \r\nL 628 4666 \r\nz\r\n\" id=\"DejaVuSans-4b\" transform=\"scale(0.015625)\"/>\r\n       </defs>\r\n       <use xlink:href=\"#DejaVuSans-50\"/>\r\n       <use x=\"53.927734\" xlink:href=\"#DejaVuSans-41\"/>\r\n       <use x=\"122.335938\" xlink:href=\"#DejaVuSans-52\"/>\r\n       <use x=\"191.818359\" xlink:href=\"#DejaVuSans-4b\"/>\r\n      </g>\r\n     </g>\r\n    </g>\r\n    <g id=\"xtick_14\">\r\n     <g id=\"line2d_27\">\r\n      <path clip-path=\"url(#pe36a231674)\" d=\"M 805.877727 237.335 \r\nL 805.877727 7.2 \r\n\" style=\"fill:none;stroke:#cbcbcb;\"/>\r\n     </g>\r\n     <g id=\"line2d_28\"/>\r\n     <g id=\"text_14\">\r\n      <!-- NO_ADDRESS -->\r\n      <g transform=\"translate(809.422571 336.815937)rotate(-90)scale(0.14 -0.14)\">\r\n       <defs>\r\n        <path d=\"M 3263 -1063 \r\nL 3263 -1509 \r\nL -63 -1509 \r\nL -63 -1063 \r\nL 3263 -1063 \r\nz\r\n\" id=\"DejaVuSans-5f\" transform=\"scale(0.015625)\"/>\r\n       </defs>\r\n       <use xlink:href=\"#DejaVuSans-4e\"/>\r\n       <use x=\"74.804688\" xlink:href=\"#DejaVuSans-4f\"/>\r\n       <use x=\"153.515625\" xlink:href=\"#DejaVuSans-5f\"/>\r\n       <use x=\"203.515625\" xlink:href=\"#DejaVuSans-41\"/>\r\n       <use x=\"271.923828\" xlink:href=\"#DejaVuSans-44\"/>\r\n       <use x=\"348.925781\" xlink:href=\"#DejaVuSans-44\"/>\r\n       <use x=\"425.927734\" xlink:href=\"#DejaVuSans-52\"/>\r\n       <use x=\"495.410156\" xlink:href=\"#DejaVuSans-45\"/>\r\n       <use x=\"558.59375\" xlink:href=\"#DejaVuSans-53\"/>\r\n       <use x=\"622.070312\" xlink:href=\"#DejaVuSans-53\"/>\r\n      </g>\r\n     </g>\r\n    </g>\r\n   </g>\r\n   <g id=\"matplotlib.axis_2\">\r\n    <g id=\"ytick_1\">\r\n     <g id=\"line2d_29\">\r\n      <path clip-path=\"url(#pe36a231674)\" d=\"M 55.2375 237.335 \r\nL 841.6225 237.335 \r\n\" style=\"fill:none;stroke:#cbcbcb;\"/>\r\n     </g>\r\n     <g id=\"line2d_30\"/>\r\n     <g id=\"text_15\">\r\n      <!-- 0 -->\r\n      <g transform=\"translate(42.83 242.653906)scale(0.14 -0.14)\">\r\n       <defs>\r\n        <path d=\"M 2034 4250 \r\nQ 1547 4250 1301 3770 \r\nQ 1056 3291 1056 2328 \r\nQ 1056 1369 1301 889 \r\nQ 1547 409 2034 409 \r\nQ 2525 409 2770 889 \r\nQ 3016 1369 3016 2328 \r\nQ 3016 3291 2770 3770 \r\nQ 2525 4250 2034 4250 \r\nz\r\nM 2034 4750 \r\nQ 2819 4750 3233 4129 \r\nQ 3647 3509 3647 2328 \r\nQ 3647 1150 3233 529 \r\nQ 2819 -91 2034 -91 \r\nQ 1250 -91 836 529 \r\nQ 422 1150 422 2328 \r\nQ 422 3509 836 4129 \r\nQ 1250 4750 2034 4750 \r\nz\r\n\" id=\"DejaVuSans-30\" transform=\"scale(0.015625)\"/>\r\n       </defs>\r\n       <use xlink:href=\"#DejaVuSans-30\"/>\r\n      </g>\r\n     </g>\r\n    </g>\r\n    <g id=\"ytick_2\">\r\n     <g id=\"line2d_31\">\r\n      <path clip-path=\"url(#pe36a231674)\" d=\"M 55.2375 186.369719 \r\nL 841.6225 186.369719 \r\n\" style=\"fill:none;stroke:#cbcbcb;\"/>\r\n     </g>\r\n     <g id=\"line2d_32\"/>\r\n     <g id=\"text_16\">\r\n      <!-- 20000 -->\r\n      <g transform=\"translate(7.2 191.688625)scale(0.14 -0.14)\">\r\n       <defs>\r\n        <path d=\"M 1228 531 \r\nL 3431 531 \r\nL 3431 0 \r\nL 469 0 \r\nL 469 531 \r\nQ 828 903 1448 1529 \r\nQ 2069 2156 2228 2338 \r\nQ 2531 2678 2651 2914 \r\nQ 2772 3150 2772 3378 \r\nQ 2772 3750 2511 3984 \r\nQ 2250 4219 1831 4219 \r\nQ 1534 4219 1204 4116 \r\nQ 875 4013 500 3803 \r\nL 500 4441 \r\nQ 881 4594 1212 4672 \r\nQ 1544 4750 1819 4750 \r\nQ 2544 4750 2975 4387 \r\nQ 3406 4025 3406 3419 \r\nQ 3406 3131 3298 2873 \r\nQ 3191 2616 2906 2266 \r\nQ 2828 2175 2409 1742 \r\nQ 1991 1309 1228 531 \r\nz\r\n\" id=\"DejaVuSans-32\" transform=\"scale(0.015625)\"/>\r\n       </defs>\r\n       <use xlink:href=\"#DejaVuSans-32\"/>\r\n       <use x=\"63.623047\" xlink:href=\"#DejaVuSans-30\"/>\r\n       <use x=\"127.246094\" xlink:href=\"#DejaVuSans-30\"/>\r\n       <use x=\"190.869141\" xlink:href=\"#DejaVuSans-30\"/>\r\n       <use x=\"254.492188\" xlink:href=\"#DejaVuSans-30\"/>\r\n      </g>\r\n     </g>\r\n    </g>\r\n    <g id=\"ytick_3\">\r\n     <g id=\"line2d_33\">\r\n      <path clip-path=\"url(#pe36a231674)\" d=\"M 55.2375 135.404438 \r\nL 841.6225 135.404438 \r\n\" style=\"fill:none;stroke:#cbcbcb;\"/>\r\n     </g>\r\n     <g id=\"line2d_34\"/>\r\n     <g id=\"text_17\">\r\n      <!-- 40000 -->\r\n      <g transform=\"translate(7.2 140.723344)scale(0.14 -0.14)\">\r\n       <defs>\r\n        <path d=\"M 2419 4116 \r\nL 825 1625 \r\nL 2419 1625 \r\nL 2419 4116 \r\nz\r\nM 2253 4666 \r\nL 3047 4666 \r\nL 3047 1625 \r\nL 3713 1625 \r\nL 3713 1100 \r\nL 3047 1100 \r\nL 3047 0 \r\nL 2419 0 \r\nL 2419 1100 \r\nL 313 1100 \r\nL 313 1709 \r\nL 2253 4666 \r\nz\r\n\" id=\"DejaVuSans-34\" transform=\"scale(0.015625)\"/>\r\n       </defs>\r\n       <use xlink:href=\"#DejaVuSans-34\"/>\r\n       <use x=\"63.623047\" xlink:href=\"#DejaVuSans-30\"/>\r\n       <use x=\"127.246094\" xlink:href=\"#DejaVuSans-30\"/>\r\n       <use x=\"190.869141\" xlink:href=\"#DejaVuSans-30\"/>\r\n       <use x=\"254.492188\" xlink:href=\"#DejaVuSans-30\"/>\r\n      </g>\r\n     </g>\r\n    </g>\r\n    <g id=\"ytick_4\">\r\n     <g id=\"line2d_35\">\r\n      <path clip-path=\"url(#pe36a231674)\" d=\"M 55.2375 84.439157 \r\nL 841.6225 84.439157 \r\n\" style=\"fill:none;stroke:#cbcbcb;\"/>\r\n     </g>\r\n     <g id=\"line2d_36\"/>\r\n     <g id=\"text_18\">\r\n      <!-- 60000 -->\r\n      <g transform=\"translate(7.2 89.758064)scale(0.14 -0.14)\">\r\n       <defs>\r\n        <path d=\"M 2113 2584 \r\nQ 1688 2584 1439 2293 \r\nQ 1191 2003 1191 1497 \r\nQ 1191 994 1439 701 \r\nQ 1688 409 2113 409 \r\nQ 2538 409 2786 701 \r\nQ 3034 994 3034 1497 \r\nQ 3034 2003 2786 2293 \r\nQ 2538 2584 2113 2584 \r\nz\r\nM 3366 4563 \r\nL 3366 3988 \r\nQ 3128 4100 2886 4159 \r\nQ 2644 4219 2406 4219 \r\nQ 1781 4219 1451 3797 \r\nQ 1122 3375 1075 2522 \r\nQ 1259 2794 1537 2939 \r\nQ 1816 3084 2150 3084 \r\nQ 2853 3084 3261 2657 \r\nQ 3669 2231 3669 1497 \r\nQ 3669 778 3244 343 \r\nQ 2819 -91 2113 -91 \r\nQ 1303 -91 875 529 \r\nQ 447 1150 447 2328 \r\nQ 447 3434 972 4092 \r\nQ 1497 4750 2381 4750 \r\nQ 2619 4750 2861 4703 \r\nQ 3103 4656 3366 4563 \r\nz\r\n\" id=\"DejaVuSans-36\" transform=\"scale(0.015625)\"/>\r\n       </defs>\r\n       <use xlink:href=\"#DejaVuSans-36\"/>\r\n       <use x=\"63.623047\" xlink:href=\"#DejaVuSans-30\"/>\r\n       <use x=\"127.246094\" xlink:href=\"#DejaVuSans-30\"/>\r\n       <use x=\"190.869141\" xlink:href=\"#DejaVuSans-30\"/>\r\n       <use x=\"254.492188\" xlink:href=\"#DejaVuSans-30\"/>\r\n      </g>\r\n     </g>\r\n    </g>\r\n    <g id=\"ytick_5\">\r\n     <g id=\"line2d_37\">\r\n      <path clip-path=\"url(#pe36a231674)\" d=\"M 55.2375 33.473876 \r\nL 841.6225 33.473876 \r\n\" style=\"fill:none;stroke:#cbcbcb;\"/>\r\n     </g>\r\n     <g id=\"line2d_38\"/>\r\n     <g id=\"text_19\">\r\n      <!-- 80000 -->\r\n      <g transform=\"translate(7.2 38.792783)scale(0.14 -0.14)\">\r\n       <defs>\r\n        <path d=\"M 2034 2216 \r\nQ 1584 2216 1326 1975 \r\nQ 1069 1734 1069 1313 \r\nQ 1069 891 1326 650 \r\nQ 1584 409 2034 409 \r\nQ 2484 409 2743 651 \r\nQ 3003 894 3003 1313 \r\nQ 3003 1734 2745 1975 \r\nQ 2488 2216 2034 2216 \r\nz\r\nM 1403 2484 \r\nQ 997 2584 770 2862 \r\nQ 544 3141 544 3541 \r\nQ 544 4100 942 4425 \r\nQ 1341 4750 2034 4750 \r\nQ 2731 4750 3128 4425 \r\nQ 3525 4100 3525 3541 \r\nQ 3525 3141 3298 2862 \r\nQ 3072 2584 2669 2484 \r\nQ 3125 2378 3379 2068 \r\nQ 3634 1759 3634 1313 \r\nQ 3634 634 3220 271 \r\nQ 2806 -91 2034 -91 \r\nQ 1263 -91 848 271 \r\nQ 434 634 434 1313 \r\nQ 434 1759 690 2068 \r\nQ 947 2378 1403 2484 \r\nz\r\nM 1172 3481 \r\nQ 1172 3119 1398 2916 \r\nQ 1625 2713 2034 2713 \r\nQ 2441 2713 2670 2916 \r\nQ 2900 3119 2900 3481 \r\nQ 2900 3844 2670 4047 \r\nQ 2441 4250 2034 4250 \r\nQ 1625 4250 1398 4047 \r\nQ 1172 3844 1172 3481 \r\nz\r\n\" id=\"DejaVuSans-38\" transform=\"scale(0.015625)\"/>\r\n       </defs>\r\n       <use xlink:href=\"#DejaVuSans-38\"/>\r\n       <use x=\"63.623047\" xlink:href=\"#DejaVuSans-30\"/>\r\n       <use x=\"127.246094\" xlink:href=\"#DejaVuSans-30\"/>\r\n       <use x=\"190.869141\" xlink:href=\"#DejaVuSans-30\"/>\r\n       <use x=\"254.492188\" xlink:href=\"#DejaVuSans-30\"/>\r\n      </g>\r\n     </g>\r\n    </g>\r\n   </g>\r\n   <g id=\"patch_3\">\r\n    <path clip-path=\"url(#pe36a231674)\" d=\"M 90.982273 237.335 \r\nL 105.280182 237.335 \r\nL 105.280182 125.774548 \r\nL 90.982273 125.774548 \r\nz\r\n\" style=\"fill:#008fd5;\"/>\r\n   </g>\r\n   <g id=\"patch_4\">\r\n    <path clip-path=\"url(#pe36a231674)\" d=\"M 105.280182 237.335 \r\nL 119.578091 237.335 \r\nL 119.578091 237.335 \r\nL 105.280182 237.335 \r\nz\r\n\" style=\"fill:#008fd5;\"/>\r\n   </g>\r\n   <g id=\"patch_5\">\r\n    <path clip-path=\"url(#pe36a231674)\" d=\"M 119.578091 237.335 \r\nL 133.876 237.335 \r\nL 133.876 237.335 \r\nL 119.578091 237.335 \r\nz\r\n\" style=\"fill:#008fd5;\"/>\r\n   </g>\r\n   <g id=\"patch_6\">\r\n    <path clip-path=\"url(#pe36a231674)\" d=\"M 133.876 237.335 \r\nL 148.173909 237.335 \r\nL 148.173909 82.882168 \r\nL 133.876 82.882168 \r\nz\r\n\" style=\"fill:#008fd5;\"/>\r\n   </g>\r\n   <g id=\"patch_7\">\r\n    <path clip-path=\"url(#pe36a231674)\" d=\"M 148.173909 237.335 \r\nL 162.471818 237.335 \r\nL 162.471818 237.335 \r\nL 148.173909 237.335 \r\nz\r\n\" style=\"fill:#008fd5;\"/>\r\n   </g>\r\n   <g id=\"patch_8\">\r\n    <path clip-path=\"url(#pe36a231674)\" d=\"M 162.471818 237.335 \r\nL 176.769727 237.335 \r\nL 176.769727 237.335 \r\nL 162.471818 237.335 \r\nz\r\n\" style=\"fill:#008fd5;\"/>\r\n   </g>\r\n   <g id=\"patch_9\">\r\n    <path clip-path=\"url(#pe36a231674)\" d=\"M 176.769727 237.335 \r\nL 191.067636 237.335 \r\nL 191.067636 237.335 \r\nL 176.769727 237.335 \r\nz\r\n\" style=\"fill:#008fd5;\"/>\r\n   </g>\r\n   <g id=\"patch_10\">\r\n    <path clip-path=\"url(#pe36a231674)\" d=\"M 191.067636 237.335 \r\nL 205.365545 237.335 \r\nL 205.365545 127.25509 \r\nL 191.067636 127.25509 \r\nz\r\n\" style=\"fill:#008fd5;\"/>\r\n   </g>\r\n   <g id=\"patch_11\">\r\n    <path clip-path=\"url(#pe36a231674)\" d=\"M 205.365545 237.335 \r\nL 219.663455 237.335 \r\nL 219.663455 237.335 \r\nL 205.365545 237.335 \r\nz\r\n\" style=\"fill:#008fd5;\"/>\r\n   </g>\r\n   <g id=\"patch_12\">\r\n    <path clip-path=\"url(#pe36a231674)\" d=\"M 219.663455 237.335 \r\nL 233.961364 237.335 \r\nL 233.961364 237.335 \r\nL 219.663455 237.335 \r\nz\r\n\" style=\"fill:#008fd5;\"/>\r\n   </g>\r\n   <g id=\"patch_13\">\r\n    <path clip-path=\"url(#pe36a231674)\" d=\"M 233.961364 237.335 \r\nL 248.259273 237.335 \r\nL 248.259273 237.335 \r\nL 233.961364 237.335 \r\nz\r\n\" style=\"fill:#008fd5;\"/>\r\n   </g>\r\n   <g id=\"patch_14\">\r\n    <path clip-path=\"url(#pe36a231674)\" d=\"M 248.259273 237.335 \r\nL 262.557182 237.335 \r\nL 262.557182 18.15881 \r\nL 248.259273 18.15881 \r\nz\r\n\" style=\"fill:#008fd5;\"/>\r\n   </g>\r\n   <g id=\"patch_15\">\r\n    <path clip-path=\"url(#pe36a231674)\" d=\"M 262.557182 237.335 \r\nL 276.855091 237.335 \r\nL 276.855091 237.335 \r\nL 262.557182 237.335 \r\nz\r\n\" style=\"fill:#008fd5;\"/>\r\n   </g>\r\n   <g id=\"patch_16\">\r\n    <path clip-path=\"url(#pe36a231674)\" d=\"M 276.855091 237.335 \r\nL 291.153 237.335 \r\nL 291.153 237.335 \r\nL 276.855091 237.335 \r\nz\r\n\" style=\"fill:#008fd5;\"/>\r\n   </g>\r\n   <g id=\"patch_17\">\r\n    <path clip-path=\"url(#pe36a231674)\" d=\"M 291.153 237.335 \r\nL 305.450909 237.335 \r\nL 305.450909 237.335 \r\nL 291.153 237.335 \r\nz\r\n\" style=\"fill:#008fd5;\"/>\r\n   </g>\r\n   <g id=\"patch_18\">\r\n    <path clip-path=\"url(#pe36a231674)\" d=\"M 305.450909 237.335 \r\nL 319.748818 237.335 \r\nL 319.748818 186.387557 \r\nL 305.450909 186.387557 \r\nz\r\n\" style=\"fill:#008fd5;\"/>\r\n   </g>\r\n   <g id=\"patch_19\">\r\n    <path clip-path=\"url(#pe36a231674)\" d=\"M 319.748818 237.335 \r\nL 334.046727 237.335 \r\nL 334.046727 237.335 \r\nL 319.748818 237.335 \r\nz\r\n\" style=\"fill:#008fd5;\"/>\r\n   </g>\r\n   <g id=\"patch_20\">\r\n    <path clip-path=\"url(#pe36a231674)\" d=\"M 334.046727 237.335 \r\nL 348.344636 237.335 \r\nL 348.344636 237.335 \r\nL 334.046727 237.335 \r\nz\r\n\" style=\"fill:#008fd5;\"/>\r\n   </g>\r\n   <g id=\"patch_21\">\r\n    <path clip-path=\"url(#pe36a231674)\" d=\"M 348.344636 237.335 \r\nL 362.642545 237.335 \r\nL 362.642545 237.335 \r\nL 348.344636 237.335 \r\nz\r\n\" style=\"fill:#008fd5;\"/>\r\n   </g>\r\n   <g id=\"patch_22\">\r\n    <path clip-path=\"url(#pe36a231674)\" d=\"M 362.642545 237.335 \r\nL 376.940455 237.335 \r\nL 376.940455 70.311581 \r\nL 362.642545 70.311581 \r\nz\r\n\" style=\"fill:#008fd5;\"/>\r\n   </g>\r\n   <g id=\"patch_23\">\r\n    <path clip-path=\"url(#pe36a231674)\" d=\"M 376.940455 237.335 \r\nL 391.238364 237.335 \r\nL 391.238364 237.335 \r\nL 376.940455 237.335 \r\nz\r\n\" style=\"fill:#008fd5;\"/>\r\n   </g>\r\n   <g id=\"patch_24\">\r\n    <path clip-path=\"url(#pe36a231674)\" d=\"M 391.238364 237.335 \r\nL 405.536273 237.335 \r\nL 405.536273 237.335 \r\nL 391.238364 237.335 \r\nz\r\n\" style=\"fill:#008fd5;\"/>\r\n   </g>\r\n   <g id=\"patch_25\">\r\n    <path clip-path=\"url(#pe36a231674)\" d=\"M 405.536273 237.335 \r\nL 419.834182 237.335 \r\nL 419.834182 237.335 \r\nL 405.536273 237.335 \r\nz\r\n\" style=\"fill:#008fd5;\"/>\r\n   </g>\r\n   <g id=\"patch_26\">\r\n    <path clip-path=\"url(#pe36a231674)\" d=\"M 419.834182 237.335 \r\nL 434.132091 237.335 \r\nL 434.132091 198.369494 \r\nL 419.834182 198.369494 \r\nz\r\n\" style=\"fill:#008fd5;\"/>\r\n   </g>\r\n   <g id=\"patch_27\">\r\n    <path clip-path=\"url(#pe36a231674)\" d=\"M 434.132091 237.335 \r\nL 448.43 237.335 \r\nL 448.43 237.335 \r\nL 434.132091 237.335 \r\nz\r\n\" style=\"fill:#008fd5;\"/>\r\n   </g>\r\n   <g id=\"patch_28\">\r\n    <path clip-path=\"url(#pe36a231674)\" d=\"M 448.43 237.335 \r\nL 462.727909 237.335 \r\nL 462.727909 237.335 \r\nL 448.43 237.335 \r\nz\r\n\" style=\"fill:#008fd5;\"/>\r\n   </g>\r\n   <g id=\"patch_29\">\r\n    <path clip-path=\"url(#pe36a231674)\" d=\"M 462.727909 237.335 \r\nL 477.025818 237.335 \r\nL 477.025818 214.856763 \r\nL 462.727909 214.856763 \r\nz\r\n\" style=\"fill:#008fd5;\"/>\r\n   </g>\r\n   <g id=\"patch_30\">\r\n    <path clip-path=\"url(#pe36a231674)\" d=\"M 477.025818 237.335 \r\nL 491.323727 237.335 \r\nL 491.323727 237.335 \r\nL 477.025818 237.335 \r\nz\r\n\" style=\"fill:#008fd5;\"/>\r\n   </g>\r\n   <g id=\"patch_31\">\r\n    <path clip-path=\"url(#pe36a231674)\" d=\"M 491.323727 237.335 \r\nL 505.621636 237.335 \r\nL 505.621636 237.335 \r\nL 491.323727 237.335 \r\nz\r\n\" style=\"fill:#008fd5;\"/>\r\n   </g>\r\n   <g id=\"patch_32\">\r\n    <path clip-path=\"url(#pe36a231674)\" d=\"M 505.621636 237.335 \r\nL 519.919545 237.335 \r\nL 519.919545 237.335 \r\nL 505.621636 237.335 \r\nz\r\n\" style=\"fill:#008fd5;\"/>\r\n   </g>\r\n   <g id=\"patch_33\">\r\n    <path clip-path=\"url(#pe36a231674)\" d=\"M 519.919545 237.335 \r\nL 534.217455 237.335 \r\nL 534.217455 202.637837 \r\nL 519.919545 202.637837 \r\nz\r\n\" style=\"fill:#008fd5;\"/>\r\n   </g>\r\n   <g id=\"patch_34\">\r\n    <path clip-path=\"url(#pe36a231674)\" d=\"M 534.217455 237.335 \r\nL 548.515364 237.335 \r\nL 548.515364 237.335 \r\nL 534.217455 237.335 \r\nz\r\n\" style=\"fill:#008fd5;\"/>\r\n   </g>\r\n   <g id=\"patch_35\">\r\n    <path clip-path=\"url(#pe36a231674)\" d=\"M 548.515364 237.335 \r\nL 562.813273 237.335 \r\nL 562.813273 237.335 \r\nL 548.515364 237.335 \r\nz\r\n\" style=\"fill:#008fd5;\"/>\r\n   </g>\r\n   <g id=\"patch_36\">\r\n    <path clip-path=\"url(#pe36a231674)\" d=\"M 562.813273 237.335 \r\nL 577.111182 237.335 \r\nL 577.111182 237.335 \r\nL 562.813273 237.335 \r\nz\r\n\" style=\"fill:#008fd5;\"/>\r\n   </g>\r\n   <g id=\"patch_37\">\r\n    <path clip-path=\"url(#pe36a231674)\" d=\"M 577.111182 237.335 \r\nL 591.409091 237.335 \r\nL 591.409091 205.387414 \r\nL 577.111182 205.387414 \r\nz\r\n\" style=\"fill:#008fd5;\"/>\r\n   </g>\r\n   <g id=\"patch_38\">\r\n    <path clip-path=\"url(#pe36a231674)\" d=\"M 591.409091 237.335 \r\nL 605.707 237.335 \r\nL 605.707 237.335 \r\nL 591.409091 237.335 \r\nz\r\n\" style=\"fill:#008fd5;\"/>\r\n   </g>\r\n   <g id=\"patch_39\">\r\n    <path clip-path=\"url(#pe36a231674)\" d=\"M 605.707 237.335 \r\nL 620.004909 237.335 \r\nL 620.004909 237.335 \r\nL 605.707 237.335 \r\nz\r\n\" style=\"fill:#008fd5;\"/>\r\n   </g>\r\n   <g id=\"patch_40\">\r\n    <path clip-path=\"url(#pe36a231674)\" d=\"M 620.004909 237.335 \r\nL 634.302818 237.335 \r\nL 634.302818 237.335 \r\nL 620.004909 237.335 \r\nz\r\n\" style=\"fill:#008fd5;\"/>\r\n   </g>\r\n   <g id=\"patch_41\">\r\n    <path clip-path=\"url(#pe36a231674)\" d=\"M 634.302818 237.335 \r\nL 648.600727 237.335 \r\nL 648.600727 236.471138 \r\nL 634.302818 236.471138 \r\nz\r\n\" style=\"fill:#008fd5;\"/>\r\n   </g>\r\n   <g id=\"patch_42\">\r\n    <path clip-path=\"url(#pe36a231674)\" d=\"M 648.600727 237.335 \r\nL 662.898636 237.335 \r\nL 662.898636 237.335 \r\nL 648.600727 237.335 \r\nz\r\n\" style=\"fill:#008fd5;\"/>\r\n   </g>\r\n   <g id=\"patch_43\">\r\n    <path clip-path=\"url(#pe36a231674)\" d=\"M 662.898636 237.335 \r\nL 677.196545 237.335 \r\nL 677.196545 237.335 \r\nL 662.898636 237.335 \r\nz\r\n\" style=\"fill:#008fd5;\"/>\r\n   </g>\r\n   <g id=\"patch_44\">\r\n    <path clip-path=\"url(#pe36a231674)\" d=\"M 677.196545 237.335 \r\nL 691.494455 237.335 \r\nL 691.494455 237.335 \r\nL 677.196545 237.335 \r\nz\r\n\" style=\"fill:#008fd5;\"/>\r\n   </g>\r\n   <g id=\"patch_45\">\r\n    <path clip-path=\"url(#pe36a231674)\" d=\"M 691.494455 237.335 \r\nL 705.792364 237.335 \r\nL 705.792364 226.270438 \r\nL 691.494455 226.270438 \r\nz\r\n\" style=\"fill:#008fd5;\"/>\r\n   </g>\r\n   <g id=\"patch_46\">\r\n    <path clip-path=\"url(#pe36a231674)\" d=\"M 705.792364 237.335 \r\nL 720.090273 237.335 \r\nL 720.090273 237.335 \r\nL 705.792364 237.335 \r\nz\r\n\" style=\"fill:#008fd5;\"/>\r\n   </g>\r\n   <g id=\"patch_47\">\r\n    <path clip-path=\"url(#pe36a231674)\" d=\"M 720.090273 237.335 \r\nL 734.388182 237.335 \r\nL 734.388182 237.335 \r\nL 720.090273 237.335 \r\nz\r\n\" style=\"fill:#008fd5;\"/>\r\n   </g>\r\n   <g id=\"patch_48\">\r\n    <path clip-path=\"url(#pe36a231674)\" d=\"M 734.388182 237.335 \r\nL 748.686091 237.335 \r\nL 748.686091 237.335 \r\nL 734.388182 237.335 \r\nz\r\n\" style=\"fill:#008fd5;\"/>\r\n   </g>\r\n   <g id=\"patch_49\">\r\n    <path clip-path=\"url(#pe36a231674)\" d=\"M 748.686091 237.335 \r\nL 762.984 237.335 \r\nL 762.984 235.436543 \r\nL 748.686091 235.436543 \r\nz\r\n\" style=\"fill:#008fd5;\"/>\r\n   </g>\r\n   <g id=\"patch_50\">\r\n    <path clip-path=\"url(#pe36a231674)\" d=\"M 762.984 237.335 \r\nL 777.281909 237.335 \r\nL 777.281909 237.335 \r\nL 762.984 237.335 \r\nz\r\n\" style=\"fill:#008fd5;\"/>\r\n   </g>\r\n   <g id=\"patch_51\">\r\n    <path clip-path=\"url(#pe36a231674)\" d=\"M 777.281909 237.335 \r\nL 791.579818 237.335 \r\nL 791.579818 237.335 \r\nL 777.281909 237.335 \r\nz\r\n\" style=\"fill:#008fd5;\"/>\r\n   </g>\r\n   <g id=\"patch_52\">\r\n    <path clip-path=\"url(#pe36a231674)\" d=\"M 791.579818 237.335 \r\nL 805.877727 237.335 \r\nL 805.877727 232.661484 \r\nL 791.579818 232.661484 \r\nz\r\n\" style=\"fill:#008fd5;\"/>\r\n   </g>\r\n   <g id=\"patch_53\">\r\n    <path d=\"M 55.2375 237.335 \r\nL 55.2375 7.2 \r\n\" style=\"fill:none;stroke:#f0f0f0;stroke-linecap:square;stroke-linejoin:miter;stroke-width:3;\"/>\r\n   </g>\r\n   <g id=\"patch_54\">\r\n    <path d=\"M 841.6225 237.335 \r\nL 841.6225 7.2 \r\n\" style=\"fill:none;stroke:#f0f0f0;stroke-linecap:square;stroke-linejoin:miter;stroke-width:3;\"/>\r\n   </g>\r\n   <g id=\"patch_55\">\r\n    <path d=\"M 55.2375 237.335 \r\nL 841.6225 237.335 \r\n\" style=\"fill:none;stroke:#f0f0f0;stroke-linecap:square;stroke-linejoin:miter;stroke-width:3;\"/>\r\n   </g>\r\n   <g id=\"patch_56\">\r\n    <path d=\"M 55.2375 7.2 \r\nL 841.6225 7.2 \r\n\" style=\"fill:none;stroke:#f0f0f0;stroke-linecap:square;stroke-linejoin:miter;stroke-width:3;\"/>\r\n   </g>\r\n  </g>\r\n </g>\r\n <defs>\r\n  <clipPath id=\"pe36a231674\">\r\n   <rect height=\"230.135\" width=\"786.385\" x=\"55.2375\" y=\"7.2\"/>\r\n  </clipPath>\r\n </defs>\r\n</svg>\r\n",
      "text/plain": [
       "<Figure size 864x360 with 1 Axes>"
      ]
     },
     "metadata": {},
     "output_type": "display_data"
    }
   ],
   "source": [
    "data['street_type'] = data.street.map(parse_street).astype('category')\n",
    "# TODO: Позже можно попробовать добавить новые признаки с средней/медианной ценой\n",
    "\n",
    "display(data.street_type.value_counts(dropna=False))\n",
    "data.street_type.hist(figsize=(12,5), log=False, bins=50, xrot=90);\n",
    "plt.tight_layout()\n",
    "\n",
    "# Удалим street\n",
    "delete_col.append('street')"
   ]
  },
  {
   "cell_type": "code",
   "execution_count": 174,
   "metadata": {},
   "outputs": [],
   "source": [
    "# plt.figure(figsize=(12,5))\n",
    "# ax = sns.boxplot(x=\"street_type\", y=\"target_log\", data=data);\n",
    "# ax.set_xticklabels(ax.get_xticklabels(),rotation=90);"
   ]
  },
  {
   "cell_type": "code",
   "execution_count": 175,
   "metadata": {},
   "outputs": [
    {
     "data": {
      "text/plain": [
       "True     374826\n",
       "False      1834\n",
       "Name: has_address, dtype: int64"
      ]
     },
     "metadata": {},
     "output_type": "display_data"
    }
   ],
   "source": [
    "# Создадим признак наличия адреса\n",
    "data['has_address'] =  data.street_type.apply(lambda x: False if x == 'NO_ADDRESS' else True).astype(bool)\n",
    "display(data.has_address.value_counts(dropna=False))\n",
    "\n",
    "# Признак has_address практически не влияет на цену, но пока оставим\n",
    "# plt.figure(figsize=(12,5))\n",
    "# ax = sns.boxplot(x=\"has_address\", y=\"target_log\", data=data);\n",
    "# ax.set_xticklabels(ax.get_xticklabels(),rotation=90);"
   ]
  },
  {
   "cell_type": "code",
   "execution_count": 176,
   "metadata": {},
   "outputs": [],
   "source": [
    "delete_col.append('street')"
   ]
  },
  {
   "cell_type": "markdown",
   "metadata": {},
   "source": [
    "### Column \"baths\""
   ]
  },
  {
   "cell_type": "code",
   "execution_count": 177,
   "metadata": {},
   "outputs": [
    {
     "name": "stdout",
     "output_type": "stream",
     "text": [
      "Пропуски: 106171\n",
      "Уникальных: 228\n"
     ]
    },
    {
     "data": {
      "text/plain": [
       "NaN           106171\n",
       "2 BATHS        52344\n",
       "3 BATHS        35468\n",
       "2              20450\n",
       "2.0            16576\n",
       "               ...  \n",
       "4.75 BATHS         1\n",
       "5.25 BATHS         1\n",
       "41.0               1\n",
       "1.8 BATHS          1\n",
       "44.0               1\n",
       "Name: baths, Length: 227, dtype: int64"
      ]
     },
     "metadata": {},
     "output_type": "display_data"
    }
   ],
   "source": [
    "print('Пропуски:', data.baths.isna().sum())\n",
    "print('Уникальных:', data.baths.nunique())\n",
    "data.baths = data.baths.str.upper()\n",
    "display(data.baths.value_counts(dropna=False))"
   ]
  },
  {
   "cell_type": "markdown",
   "metadata": {},
   "source": [
    "У более чем 100000 записей нет информации о наличии ванной комнаты (TODO нужно подумать как быть)!\n",
    "Оказывается, что бывают ванны (https://www.realtor.com/advice/buy/what-is-a-half-bath/):\n",
    "* 1.0 полноценная - должна содержать четыре основных приспособления: унитаз, раковину, ванну и душ (или комбинацию душа и ванны).\n",
    "* 0.5 полуванна - имеет только два из четырех основных компонентов ванной комнаты, обычно унитаз и раковину\n",
    "* 0.75 трехчетвертная ванна - в ней не хватает одного из четырех перечисленных выше приспособлений. Чаще всего это будет ванна.\n",
    "* 0.25 четверть ванна - комната только с одним из четырех элементов, обычно это туалет\n",
    "\n",
    "Если в доме указано, что в нем три ванные комнаты и две полуванные, почему бы просто не сложить их все вместе и не сказать, что ванных комнат четыре? Это казалось бы логичным, но каждая ванная комната должна быть указана отдельно, потому что это дает покупателям жилья лучшее представление об особенностях дома и их возможностях, когда им просто нужно уйти."
   ]
  },
  {
   "cell_type": "code",
   "execution_count": 178,
   "metadata": {},
   "outputs": [],
   "source": [
    "def parse_baths(s):\n",
    "    s = str(s)\n",
    "    if s == '0': return 0.0\n",
    "    if s == '': return 1.0\n",
    "    if s == 'nan': return 1.0\n",
    "    if 'SQ. FT.' in s: return 1.0\n",
    "    if '-' in s or '—' in s or '~' in s: return 0.0\n",
    "    if 'SEMIMOD' in s: return 1.0\n",
    "    #if '/' in s: print(s)\n",
    "\n",
    "    s = s.replace(',', '.')\n",
    "    f = re.findall(r'\\d*\\.\\d+|\\d+', s)\n",
    "    try:\n",
    "        n = float(f[0])\n",
    "        if n >= 200:\n",
    "            n = n / 1000.\n",
    "        return n\n",
    "    except:\n",
    "        print(s)\n",
    "  \n",
    "    return 1.0"
   ]
  },
  {
   "cell_type": "code",
   "execution_count": 179,
   "metadata": {},
   "outputs": [
    {
     "data": {
      "text/plain": [
       "1.000      124154\n",
       "2.000      103384\n",
       "3.000       66633\n",
       "4.000       26316\n",
       "2.500       13722\n",
       "            ...  \n",
       "5.200           1\n",
       "116.000         1\n",
       "35.000          1\n",
       "0.241           1\n",
       "68.000          1\n",
       "Name: baths, Length: 83, dtype: int64"
      ]
     },
     "metadata": {},
     "output_type": "display_data"
    },
    {
     "data": {
      "text/plain": [
       "1.0     124154\n",
       "2.0     103384\n",
       "3.0      66633\n",
       "4.0      26316\n",
       "2.5      13722\n",
       "         ...  \n",
       "0.5          1\n",
       "3.3          1\n",
       "43.0         1\n",
       "25.0         1\n",
       "68.0         1\n",
       "Name: baths, Length: 78, dtype: int64"
      ]
     },
     "metadata": {},
     "output_type": "display_data"
    }
   ],
   "source": [
    "baths = data.baths.map(parse_baths)#.astype('category')\n",
    "# TODO: Нужно дополнительно обработать!\n",
    "\n",
    "display(baths.value_counts(dropna=False))\n",
    "data.baths = baths.round(1)\n",
    "display(data.baths.value_counts(dropna=False))\n",
    "# data.baths.hist(figsize=(12,5), log=False, bins=50, xrot=90);\n",
    "# plt.tight_layout()"
   ]
  },
  {
   "cell_type": "code",
   "execution_count": 180,
   "metadata": {},
   "outputs": [
    {
     "data": {
      "text/markdown": [
       "| P1 | Min emission | P25 | IQR | P75 | Max emission | P99 |\n",
       "|-----|:-----:|----|-----|----|:-----:|-----|\n",
       "|0.0|-2.0|1.0|2.0|3.0|6.0|7.0|"
      ],
      "text/plain": [
       "<IPython.core.display.Markdown object>"
      ]
     },
     "metadata": {},
     "output_type": "display_data"
    },
    {
     "name": "stderr",
     "output_type": "stream",
     "text": [
      "C:\\Users\\binom\\anaconda3\\envs\\tensorflow_25\\lib\\site-packages\\pandas\\core\\indexing.py:1732: SettingWithCopyWarning: \n",
      "A value is trying to be set on a copy of a slice from a DataFrame\n",
      "\n",
      "See the caveats in the documentation: https://pandas.pydata.org/pandas-docs/stable/user_guide/indexing.html#returning-a-view-versus-a-copy\n",
      "  self._setitem_single_block(indexer, value, name)\n"
     ]
    }
   ],
   "source": [
    "perc1, min_emission_limits, max_emission_limits, perc99 = get_emission_limits(data.baths)\n",
    "\n",
    "data.baths.loc[data.baths < min_emission_limits] = 0 #int(perc1)\n",
    "data.baths.loc[data.baths > max_emission_limits] = int(perc99)"
   ]
  },
  {
   "cell_type": "code",
   "execution_count": 181,
   "metadata": {},
   "outputs": [
    {
     "data": {
      "text/markdown": [
       "| P1 | Min emission | P25 | IQR | P75 | Max emission | P99 |\n",
       "|-----|:-----:|----|-----|----|:-----:|-----|\n",
       "|0.0|-2.0|1.0|2.0|3.0|6.0|7.0|"
      ],
      "text/plain": [
       "<IPython.core.display.Markdown object>"
      ]
     },
     "metadata": {},
     "output_type": "display_data"
    },
    {
     "data": {
      "text/plain": [
       "1.0    124154\n",
       "2.0    103384\n",
       "3.0     66633\n",
       "4.0     26316\n",
       "2.5     13722\n",
       "5.0      9451\n",
       "3.5      6123\n",
       "0.0      5216\n",
       "7.0      5111\n",
       "1.5      4336\n",
       "6.0      4302\n",
       "1.8      1809\n",
       "4.5      1552\n",
       "2.2      1460\n",
       "1.2      1216\n",
       "2.8      1001\n",
       "5.5       521\n",
       "0.8       239\n",
       "2.1        53\n",
       "1.1        17\n",
       "3.2        13\n",
       "3.1        12\n",
       "3.8         8\n",
       "4.1         3\n",
       "5.2         2\n",
       "4.2         2\n",
       "0.2         1\n",
       "3.3         1\n",
       "0.5         1\n",
       "4.8         1\n",
       "Name: baths, dtype: int64"
      ]
     },
     "metadata": {},
     "output_type": "display_data"
    }
   ],
   "source": [
    "# Заменим выбросы минимальным значением 0 и максимальным 99 перцентилем\n",
    "perc1, min_emission_limits, max_emission_limits, perc99 = get_emission_limits(data.baths)\n",
    "display(data.baths.value_counts(dropna=False))"
   ]
  },
  {
   "cell_type": "code",
   "execution_count": 182,
   "metadata": {},
   "outputs": [
    {
     "data": {
      "image/svg+xml": "<?xml version=\"1.0\" encoding=\"utf-8\" standalone=\"no\"?>\r\n<!DOCTYPE svg PUBLIC \"-//W3C//DTD SVG 1.1//EN\"\r\n  \"http://www.w3.org/Graphics/SVG/1.1/DTD/svg11.dtd\">\r\n<svg height=\"344.0675pt\" version=\"1.1\" viewBox=\"0 0 848.855 344.0675\" width=\"848.855pt\" xmlns=\"http://www.w3.org/2000/svg\" xmlns:xlink=\"http://www.w3.org/1999/xlink\">\r\n <metadata>\r\n  <rdf:RDF xmlns:cc=\"http://creativecommons.org/ns#\" xmlns:dc=\"http://purl.org/dc/elements/1.1/\" xmlns:rdf=\"http://www.w3.org/1999/02/22-rdf-syntax-ns#\">\r\n   <cc:Work>\r\n    <dc:type rdf:resource=\"http://purl.org/dc/dcmitype/StillImage\"/>\r\n    <dc:date>2022-04-06T20:30:29.199064</dc:date>\r\n    <dc:format>image/svg+xml</dc:format>\r\n    <dc:creator>\r\n     <cc:Agent>\r\n      <dc:title>Matplotlib v3.4.3, https://matplotlib.org/</dc:title>\r\n     </cc:Agent>\r\n    </dc:creator>\r\n   </cc:Work>\r\n  </rdf:RDF>\r\n </metadata>\r\n <defs>\r\n  <style type=\"text/css\">*{stroke-linecap:butt;stroke-linejoin:round;}</style>\r\n </defs>\r\n <g id=\"figure_1\">\r\n  <g id=\"patch_1\">\r\n   <path d=\"M 0 344.0675 \r\nL 848.855 344.0675 \r\nL 848.855 0 \r\nL 0 0 \r\nz\r\n\" style=\"fill:#f0f0f0;\"/>\r\n  </g>\r\n  <g id=\"axes_1\">\r\n   <g id=\"patch_2\">\r\n    <path d=\"M 64.145 324.46 \r\nL 841.655 324.46 \r\nL 841.655 7.2 \r\nL 64.145 7.2 \r\nz\r\n\" style=\"fill:#f0f0f0;\"/>\r\n   </g>\r\n   <g id=\"matplotlib.axis_1\">\r\n    <g id=\"xtick_1\">\r\n     <g id=\"line2d_1\">\r\n      <path clip-path=\"url(#p38e22bcd89)\" d=\"M 99.486364 324.46 \r\nL 99.486364 7.2 \r\n\" style=\"fill:none;stroke:#cbcbcb;\"/>\r\n     </g>\r\n     <g id=\"line2d_2\"/>\r\n     <g id=\"text_1\">\r\n      <!-- 0 -->\r\n      <g transform=\"translate(103.349489 336.8675)rotate(-90)scale(0.14 -0.14)\">\r\n       <defs>\r\n        <path d=\"M 2034 4250 \r\nQ 1547 4250 1301 3770 \r\nQ 1056 3291 1056 2328 \r\nQ 1056 1369 1301 889 \r\nQ 1547 409 2034 409 \r\nQ 2525 409 2770 889 \r\nQ 3016 1369 3016 2328 \r\nQ 3016 3291 2770 3770 \r\nQ 2525 4250 2034 4250 \r\nz\r\nM 2034 4750 \r\nQ 2819 4750 3233 4129 \r\nQ 3647 3509 3647 2328 \r\nQ 3647 1150 3233 529 \r\nQ 2819 -91 2034 -91 \r\nQ 1250 -91 836 529 \r\nQ 422 1150 422 2328 \r\nQ 422 3509 836 4129 \r\nQ 1250 4750 2034 4750 \r\nz\r\n\" id=\"DejaVuSans-30\" transform=\"scale(0.015625)\"/>\r\n       </defs>\r\n       <use xlink:href=\"#DejaVuSans-30\"/>\r\n      </g>\r\n     </g>\r\n    </g>\r\n    <g id=\"xtick_2\">\r\n     <g id=\"line2d_3\">\r\n      <path clip-path=\"url(#p38e22bcd89)\" d=\"M 200.461688 324.46 \r\nL 200.461688 7.2 \r\n\" style=\"fill:none;stroke:#cbcbcb;\"/>\r\n     </g>\r\n     <g id=\"line2d_4\"/>\r\n     <g id=\"text_2\">\r\n      <!-- 1 -->\r\n      <g transform=\"translate(204.324813 336.8675)rotate(-90)scale(0.14 -0.14)\">\r\n       <defs>\r\n        <path d=\"M 794 531 \r\nL 1825 531 \r\nL 1825 4091 \r\nL 703 3866 \r\nL 703 4441 \r\nL 1819 4666 \r\nL 2450 4666 \r\nL 2450 531 \r\nL 3481 531 \r\nL 3481 0 \r\nL 794 0 \r\nL 794 531 \r\nz\r\n\" id=\"DejaVuSans-31\" transform=\"scale(0.015625)\"/>\r\n       </defs>\r\n       <use xlink:href=\"#DejaVuSans-31\"/>\r\n      </g>\r\n     </g>\r\n    </g>\r\n    <g id=\"xtick_3\">\r\n     <g id=\"line2d_5\">\r\n      <path clip-path=\"url(#p38e22bcd89)\" d=\"M 301.437013 324.46 \r\nL 301.437013 7.2 \r\n\" style=\"fill:none;stroke:#cbcbcb;\"/>\r\n     </g>\r\n     <g id=\"line2d_6\"/>\r\n     <g id=\"text_3\">\r\n      <!-- 2 -->\r\n      <g transform=\"translate(305.300138 336.8675)rotate(-90)scale(0.14 -0.14)\">\r\n       <defs>\r\n        <path d=\"M 1228 531 \r\nL 3431 531 \r\nL 3431 0 \r\nL 469 0 \r\nL 469 531 \r\nQ 828 903 1448 1529 \r\nQ 2069 2156 2228 2338 \r\nQ 2531 2678 2651 2914 \r\nQ 2772 3150 2772 3378 \r\nQ 2772 3750 2511 3984 \r\nQ 2250 4219 1831 4219 \r\nQ 1534 4219 1204 4116 \r\nQ 875 4013 500 3803 \r\nL 500 4441 \r\nQ 881 4594 1212 4672 \r\nQ 1544 4750 1819 4750 \r\nQ 2544 4750 2975 4387 \r\nQ 3406 4025 3406 3419 \r\nQ 3406 3131 3298 2873 \r\nQ 3191 2616 2906 2266 \r\nQ 2828 2175 2409 1742 \r\nQ 1991 1309 1228 531 \r\nz\r\n\" id=\"DejaVuSans-32\" transform=\"scale(0.015625)\"/>\r\n       </defs>\r\n       <use xlink:href=\"#DejaVuSans-32\"/>\r\n      </g>\r\n     </g>\r\n    </g>\r\n    <g id=\"xtick_4\">\r\n     <g id=\"line2d_7\">\r\n      <path clip-path=\"url(#p38e22bcd89)\" d=\"M 402.412338 324.46 \r\nL 402.412338 7.2 \r\n\" style=\"fill:none;stroke:#cbcbcb;\"/>\r\n     </g>\r\n     <g id=\"line2d_8\"/>\r\n     <g id=\"text_4\">\r\n      <!-- 3 -->\r\n      <g transform=\"translate(406.275463 336.8675)rotate(-90)scale(0.14 -0.14)\">\r\n       <defs>\r\n        <path d=\"M 2597 2516 \r\nQ 3050 2419 3304 2112 \r\nQ 3559 1806 3559 1356 \r\nQ 3559 666 3084 287 \r\nQ 2609 -91 1734 -91 \r\nQ 1441 -91 1130 -33 \r\nQ 819 25 488 141 \r\nL 488 750 \r\nQ 750 597 1062 519 \r\nQ 1375 441 1716 441 \r\nQ 2309 441 2620 675 \r\nQ 2931 909 2931 1356 \r\nQ 2931 1769 2642 2001 \r\nQ 2353 2234 1838 2234 \r\nL 1294 2234 \r\nL 1294 2753 \r\nL 1863 2753 \r\nQ 2328 2753 2575 2939 \r\nQ 2822 3125 2822 3475 \r\nQ 2822 3834 2567 4026 \r\nQ 2313 4219 1838 4219 \r\nQ 1578 4219 1281 4162 \r\nQ 984 4106 628 3988 \r\nL 628 4550 \r\nQ 988 4650 1302 4700 \r\nQ 1616 4750 1894 4750 \r\nQ 2613 4750 3031 4423 \r\nQ 3450 4097 3450 3541 \r\nQ 3450 3153 3228 2886 \r\nQ 3006 2619 2597 2516 \r\nz\r\n\" id=\"DejaVuSans-33\" transform=\"scale(0.015625)\"/>\r\n       </defs>\r\n       <use xlink:href=\"#DejaVuSans-33\"/>\r\n      </g>\r\n     </g>\r\n    </g>\r\n    <g id=\"xtick_5\">\r\n     <g id=\"line2d_9\">\r\n      <path clip-path=\"url(#p38e22bcd89)\" d=\"M 503.387662 324.46 \r\nL 503.387662 7.2 \r\n\" style=\"fill:none;stroke:#cbcbcb;\"/>\r\n     </g>\r\n     <g id=\"line2d_10\"/>\r\n     <g id=\"text_5\">\r\n      <!-- 4 -->\r\n      <g transform=\"translate(507.250787 336.8675)rotate(-90)scale(0.14 -0.14)\">\r\n       <defs>\r\n        <path d=\"M 2419 4116 \r\nL 825 1625 \r\nL 2419 1625 \r\nL 2419 4116 \r\nz\r\nM 2253 4666 \r\nL 3047 4666 \r\nL 3047 1625 \r\nL 3713 1625 \r\nL 3713 1100 \r\nL 3047 1100 \r\nL 3047 0 \r\nL 2419 0 \r\nL 2419 1100 \r\nL 313 1100 \r\nL 313 1709 \r\nL 2253 4666 \r\nz\r\n\" id=\"DejaVuSans-34\" transform=\"scale(0.015625)\"/>\r\n       </defs>\r\n       <use xlink:href=\"#DejaVuSans-34\"/>\r\n      </g>\r\n     </g>\r\n    </g>\r\n    <g id=\"xtick_6\">\r\n     <g id=\"line2d_11\">\r\n      <path clip-path=\"url(#p38e22bcd89)\" d=\"M 604.362987 324.46 \r\nL 604.362987 7.2 \r\n\" style=\"fill:none;stroke:#cbcbcb;\"/>\r\n     </g>\r\n     <g id=\"line2d_12\"/>\r\n     <g id=\"text_6\">\r\n      <!-- 5 -->\r\n      <g transform=\"translate(608.226112 336.8675)rotate(-90)scale(0.14 -0.14)\">\r\n       <defs>\r\n        <path d=\"M 691 4666 \r\nL 3169 4666 \r\nL 3169 4134 \r\nL 1269 4134 \r\nL 1269 2991 \r\nQ 1406 3038 1543 3061 \r\nQ 1681 3084 1819 3084 \r\nQ 2600 3084 3056 2656 \r\nQ 3513 2228 3513 1497 \r\nQ 3513 744 3044 326 \r\nQ 2575 -91 1722 -91 \r\nQ 1428 -91 1123 -41 \r\nQ 819 9 494 109 \r\nL 494 744 \r\nQ 775 591 1075 516 \r\nQ 1375 441 1709 441 \r\nQ 2250 441 2565 725 \r\nQ 2881 1009 2881 1497 \r\nQ 2881 1984 2565 2268 \r\nQ 2250 2553 1709 2553 \r\nQ 1456 2553 1204 2497 \r\nQ 953 2441 691 2322 \r\nL 691 4666 \r\nz\r\n\" id=\"DejaVuSans-35\" transform=\"scale(0.015625)\"/>\r\n       </defs>\r\n       <use xlink:href=\"#DejaVuSans-35\"/>\r\n      </g>\r\n     </g>\r\n    </g>\r\n    <g id=\"xtick_7\">\r\n     <g id=\"line2d_13\">\r\n      <path clip-path=\"url(#p38e22bcd89)\" d=\"M 705.338312 324.46 \r\nL 705.338312 7.2 \r\n\" style=\"fill:none;stroke:#cbcbcb;\"/>\r\n     </g>\r\n     <g id=\"line2d_14\"/>\r\n     <g id=\"text_7\">\r\n      <!-- 6 -->\r\n      <g transform=\"translate(709.201437 336.8675)rotate(-90)scale(0.14 -0.14)\">\r\n       <defs>\r\n        <path d=\"M 2113 2584 \r\nQ 1688 2584 1439 2293 \r\nQ 1191 2003 1191 1497 \r\nQ 1191 994 1439 701 \r\nQ 1688 409 2113 409 \r\nQ 2538 409 2786 701 \r\nQ 3034 994 3034 1497 \r\nQ 3034 2003 2786 2293 \r\nQ 2538 2584 2113 2584 \r\nz\r\nM 3366 4563 \r\nL 3366 3988 \r\nQ 3128 4100 2886 4159 \r\nQ 2644 4219 2406 4219 \r\nQ 1781 4219 1451 3797 \r\nQ 1122 3375 1075 2522 \r\nQ 1259 2794 1537 2939 \r\nQ 1816 3084 2150 3084 \r\nQ 2853 3084 3261 2657 \r\nQ 3669 2231 3669 1497 \r\nQ 3669 778 3244 343 \r\nQ 2819 -91 2113 -91 \r\nQ 1303 -91 875 529 \r\nQ 447 1150 447 2328 \r\nQ 447 3434 972 4092 \r\nQ 1497 4750 2381 4750 \r\nQ 2619 4750 2861 4703 \r\nQ 3103 4656 3366 4563 \r\nz\r\n\" id=\"DejaVuSans-36\" transform=\"scale(0.015625)\"/>\r\n       </defs>\r\n       <use xlink:href=\"#DejaVuSans-36\"/>\r\n      </g>\r\n     </g>\r\n    </g>\r\n    <g id=\"xtick_8\">\r\n     <g id=\"line2d_15\">\r\n      <path clip-path=\"url(#p38e22bcd89)\" d=\"M 806.313636 324.46 \r\nL 806.313636 7.2 \r\n\" style=\"fill:none;stroke:#cbcbcb;\"/>\r\n     </g>\r\n     <g id=\"line2d_16\"/>\r\n     <g id=\"text_8\">\r\n      <!-- 7 -->\r\n      <g transform=\"translate(810.176761 336.8675)rotate(-90)scale(0.14 -0.14)\">\r\n       <defs>\r\n        <path d=\"M 525 4666 \r\nL 3525 4666 \r\nL 3525 4397 \r\nL 1831 0 \r\nL 1172 0 \r\nL 2766 4134 \r\nL 525 4134 \r\nL 525 4666 \r\nz\r\n\" id=\"DejaVuSans-37\" transform=\"scale(0.015625)\"/>\r\n       </defs>\r\n       <use xlink:href=\"#DejaVuSans-37\"/>\r\n      </g>\r\n     </g>\r\n    </g>\r\n   </g>\r\n   <g id=\"matplotlib.axis_2\">\r\n    <g id=\"ytick_1\">\r\n     <g id=\"line2d_17\">\r\n      <path clip-path=\"url(#p38e22bcd89)\" d=\"M 64.145 324.46 \r\nL 841.655 324.46 \r\n\" style=\"fill:none;stroke:#cbcbcb;\"/>\r\n     </g>\r\n     <g id=\"line2d_18\"/>\r\n     <g id=\"text_9\">\r\n      <!-- 0 -->\r\n      <g transform=\"translate(51.7375 329.778906)scale(0.14 -0.14)\">\r\n       <use xlink:href=\"#DejaVuSans-30\"/>\r\n      </g>\r\n     </g>\r\n    </g>\r\n    <g id=\"ytick_2\">\r\n     <g id=\"line2d_19\">\r\n      <path clip-path=\"url(#p38e22bcd89)\" d=\"M 64.145 275.792859 \r\nL 841.655 275.792859 \r\n\" style=\"fill:none;stroke:#cbcbcb;\"/>\r\n     </g>\r\n     <g id=\"line2d_20\"/>\r\n     <g id=\"text_10\">\r\n      <!-- 20000 -->\r\n      <g transform=\"translate(16.1075 281.111765)scale(0.14 -0.14)\">\r\n       <use xlink:href=\"#DejaVuSans-32\"/>\r\n       <use x=\"63.623047\" xlink:href=\"#DejaVuSans-30\"/>\r\n       <use x=\"127.246094\" xlink:href=\"#DejaVuSans-30\"/>\r\n       <use x=\"190.869141\" xlink:href=\"#DejaVuSans-30\"/>\r\n       <use x=\"254.492188\" xlink:href=\"#DejaVuSans-30\"/>\r\n      </g>\r\n     </g>\r\n    </g>\r\n    <g id=\"ytick_3\">\r\n     <g id=\"line2d_21\">\r\n      <path clip-path=\"url(#p38e22bcd89)\" d=\"M 64.145 227.125717 \r\nL 841.655 227.125717 \r\n\" style=\"fill:none;stroke:#cbcbcb;\"/>\r\n     </g>\r\n     <g id=\"line2d_22\"/>\r\n     <g id=\"text_11\">\r\n      <!-- 40000 -->\r\n      <g transform=\"translate(16.1075 232.444623)scale(0.14 -0.14)\">\r\n       <use xlink:href=\"#DejaVuSans-34\"/>\r\n       <use x=\"63.623047\" xlink:href=\"#DejaVuSans-30\"/>\r\n       <use x=\"127.246094\" xlink:href=\"#DejaVuSans-30\"/>\r\n       <use x=\"190.869141\" xlink:href=\"#DejaVuSans-30\"/>\r\n       <use x=\"254.492188\" xlink:href=\"#DejaVuSans-30\"/>\r\n      </g>\r\n     </g>\r\n    </g>\r\n    <g id=\"ytick_4\">\r\n     <g id=\"line2d_23\">\r\n      <path clip-path=\"url(#p38e22bcd89)\" d=\"M 64.145 178.458576 \r\nL 841.655 178.458576 \r\n\" style=\"fill:none;stroke:#cbcbcb;\"/>\r\n     </g>\r\n     <g id=\"line2d_24\"/>\r\n     <g id=\"text_12\">\r\n      <!-- 60000 -->\r\n      <g transform=\"translate(16.1075 183.777482)scale(0.14 -0.14)\">\r\n       <use xlink:href=\"#DejaVuSans-36\"/>\r\n       <use x=\"63.623047\" xlink:href=\"#DejaVuSans-30\"/>\r\n       <use x=\"127.246094\" xlink:href=\"#DejaVuSans-30\"/>\r\n       <use x=\"190.869141\" xlink:href=\"#DejaVuSans-30\"/>\r\n       <use x=\"254.492188\" xlink:href=\"#DejaVuSans-30\"/>\r\n      </g>\r\n     </g>\r\n    </g>\r\n    <g id=\"ytick_5\">\r\n     <g id=\"line2d_25\">\r\n      <path clip-path=\"url(#p38e22bcd89)\" d=\"M 64.145 129.791434 \r\nL 841.655 129.791434 \r\n\" style=\"fill:none;stroke:#cbcbcb;\"/>\r\n     </g>\r\n     <g id=\"line2d_26\"/>\r\n     <g id=\"text_13\">\r\n      <!-- 80000 -->\r\n      <g transform=\"translate(16.1075 135.110341)scale(0.14 -0.14)\">\r\n       <defs>\r\n        <path d=\"M 2034 2216 \r\nQ 1584 2216 1326 1975 \r\nQ 1069 1734 1069 1313 \r\nQ 1069 891 1326 650 \r\nQ 1584 409 2034 409 \r\nQ 2484 409 2743 651 \r\nQ 3003 894 3003 1313 \r\nQ 3003 1734 2745 1975 \r\nQ 2488 2216 2034 2216 \r\nz\r\nM 1403 2484 \r\nQ 997 2584 770 2862 \r\nQ 544 3141 544 3541 \r\nQ 544 4100 942 4425 \r\nQ 1341 4750 2034 4750 \r\nQ 2731 4750 3128 4425 \r\nQ 3525 4100 3525 3541 \r\nQ 3525 3141 3298 2862 \r\nQ 3072 2584 2669 2484 \r\nQ 3125 2378 3379 2068 \r\nQ 3634 1759 3634 1313 \r\nQ 3634 634 3220 271 \r\nQ 2806 -91 2034 -91 \r\nQ 1263 -91 848 271 \r\nQ 434 634 434 1313 \r\nQ 434 1759 690 2068 \r\nQ 947 2378 1403 2484 \r\nz\r\nM 1172 3481 \r\nQ 1172 3119 1398 2916 \r\nQ 1625 2713 2034 2713 \r\nQ 2441 2713 2670 2916 \r\nQ 2900 3119 2900 3481 \r\nQ 2900 3844 2670 4047 \r\nQ 2441 4250 2034 4250 \r\nQ 1625 4250 1398 4047 \r\nQ 1172 3844 1172 3481 \r\nz\r\n\" id=\"DejaVuSans-38\" transform=\"scale(0.015625)\"/>\r\n       </defs>\r\n       <use xlink:href=\"#DejaVuSans-38\"/>\r\n       <use x=\"63.623047\" xlink:href=\"#DejaVuSans-30\"/>\r\n       <use x=\"127.246094\" xlink:href=\"#DejaVuSans-30\"/>\r\n       <use x=\"190.869141\" xlink:href=\"#DejaVuSans-30\"/>\r\n       <use x=\"254.492188\" xlink:href=\"#DejaVuSans-30\"/>\r\n      </g>\r\n     </g>\r\n    </g>\r\n    <g id=\"ytick_6\">\r\n     <g id=\"line2d_27\">\r\n      <path clip-path=\"url(#p38e22bcd89)\" d=\"M 64.145 81.124293 \r\nL 841.655 81.124293 \r\n\" style=\"fill:none;stroke:#cbcbcb;\"/>\r\n     </g>\r\n     <g id=\"line2d_28\"/>\r\n     <g id=\"text_14\">\r\n      <!-- 100000 -->\r\n      <g transform=\"translate(7.2 86.443199)scale(0.14 -0.14)\">\r\n       <use xlink:href=\"#DejaVuSans-31\"/>\r\n       <use x=\"63.623047\" xlink:href=\"#DejaVuSans-30\"/>\r\n       <use x=\"127.246094\" xlink:href=\"#DejaVuSans-30\"/>\r\n       <use x=\"190.869141\" xlink:href=\"#DejaVuSans-30\"/>\r\n       <use x=\"254.492188\" xlink:href=\"#DejaVuSans-30\"/>\r\n       <use x=\"318.115234\" xlink:href=\"#DejaVuSans-30\"/>\r\n      </g>\r\n     </g>\r\n    </g>\r\n    <g id=\"ytick_7\">\r\n     <g id=\"line2d_29\">\r\n      <path clip-path=\"url(#p38e22bcd89)\" d=\"M 64.145 32.457151 \r\nL 841.655 32.457151 \r\n\" style=\"fill:none;stroke:#cbcbcb;\"/>\r\n     </g>\r\n     <g id=\"line2d_30\"/>\r\n     <g id=\"text_15\">\r\n      <!-- 120000 -->\r\n      <g transform=\"translate(7.2 37.776058)scale(0.14 -0.14)\">\r\n       <use xlink:href=\"#DejaVuSans-31\"/>\r\n       <use x=\"63.623047\" xlink:href=\"#DejaVuSans-32\"/>\r\n       <use x=\"127.246094\" xlink:href=\"#DejaVuSans-30\"/>\r\n       <use x=\"190.869141\" xlink:href=\"#DejaVuSans-30\"/>\r\n       <use x=\"254.492188\" xlink:href=\"#DejaVuSans-30\"/>\r\n       <use x=\"318.115234\" xlink:href=\"#DejaVuSans-30\"/>\r\n      </g>\r\n     </g>\r\n    </g>\r\n   </g>\r\n   <g id=\"patch_3\">\r\n    <path clip-path=\"url(#p38e22bcd89)\" d=\"M 99.486364 324.46 \r\nL 113.622909 324.46 \r\nL 113.622909 311.76761 \r\nL 99.486364 311.76761 \r\nz\r\n\" style=\"fill:#008fd5;\"/>\r\n   </g>\r\n   <g id=\"patch_4\">\r\n    <path clip-path=\"url(#p38e22bcd89)\" d=\"M 113.622909 324.46 \r\nL 127.759455 324.46 \r\nL 127.759455 324.457567 \r\nL 113.622909 324.457567 \r\nz\r\n\" style=\"fill:#008fd5;\"/>\r\n   </g>\r\n   <g id=\"patch_5\">\r\n    <path clip-path=\"url(#p38e22bcd89)\" d=\"M 127.759455 324.46 \r\nL 141.896 324.46 \r\nL 141.896 324.46 \r\nL 127.759455 324.46 \r\nz\r\n\" style=\"fill:#008fd5;\"/>\r\n   </g>\r\n   <g id=\"patch_6\">\r\n    <path clip-path=\"url(#p38e22bcd89)\" d=\"M 141.896 324.46 \r\nL 156.032545 324.46 \r\nL 156.032545 324.457567 \r\nL 141.896 324.457567 \r\nz\r\n\" style=\"fill:#008fd5;\"/>\r\n   </g>\r\n   <g id=\"patch_7\">\r\n    <path clip-path=\"url(#p38e22bcd89)\" d=\"M 156.032545 324.46 \r\nL 170.169091 324.46 \r\nL 170.169091 324.46 \r\nL 156.032545 324.46 \r\nz\r\n\" style=\"fill:#008fd5;\"/>\r\n   </g>\r\n   <g id=\"patch_8\">\r\n    <path clip-path=\"url(#p38e22bcd89)\" d=\"M 170.169091 324.46 \r\nL 184.305636 324.46 \r\nL 184.305636 323.878428 \r\nL 170.169091 323.878428 \r\nz\r\n\" style=\"fill:#008fd5;\"/>\r\n   </g>\r\n   <g id=\"patch_9\">\r\n    <path clip-path=\"url(#p38e22bcd89)\" d=\"M 184.305636 324.46 \r\nL 198.442182 324.46 \r\nL 198.442182 324.46 \r\nL 184.305636 324.46 \r\nz\r\n\" style=\"fill:#008fd5;\"/>\r\n   </g>\r\n   <g id=\"patch_10\">\r\n    <path clip-path=\"url(#p38e22bcd89)\" d=\"M 198.442182 324.46 \r\nL 212.578727 324.46 \r\nL 212.578727 22.307619 \r\nL 198.442182 22.307619 \r\nz\r\n\" style=\"fill:#008fd5;\"/>\r\n   </g>\r\n   <g id=\"patch_11\">\r\n    <path clip-path=\"url(#p38e22bcd89)\" d=\"M 212.578727 324.46 \r\nL 226.715273 324.46 \r\nL 226.715273 321.501038 \r\nL 212.578727 321.501038 \r\nz\r\n\" style=\"fill:#008fd5;\"/>\r\n   </g>\r\n   <g id=\"patch_12\">\r\n    <path clip-path=\"url(#p38e22bcd89)\" d=\"M 226.715273 324.46 \r\nL 240.851818 324.46 \r\nL 240.851818 324.46 \r\nL 226.715273 324.46 \r\nz\r\n\" style=\"fill:#008fd5;\"/>\r\n   </g>\r\n   <g id=\"patch_13\">\r\n    <path clip-path=\"url(#p38e22bcd89)\" d=\"M 240.851818 324.46 \r\nL 254.988364 324.46 \r\nL 254.988364 313.908964 \r\nL 240.851818 313.908964 \r\nz\r\n\" style=\"fill:#008fd5;\"/>\r\n   </g>\r\n   <g id=\"patch_14\">\r\n    <path clip-path=\"url(#p38e22bcd89)\" d=\"M 254.988364 324.46 \r\nL 269.124909 324.46 \r\nL 269.124909 324.46 \r\nL 254.988364 324.46 \r\nz\r\n\" style=\"fill:#008fd5;\"/>\r\n   </g>\r\n   <g id=\"patch_15\">\r\n    <path clip-path=\"url(#p38e22bcd89)\" d=\"M 269.124909 324.46 \r\nL 283.261455 324.46 \r\nL 283.261455 320.058057 \r\nL 269.124909 320.058057 \r\nz\r\n\" style=\"fill:#008fd5;\"/>\r\n   </g>\r\n   <g id=\"patch_16\">\r\n    <path clip-path=\"url(#p38e22bcd89)\" d=\"M 283.261455 324.46 \r\nL 297.398 324.46 \r\nL 297.398 324.46 \r\nL 283.261455 324.46 \r\nz\r\n\" style=\"fill:#008fd5;\"/>\r\n   </g>\r\n   <g id=\"patch_17\">\r\n    <path clip-path=\"url(#p38e22bcd89)\" d=\"M 297.398 324.46 \r\nL 311.534545 324.46 \r\nL 311.534545 72.889812 \r\nL 297.398 72.889812 \r\nz\r\n\" style=\"fill:#008fd5;\"/>\r\n   </g>\r\n   <g id=\"patch_18\">\r\n    <path clip-path=\"url(#p38e22bcd89)\" d=\"M 311.534545 324.46 \r\nL 325.671091 324.46 \r\nL 325.671091 320.778331 \r\nL 311.534545 320.778331 \r\nz\r\n\" style=\"fill:#008fd5;\"/>\r\n   </g>\r\n   <g id=\"patch_19\">\r\n    <path clip-path=\"url(#p38e22bcd89)\" d=\"M 325.671091 324.46 \r\nL 339.807636 324.46 \r\nL 339.807636 324.46 \r\nL 325.671091 324.46 \r\nz\r\n\" style=\"fill:#008fd5;\"/>\r\n   </g>\r\n   <g id=\"patch_20\">\r\n    <path clip-path=\"url(#p38e22bcd89)\" d=\"M 339.807636 324.46 \r\nL 353.944182 324.46 \r\nL 353.944182 291.069474 \r\nL 339.807636 291.069474 \r\nz\r\n\" style=\"fill:#008fd5;\"/>\r\n   </g>\r\n   <g id=\"patch_21\">\r\n    <path clip-path=\"url(#p38e22bcd89)\" d=\"M 353.944182 324.46 \r\nL 368.080727 324.46 \r\nL 368.080727 324.46 \r\nL 353.944182 324.46 \r\nz\r\n\" style=\"fill:#008fd5;\"/>\r\n   </g>\r\n   <g id=\"patch_22\">\r\n    <path clip-path=\"url(#p38e22bcd89)\" d=\"M 368.080727 324.46 \r\nL 382.217273 324.46 \r\nL 382.217273 322.02421 \r\nL 368.080727 322.02421 \r\nz\r\n\" style=\"fill:#008fd5;\"/>\r\n   </g>\r\n   <g id=\"patch_23\">\r\n    <path clip-path=\"url(#p38e22bcd89)\" d=\"M 382.217273 324.46 \r\nL 396.353818 324.46 \r\nL 396.353818 324.46 \r\nL 382.217273 324.46 \r\nz\r\n\" style=\"fill:#008fd5;\"/>\r\n   </g>\r\n   <g id=\"patch_24\">\r\n    <path clip-path=\"url(#p38e22bcd89)\" d=\"M 396.353818 324.46 \r\nL 410.490364 324.46 \r\nL 410.490364 162.318118 \r\nL 396.353818 162.318118 \r\nz\r\n\" style=\"fill:#008fd5;\"/>\r\n   </g>\r\n   <g id=\"patch_25\">\r\n    <path clip-path=\"url(#p38e22bcd89)\" d=\"M 410.490364 324.46 \r\nL 424.626909 324.46 \r\nL 424.626909 324.399166 \r\nL 410.490364 324.399166 \r\nz\r\n\" style=\"fill:#008fd5;\"/>\r\n   </g>\r\n   <g id=\"patch_26\">\r\n    <path clip-path=\"url(#p38e22bcd89)\" d=\"M 424.626909 324.46 \r\nL 438.763455 324.46 \r\nL 438.763455 324.457567 \r\nL 424.626909 324.457567 \r\nz\r\n\" style=\"fill:#008fd5;\"/>\r\n   </g>\r\n   <g id=\"patch_27\">\r\n    <path clip-path=\"url(#p38e22bcd89)\" d=\"M 438.763455 324.46 \r\nL 452.9 324.46 \r\nL 452.9 309.560555 \r\nL 438.763455 309.560555 \r\nz\r\n\" style=\"fill:#008fd5;\"/>\r\n   </g>\r\n   <g id=\"patch_28\">\r\n    <path clip-path=\"url(#p38e22bcd89)\" d=\"M 452.9 324.46 \r\nL 467.036545 324.46 \r\nL 467.036545 324.46 \r\nL 452.9 324.46 \r\nz\r\n\" style=\"fill:#008fd5;\"/>\r\n   </g>\r\n   <g id=\"patch_29\">\r\n    <path clip-path=\"url(#p38e22bcd89)\" d=\"M 467.036545 324.46 \r\nL 481.173091 324.46 \r\nL 481.173091 324.46 \r\nL 467.036545 324.46 \r\nz\r\n\" style=\"fill:#008fd5;\"/>\r\n   </g>\r\n   <g id=\"patch_30\">\r\n    <path clip-path=\"url(#p38e22bcd89)\" d=\"M 481.173091 324.46 \r\nL 495.309636 324.46 \r\nL 495.309636 324.440533 \r\nL 481.173091 324.440533 \r\nz\r\n\" style=\"fill:#008fd5;\"/>\r\n   </g>\r\n   <g id=\"patch_31\">\r\n    <path clip-path=\"url(#p38e22bcd89)\" d=\"M 495.309636 324.46 \r\nL 509.446182 324.46 \r\nL 509.446182 260.423775 \r\nL 495.309636 260.423775 \r\nz\r\n\" style=\"fill:#008fd5;\"/>\r\n   </g>\r\n   <g id=\"patch_32\">\r\n    <path clip-path=\"url(#p38e22bcd89)\" d=\"M 509.446182 324.46 \r\nL 523.582727 324.46 \r\nL 523.582727 324.4527 \r\nL 509.446182 324.4527 \r\nz\r\n\" style=\"fill:#008fd5;\"/>\r\n   </g>\r\n   <g id=\"patch_33\">\r\n    <path clip-path=\"url(#p38e22bcd89)\" d=\"M 523.582727 324.46 \r\nL 537.719273 324.46 \r\nL 537.719273 324.455133 \r\nL 523.582727 324.455133 \r\nz\r\n\" style=\"fill:#008fd5;\"/>\r\n   </g>\r\n   <g id=\"patch_34\">\r\n    <path clip-path=\"url(#p38e22bcd89)\" d=\"M 537.719273 324.46 \r\nL 551.855818 324.46 \r\nL 551.855818 324.46 \r\nL 537.719273 324.46 \r\nz\r\n\" style=\"fill:#008fd5;\"/>\r\n   </g>\r\n   <g id=\"patch_35\">\r\n    <path clip-path=\"url(#p38e22bcd89)\" d=\"M 551.855818 324.46 \r\nL 565.992364 324.46 \r\nL 565.992364 320.68343 \r\nL 551.855818 320.68343 \r\nz\r\n\" style=\"fill:#008fd5;\"/>\r\n   </g>\r\n   <g id=\"patch_36\">\r\n    <path clip-path=\"url(#p38e22bcd89)\" d=\"M 565.992364 324.46 \r\nL 580.128909 324.46 \r\nL 580.128909 324.46 \r\nL 565.992364 324.46 \r\nz\r\n\" style=\"fill:#008fd5;\"/>\r\n   </g>\r\n   <g id=\"patch_37\">\r\n    <path clip-path=\"url(#p38e22bcd89)\" d=\"M 580.128909 324.46 \r\nL 594.265455 324.46 \r\nL 594.265455 324.457567 \r\nL 580.128909 324.457567 \r\nz\r\n\" style=\"fill:#008fd5;\"/>\r\n   </g>\r\n   <g id=\"patch_38\">\r\n    <path clip-path=\"url(#p38e22bcd89)\" d=\"M 594.265455 324.46 \r\nL 608.402 324.46 \r\nL 608.402 301.462342 \r\nL 594.265455 301.462342 \r\nz\r\n\" style=\"fill:#008fd5;\"/>\r\n   </g>\r\n   <g id=\"patch_39\">\r\n    <path clip-path=\"url(#p38e22bcd89)\" d=\"M 608.402 324.46 \r\nL 622.538545 324.46 \r\nL 622.538545 324.46 \r\nL 608.402 324.46 \r\nz\r\n\" style=\"fill:#008fd5;\"/>\r\n   </g>\r\n   <g id=\"patch_40\">\r\n    <path clip-path=\"url(#p38e22bcd89)\" d=\"M 622.538545 324.46 \r\nL 636.675091 324.46 \r\nL 636.675091 324.455133 \r\nL 622.538545 324.455133 \r\nz\r\n\" style=\"fill:#008fd5;\"/>\r\n   </g>\r\n   <g id=\"patch_41\">\r\n    <path clip-path=\"url(#p38e22bcd89)\" d=\"M 636.675091 324.46 \r\nL 650.811636 324.46 \r\nL 650.811636 324.46 \r\nL 636.675091 324.46 \r\nz\r\n\" style=\"fill:#008fd5;\"/>\r\n   </g>\r\n   <g id=\"patch_42\">\r\n    <path clip-path=\"url(#p38e22bcd89)\" d=\"M 650.811636 324.46 \r\nL 664.948182 324.46 \r\nL 664.948182 323.192221 \r\nL 650.811636 323.192221 \r\nz\r\n\" style=\"fill:#008fd5;\"/>\r\n   </g>\r\n   <g id=\"patch_43\">\r\n    <path clip-path=\"url(#p38e22bcd89)\" d=\"M 664.948182 324.46 \r\nL 679.084727 324.46 \r\nL 679.084727 324.46 \r\nL 664.948182 324.46 \r\nz\r\n\" style=\"fill:#008fd5;\"/>\r\n   </g>\r\n   <g id=\"patch_44\">\r\n    <path clip-path=\"url(#p38e22bcd89)\" d=\"M 679.084727 324.46 \r\nL 693.221273 324.46 \r\nL 693.221273 324.46 \r\nL 679.084727 324.46 \r\nz\r\n\" style=\"fill:#008fd5;\"/>\r\n   </g>\r\n   <g id=\"patch_45\">\r\n    <path clip-path=\"url(#p38e22bcd89)\" d=\"M 693.221273 324.46 \r\nL 707.357818 324.46 \r\nL 707.357818 313.991698 \r\nL 693.221273 313.991698 \r\nz\r\n\" style=\"fill:#008fd5;\"/>\r\n   </g>\r\n   <g id=\"patch_46\">\r\n    <path clip-path=\"url(#p38e22bcd89)\" d=\"M 707.357818 324.46 \r\nL 721.494364 324.46 \r\nL 721.494364 324.46 \r\nL 707.357818 324.46 \r\nz\r\n\" style=\"fill:#008fd5;\"/>\r\n   </g>\r\n   <g id=\"patch_47\">\r\n    <path clip-path=\"url(#p38e22bcd89)\" d=\"M 721.494364 324.46 \r\nL 735.630909 324.46 \r\nL 735.630909 324.46 \r\nL 721.494364 324.46 \r\nz\r\n\" style=\"fill:#008fd5;\"/>\r\n   </g>\r\n   <g id=\"patch_48\">\r\n    <path clip-path=\"url(#p38e22bcd89)\" d=\"M 735.630909 324.46 \r\nL 749.767455 324.46 \r\nL 749.767455 324.46 \r\nL 735.630909 324.46 \r\nz\r\n\" style=\"fill:#008fd5;\"/>\r\n   </g>\r\n   <g id=\"patch_49\">\r\n    <path clip-path=\"url(#p38e22bcd89)\" d=\"M 749.767455 324.46 \r\nL 763.904 324.46 \r\nL 763.904 324.46 \r\nL 749.767455 324.46 \r\nz\r\n\" style=\"fill:#008fd5;\"/>\r\n   </g>\r\n   <g id=\"patch_50\">\r\n    <path clip-path=\"url(#p38e22bcd89)\" d=\"M 763.904 324.46 \r\nL 778.040545 324.46 \r\nL 778.040545 324.46 \r\nL 763.904 324.46 \r\nz\r\n\" style=\"fill:#008fd5;\"/>\r\n   </g>\r\n   <g id=\"patch_51\">\r\n    <path clip-path=\"url(#p38e22bcd89)\" d=\"M 778.040545 324.46 \r\nL 792.177091 324.46 \r\nL 792.177091 324.46 \r\nL 778.040545 324.46 \r\nz\r\n\" style=\"fill:#008fd5;\"/>\r\n   </g>\r\n   <g id=\"patch_52\">\r\n    <path clip-path=\"url(#p38e22bcd89)\" d=\"M 792.177091 324.46 \r\nL 806.313636 324.46 \r\nL 806.313636 312.023112 \r\nL 792.177091 312.023112 \r\nz\r\n\" style=\"fill:#008fd5;\"/>\r\n   </g>\r\n   <g id=\"patch_53\">\r\n    <path d=\"M 64.145 324.46 \r\nL 64.145 7.2 \r\n\" style=\"fill:none;stroke:#f0f0f0;stroke-linecap:square;stroke-linejoin:miter;stroke-width:3;\"/>\r\n   </g>\r\n   <g id=\"patch_54\">\r\n    <path d=\"M 841.655 324.46 \r\nL 841.655 7.2 \r\n\" style=\"fill:none;stroke:#f0f0f0;stroke-linecap:square;stroke-linejoin:miter;stroke-width:3;\"/>\r\n   </g>\r\n   <g id=\"patch_55\">\r\n    <path d=\"M 64.145 324.46 \r\nL 841.655 324.46 \r\n\" style=\"fill:none;stroke:#f0f0f0;stroke-linecap:square;stroke-linejoin:miter;stroke-width:3;\"/>\r\n   </g>\r\n   <g id=\"patch_56\">\r\n    <path d=\"M 64.145 7.2 \r\nL 841.655 7.2 \r\n\" style=\"fill:none;stroke:#f0f0f0;stroke-linecap:square;stroke-linejoin:miter;stroke-width:3;\"/>\r\n   </g>\r\n  </g>\r\n </g>\r\n <defs>\r\n  <clipPath id=\"p38e22bcd89\">\r\n   <rect height=\"317.26\" width=\"777.51\" x=\"64.145\" y=\"7.2\"/>\r\n  </clipPath>\r\n </defs>\r\n</svg>\r\n",
      "text/plain": [
       "<Figure size 864x360 with 1 Axes>"
      ]
     },
     "metadata": {},
     "output_type": "display_data"
    }
   ],
   "source": [
    "data.baths.hist(figsize=(12,5), log=False, bins=50, xrot=90);\n",
    "plt.tight_layout()\n",
    "# data.info()"
   ]
  },
  {
   "cell_type": "markdown",
   "metadata": {},
   "source": [
    "### Column \"homeFacts\""
   ]
  },
  {
   "cell_type": "code",
   "execution_count": 183,
   "metadata": {},
   "outputs": [
    {
     "name": "stdout",
     "output_type": "stream",
     "text": [
      "Пропуски: 0\n",
      "Уникальных: 320673\n"
     ]
    },
    {
     "data": {
      "text/plain": [
       "\"{'atAGlanceFacts': [{'factValue': '2019', 'factLabel': 'Year built'}, {'factValue': '', 'factLabel': 'Remodeled year'}, {'factValue': 'Central A/C, Heat Pump', 'factLabel': 'Heating'}, {'factValue': '', 'factLabel': 'Cooling'}, {'factValue': '', 'factLabel': 'Parking'}, {'factValue': None, 'factLabel': 'lotsize'}, {'factValue': '$144', 'factLabel': 'Price/sqft'}]}\""
      ]
     },
     "execution_count": 183,
     "metadata": {},
     "output_type": "execute_result"
    }
   ],
   "source": [
    "print('Пропуски:', data.homeFacts.isna().sum())\n",
    "print('Уникальных:', data.homeFacts.nunique())\n",
    "# display(data.homeFacts.value_counts(dropna=False))\n",
    "data.homeFacts[0]"
   ]
  },
  {
   "cell_type": "code",
   "execution_count": 184,
   "metadata": {},
   "outputs": [],
   "source": [
    "def clen(str):\n",
    "  str = str.replace(\"''\", '0')\n",
    "  str = str.replace(\"'\", \"\")\n",
    "  str = str.replace(\"None\", '0')\n",
    "  str = str.replace(\"No Data\", '0')\n",
    "  str = str.replace(\"No Info\", '0')\n",
    "  str = str.replace(\"/sqft\", '')\n",
    "  str = str.replace(\"$\", '')\n",
    "  return str"
   ]
  },
  {
   "cell_type": "code",
   "execution_count": 185,
   "metadata": {},
   "outputs": [],
   "source": [
    "def parse_home_facts(s):\n",
    "  res = []\n",
    "  s = s.split(\"{'atAGlanceFacts': [{'factValue': \")[1]\n",
    "  s = s.split(\", 'factLabel': 'Year built'}, {'factValue': \")\n",
    "  s[0] = clen(s[0])\n",
    "  # year = s[0]\n",
    "  res.append(s[0])\n",
    "  s = s[1].split(\", 'factLabel': 'Remodeled year'}, {'factValue': \")\n",
    "  s[0] = clen(s[0])\n",
    "  # remo = s[0]\n",
    "  res.append(s[0])\n",
    "  s = s[1].split(\", 'factLabel': 'Heating'}, {'factValue': \")\n",
    "  # heat = s[0]\n",
    "  res.append(s[0])\n",
    "  s = s[1].split(\", 'factLabel': 'Cooling'}, {'factValue': \")\n",
    "  # cool = s[0]\n",
    "  res.append(s[0])\n",
    "  s = s[1].split(\", 'factLabel': 'Parking'}, {'factValue': \")\n",
    "  s[0] = clen(s[0])\n",
    "  # park = s[0]\n",
    "  res.append(s[0])\n",
    "  s = s[1].split(\", 'factLabel': 'lotsize'}, {'factValue': \")\n",
    "  # size = s[0]\n",
    "  res.append(s[0])\n",
    "  s = s[1].split(\", 'factLabel': 'Price/sqft'}]}\")\n",
    "  s[0] = clen(s[0])\n",
    "  # price = s[0]\n",
    "  res.append(s[0])\n",
    "  return int(res[0]), int(res[1]), res[2], res[3], res[4], res[5], res[6]"
   ]
  },
  {
   "cell_type": "code",
   "execution_count": 186,
   "metadata": {},
   "outputs": [],
   "source": [
    "homeFacts = data.homeFacts.map(parse_home_facts)"
   ]
  },
  {
   "cell_type": "code",
   "execution_count": 187,
   "metadata": {},
   "outputs": [
    {
     "data": {
      "text/html": [
       "<div>\n",
       "<style scoped>\n",
       "    .dataframe tbody tr th:only-of-type {\n",
       "        vertical-align: middle;\n",
       "    }\n",
       "\n",
       "    .dataframe tbody tr th {\n",
       "        vertical-align: top;\n",
       "    }\n",
       "\n",
       "    .dataframe thead th {\n",
       "        text-align: right;\n",
       "    }\n",
       "</style>\n",
       "<table border=\"1\" class=\"dataframe\">\n",
       "  <thead>\n",
       "    <tr style=\"text-align: right;\">\n",
       "      <th></th>\n",
       "      <th>hf_built_year</th>\n",
       "      <th>hf_remodeled_year</th>\n",
       "      <th>hf_heating</th>\n",
       "      <th>hf_cooling</th>\n",
       "      <th>hf_parking</th>\n",
       "      <th>hf_lotsize</th>\n",
       "      <th>hf_price_sqft</th>\n",
       "    </tr>\n",
       "  </thead>\n",
       "  <tbody>\n",
       "    <tr>\n",
       "      <th>0</th>\n",
       "      <td>2019</td>\n",
       "      <td>0</td>\n",
       "      <td>'Central A/C, Heat Pump'</td>\n",
       "      <td>''</td>\n",
       "      <td>0</td>\n",
       "      <td>None</td>\n",
       "      <td>144</td>\n",
       "    </tr>\n",
       "    <tr>\n",
       "      <th>1</th>\n",
       "      <td>2019</td>\n",
       "      <td>0</td>\n",
       "      <td>''</td>\n",
       "      <td>''</td>\n",
       "      <td>0</td>\n",
       "      <td>'5828 sqft'</td>\n",
       "      <td>159</td>\n",
       "    </tr>\n",
       "    <tr>\n",
       "      <th>2</th>\n",
       "      <td>1961</td>\n",
       "      <td>1967</td>\n",
       "      <td>'Forced Air'</td>\n",
       "      <td>'Central'</td>\n",
       "      <td>Attached Garage</td>\n",
       "      <td>'8,626 sqft'</td>\n",
       "      <td>965</td>\n",
       "    </tr>\n",
       "    <tr>\n",
       "      <th>3</th>\n",
       "      <td>2006</td>\n",
       "      <td>2006</td>\n",
       "      <td>'Forced Air'</td>\n",
       "      <td>'Central'</td>\n",
       "      <td>Detached Garage</td>\n",
       "      <td>'8,220 sqft'</td>\n",
       "      <td>371</td>\n",
       "    </tr>\n",
       "    <tr>\n",
       "      <th>4</th>\n",
       "      <td>0</td>\n",
       "      <td>0</td>\n",
       "      <td>''</td>\n",
       "      <td>''</td>\n",
       "      <td>0</td>\n",
       "      <td>'10,019 sqft'</td>\n",
       "      <td>0</td>\n",
       "    </tr>\n",
       "  </tbody>\n",
       "</table>\n",
       "</div>"
      ],
      "text/plain": [
       "   hf_built_year  hf_remodeled_year                hf_heating hf_cooling  \\\n",
       "0           2019                  0  'Central A/C, Heat Pump'         ''   \n",
       "1           2019                  0                        ''         ''   \n",
       "2           1961               1967              'Forced Air'  'Central'   \n",
       "3           2006               2006              'Forced Air'  'Central'   \n",
       "4              0                  0                        ''         ''   \n",
       "\n",
       "        hf_parking     hf_lotsize hf_price_sqft  \n",
       "0                0           None           144  \n",
       "1                0    '5828 sqft'           159  \n",
       "2  Attached Garage   '8,626 sqft'           965  \n",
       "3  Detached Garage   '8,220 sqft'           371  \n",
       "4                0  '10,019 sqft'             0  "
      ]
     },
     "metadata": {},
     "output_type": "display_data"
    }
   ],
   "source": [
    "new_columns = ['hf_built_year', 'hf_remodeled_year' , 'hf_heating', 'hf_cooling', 'hf_parking', 'hf_lotsize' , 'hf_price_sqft' ]\n",
    "hf_data = pd.DataFrame.from_records(homeFacts, columns = new_columns)\n",
    "display(hf_data.head(5))\n",
    "# display(hf_data.info())"
   ]
  },
  {
   "cell_type": "markdown",
   "metadata": {},
   "source": [
    "### Dataset analysis \"hf_data\""
   ]
  },
  {
   "cell_type": "code",
   "execution_count": 188,
   "metadata": {},
   "outputs": [
    {
     "name": "stdout",
     "output_type": "stream",
     "text": [
      "Пропуски: 0\n",
      "Уникальных: 229\n"
     ]
    },
    {
     "data": {
      "text/plain": [
       "0       63551\n",
       "2019    32141\n",
       "2006     7998\n",
       "2005     7497\n",
       "2007     7137\n",
       "        ...  \n",
       "1807        1\n",
       "1809        1\n",
       "1700        1\n",
       "1823        1\n",
       "1804        1\n",
       "Name: hf_built_year, Length: 229, dtype: int64"
      ]
     },
     "metadata": {},
     "output_type": "display_data"
    },
    {
     "data": {
      "text/plain": [
       "count    3.766600e+05\n",
       "mean     2.975100e+06\n",
       "std      1.290388e+09\n",
       "min      0.000000e+00\n",
       "25%      1.926000e+03\n",
       "50%      1.974000e+03\n",
       "75%      2.005000e+03\n",
       "max      5.599906e+11\n",
       "Name: hf_built_year, dtype: float64"
      ]
     },
     "execution_count": 188,
     "metadata": {},
     "output_type": "execute_result"
    }
   ],
   "source": [
    "# hf_data.hf_built_year\n",
    "print('Пропуски:', hf_data.hf_built_year.isna().sum())\n",
    "print('Уникальных:', hf_data.hf_built_year.nunique())\n",
    "display(hf_data.hf_built_year.value_counts(dropna=False))\n",
    "hf_data.hf_built_year.describe()\n",
    "# hf_data.hf_built_year.value_counts(dropna=False).hist(figsize=(12,5), log=False, bins=50, xrot=0);\n",
    "# plt.tight_layout()"
   ]
  },
  {
   "cell_type": "code",
   "execution_count": 189,
   "metadata": {},
   "outputs": [
    {
     "data": {
      "text/markdown": [
       "| P1 | Min emission | P25 | IQR | P75 | Max emission | P99 |\n",
       "|-----|:-----:|----|-----|----|:-----:|-----|\n",
       "|0.0|1807.5|1926.0|79.0|2005.0|2123.5|2019.0|"
      ],
      "text/plain": [
       "<IPython.core.display.Markdown object>"
      ]
     },
     "metadata": {},
     "output_type": "display_data"
    },
    {
     "data": {
      "text/plain": [
       "0               63551\n",
       "559990649990        2\n",
       "1                   2\n",
       "1208                1\n",
       "1057                1\n",
       "1060                1\n",
       "1019                1\n",
       "Name: hf_built_year, dtype: int64"
      ]
     },
     "execution_count": 189,
     "metadata": {},
     "output_type": "execute_result"
    }
   ],
   "source": [
    "# Почистим выбросы \n",
    "get_emission_limits(hf_data.hf_built_year)\n",
    "# data.enginePower.loc[data.enginePower < min_emission_limits] = int(perc1)\n",
    "# data.enginePower.loc[data.enginePower > max_emission_limits] = int(perc99)\n",
    "hf_data.hf_built_year[(hf_data.hf_built_year < 1700) | (hf_data.hf_built_year > 2025)].value_counts(dropna=False)"
   ]
  },
  {
   "cell_type": "code",
   "execution_count": 190,
   "metadata": {},
   "outputs": [],
   "source": [
    "hf_data.hf_built_year.replace(559990649990, 0, inplace=True)\n",
    "hf_data.hf_built_year.replace(1, 0, inplace=True)\n",
    "hf_data.hf_built_year.replace(1208, 0, inplace=True)\n",
    "hf_data.hf_built_year.replace(1057, 0, inplace=True)\n",
    "hf_data.hf_built_year.replace(1060, 0, inplace=True)\n",
    "hf_data.hf_built_year.replace(1019, 0, inplace=True)"
   ]
  },
  {
   "cell_type": "code",
   "execution_count": 191,
   "metadata": {},
   "outputs": [
    {
     "name": "stdout",
     "output_type": "stream",
     "text": [
      "Пропуски: 0\n",
      "Уникальных: 153\n"
     ]
    },
    {
     "data": {
      "text/plain": [
       "0       225873\n",
       "2006      5538\n",
       "2005      4816\n",
       "2007      4386\n",
       "2008      3795\n",
       "         ...  \n",
       "1111         1\n",
       "1869         1\n",
       "1845         1\n",
       "1846         1\n",
       "1862         1\n",
       "Name: hf_remodeled_year, Length: 153, dtype: int64"
      ]
     },
     "metadata": {},
     "output_type": "display_data"
    },
    {
     "data": {
      "text/plain": [
       "count    376660.000000\n",
       "mean        793.733173\n",
       "std         971.589950\n",
       "min           0.000000\n",
       "25%           0.000000\n",
       "50%           0.000000\n",
       "75%        1978.000000\n",
       "max        2021.000000\n",
       "Name: hf_remodeled_year, dtype: float64"
      ]
     },
     "execution_count": 191,
     "metadata": {},
     "output_type": "execute_result"
    }
   ],
   "source": [
    "# hf_remodeled_year\n",
    "print('Пропуски:', hf_data.hf_remodeled_year.isna().sum())\n",
    "print('Уникальных:', hf_data.hf_remodeled_year.nunique())\n",
    "display(hf_data.hf_remodeled_year.value_counts(dropna=False))\n",
    "hf_data.hf_remodeled_year.describe()\n",
    "# hf_data.hf_remodeled_year.value_counts(dropna=False).hist(figsize=(12,5), log=False, bins=50, xrot=0);\n",
    "# plt.tight_layout()"
   ]
  },
  {
   "cell_type": "code",
   "execution_count": 192,
   "metadata": {},
   "outputs": [
    {
     "data": {
      "text/markdown": [
       "| P1 | Min emission | P25 | IQR | P75 | Max emission | P99 |\n",
       "|-----|:-----:|----|-----|----|:-----:|-----|\n",
       "|0.0|-2967.0|0.0|1978.0|1978.0|4945.0|2017.0|"
      ],
      "text/plain": [
       "<IPython.core.display.Markdown object>"
      ]
     },
     "metadata": {},
     "output_type": "display_data"
    },
    {
     "data": {
      "text/html": [
       "<div>\n",
       "<style scoped>\n",
       "    .dataframe tbody tr th:only-of-type {\n",
       "        vertical-align: middle;\n",
       "    }\n",
       "\n",
       "    .dataframe tbody tr th {\n",
       "        vertical-align: top;\n",
       "    }\n",
       "\n",
       "    .dataframe thead th {\n",
       "        text-align: right;\n",
       "    }\n",
       "</style>\n",
       "<table border=\"1\" class=\"dataframe\">\n",
       "  <thead>\n",
       "    <tr style=\"text-align: right;\">\n",
       "      <th></th>\n",
       "      <th>hf_built_year</th>\n",
       "      <th>hf_remodeled_year</th>\n",
       "      <th>hf_heating</th>\n",
       "      <th>hf_cooling</th>\n",
       "      <th>hf_parking</th>\n",
       "      <th>hf_lotsize</th>\n",
       "      <th>hf_price_sqft</th>\n",
       "    </tr>\n",
       "  </thead>\n",
       "  <tbody>\n",
       "    <tr>\n",
       "      <th>345</th>\n",
       "      <td>2018</td>\n",
       "      <td>1965</td>\n",
       "      <td>'Other'</td>\n",
       "      <td>'Central'</td>\n",
       "      <td>Detached Garage</td>\n",
       "      <td>'0.49 acres'</td>\n",
       "      <td>556</td>\n",
       "    </tr>\n",
       "    <tr>\n",
       "      <th>1474</th>\n",
       "      <td>2019</td>\n",
       "      <td>1963</td>\n",
       "      <td>'Central Electric, Zoned'</td>\n",
       "      <td>'Central Gas, Zoned'</td>\n",
       "      <td>0</td>\n",
       "      <td>'9,300 Sq. Ft.'</td>\n",
       "      <td>184 / Sq. Ft.</td>\n",
       "    </tr>\n",
       "    <tr>\n",
       "      <th>1738</th>\n",
       "      <td>2004</td>\n",
       "      <td>2003</td>\n",
       "      <td>''</td>\n",
       "      <td>''</td>\n",
       "      <td>0</td>\n",
       "      <td>'6.30 Acres'</td>\n",
       "      <td>349 / Sq. Ft.</td>\n",
       "    </tr>\n",
       "    <tr>\n",
       "      <th>1796</th>\n",
       "      <td>2005</td>\n",
       "      <td>1999</td>\n",
       "      <td>'Forced Air'</td>\n",
       "      <td>'Central'</td>\n",
       "      <td>Attached Garage</td>\n",
       "      <td>'7,606 sqft'</td>\n",
       "      <td>109</td>\n",
       "    </tr>\n",
       "    <tr>\n",
       "      <th>1830</th>\n",
       "      <td>2018</td>\n",
       "      <td>1923</td>\n",
       "      <td>'Radiant'</td>\n",
       "      <td>'Central'</td>\n",
       "      <td>0</td>\n",
       "      <td>'4,107 sqft'</td>\n",
       "      <td>1,948</td>\n",
       "    </tr>\n",
       "  </tbody>\n",
       "</table>\n",
       "</div>"
      ],
      "text/plain": [
       "      hf_built_year  hf_remodeled_year                 hf_heating  \\\n",
       "345            2018               1965                    'Other'   \n",
       "1474           2019               1963  'Central Electric, Zoned'   \n",
       "1738           2004               2003                         ''   \n",
       "1796           2005               1999               'Forced Air'   \n",
       "1830           2018               1923                  'Radiant'   \n",
       "\n",
       "                hf_cooling       hf_parking       hf_lotsize  hf_price_sqft  \n",
       "345              'Central'  Detached Garage     '0.49 acres'            556  \n",
       "1474  'Central Gas, Zoned'                0  '9,300 Sq. Ft.'  184 / Sq. Ft.  \n",
       "1738                    ''                0     '6.30 Acres'  349 / Sq. Ft.  \n",
       "1796             'Central'  Attached Garage     '7,606 sqft'            109  \n",
       "1830             'Central'                0     '4,107 sqft'          1,948  "
      ]
     },
     "execution_count": 192,
     "metadata": {},
     "output_type": "execute_result"
    }
   ],
   "source": [
    "# Почистим выбросы, год реконструкии должен быть больше или равен году реконструкции и меньше 2022 года, если 0 то не ремонтировался\n",
    "get_emission_limits(hf_data.hf_remodeled_year)\n",
    "\n",
    "hf_data[((hf_data.hf_remodeled_year < hf_data.hf_built_year) | (hf_data.hf_remodeled_year > 2025)) & hf_data.hf_remodeled_year != 0].head(5) #.value_counts(dropna=False)"
   ]
  },
  {
   "cell_type": "code",
   "execution_count": 193,
   "metadata": {},
   "outputs": [
    {
     "data": {
      "text/html": [
       "<div>\n",
       "<style scoped>\n",
       "    .dataframe tbody tr th:only-of-type {\n",
       "        vertical-align: middle;\n",
       "    }\n",
       "\n",
       "    .dataframe tbody tr th {\n",
       "        vertical-align: top;\n",
       "    }\n",
       "\n",
       "    .dataframe thead th {\n",
       "        text-align: right;\n",
       "    }\n",
       "</style>\n",
       "<table border=\"1\" class=\"dataframe\">\n",
       "  <thead>\n",
       "    <tr style=\"text-align: right;\">\n",
       "      <th></th>\n",
       "      <th>hf_built_year</th>\n",
       "      <th>hf_remodeled_year</th>\n",
       "      <th>hf_heating</th>\n",
       "      <th>hf_cooling</th>\n",
       "      <th>hf_parking</th>\n",
       "      <th>hf_lotsize</th>\n",
       "      <th>hf_price_sqft</th>\n",
       "    </tr>\n",
       "  </thead>\n",
       "  <tbody>\n",
       "  </tbody>\n",
       "</table>\n",
       "</div>"
      ],
      "text/plain": [
       "Empty DataFrame\n",
       "Columns: [hf_built_year, hf_remodeled_year, hf_heating, hf_cooling, hf_parking, hf_lotsize, hf_price_sqft]\n",
       "Index: []"
      ]
     },
     "execution_count": 193,
     "metadata": {},
     "output_type": "execute_result"
    }
   ],
   "source": [
    "# У 1481 дома, реконструкция проводилась раньше постройки, что невозможно! Присвоим таким значениям 0\n",
    "hf_data.loc[((hf_data.hf_remodeled_year < hf_data.hf_built_year) | (hf_data.hf_remodeled_year > 2025)) & hf_data.hf_remodeled_year != 0] = 0\n",
    "hf_data[((hf_data.hf_remodeled_year < hf_data.hf_built_year) | (hf_data.hf_remodeled_year > 2025)) & hf_data.hf_remodeled_year != 0].head(5)"
   ]
  },
  {
   "cell_type": "code",
   "execution_count": 194,
   "metadata": {},
   "outputs": [
    {
     "data": {
      "text/plain": [
       "True     311620\n",
       "False     65040\n",
       "Name: hf_has_remodeled, dtype: int64"
      ]
     },
     "metadata": {},
     "output_type": "display_data"
    }
   ],
   "source": [
    "# Создадим признак реконструкции и признак числа лет прошедших после постройки\n",
    "hf_data['hf_has_remodeled'] = hf_data.hf_built_year != 0\n",
    "display(hf_data.hf_has_remodeled.value_counts(dropna=False))"
   ]
  },
  {
   "cell_type": "code",
   "execution_count": 195,
   "metadata": {},
   "outputs": [
    {
     "data": {
      "text/plain": [
       "-1       165637\n",
       " 0       150286\n",
       " 1        10762\n",
       " 5         2397\n",
       " 10        2086\n",
       "          ...  \n",
       " 1111         1\n",
       " 159          1\n",
       " 2010         1\n",
       " 182          1\n",
       " 1916         1\n",
       "Name: hf_years_before_remodeled, Length: 288, dtype: int64"
      ]
     },
     "metadata": {},
     "output_type": "display_data"
    },
    {
     "data": {
      "text/markdown": [
       "| P1 | Min emission | P25 | IQR | P75 | Max emission | P99 |\n",
       "|-----|:-----:|----|-----|----|:-----:|-----|\n",
       "|-1.0|-2.5|-1.0|1.0|0.0|1.5|85.0|"
      ],
      "text/plain": [
       "<IPython.core.display.Markdown object>"
      ]
     },
     "metadata": {},
     "output_type": "display_data"
    },
    {
     "data": {
      "text/plain": [
       "(-1.0, -2.5, 1.5, 85.0)"
      ]
     },
     "execution_count": 195,
     "metadata": {},
     "output_type": "execute_result"
    }
   ],
   "source": [
    "# Создадим признак: количество лет между строительством и модернизацией, если ремонта небыло, то поставим -1\n",
    "hf_data['hf_years_before_remodeled'] = (hf_data.hf_remodeled_year - hf_data.hf_built_year)\n",
    "hf_data.hf_years_before_remodeled = hf_data.hf_years_before_remodeled.apply(lambda p: p if p >= 0 else -1 )\n",
    "display(hf_data.hf_years_before_remodeled.value_counts(dropna=False))\n",
    "# TODO Признак не идеальный у него много выбросов, нужно подумать...\n",
    "get_emission_limits(hf_data.hf_years_before_remodeled)"
   ]
  },
  {
   "cell_type": "code",
   "execution_count": 196,
   "metadata": {},
   "outputs": [
    {
     "name": "stdout",
     "output_type": "stream",
     "text": [
      "Пропуски: 0\n",
      "Уникальных: 1972\n"
     ]
    },
    {
     "data": {
      "text/plain": [
       "'FORCED AIR'                     133733\n",
       "''                               105303\n",
       "'OTHER'                           29363\n",
       "'ELECTRIC'                        10184\n",
       "'GAS'                              9283\n",
       "'HEAT PUMP'                        8824\n",
       "'NO DATA'                          8592\n",
       "'CENTRAL AIR'                      7772\n",
       "'CENTRAL ELECTRIC'                 7010\n",
       "'CENTRAL'                          6195\n",
       "'CENTRAL, ELECTRIC'                4245\n",
       "'BASEBOARD'                        3808\n",
       "NONE                               3533\n",
       "'WALL'                             3292\n",
       "'ELECTRIC HEAT'                    3064\n",
       "'HEATING SYSTEM'                   2709\n",
       "'FORCED AIR, HEAT PUMP'            1746\n",
       "NaN                                1481\n",
       "'RADIANT'                          1478\n",
       "'CENTRAL AIR, CEILING FAN(S)'      1422\n",
       "Name: hf_heating, dtype: int64"
      ]
     },
     "metadata": {},
     "output_type": "display_data"
    }
   ],
   "source": [
    "# hf_heating\n",
    "print('Пропуски:', hf_data.hf_heating.isna().sum())\n",
    "print('Уникальных:', hf_data.hf_heating.nunique())\n",
    "hf_data.hf_heating = hf_data.hf_heating.str.upper()\n",
    "display(hf_data.hf_heating.value_counts(dropna=False)[:20])\n",
    "# hf_data.hf_heating.describe()"
   ]
  },
  {
   "cell_type": "code",
   "execution_count": 197,
   "metadata": {},
   "outputs": [],
   "source": [
    "def parse_heat(s):\n",
    "    s = str(s)\n",
    "    if len(s) == 0 or s == '' or s ==\"''\" or s == ' ' or 'NO DATA' in s: return 'NO_DATA'\n",
    "    if 'AIR' in s or 'HEAT PUMP' in s: return 'AIR'\n",
    "    if 'GAS' in s or 'PROPANE' in s: return 'GAS'\n",
    "    if 'ELECTRIC' in s: return 'ELECTRIC'\n",
    "    if 'NONE' in s or 'NO' in s: return 'NONE'\n",
    "    if 'CENTRAL' in s: return 'CENTRAL'\n",
    "    else: return 'OTHER'"
   ]
  },
  {
   "cell_type": "code",
   "execution_count": 198,
   "metadata": {},
   "outputs": [
    {
     "data": {
      "text/plain": [
       "AIR         163862\n",
       "NO_DATA     113895\n",
       "OTHER        45607\n",
       "ELECTRIC     26509\n",
       "GAS          14692\n",
       "CENTRAL       8388\n",
       "NONE          3707\n",
       "Name: hf_heating, dtype: int64"
      ]
     },
     "metadata": {},
     "output_type": "display_data"
    }
   ],
   "source": [
    "hf_data.hf_heating = hf_data.hf_heating.map(parse_heat).astype('category')\n",
    "display(hf_data.hf_heating.value_counts(dropna=False))"
   ]
  },
  {
   "cell_type": "code",
   "execution_count": 199,
   "metadata": {},
   "outputs": [
    {
     "name": "stdout",
     "output_type": "stream",
     "text": [
      "Пропуски: 0\n",
      "Уникальных: 1429\n"
     ]
    },
    {
     "data": {
      "text/plain": [
       "'CENTRAL'                                            157910\n",
       "''                                                   119834\n",
       "'CENTRAL AIR'                                         14336\n",
       "'NO DATA'                                             10594\n",
       "'HAS COOLING'                                          9674\n",
       "'NONE'                                                 7377\n",
       "'CENTRAL ELECTRIC'                                     6139\n",
       "'WALL'                                                 4008\n",
       "NONE                                                   3533\n",
       "'CENTRAL GAS'                                          3478\n",
       "'CENTRAL HEATING'                                      2806\n",
       "'COOLING SYSTEM'                                       2700\n",
       "'CENTRAL A/C'                                          2051\n",
       "'OTHER'                                                1823\n",
       "'CENTRAL A/C (ELECTRIC), CENTRAL HEAT (GAS)'           1629\n",
       "NaN                                                    1481\n",
       "'CENTRAL A/C (ELECTRIC), CENTRAL HEAT (ELECTRIC)'      1416\n",
       "'REFRIGERATION'                                        1068\n",
       "'CENTRAL, ELECTRIC'                                    1060\n",
       "'EVAPORATIVE'                                          1009\n",
       "Name: hf_cooling, dtype: int64"
      ]
     },
     "metadata": {},
     "output_type": "display_data"
    }
   ],
   "source": [
    "# hf_cooling\n",
    "print('Пропуски:', hf_data.hf_cooling.isna().sum())\n",
    "print('Уникальных:', hf_data.hf_cooling.nunique())\n",
    "hf_data.hf_cooling = hf_data.hf_cooling.str.upper()\n",
    "display(hf_data.hf_cooling.value_counts(dropna=False)[:20])"
   ]
  },
  {
   "cell_type": "code",
   "execution_count": 200,
   "metadata": {},
   "outputs": [],
   "source": [
    "def parse_cooling(s):\n",
    "    s = str(s)\n",
    "    if len(s) == 0 or s == '' or s ==\"''\" or s == ' ' or 'NO DATA' in s: return 'NO_DATA'\n",
    "    #if 'EVAPORATIVE' in s: return 'EVAPORATIVE'\n",
    "    if 'CENTRAL' in s: return 'CENTRAL'\n",
    "    if 'NONE' in s or 'NO' in s: return 'NONE'\n",
    "    else: return 'OTHER'"
   ]
  },
  {
   "cell_type": "code",
   "execution_count": 201,
   "metadata": {},
   "outputs": [
    {
     "data": {
      "text/plain": [
       "CENTRAL    203354\n",
       "NO_DATA    130428\n",
       "OTHER       31725\n",
       "NONE        11153\n",
       "Name: hf_cooling, dtype: int64"
      ]
     },
     "metadata": {},
     "output_type": "display_data"
    }
   ],
   "source": [
    "hf_data.hf_cooling = hf_data.hf_cooling.map(parse_cooling).astype('category')\n",
    "display(hf_data.hf_cooling.value_counts(dropna=False))"
   ]
  },
  {
   "cell_type": "code",
   "execution_count": 202,
   "metadata": {},
   "outputs": [
    {
     "name": "stdout",
     "output_type": "stream",
     "text": [
      "Пропуски: 0\n",
      "Уникальных: 3341\n"
     ]
    },
    {
     "data": {
      "text/plain": [
       "0                                   191253\n",
       "ATTACHED GARAGE                      70409\n",
       "2 SPACES                             27912\n",
       "1 SPACE                              14154\n",
       "DETACHED GARAGE                      13156\n",
       "CARPORT                               7718\n",
       "OFF STREET                            5222\n",
       "3 SPACES                              4683\n",
       "CARPORT, ATTACHED GARAGE              3006\n",
       "1                                     2933\n",
       "4 SPACES                              2893\n",
       "2                                     2755\n",
       "ON STREET                             1705\n",
       "NaN                                   1481\n",
       "ATTACHED GARAGE, DETACHED GARAGE      1352\n",
       "ATTACHED GARAGE, CARPORT               989\n",
       "PARKING DESC                           900\n",
       "6 SPACES                               748\n",
       "DETACHED GARAGE, ATTACHED GARAGE       722\n",
       "DRIVEWAY                               693\n",
       "Name: hf_parking, dtype: int64"
      ]
     },
     "metadata": {},
     "output_type": "display_data"
    }
   ],
   "source": [
    "# hf_parking\n",
    "print('Пропуски:', hf_data.hf_parking.isna().sum())\n",
    "print('Уникальных:', hf_data.hf_parking.nunique())\n",
    "hf_data.hf_parking = hf_data.hf_parking.str.upper()\n",
    "display(hf_data.hf_parking.value_counts(dropna=False)[:20])"
   ]
  },
  {
   "cell_type": "code",
   "execution_count": 203,
   "metadata": {},
   "outputs": [],
   "source": [
    "def parse_parking(s):\n",
    "    s = str(s)\n",
    "    #if len(s) == 0 or s == '' or s ==\"''\" or s == ' ' or 'NO DATA' in s: return 'NO_DATA'\n",
    "    if '1' in s or \"ONE\" in s or 'SING' in s: return 'ONE'\n",
    "    elif '2' in s or \"TWO\" in s or \"DOUB\" in s: return 'TWO'\n",
    "    elif '3' in s: return 'THREE'\n",
    "    elif 'ATTACHED' in s: return 'ATTACHED'\n",
    "    elif 'DETACHED' in s: return 'DETACHED'\n",
    "    elif 'OFF' in s: return 'OFF_STREET'\n",
    "    elif 'ON' in s: return 'ON_STREET'\n",
    "    elif 'CAR' in s: return 'CARPORT'\n",
    "    elif '4' in s or '5' in s or '6' in s or '7' in s or '8' in s or '9' in s: return 'FOUR_OR_MORE'\n",
    "    elif 'NONE' in s or 'NO' in s or s == '0': return 'NONE'\n",
    "    else: return 'OTHER'"
   ]
  },
  {
   "cell_type": "code",
   "execution_count": 204,
   "metadata": {},
   "outputs": [
    {
     "data": {
      "text/plain": [
       "NONE            191302\n",
       "ATTACHED         80414\n",
       "TWO              33406\n",
       "ONE              18231\n",
       "DETACHED         14678\n",
       "OTHER             9011\n",
       "CARPORT           8209\n",
       "OFF_STREET        7114\n",
       "FOUR_OR_MORE      6165\n",
       "THREE             5566\n",
       "ON_STREET         2564\n",
       "Name: hf_parking, dtype: int64"
      ]
     },
     "metadata": {},
     "output_type": "display_data"
    }
   ],
   "source": [
    "hf_data.hf_parking = hf_data.hf_parking.map(parse_parking).astype('category')\n",
    "display(hf_data.hf_parking.value_counts(dropna=False))"
   ]
  },
  {
   "cell_type": "code",
   "execution_count": 205,
   "metadata": {},
   "outputs": [
    {
     "name": "stdout",
     "output_type": "stream",
     "text": [
      "Пропуски: 0\n",
      "Уникальных: 37332\n"
     ]
    },
    {
     "data": {
      "text/plain": [
       "''               32659\n",
       "NONE             28316\n",
       "'—'              25133\n",
       "'NO DATA'         5329\n",
       "'-- SQFT LOT'     3814\n",
       "'0.26 ACRES'      3120\n",
       "'0.25 ACRES'      2711\n",
       "'0.28 ACRES'      2598\n",
       "'0.27 ACRES'      2458\n",
       "'0.29 ACRES'      2336\n",
       "'0.34 ACRES'      1944\n",
       "'0.31 ACRES'      1712\n",
       "'0.32 ACRES'      1573\n",
       "'6,098 SQFT'      1519\n",
       "NaN               1481\n",
       "'0.3 ACRES'       1428\n",
       "'0.33 ACRES'      1400\n",
       "'7,405 SQFT'      1353\n",
       "'0.35 ACRES'      1349\n",
       "'1 ACRE'          1340\n",
       "Name: hf_lotsize, dtype: int64"
      ]
     },
     "metadata": {},
     "output_type": "display_data"
    }
   ],
   "source": [
    "# hf_lotsize\n",
    "print('Пропуски:', hf_data.hf_lotsize.isna().sum())\n",
    "print('Уникальных:', hf_data.hf_lotsize.nunique())\n",
    "hf_data.hf_lotsize = hf_data.hf_lotsize.str.upper()\n",
    "display(hf_data.hf_lotsize.value_counts(dropna=False)[:20])"
   ]
  },
  {
   "cell_type": "markdown",
   "metadata": {},
   "source": [
    "Столбец содержит данные о пощади. Возможно, площадь участка.\n",
    "Около 96000 значений типа NONE, ' ', '—', 'NO DATA', '-- SQFT LOT'\n",
    "Есть измерения в квадратных футах и акрах.\n",
    "Переведем акры в квадратные футы"
   ]
  },
  {
   "cell_type": "code",
   "execution_count": 206,
   "metadata": {},
   "outputs": [],
   "source": [
    "def parse_lotsize(s):\n",
    "    s = str(s)\n",
    "    if len(s) == 0 or s == ' ':  return '', 0.0\n",
    "    elif 'nan' in s: return '', 0.0\n",
    "    elif s == '' or 'NO' in s or '—' in s or '-' in s: return '', 0.0\n",
    " \n",
    "    elif ' SQ' in s: \n",
    "        s = s.replace(',', '')\n",
    "        s = s.replace('.', '')\n",
    "        s = s.replace('\"', '')\n",
    "        s = s.replace(\"'\", '')\n",
    "        s = s.split(' ')\n",
    "        try:\n",
    "            return 'SQ', float(s[0])\n",
    "        except:\n",
    "            # print('EX_SQ', s)\n",
    "            return 'SQ_EX', 0.0\n",
    "\n",
    "    elif ' AC' in s: \n",
    "        s = s.replace(',', '')\n",
    "        s = s.replace('.', '')\n",
    "        s = s.replace('\"', '')\n",
    "        s = s.replace(\"'\", '')\n",
    "        s = s.split(' ')\n",
    "        try:\n",
    "            return 'AC', float(s[0])*43560 # переводим в квадратные футы\n",
    "        except:\n",
    "            # print ('EX_AC', s)\n",
    "            return 'AC_EX', 0.0\n",
    "    \n",
    "    else: \n",
    "        # print ('EX', s)\n",
    "        return 'EX', s"
   ]
  },
  {
   "cell_type": "code",
   "execution_count": 207,
   "metadata": {},
   "outputs": [
    {
     "data": {
      "text/plain": [
       "(, 0.0)            64074\n",
       "(EX, '')           32659\n",
       "(AC, 1132560.0)     3418\n",
       "(AC, 1089000.0)     3068\n",
       "(AC, 1219680.0)     2849\n",
       "                   ...  \n",
       "(EX, '4585126')        1\n",
       "(EX, '45855')          1\n",
       "(EX, '45860')          1\n",
       "(EX, '45868')          1\n",
       "(SQ, 1896602.0)        1\n",
       "Name: hf_lotsize, Length: 24388, dtype: int64"
      ]
     },
     "metadata": {},
     "output_type": "display_data"
    }
   ],
   "source": [
    "hf_lotsize = hf_data.hf_lotsize.map(parse_lotsize).astype('category')\n",
    "display(hf_lotsize.value_counts(dropna=False))"
   ]
  },
  {
   "cell_type": "code",
   "execution_count": 208,
   "metadata": {},
   "outputs": [
    {
     "data": {
      "text/plain": [
       "SQ    159198\n",
       "AC     76823\n",
       "EX     76565\n",
       "       64074\n",
       "dtype: int64"
      ]
     },
     "metadata": {},
     "output_type": "display_data"
    }
   ],
   "source": [
    "idx, values = zip(*hf_lotsize)\n",
    "a = pd.Series(values, idx)\n",
    "display(a.index.value_counts(dropna=False))"
   ]
  },
  {
   "cell_type": "markdown",
   "metadata": {},
   "source": [
    "Данные гразные. Площадь есть в акрах, есть в квадратных футах, а есть без указания единиц измерения. Такой столбец очень, проблематично чистить. \n",
    "Тем более он будет сильно коллерировать с столбцом \"sqft\" в основном датасете"
   ]
  },
  {
   "cell_type": "code",
   "execution_count": 209,
   "metadata": {},
   "outputs": [],
   "source": [
    "# Удалим hf_lotsize\n",
    "delete_col.append('hf_lotsize')"
   ]
  },
  {
   "cell_type": "code",
   "execution_count": 210,
   "metadata": {},
   "outputs": [
    {
     "name": "stdout",
     "output_type": "stream",
     "text": [
      "Пропуски: 0\n",
      "Уникальных: 4514\n"
     ]
    },
    {
     "data": {
      "text/plain": [
       "0                 65627\n",
       "NaN                1481\n",
       "122                1443\n",
       "121                1434\n",
       "123                1432\n",
       "                  ...  \n",
       "1,783                 1\n",
       "1190 / SQ. FT.        1\n",
       "2,739                 1\n",
       "1,778                 1\n",
       "1141 / SQ. FT.        1\n",
       "Name: hf_price_sqft, Length: 4514, dtype: int64"
      ]
     },
     "metadata": {},
     "output_type": "display_data"
    }
   ],
   "source": [
    "# hf_price_sqft\n",
    "print('Пропуски:', hf_data.hf_price_sqft.isna().sum())\n",
    "print('Уникальных:', hf_data.hf_price_sqft.nunique())\n",
    "hf_data.hf_price_sqft = hf_data.hf_price_sqft.str.upper()\n",
    "display(hf_data.hf_price_sqft.value_counts(dropna=False))"
   ]
  },
  {
   "cell_type": "markdown",
   "metadata": {},
   "source": [
    "В этом столбце представлена площадь за квадратный метр. \n",
    "65627 нулевых значений. Можно попробовать заменить их, например, медианными значениями по городу."
   ]
  },
  {
   "cell_type": "code",
   "execution_count": 211,
   "metadata": {},
   "outputs": [],
   "source": [
    "# TODO Пока удалим но нужно подумать\n",
    "# Удалим hf_lotsize\n",
    "delete_col.append('hf_price_sqft')"
   ]
  },
  {
   "cell_type": "code",
   "execution_count": 212,
   "metadata": {},
   "outputs": [
    {
     "data": {
      "text/html": [
       "<div>\n",
       "<style scoped>\n",
       "    .dataframe tbody tr th:only-of-type {\n",
       "        vertical-align: middle;\n",
       "    }\n",
       "\n",
       "    .dataframe tbody tr th {\n",
       "        vertical-align: top;\n",
       "    }\n",
       "\n",
       "    .dataframe thead th {\n",
       "        text-align: right;\n",
       "    }\n",
       "</style>\n",
       "<table border=\"1\" class=\"dataframe\">\n",
       "  <thead>\n",
       "    <tr style=\"text-align: right;\">\n",
       "      <th></th>\n",
       "      <th>hf_built_year</th>\n",
       "      <th>hf_remodeled_year</th>\n",
       "      <th>hf_heating</th>\n",
       "      <th>hf_cooling</th>\n",
       "      <th>hf_parking</th>\n",
       "      <th>hf_lotsize</th>\n",
       "      <th>hf_price_sqft</th>\n",
       "      <th>hf_has_remodeled</th>\n",
       "      <th>hf_years_before_remodeled</th>\n",
       "    </tr>\n",
       "  </thead>\n",
       "  <tbody>\n",
       "    <tr>\n",
       "      <th>0</th>\n",
       "      <td>2019</td>\n",
       "      <td>0</td>\n",
       "      <td>AIR</td>\n",
       "      <td>NO_DATA</td>\n",
       "      <td>NONE</td>\n",
       "      <td>NONE</td>\n",
       "      <td>144</td>\n",
       "      <td>True</td>\n",
       "      <td>-1</td>\n",
       "    </tr>\n",
       "    <tr>\n",
       "      <th>1</th>\n",
       "      <td>2019</td>\n",
       "      <td>0</td>\n",
       "      <td>NO_DATA</td>\n",
       "      <td>NO_DATA</td>\n",
       "      <td>NONE</td>\n",
       "      <td>'5828 SQFT'</td>\n",
       "      <td>159</td>\n",
       "      <td>True</td>\n",
       "      <td>-1</td>\n",
       "    </tr>\n",
       "    <tr>\n",
       "      <th>2</th>\n",
       "      <td>1961</td>\n",
       "      <td>1967</td>\n",
       "      <td>AIR</td>\n",
       "      <td>CENTRAL</td>\n",
       "      <td>ATTACHED</td>\n",
       "      <td>'8,626 SQFT'</td>\n",
       "      <td>965</td>\n",
       "      <td>True</td>\n",
       "      <td>6</td>\n",
       "    </tr>\n",
       "    <tr>\n",
       "      <th>3</th>\n",
       "      <td>2006</td>\n",
       "      <td>2006</td>\n",
       "      <td>AIR</td>\n",
       "      <td>CENTRAL</td>\n",
       "      <td>DETACHED</td>\n",
       "      <td>'8,220 SQFT'</td>\n",
       "      <td>371</td>\n",
       "      <td>True</td>\n",
       "      <td>0</td>\n",
       "    </tr>\n",
       "    <tr>\n",
       "      <th>4</th>\n",
       "      <td>0</td>\n",
       "      <td>0</td>\n",
       "      <td>NO_DATA</td>\n",
       "      <td>NO_DATA</td>\n",
       "      <td>NONE</td>\n",
       "      <td>'10,019 SQFT'</td>\n",
       "      <td>0</td>\n",
       "      <td>False</td>\n",
       "      <td>0</td>\n",
       "    </tr>\n",
       "  </tbody>\n",
       "</table>\n",
       "</div>"
      ],
      "text/plain": [
       "   hf_built_year  hf_remodeled_year hf_heating hf_cooling hf_parking  \\\n",
       "0           2019                  0        AIR    NO_DATA       NONE   \n",
       "1           2019                  0    NO_DATA    NO_DATA       NONE   \n",
       "2           1961               1967        AIR    CENTRAL   ATTACHED   \n",
       "3           2006               2006        AIR    CENTRAL   DETACHED   \n",
       "4              0                  0    NO_DATA    NO_DATA       NONE   \n",
       "\n",
       "      hf_lotsize hf_price_sqft  hf_has_remodeled  hf_years_before_remodeled  \n",
       "0           NONE           144              True                         -1  \n",
       "1    '5828 SQFT'           159              True                         -1  \n",
       "2   '8,626 SQFT'           965              True                          6  \n",
       "3   '8,220 SQFT'           371              True                          0  \n",
       "4  '10,019 SQFT'             0             False                          0  "
      ]
     },
     "metadata": {},
     "output_type": "display_data"
    }
   ],
   "source": [
    "# display(data.head(2))\n",
    "display(hf_data.head(5))"
   ]
  },
  {
   "cell_type": "code",
   "execution_count": 213,
   "metadata": {},
   "outputs": [
    {
     "name": "stdout",
     "output_type": "stream",
     "text": [
      "<class 'pandas.core.frame.DataFrame'>\n",
      "Int64Index: 376660 entries, 0 to 377184\n",
      "Data columns (total 21 columns):\n",
      " #   Column              Non-Null Count   Dtype   \n",
      "---  ------              --------------   -----   \n",
      " 0   status              376660 non-null  category\n",
      " 1   private_pool        376660 non-null  bool    \n",
      " 2   propertyType        376660 non-null  category\n",
      " 3   street              376658 non-null  object  \n",
      " 4   baths               376660 non-null  float64 \n",
      " 5   homeFacts           376660 non-null  object  \n",
      " 6   fireplace           102990 non-null  object  \n",
      " 7   city                376626 non-null  object  \n",
      " 8   schools             376660 non-null  object  \n",
      " 9   sqft                336121 non-null  object  \n",
      " 10  zipcode             376660 non-null  object  \n",
      " 11  beds                285495 non-null  object  \n",
      " 12  state               376660 non-null  object  \n",
      " 13  stories             226442 non-null  object  \n",
      " 14  mls_id              24942 non-null   object  \n",
      " 15  PrivatePool         376660 non-null  bool    \n",
      " 16  MlsId               309935 non-null  object  \n",
      " 17  target              374179 non-null  object  \n",
      " 18  private_pool_union  376660 non-null  bool    \n",
      " 19  street_type         376660 non-null  category\n",
      " 20  has_address         376660 non-null  bool    \n",
      "dtypes: bool(4), category(3), float64(1), object(13)\n",
      "memory usage: 53.7+ MB\n"
     ]
    },
    {
     "data": {
      "text/plain": [
       "None"
      ]
     },
     "metadata": {},
     "output_type": "display_data"
    },
    {
     "name": "stdout",
     "output_type": "stream",
     "text": [
      "<class 'pandas.core.frame.DataFrame'>\n",
      "RangeIndex: 376660 entries, 0 to 376659\n",
      "Data columns (total 9 columns):\n",
      " #   Column                     Non-Null Count   Dtype   \n",
      "---  ------                     --------------   -----   \n",
      " 0   hf_built_year              376660 non-null  int64   \n",
      " 1   hf_remodeled_year          376660 non-null  int64   \n",
      " 2   hf_heating                 376660 non-null  category\n",
      " 3   hf_cooling                 376660 non-null  category\n",
      " 4   hf_parking                 376660 non-null  category\n",
      " 5   hf_lotsize                 375179 non-null  object  \n",
      " 6   hf_price_sqft              375179 non-null  object  \n",
      " 7   hf_has_remodeled           376660 non-null  bool    \n",
      " 8   hf_years_before_remodeled  376660 non-null  int64   \n",
      "dtypes: bool(1), category(3), int64(3), object(2)\n",
      "memory usage: 15.8+ MB\n"
     ]
    },
    {
     "data": {
      "text/plain": [
       "None"
      ]
     },
     "metadata": {},
     "output_type": "display_data"
    }
   ],
   "source": [
    "display(data.info())\n",
    "display(hf_data.info())"
   ]
  },
  {
   "cell_type": "code",
   "execution_count": 214,
   "metadata": {},
   "outputs": [
    {
     "data": {
      "text/html": [
       "<div>\n",
       "<style scoped>\n",
       "    .dataframe tbody tr th:only-of-type {\n",
       "        vertical-align: middle;\n",
       "    }\n",
       "\n",
       "    .dataframe tbody tr th {\n",
       "        vertical-align: top;\n",
       "    }\n",
       "\n",
       "    .dataframe thead th {\n",
       "        text-align: right;\n",
       "    }\n",
       "</style>\n",
       "<table border=\"1\" class=\"dataframe\">\n",
       "  <thead>\n",
       "    <tr style=\"text-align: right;\">\n",
       "      <th></th>\n",
       "      <th>0</th>\n",
       "      <th>1</th>\n",
       "    </tr>\n",
       "  </thead>\n",
       "  <tbody>\n",
       "    <tr>\n",
       "      <th>status</th>\n",
       "      <td>ACTIVE</td>\n",
       "      <td>FOR SALE</td>\n",
       "    </tr>\n",
       "    <tr>\n",
       "      <th>private_pool</th>\n",
       "      <td>False</td>\n",
       "      <td>False</td>\n",
       "    </tr>\n",
       "    <tr>\n",
       "      <th>propertyType</th>\n",
       "      <td>SINGLE</td>\n",
       "      <td>SINGLE</td>\n",
       "    </tr>\n",
       "    <tr>\n",
       "      <th>street</th>\n",
       "      <td>240 HEATHER LN</td>\n",
       "      <td>12911 E HEROY AVE</td>\n",
       "    </tr>\n",
       "    <tr>\n",
       "      <th>baths</th>\n",
       "      <td>3.5</td>\n",
       "      <td>3.0</td>\n",
       "    </tr>\n",
       "    <tr>\n",
       "      <th>homeFacts</th>\n",
       "      <td>{'atAGlanceFacts': [{'factValue': '2019', 'fac...</td>\n",
       "      <td>{'atAGlanceFacts': [{'factValue': '2019', 'fac...</td>\n",
       "    </tr>\n",
       "    <tr>\n",
       "      <th>fireplace</th>\n",
       "      <td>Gas Logs</td>\n",
       "      <td>NaN</td>\n",
       "    </tr>\n",
       "    <tr>\n",
       "      <th>city</th>\n",
       "      <td>Southern Pines</td>\n",
       "      <td>Spokane Valley</td>\n",
       "    </tr>\n",
       "    <tr>\n",
       "      <th>schools</th>\n",
       "      <td>[{'rating': ['4', '4', '7', 'NR', '4', '7', 'N...</td>\n",
       "      <td>[{'rating': ['4/10', 'None/10', '4/10'], 'data...</td>\n",
       "    </tr>\n",
       "    <tr>\n",
       "      <th>sqft</th>\n",
       "      <td>2900</td>\n",
       "      <td>1,947 sqft</td>\n",
       "    </tr>\n",
       "    <tr>\n",
       "      <th>zipcode</th>\n",
       "      <td>28387</td>\n",
       "      <td>99216</td>\n",
       "    </tr>\n",
       "    <tr>\n",
       "      <th>beds</th>\n",
       "      <td>4</td>\n",
       "      <td>3 Beds</td>\n",
       "    </tr>\n",
       "    <tr>\n",
       "      <th>state</th>\n",
       "      <td>NC</td>\n",
       "      <td>WA</td>\n",
       "    </tr>\n",
       "    <tr>\n",
       "      <th>stories</th>\n",
       "      <td>NaN</td>\n",
       "      <td>2.0</td>\n",
       "    </tr>\n",
       "    <tr>\n",
       "      <th>mls_id</th>\n",
       "      <td>NaN</td>\n",
       "      <td>NaN</td>\n",
       "    </tr>\n",
       "    <tr>\n",
       "      <th>PrivatePool</th>\n",
       "      <td>False</td>\n",
       "      <td>False</td>\n",
       "    </tr>\n",
       "    <tr>\n",
       "      <th>MlsId</th>\n",
       "      <td>611019</td>\n",
       "      <td>201916904</td>\n",
       "    </tr>\n",
       "    <tr>\n",
       "      <th>target</th>\n",
       "      <td>$418,000</td>\n",
       "      <td>$310,000</td>\n",
       "    </tr>\n",
       "    <tr>\n",
       "      <th>private_pool_union</th>\n",
       "      <td>False</td>\n",
       "      <td>False</td>\n",
       "    </tr>\n",
       "    <tr>\n",
       "      <th>street_type</th>\n",
       "      <td>OTHER</td>\n",
       "      <td>AVENUE</td>\n",
       "    </tr>\n",
       "    <tr>\n",
       "      <th>has_address</th>\n",
       "      <td>True</td>\n",
       "      <td>True</td>\n",
       "    </tr>\n",
       "    <tr>\n",
       "      <th>hf_built_year</th>\n",
       "      <td>2019</td>\n",
       "      <td>2019</td>\n",
       "    </tr>\n",
       "    <tr>\n",
       "      <th>hf_remodeled_year</th>\n",
       "      <td>0</td>\n",
       "      <td>0</td>\n",
       "    </tr>\n",
       "    <tr>\n",
       "      <th>hf_heating</th>\n",
       "      <td>AIR</td>\n",
       "      <td>NO_DATA</td>\n",
       "    </tr>\n",
       "    <tr>\n",
       "      <th>hf_cooling</th>\n",
       "      <td>NO_DATA</td>\n",
       "      <td>NO_DATA</td>\n",
       "    </tr>\n",
       "    <tr>\n",
       "      <th>hf_parking</th>\n",
       "      <td>NONE</td>\n",
       "      <td>NONE</td>\n",
       "    </tr>\n",
       "    <tr>\n",
       "      <th>hf_lotsize</th>\n",
       "      <td>NONE</td>\n",
       "      <td>'5828 SQFT'</td>\n",
       "    </tr>\n",
       "    <tr>\n",
       "      <th>hf_price_sqft</th>\n",
       "      <td>144</td>\n",
       "      <td>159</td>\n",
       "    </tr>\n",
       "    <tr>\n",
       "      <th>hf_has_remodeled</th>\n",
       "      <td>True</td>\n",
       "      <td>True</td>\n",
       "    </tr>\n",
       "    <tr>\n",
       "      <th>hf_years_before_remodeled</th>\n",
       "      <td>-1</td>\n",
       "      <td>-1</td>\n",
       "    </tr>\n",
       "  </tbody>\n",
       "</table>\n",
       "</div>"
      ],
      "text/plain": [
       "                                                                           0  \\\n",
       "status                                                                ACTIVE   \n",
       "private_pool                                                           False   \n",
       "propertyType                                                          SINGLE   \n",
       "street                                                        240 HEATHER LN   \n",
       "baths                                                                    3.5   \n",
       "homeFacts                  {'atAGlanceFacts': [{'factValue': '2019', 'fac...   \n",
       "fireplace                                                           Gas Logs   \n",
       "city                                                          Southern Pines   \n",
       "schools                    [{'rating': ['4', '4', '7', 'NR', '4', '7', 'N...   \n",
       "sqft                                                                    2900   \n",
       "zipcode                                                                28387   \n",
       "beds                                                                       4   \n",
       "state                                                                     NC   \n",
       "stories                                                                  NaN   \n",
       "mls_id                                                                   NaN   \n",
       "PrivatePool                                                            False   \n",
       "MlsId                                                                 611019   \n",
       "target                                                              $418,000   \n",
       "private_pool_union                                                     False   \n",
       "street_type                                                            OTHER   \n",
       "has_address                                                             True   \n",
       "hf_built_year                                                           2019   \n",
       "hf_remodeled_year                                                          0   \n",
       "hf_heating                                                               AIR   \n",
       "hf_cooling                                                           NO_DATA   \n",
       "hf_parking                                                              NONE   \n",
       "hf_lotsize                                                              NONE   \n",
       "hf_price_sqft                                                            144   \n",
       "hf_has_remodeled                                                        True   \n",
       "hf_years_before_remodeled                                                 -1   \n",
       "\n",
       "                                                                           1  \n",
       "status                                                              FOR SALE  \n",
       "private_pool                                                           False  \n",
       "propertyType                                                          SINGLE  \n",
       "street                                                     12911 E HEROY AVE  \n",
       "baths                                                                    3.0  \n",
       "homeFacts                  {'atAGlanceFacts': [{'factValue': '2019', 'fac...  \n",
       "fireplace                                                                NaN  \n",
       "city                                                          Spokane Valley  \n",
       "schools                    [{'rating': ['4/10', 'None/10', '4/10'], 'data...  \n",
       "sqft                                                              1,947 sqft  \n",
       "zipcode                                                                99216  \n",
       "beds                                                                  3 Beds  \n",
       "state                                                                     WA  \n",
       "stories                                                                  2.0  \n",
       "mls_id                                                                   NaN  \n",
       "PrivatePool                                                            False  \n",
       "MlsId                                                              201916904  \n",
       "target                                                              $310,000  \n",
       "private_pool_union                                                     False  \n",
       "street_type                                                           AVENUE  \n",
       "has_address                                                             True  \n",
       "hf_built_year                                                           2019  \n",
       "hf_remodeled_year                                                          0  \n",
       "hf_heating                                                           NO_DATA  \n",
       "hf_cooling                                                           NO_DATA  \n",
       "hf_parking                                                              NONE  \n",
       "hf_lotsize                                                       '5828 SQFT'  \n",
       "hf_price_sqft                                                            159  \n",
       "hf_has_remodeled                                                        True  \n",
       "hf_years_before_remodeled                                                 -1  "
      ]
     },
     "execution_count": 214,
     "metadata": {},
     "output_type": "execute_result"
    }
   ],
   "source": [
    "# Объединим с итоговым датасетом\n",
    "delete_col.append('homeFacts')\n",
    "data_new = data.merge(hf_data, left_index=True, right_index=True)\n",
    "data_new.head(2).T"
   ]
  },
  {
   "cell_type": "markdown",
   "metadata": {},
   "source": [
    "### Column \"fireplace\""
   ]
  },
  {
   "cell_type": "code",
   "execution_count": 215,
   "metadata": {},
   "outputs": [
    {
     "name": "stdout",
     "output_type": "stream",
     "text": [
      "Пропуски: 273315\n",
      "Уникальных: 1652\n"
     ]
    },
    {
     "data": {
      "text/plain": [
       "NaN                                                                     273315\n",
       "yes                                                                      71002\n",
       "1                                                                        14504\n",
       "2                                                                         2423\n",
       "not applicable                                                            1990\n",
       "                                                                         ...  \n",
       "free-standing, insert, wood                                                  1\n",
       "wood burning, attached fireplace doors/screen, electric, gas starter         1\n",
       "one, living room                                                             1\n",
       "familyrm, great room, living room                                            1\n",
       "ceiling fan, smapl, utility connection, walk-in closets                      1\n",
       "Name: fireplace, Length: 1652, dtype: int64"
      ]
     },
     "metadata": {},
     "output_type": "display_data"
    }
   ],
   "source": [
    "# fireplace\n",
    "print('Пропуски:', data_new.fireplace.isna().sum())\n",
    "print('Уникальных:', data_new.fireplace.nunique())\n",
    "data_new.fireplace = data_new.fireplace.str.lower()\n",
    "display(data_new.fireplace.value_counts(dropna=False))"
   ]
  },
  {
   "cell_type": "code",
   "execution_count": 216,
   "metadata": {},
   "outputs": [],
   "source": [
    "def clen_fireplace(string):\n",
    "  if type(string)!=str: return 0\n",
    "  if(len(str(string))==0): return 0\n",
    "  res = 0\n",
    "  res = re.findall(r'\\d+', str(string)) \n",
    "  if(res): return int(res[0])\n",
    "  if('yes' in string): return 1\n",
    "  if('not applicable' in string): return 0\n",
    "  if('storage' in string): return 0\n",
    "  if('one' in string): return 1\n",
    "  if('two' in string): return 2\n",
    "  if('three' in string): return 3\n",
    "  if('four' in string): return 4\n",
    "  if('five' in string): return 5\n",
    "  if('six' in string): return 6\n",
    "  if('seven' in string): return 7\n",
    "  if('eight' in string): return 8\n",
    "  if('nine' in string): return 9\n",
    "  if('ten' in string): return 0\n",
    "  if('eleven' in string): return 11\n",
    "  if('twelve' in string): return 12\n",
    "  return 1"
   ]
  },
  {
   "cell_type": "code",
   "execution_count": 217,
   "metadata": {},
   "outputs": [
    {
     "data": {
      "text/plain": [
       "0       276223\n",
       "1        96352\n",
       "2         2602\n",
       "3          627\n",
       "4          200\n",
       "5           65\n",
       "6           34\n",
       "7           18\n",
       "8            5\n",
       "9            3\n",
       "10           3\n",
       "11           2\n",
       "1000         1\n",
       "12           1\n",
       "Name: fireplace, dtype: int64"
      ]
     },
     "metadata": {},
     "output_type": "display_data"
    },
    {
     "data": {
      "text/markdown": [
       "| P1 | Min emission | P25 | IQR | P75 | Max emission | P99 |\n",
       "|-----|:-----:|----|-----|----|:-----:|-----|\n",
       "|0.0|-1.5|0.0|1.0|1.0|2.5|1.0|"
      ],
      "text/plain": [
       "<IPython.core.display.Markdown object>"
      ]
     },
     "metadata": {},
     "output_type": "display_data"
    },
    {
     "data": {
      "text/plain": [
       "(0.0, -1.5, 2.5, 1.0)"
      ]
     },
     "execution_count": 217,
     "metadata": {},
     "output_type": "execute_result"
    }
   ],
   "source": [
    "fireplace = data_new.fireplace.map(clen_fireplace) #.astype('category')\n",
    "display(fireplace.value_counts(dropna=False))\n",
    "# data_new.fireplace = fireplace\n",
    "\n",
    "get_emission_limits(fireplace)"
   ]
  },
  {
   "cell_type": "code",
   "execution_count": 218,
   "metadata": {},
   "outputs": [
    {
     "data": {
      "text/plain": [
       "0     276223\n",
       "1      96352\n",
       "2       2602\n",
       "3        627\n",
       "4        200\n",
       "5         65\n",
       "6         34\n",
       "7         18\n",
       "8          5\n",
       "9          3\n",
       "10         3\n",
       "12         2\n",
       "11         2\n",
       "Name: fireplace, dtype: int64"
      ]
     },
     "metadata": {},
     "output_type": "display_data"
    }
   ],
   "source": [
    "fireplace.loc[fireplace > 12] = 12\n",
    "display(fireplace.value_counts(dropna=False))\n",
    "data_new.fireplace = fireplace"
   ]
  },
  {
   "cell_type": "markdown",
   "metadata": {},
   "source": [
    "### Column \"сity\""
   ]
  },
  {
   "cell_type": "code",
   "execution_count": 219,
   "metadata": {},
   "outputs": [
    {
     "name": "stdout",
     "output_type": "stream",
     "text": [
      "Пропуски: 34\n",
      "Уникальных: 2025\n"
     ]
    },
    {
     "data": {
      "text/plain": [
       "HOUSTON         24380\n",
       "SAN ANTONIO     15569\n",
       "MIAMI           15481\n",
       "JACKSONVILLE    10017\n",
       "DALLAS           8813\n",
       "                ...  \n",
       "ARRINGTON           1\n",
       "SANTA FE            1\n",
       "ENCINAL             1\n",
       "MAGNA               1\n",
       "BLUE SPRINGS        1\n",
       "Name: city, Length: 1909, dtype: int64"
      ]
     },
     "metadata": {},
     "output_type": "display_data"
    }
   ],
   "source": [
    "# city\n",
    "print('Пропуски:', data_new.city.isna().sum())\n",
    "print('Уникальных:', data_new.city.nunique())\n",
    "data_new.city = data_new.city.str.upper()\n",
    "display(data_new.city.value_counts(dropna=False))"
   ]
  },
  {
   "cell_type": "markdown",
   "metadata": {},
   "source": [
    "Удалим 34 записи с пропусками городов.\n",
    "Есть идея, подключить внешние данные с рейтингами городов по нескольким параметрам:\n",
    "* криминальный рейтинг города\n",
    "* экологический рейтинго города\n",
    "* деловой рейтинг города\n",
    "* образовательный рейтинг города\n",
    "* общий рейтинг города у релтеров"
   ]
  },
  {
   "cell_type": "code",
   "execution_count": 220,
   "metadata": {},
   "outputs": [
    {
     "name": "stdout",
     "output_type": "stream",
     "text": [
      "Пропуски: 0\n"
     ]
    }
   ],
   "source": [
    "data_new.dropna(subset=['city'], inplace=True)\n",
    "data_new.city = data_new.city.astype('category')\n",
    "print('Пропуски:', data_new.city.isna().sum())"
   ]
  },
  {
   "cell_type": "markdown",
   "metadata": {},
   "source": [
    "### Column \"schools\""
   ]
  },
  {
   "cell_type": "code",
   "execution_count": 221,
   "metadata": {},
   "outputs": [
    {
     "name": "stdout",
     "output_type": "stream",
     "text": [
      "Пропуски: 0\n",
      "Уникальных: 296583\n"
     ]
    },
    {
     "data": {
      "text/plain": [
       "'[{\\'rating\\': [\\'4\\', \\'4\\', \\'7\\', \\'NR\\', \\'4\\', \\'7\\', \\'NR\\', \\'NR\\'], \\'data\\': {\\'Distance\\': [\\'2.7 mi\\', \\'3.6 mi\\', \\'5.1 mi\\', \\'4.0 mi\\', \\'10.5 mi\\', \\'12.6 mi\\', \\'2.7 mi\\', \\'3.1 mi\\'], \\'Grades\\': [\\'3–5\\', \\'6–8\\', \\'9–12\\', \\'PK–2\\', \\'6–8\\', \\'9–12\\', \\'PK–5\\', \\'K–12\\']}, \\'name\\': [\\'Southern Pines Elementary School\\', \\'Southern Middle School\\', \\'Pinecrest High School\\', \\'Southern Pines Primary School\\', \"Crain\\'s Creek Middle School\", \\'Union Pines High School\\', \\'Episcopal Day Private School\\', \\'Calvary Christian Private School\\']}]'"
      ]
     },
     "metadata": {},
     "output_type": "display_data"
    }
   ],
   "source": [
    "print('Пропуски:', data_new.schools.isna().sum())\n",
    "print('Уникальных:', data_new.schools.nunique())\n",
    "display(data_new.schools[0])\n",
    "# data_new.info()"
   ]
  },
  {
   "cell_type": "code",
   "execution_count": 222,
   "metadata": {},
   "outputs": [],
   "source": [
    "def parse_school(s):\n",
    "   s = s[1:-1]\n",
    "   s = s.replace(\"'\", '\"')\n",
    "   s = s.split(', \"name\"')\n",
    "  #  pprint(s)\n",
    "  #  pprint(s[0])\n",
    "   s = s[0] + \"}\"\n",
    "   s = s.replace(' None, ', ' \"None\", ')\n",
    "\n",
    "   #print(ind, s)\n",
    "   d = json.loads(s)\n",
    "   dictance = []\n",
    "   grades = []\n",
    "   rating = []\n",
    "   grades = d['data']['Grades']\n",
    "   for i in d['data']['Distance']:\n",
    "     i = float(i.replace('mi', ''))\n",
    "     dictance.append(i)\n",
    "   for i in d['rating']:\n",
    "     if '/'in i:\n",
    "       i = i.split('/')[0]\n",
    "     rating.append(i)\n",
    "\n",
    "   return dictance, grades, rating"
   ]
  },
  {
   "cell_type": "code",
   "execution_count": 223,
   "metadata": {},
   "outputs": [
    {
     "data": {
      "text/plain": [
       "([2.7, 3.6, 5.1, 4.0, 10.5, 12.6, 2.7, 3.1],\n",
       " ['3–5', '6–8', '9–12', 'PK–2', '6–8', '9–12', 'PK–5', 'K–12'],\n",
       " ['4', '4', '7', 'NR', '4', '7', 'NR', 'NR'])"
      ]
     },
     "execution_count": 223,
     "metadata": {},
     "output_type": "execute_result"
    }
   ],
   "source": [
    "schools = data_new.schools.map(parse_school) #.astype('category')\n",
    "# schools.columns = ['sk_dist', 'sk_grades', 'sk_rating']\n",
    "schools[0]"
   ]
  },
  {
   "cell_type": "code",
   "execution_count": 224,
   "metadata": {},
   "outputs": [
    {
     "data": {
      "text/html": [
       "<div>\n",
       "<style scoped>\n",
       "    .dataframe tbody tr th:only-of-type {\n",
       "        vertical-align: middle;\n",
       "    }\n",
       "\n",
       "    .dataframe tbody tr th {\n",
       "        vertical-align: top;\n",
       "    }\n",
       "\n",
       "    .dataframe thead th {\n",
       "        text-align: right;\n",
       "    }\n",
       "</style>\n",
       "<table border=\"1\" class=\"dataframe\">\n",
       "  <thead>\n",
       "    <tr style=\"text-align: right;\">\n",
       "      <th></th>\n",
       "      <th>sk_dist</th>\n",
       "      <th>sk_grades</th>\n",
       "      <th>sk_rating</th>\n",
       "    </tr>\n",
       "  </thead>\n",
       "  <tbody>\n",
       "    <tr>\n",
       "      <th>0</th>\n",
       "      <td>[2.7, 3.6, 5.1, 4.0, 10.5, 12.6, 2.7, 3.1]</td>\n",
       "      <td>[3–5, 6–8, 9–12, PK–2, 6–8, 9–12, PK–5, K–12]</td>\n",
       "      <td>[4, 4, 7, NR, 4, 7, NR, NR]</td>\n",
       "    </tr>\n",
       "    <tr>\n",
       "      <th>1</th>\n",
       "      <td>[1.65, 1.32, 1.01]</td>\n",
       "      <td>[9-12, 3-8, PK-8]</td>\n",
       "      <td>[4, None, 4]</td>\n",
       "    </tr>\n",
       "    <tr>\n",
       "      <th>2</th>\n",
       "      <td>[1.19, 2.06, 2.63]</td>\n",
       "      <td>[6-8, K-5, 9-12]</td>\n",
       "      <td>[8, 4, 8]</td>\n",
       "    </tr>\n",
       "    <tr>\n",
       "      <th>3</th>\n",
       "      <td>[1.05, 0.1, 1.05, 0.81]</td>\n",
       "      <td>[5-6, PK-4, 7-8, 9-12]</td>\n",
       "      <td>[9, 9, 10, 9]</td>\n",
       "    </tr>\n",
       "    <tr>\n",
       "      <th>4</th>\n",
       "      <td>[5.96, 3.25, 3.03]</td>\n",
       "      <td>[7-8, 9-12, PK-6]</td>\n",
       "      <td>[4, 5, 5]</td>\n",
       "    </tr>\n",
       "  </tbody>\n",
       "</table>\n",
       "</div>"
      ],
      "text/plain": [
       "                                      sk_dist  \\\n",
       "0  [2.7, 3.6, 5.1, 4.0, 10.5, 12.6, 2.7, 3.1]   \n",
       "1                          [1.65, 1.32, 1.01]   \n",
       "2                          [1.19, 2.06, 2.63]   \n",
       "3                     [1.05, 0.1, 1.05, 0.81]   \n",
       "4                          [5.96, 3.25, 3.03]   \n",
       "\n",
       "                                       sk_grades                    sk_rating  \n",
       "0  [3–5, 6–8, 9–12, PK–2, 6–8, 9–12, PK–5, K–12]  [4, 4, 7, NR, 4, 7, NR, NR]  \n",
       "1                              [9-12, 3-8, PK-8]                 [4, None, 4]  \n",
       "2                               [6-8, K-5, 9-12]                    [8, 4, 8]  \n",
       "3                         [5-6, PK-4, 7-8, 9-12]                [9, 9, 10, 9]  \n",
       "4                              [7-8, 9-12, PK-6]                    [4, 5, 5]  "
      ]
     },
     "metadata": {},
     "output_type": "display_data"
    },
    {
     "name": "stdout",
     "output_type": "stream",
     "text": [
      "<class 'pandas.core.frame.DataFrame'>\n",
      "RangeIndex: 376102 entries, 0 to 376101\n",
      "Data columns (total 3 columns):\n",
      " #   Column     Non-Null Count   Dtype \n",
      "---  ------     --------------   ----- \n",
      " 0   sk_dist    376102 non-null  object\n",
      " 1   sk_grades  376102 non-null  object\n",
      " 2   sk_rating  376102 non-null  object\n",
      "dtypes: object(3)\n",
      "memory usage: 8.6+ MB\n"
     ]
    },
    {
     "data": {
      "text/plain": [
       "None"
      ]
     },
     "metadata": {},
     "output_type": "display_data"
    }
   ],
   "source": [
    "school_data = pd.DataFrame.from_records(schools, columns = ['sk_dist', 'sk_grades', 'sk_rating'])\n",
    "display(school_data.head(5))\n",
    "display(school_data.info())"
   ]
  },
  {
   "cell_type": "code",
   "execution_count": 225,
   "metadata": {},
   "outputs": [],
   "source": [
    "def school_distance_min_and_meam(dist):\n",
    "   dist = list(dist)\n",
    "   if len(dist) == 0:\n",
    "     min = mean = 0\n",
    "   else:\n",
    "     d = np.array(dist)\n",
    "     min = d.min()\n",
    "     mean = d.mean()\n",
    "   \n",
    "   return np.round(min, 1), np.round(mean, 1)"
   ]
  },
  {
   "cell_type": "code",
   "execution_count": 226,
   "metadata": {},
   "outputs": [
    {
     "data": {
      "text/html": [
       "<div>\n",
       "<style scoped>\n",
       "    .dataframe tbody tr th:only-of-type {\n",
       "        vertical-align: middle;\n",
       "    }\n",
       "\n",
       "    .dataframe tbody tr th {\n",
       "        vertical-align: top;\n",
       "    }\n",
       "\n",
       "    .dataframe thead th {\n",
       "        text-align: right;\n",
       "    }\n",
       "</style>\n",
       "<table border=\"1\" class=\"dataframe\">\n",
       "  <thead>\n",
       "    <tr style=\"text-align: right;\">\n",
       "      <th></th>\n",
       "      <th>0</th>\n",
       "      <th>1</th>\n",
       "    </tr>\n",
       "  </thead>\n",
       "  <tbody>\n",
       "    <tr>\n",
       "      <th>sk_dist</th>\n",
       "      <td>[2.7, 3.6, 5.1, 4.0, 10.5, 12.6, 2.7, 3.1]</td>\n",
       "      <td>[1.65, 1.32, 1.01]</td>\n",
       "    </tr>\n",
       "    <tr>\n",
       "      <th>sk_grades</th>\n",
       "      <td>[3–5, 6–8, 9–12, PK–2, 6–8, 9–12, PK–5, K–12]</td>\n",
       "      <td>[9-12, 3-8, PK-8]</td>\n",
       "    </tr>\n",
       "    <tr>\n",
       "      <th>sk_rating</th>\n",
       "      <td>[4, 4, 7, NR, 4, 7, NR, NR]</td>\n",
       "      <td>[4, None, 4]</td>\n",
       "    </tr>\n",
       "    <tr>\n",
       "      <th>sk_distance_min</th>\n",
       "      <td>2.7</td>\n",
       "      <td>1.0</td>\n",
       "    </tr>\n",
       "    <tr>\n",
       "      <th>sk_distance_mean</th>\n",
       "      <td>5.5</td>\n",
       "      <td>1.3</td>\n",
       "    </tr>\n",
       "  </tbody>\n",
       "</table>\n",
       "</div>"
      ],
      "text/plain": [
       "                                                              0  \\\n",
       "sk_dist              [2.7, 3.6, 5.1, 4.0, 10.5, 12.6, 2.7, 3.1]   \n",
       "sk_grades         [3–5, 6–8, 9–12, PK–2, 6–8, 9–12, PK–5, K–12]   \n",
       "sk_rating                           [4, 4, 7, NR, 4, 7, NR, NR]   \n",
       "sk_distance_min                                             2.7   \n",
       "sk_distance_mean                                            5.5   \n",
       "\n",
       "                                   1  \n",
       "sk_dist           [1.65, 1.32, 1.01]  \n",
       "sk_grades          [9-12, 3-8, PK-8]  \n",
       "sk_rating               [4, None, 4]  \n",
       "sk_distance_min                  1.0  \n",
       "sk_distance_mean                 1.3  "
      ]
     },
     "execution_count": 226,
     "metadata": {},
     "output_type": "execute_result"
    }
   ],
   "source": [
    "# Создадим признак минимального и среднего расстояния до школы\n",
    "x = school_data.sk_dist.map(school_distance_min_and_meam) #.astype('category')\n",
    "new_features = pd.DataFrame.from_records(x, columns = ['sk_distance_min', 'sk_distance_mean'])\n",
    "\n",
    "school_data  = school_data.merge(new_features, left_index=True, right_index=True)\n",
    "school_data.head(2).T"
   ]
  },
  {
   "cell_type": "code",
   "execution_count": 227,
   "metadata": {},
   "outputs": [],
   "source": [
    "def is_number(s):\n",
    "    try:\n",
    "        float(s)\n",
    "        return True\n",
    "    except ValueError:\n",
    "        return False\n",
    "\n",
    "def school_rating(r):\n",
    "   a = []\n",
    "   if len(r) == 0:\n",
    "     min = max = mean = 0\n",
    "   else:\n",
    "     for i in r:\n",
    "       #print(type(i))\n",
    "       if is_number(i):\n",
    "         a.append(int(i))\n",
    "   if len(a) == 0:\n",
    "     min = max = mean = 0\n",
    "   else:  \n",
    "     d = np.array(a)\n",
    "     min = d.min()\n",
    "     max = d.max()\n",
    "     mean = d.mean()\n",
    "   \n",
    "   return np.round(min,1), np.round(max, 1), np.round(mean, 1)"
   ]
  },
  {
   "cell_type": "code",
   "execution_count": 228,
   "metadata": {},
   "outputs": [
    {
     "data": {
      "text/html": [
       "<div>\n",
       "<style scoped>\n",
       "    .dataframe tbody tr th:only-of-type {\n",
       "        vertical-align: middle;\n",
       "    }\n",
       "\n",
       "    .dataframe tbody tr th {\n",
       "        vertical-align: top;\n",
       "    }\n",
       "\n",
       "    .dataframe thead th {\n",
       "        text-align: right;\n",
       "    }\n",
       "</style>\n",
       "<table border=\"1\" class=\"dataframe\">\n",
       "  <thead>\n",
       "    <tr style=\"text-align: right;\">\n",
       "      <th></th>\n",
       "      <th>0</th>\n",
       "      <th>1</th>\n",
       "    </tr>\n",
       "  </thead>\n",
       "  <tbody>\n",
       "    <tr>\n",
       "      <th>sk_dist</th>\n",
       "      <td>[2.7, 3.6, 5.1, 4.0, 10.5, 12.6, 2.7, 3.1]</td>\n",
       "      <td>[1.65, 1.32, 1.01]</td>\n",
       "    </tr>\n",
       "    <tr>\n",
       "      <th>sk_grades</th>\n",
       "      <td>[3–5, 6–8, 9–12, PK–2, 6–8, 9–12, PK–5, K–12]</td>\n",
       "      <td>[9-12, 3-8, PK-8]</td>\n",
       "    </tr>\n",
       "    <tr>\n",
       "      <th>sk_rating</th>\n",
       "      <td>[4, 4, 7, NR, 4, 7, NR, NR]</td>\n",
       "      <td>[4, None, 4]</td>\n",
       "    </tr>\n",
       "    <tr>\n",
       "      <th>sk_distance_min</th>\n",
       "      <td>2.7</td>\n",
       "      <td>1.0</td>\n",
       "    </tr>\n",
       "    <tr>\n",
       "      <th>sk_distance_mean</th>\n",
       "      <td>5.5</td>\n",
       "      <td>1.3</td>\n",
       "    </tr>\n",
       "    <tr>\n",
       "      <th>sk_rating_min</th>\n",
       "      <td>4</td>\n",
       "      <td>4</td>\n",
       "    </tr>\n",
       "    <tr>\n",
       "      <th>sk_rating_max</th>\n",
       "      <td>7</td>\n",
       "      <td>4</td>\n",
       "    </tr>\n",
       "    <tr>\n",
       "      <th>sk_rating_mean</th>\n",
       "      <td>5.2</td>\n",
       "      <td>4.0</td>\n",
       "    </tr>\n",
       "  </tbody>\n",
       "</table>\n",
       "</div>"
      ],
      "text/plain": [
       "                                                              0  \\\n",
       "sk_dist              [2.7, 3.6, 5.1, 4.0, 10.5, 12.6, 2.7, 3.1]   \n",
       "sk_grades         [3–5, 6–8, 9–12, PK–2, 6–8, 9–12, PK–5, K–12]   \n",
       "sk_rating                           [4, 4, 7, NR, 4, 7, NR, NR]   \n",
       "sk_distance_min                                             2.7   \n",
       "sk_distance_mean                                            5.5   \n",
       "sk_rating_min                                                 4   \n",
       "sk_rating_max                                                 7   \n",
       "sk_rating_mean                                              5.2   \n",
       "\n",
       "                                   1  \n",
       "sk_dist           [1.65, 1.32, 1.01]  \n",
       "sk_grades          [9-12, 3-8, PK-8]  \n",
       "sk_rating               [4, None, 4]  \n",
       "sk_distance_min                  1.0  \n",
       "sk_distance_mean                 1.3  \n",
       "sk_rating_min                      4  \n",
       "sk_rating_max                      4  \n",
       "sk_rating_mean                   4.0  "
      ]
     },
     "execution_count": 228,
     "metadata": {},
     "output_type": "execute_result"
    }
   ],
   "source": [
    "x = school_data.sk_rating.map(school_rating)\n",
    "new_features = pd.DataFrame.from_records(x, columns = ['sk_rating_min', 'sk_rating_max', 'sk_rating_mean'])\n",
    "\n",
    "school_data  = school_data.merge(new_features, left_index=True, right_index=True)\n",
    "school_data.head(2).T"
   ]
  },
  {
   "cell_type": "code",
   "execution_count": 229,
   "metadata": {},
   "outputs": [],
   "source": [
    "def grade_replace(s):\n",
    "  g = np.array([0, 0, 0, 0, 0, 0, 0, 0, 0, 0, 0, 0, 0])\n",
    "  s = s.replace('PK', '0')\n",
    "  s = s.replace('Pk', '0')\n",
    "  s = s.replace('K', '0')\n",
    "  s = s.replace('Preschool to ', '0-')\n",
    "  s = s.replace('N/A', '999')\n",
    "  s = s.replace('NA', '999')\n",
    "  s = s.replace('None', '999')\n",
    "  s = s.replace(' - ', '-')\n",
    "  s = s.replace(' – ', '-')\n",
    "  s = s.replace('–', '-')\n",
    "  s = s.replace(' to ', '-')\n",
    "  s = s.split(', ')\n",
    "  \n",
    "  if s[0] == '999':\n",
    "    return g\n",
    "  \n",
    "  a = []\n",
    "  a = s[0].split('-')\n",
    "  if len(a) == 2:\n",
    "    for i in range(int(a[0]), int(a[1])+1):\n",
    "      g[i] = g[i] + 1\n",
    "  else:\n",
    "    g[int(a[0])] = g[int(a[0])] + 1\n",
    "\n",
    "  if len(s) == 2:\n",
    "    b = []\n",
    "    b = s[1].split('-')\n",
    "    if len(b) == 2:\n",
    "      for i in range(int(b[0]), int(b[1])+1):\n",
    "        g[i] = g[i] + 1\n",
    "      else:\n",
    "        g[int(b[0])] = g[int(b[0])] + 1\n",
    "\n",
    "  return g\n",
    "\n",
    "def sk_g(l):\n",
    "   g = np.array([0, 0, 0, 0, 0, 0, 0, 0, 0, 0, 0, 0, 0])\n",
    "   if type(l) != list:\n",
    "     return g\n",
    "\n",
    "   if len(l) == 0:\n",
    "     return g\n",
    "\n",
    "   for i in l:\n",
    "     g = g + grade_replace(i)\n",
    "\n",
    "   return g"
   ]
  },
  {
   "cell_type": "code",
   "execution_count": 230,
   "metadata": {},
   "outputs": [
    {
     "data": {
      "text/html": [
       "<div>\n",
       "<style scoped>\n",
       "    .dataframe tbody tr th:only-of-type {\n",
       "        vertical-align: middle;\n",
       "    }\n",
       "\n",
       "    .dataframe tbody tr th {\n",
       "        vertical-align: top;\n",
       "    }\n",
       "\n",
       "    .dataframe thead th {\n",
       "        text-align: right;\n",
       "    }\n",
       "</style>\n",
       "<table border=\"1\" class=\"dataframe\">\n",
       "  <thead>\n",
       "    <tr style=\"text-align: right;\">\n",
       "      <th></th>\n",
       "      <th>0</th>\n",
       "      <th>1</th>\n",
       "    </tr>\n",
       "  </thead>\n",
       "  <tbody>\n",
       "    <tr>\n",
       "      <th>sk_dist</th>\n",
       "      <td>[2.7, 3.6, 5.1, 4.0, 10.5, 12.6, 2.7, 3.1]</td>\n",
       "      <td>[1.65, 1.32, 1.01]</td>\n",
       "    </tr>\n",
       "    <tr>\n",
       "      <th>sk_grades</th>\n",
       "      <td>[3–5, 6–8, 9–12, PK–2, 6–8, 9–12, PK–5, K–12]</td>\n",
       "      <td>[9-12, 3-8, PK-8]</td>\n",
       "    </tr>\n",
       "    <tr>\n",
       "      <th>sk_rating</th>\n",
       "      <td>[4, 4, 7, NR, 4, 7, NR, NR]</td>\n",
       "      <td>[4, None, 4]</td>\n",
       "    </tr>\n",
       "    <tr>\n",
       "      <th>sk_distance_min</th>\n",
       "      <td>2.7</td>\n",
       "      <td>1.0</td>\n",
       "    </tr>\n",
       "    <tr>\n",
       "      <th>sk_distance_mean</th>\n",
       "      <td>5.5</td>\n",
       "      <td>1.3</td>\n",
       "    </tr>\n",
       "    <tr>\n",
       "      <th>sk_rating_min</th>\n",
       "      <td>4</td>\n",
       "      <td>4</td>\n",
       "    </tr>\n",
       "    <tr>\n",
       "      <th>sk_rating_max</th>\n",
       "      <td>7</td>\n",
       "      <td>4</td>\n",
       "    </tr>\n",
       "    <tr>\n",
       "      <th>sk_rating_mean</th>\n",
       "      <td>5.2</td>\n",
       "      <td>4.0</td>\n",
       "    </tr>\n",
       "    <tr>\n",
       "      <th>sk_gr_pk</th>\n",
       "      <td>3</td>\n",
       "      <td>1</td>\n",
       "    </tr>\n",
       "    <tr>\n",
       "      <th>sk_gr_01</th>\n",
       "      <td>3</td>\n",
       "      <td>1</td>\n",
       "    </tr>\n",
       "    <tr>\n",
       "      <th>sk_gr_02</th>\n",
       "      <td>3</td>\n",
       "      <td>1</td>\n",
       "    </tr>\n",
       "    <tr>\n",
       "      <th>sk_gr_03</th>\n",
       "      <td>3</td>\n",
       "      <td>2</td>\n",
       "    </tr>\n",
       "    <tr>\n",
       "      <th>sk_gr_04</th>\n",
       "      <td>3</td>\n",
       "      <td>2</td>\n",
       "    </tr>\n",
       "    <tr>\n",
       "      <th>sk_gr_05</th>\n",
       "      <td>3</td>\n",
       "      <td>2</td>\n",
       "    </tr>\n",
       "    <tr>\n",
       "      <th>sk_gr_06</th>\n",
       "      <td>3</td>\n",
       "      <td>2</td>\n",
       "    </tr>\n",
       "    <tr>\n",
       "      <th>sk_gr_07</th>\n",
       "      <td>3</td>\n",
       "      <td>2</td>\n",
       "    </tr>\n",
       "    <tr>\n",
       "      <th>sk_gr_08</th>\n",
       "      <td>3</td>\n",
       "      <td>2</td>\n",
       "    </tr>\n",
       "    <tr>\n",
       "      <th>sk_gr_09</th>\n",
       "      <td>3</td>\n",
       "      <td>1</td>\n",
       "    </tr>\n",
       "    <tr>\n",
       "      <th>sk_gr_10</th>\n",
       "      <td>3</td>\n",
       "      <td>1</td>\n",
       "    </tr>\n",
       "    <tr>\n",
       "      <th>sk_gr_11</th>\n",
       "      <td>3</td>\n",
       "      <td>1</td>\n",
       "    </tr>\n",
       "    <tr>\n",
       "      <th>sk_gr_12</th>\n",
       "      <td>3</td>\n",
       "      <td>1</td>\n",
       "    </tr>\n",
       "  </tbody>\n",
       "</table>\n",
       "</div>"
      ],
      "text/plain": [
       "                                                              0  \\\n",
       "sk_dist              [2.7, 3.6, 5.1, 4.0, 10.5, 12.6, 2.7, 3.1]   \n",
       "sk_grades         [3–5, 6–8, 9–12, PK–2, 6–8, 9–12, PK–5, K–12]   \n",
       "sk_rating                           [4, 4, 7, NR, 4, 7, NR, NR]   \n",
       "sk_distance_min                                             2.7   \n",
       "sk_distance_mean                                            5.5   \n",
       "sk_rating_min                                                 4   \n",
       "sk_rating_max                                                 7   \n",
       "sk_rating_mean                                              5.2   \n",
       "sk_gr_pk                                                      3   \n",
       "sk_gr_01                                                      3   \n",
       "sk_gr_02                                                      3   \n",
       "sk_gr_03                                                      3   \n",
       "sk_gr_04                                                      3   \n",
       "sk_gr_05                                                      3   \n",
       "sk_gr_06                                                      3   \n",
       "sk_gr_07                                                      3   \n",
       "sk_gr_08                                                      3   \n",
       "sk_gr_09                                                      3   \n",
       "sk_gr_10                                                      3   \n",
       "sk_gr_11                                                      3   \n",
       "sk_gr_12                                                      3   \n",
       "\n",
       "                                   1  \n",
       "sk_dist           [1.65, 1.32, 1.01]  \n",
       "sk_grades          [9-12, 3-8, PK-8]  \n",
       "sk_rating               [4, None, 4]  \n",
       "sk_distance_min                  1.0  \n",
       "sk_distance_mean                 1.3  \n",
       "sk_rating_min                      4  \n",
       "sk_rating_max                      4  \n",
       "sk_rating_mean                   4.0  \n",
       "sk_gr_pk                           1  \n",
       "sk_gr_01                           1  \n",
       "sk_gr_02                           1  \n",
       "sk_gr_03                           2  \n",
       "sk_gr_04                           2  \n",
       "sk_gr_05                           2  \n",
       "sk_gr_06                           2  \n",
       "sk_gr_07                           2  \n",
       "sk_gr_08                           2  \n",
       "sk_gr_09                           1  \n",
       "sk_gr_10                           1  \n",
       "sk_gr_11                           1  \n",
       "sk_gr_12                           1  "
      ]
     },
     "execution_count": 230,
     "metadata": {},
     "output_type": "execute_result"
    }
   ],
   "source": [
    "x = school_data.sk_grades.map(sk_g)\n",
    "new_features = pd.DataFrame.from_records(x, columns = ['sk_gr_pk','sk_gr_01', 'sk_gr_02', 'sk_gr_03', 'sk_gr_04', 'sk_gr_05', 'sk_gr_06', 'sk_gr_07', 'sk_gr_08', 'sk_gr_09', 'sk_gr_10', 'sk_gr_11', 'sk_gr_12'])\n",
    "\n",
    "school_data  = school_data.merge(new_features, left_index=True, right_index=True)\n",
    "school_data.head(2).T"
   ]
  },
  {
   "cell_type": "markdown",
   "metadata": {},
   "source": [
    "В результате получили следующие столбцы:\n",
    "* **sk_dist_min** - минимальное расстояние до школы\n",
    "* **sk_dist_mean** - среднее расстояние до школы\n",
    "* **sk_rating_min** - минимальный рейтинг школы\n",
    "* **sk_rating_max** - максимальный рейтинг школы\n",
    "* **sk_rating_mean** - средний рейтинг школ в окрестностях\n",
    "* **sk_gp_pk** - количество детских садов (дощкольных образовательных учреждений) в окресностях\n",
    "* **sk_gr_01** по **sk_gr_12** - количество школ с соответсвующими классами обучения (с 1 по 12) в окрестностях"
   ]
  },
  {
   "cell_type": "code",
   "execution_count": 231,
   "metadata": {},
   "outputs": [
    {
     "name": "stdout",
     "output_type": "stream",
     "text": [
      "<class 'pandas.core.frame.DataFrame'>\n",
      "RangeIndex: 376102 entries, 0 to 376101\n",
      "Data columns (total 18 columns):\n",
      " #   Column            Non-Null Count   Dtype  \n",
      "---  ------            --------------   -----  \n",
      " 0   sk_distance_min   376102 non-null  float64\n",
      " 1   sk_distance_mean  376102 non-null  float64\n",
      " 2   sk_rating_min     376102 non-null  int32  \n",
      " 3   sk_rating_max     376102 non-null  int32  \n",
      " 4   sk_rating_mean    376102 non-null  float64\n",
      " 5   sk_gr_pk          376102 non-null  int32  \n",
      " 6   sk_gr_01          376102 non-null  int32  \n",
      " 7   sk_gr_02          376102 non-null  int32  \n",
      " 8   sk_gr_03          376102 non-null  int32  \n",
      " 9   sk_gr_04          376102 non-null  int32  \n",
      " 10  sk_gr_05          376102 non-null  int32  \n",
      " 11  sk_gr_06          376102 non-null  int32  \n",
      " 12  sk_gr_07          376102 non-null  int32  \n",
      " 13  sk_gr_08          376102 non-null  int32  \n",
      " 14  sk_gr_09          376102 non-null  int32  \n",
      " 15  sk_gr_10          376102 non-null  int32  \n",
      " 16  sk_gr_11          376102 non-null  int32  \n",
      " 17  sk_gr_12          376102 non-null  int32  \n",
      "dtypes: float64(3), int32(15)\n",
      "memory usage: 30.1 MB\n"
     ]
    }
   ],
   "source": [
    "school_data.drop(['sk_dist', 'sk_grades', 'sk_rating'], axis=1, inplace=True)\n",
    "school_data.info()"
   ]
  },
  {
   "cell_type": "code",
   "execution_count": 232,
   "metadata": {},
   "outputs": [
    {
     "name": "stdout",
     "output_type": "stream",
     "text": [
      "<class 'pandas.core.frame.DataFrame'>\n",
      "Int64Index: 376102 entries, 0 to 376659\n",
      "Data columns (total 30 columns):\n",
      " #   Column                     Non-Null Count   Dtype   \n",
      "---  ------                     --------------   -----   \n",
      " 0   status                     376102 non-null  category\n",
      " 1   private_pool               376102 non-null  bool    \n",
      " 2   propertyType               376102 non-null  category\n",
      " 3   street                     376100 non-null  object  \n",
      " 4   baths                      376102 non-null  float64 \n",
      " 5   homeFacts                  376102 non-null  object  \n",
      " 6   fireplace                  376102 non-null  int64   \n",
      " 7   city                       376102 non-null  category\n",
      " 8   schools                    376102 non-null  object  \n",
      " 9   sqft                       335626 non-null  object  \n",
      " 10  zipcode                    376102 non-null  object  \n",
      " 11  beds                       285096 non-null  object  \n",
      " 12  state                      376102 non-null  object  \n",
      " 13  stories                    226119 non-null  object  \n",
      " 14  mls_id                     24908 non-null   object  \n",
      " 15  PrivatePool                376102 non-null  bool    \n",
      " 16  MlsId                      309467 non-null  object  \n",
      " 17  target                     373623 non-null  object  \n",
      " 18  private_pool_union         376102 non-null  bool    \n",
      " 19  street_type                376102 non-null  category\n",
      " 20  has_address                376102 non-null  bool    \n",
      " 21  hf_built_year              376102 non-null  int64   \n",
      " 22  hf_remodeled_year          376102 non-null  int64   \n",
      " 23  hf_heating                 376102 non-null  category\n",
      " 24  hf_cooling                 376102 non-null  category\n",
      " 25  hf_parking                 376102 non-null  category\n",
      " 26  hf_lotsize                 374624 non-null  object  \n",
      " 27  hf_price_sqft              374624 non-null  object  \n",
      " 28  hf_has_remodeled           376102 non-null  bool    \n",
      " 29  hf_years_before_remodeled  376102 non-null  int64   \n",
      "dtypes: bool(5), category(7), float64(1), int64(4), object(13)\n",
      "memory usage: 67.3+ MB\n"
     ]
    },
    {
     "data": {
      "text/plain": [
       "None"
      ]
     },
     "metadata": {},
     "output_type": "display_data"
    },
    {
     "name": "stdout",
     "output_type": "stream",
     "text": [
      "<class 'pandas.core.frame.DataFrame'>\n",
      "RangeIndex: 376102 entries, 0 to 376101\n",
      "Data columns (total 18 columns):\n",
      " #   Column            Non-Null Count   Dtype  \n",
      "---  ------            --------------   -----  \n",
      " 0   sk_distance_min   376102 non-null  float64\n",
      " 1   sk_distance_mean  376102 non-null  float64\n",
      " 2   sk_rating_min     376102 non-null  int32  \n",
      " 3   sk_rating_max     376102 non-null  int32  \n",
      " 4   sk_rating_mean    376102 non-null  float64\n",
      " 5   sk_gr_pk          376102 non-null  int32  \n",
      " 6   sk_gr_01          376102 non-null  int32  \n",
      " 7   sk_gr_02          376102 non-null  int32  \n",
      " 8   sk_gr_03          376102 non-null  int32  \n",
      " 9   sk_gr_04          376102 non-null  int32  \n",
      " 10  sk_gr_05          376102 non-null  int32  \n",
      " 11  sk_gr_06          376102 non-null  int32  \n",
      " 12  sk_gr_07          376102 non-null  int32  \n",
      " 13  sk_gr_08          376102 non-null  int32  \n",
      " 14  sk_gr_09          376102 non-null  int32  \n",
      " 15  sk_gr_10          376102 non-null  int32  \n",
      " 16  sk_gr_11          376102 non-null  int32  \n",
      " 17  sk_gr_12          376102 non-null  int32  \n",
      "dtypes: float64(3), int32(15)\n",
      "memory usage: 30.1 MB\n"
     ]
    },
    {
     "data": {
      "text/plain": [
       "None"
      ]
     },
     "metadata": {},
     "output_type": "display_data"
    }
   ],
   "source": [
    "display(data_new.info())\n",
    "display(school_data.info())"
   ]
  },
  {
   "cell_type": "code",
   "execution_count": 233,
   "metadata": {},
   "outputs": [
    {
     "data": {
      "text/html": [
       "<div>\n",
       "<style scoped>\n",
       "    .dataframe tbody tr th:only-of-type {\n",
       "        vertical-align: middle;\n",
       "    }\n",
       "\n",
       "    .dataframe tbody tr th {\n",
       "        vertical-align: top;\n",
       "    }\n",
       "\n",
       "    .dataframe thead th {\n",
       "        text-align: right;\n",
       "    }\n",
       "</style>\n",
       "<table border=\"1\" class=\"dataframe\">\n",
       "  <thead>\n",
       "    <tr style=\"text-align: right;\">\n",
       "      <th></th>\n",
       "      <th>0</th>\n",
       "      <th>1</th>\n",
       "    </tr>\n",
       "  </thead>\n",
       "  <tbody>\n",
       "    <tr>\n",
       "      <th>status</th>\n",
       "      <td>ACTIVE</td>\n",
       "      <td>FOR SALE</td>\n",
       "    </tr>\n",
       "    <tr>\n",
       "      <th>private_pool</th>\n",
       "      <td>False</td>\n",
       "      <td>False</td>\n",
       "    </tr>\n",
       "    <tr>\n",
       "      <th>propertyType</th>\n",
       "      <td>SINGLE</td>\n",
       "      <td>SINGLE</td>\n",
       "    </tr>\n",
       "    <tr>\n",
       "      <th>street</th>\n",
       "      <td>240 HEATHER LN</td>\n",
       "      <td>12911 E HEROY AVE</td>\n",
       "    </tr>\n",
       "    <tr>\n",
       "      <th>baths</th>\n",
       "      <td>3.5</td>\n",
       "      <td>3.0</td>\n",
       "    </tr>\n",
       "    <tr>\n",
       "      <th>homeFacts</th>\n",
       "      <td>{'atAGlanceFacts': [{'factValue': '2019', 'fac...</td>\n",
       "      <td>{'atAGlanceFacts': [{'factValue': '2019', 'fac...</td>\n",
       "    </tr>\n",
       "    <tr>\n",
       "      <th>fireplace</th>\n",
       "      <td>1</td>\n",
       "      <td>0</td>\n",
       "    </tr>\n",
       "    <tr>\n",
       "      <th>city</th>\n",
       "      <td>SOUTHERN PINES</td>\n",
       "      <td>SPOKANE VALLEY</td>\n",
       "    </tr>\n",
       "    <tr>\n",
       "      <th>schools</th>\n",
       "      <td>[{'rating': ['4', '4', '7', 'NR', '4', '7', 'N...</td>\n",
       "      <td>[{'rating': ['4/10', 'None/10', '4/10'], 'data...</td>\n",
       "    </tr>\n",
       "    <tr>\n",
       "      <th>sqft</th>\n",
       "      <td>2900</td>\n",
       "      <td>1,947 sqft</td>\n",
       "    </tr>\n",
       "    <tr>\n",
       "      <th>zipcode</th>\n",
       "      <td>28387</td>\n",
       "      <td>99216</td>\n",
       "    </tr>\n",
       "    <tr>\n",
       "      <th>beds</th>\n",
       "      <td>4</td>\n",
       "      <td>3 Beds</td>\n",
       "    </tr>\n",
       "    <tr>\n",
       "      <th>state</th>\n",
       "      <td>NC</td>\n",
       "      <td>WA</td>\n",
       "    </tr>\n",
       "    <tr>\n",
       "      <th>stories</th>\n",
       "      <td>NaN</td>\n",
       "      <td>2.0</td>\n",
       "    </tr>\n",
       "    <tr>\n",
       "      <th>mls_id</th>\n",
       "      <td>NaN</td>\n",
       "      <td>NaN</td>\n",
       "    </tr>\n",
       "    <tr>\n",
       "      <th>PrivatePool</th>\n",
       "      <td>False</td>\n",
       "      <td>False</td>\n",
       "    </tr>\n",
       "    <tr>\n",
       "      <th>MlsId</th>\n",
       "      <td>611019</td>\n",
       "      <td>201916904</td>\n",
       "    </tr>\n",
       "    <tr>\n",
       "      <th>target</th>\n",
       "      <td>$418,000</td>\n",
       "      <td>$310,000</td>\n",
       "    </tr>\n",
       "    <tr>\n",
       "      <th>private_pool_union</th>\n",
       "      <td>False</td>\n",
       "      <td>False</td>\n",
       "    </tr>\n",
       "    <tr>\n",
       "      <th>street_type</th>\n",
       "      <td>OTHER</td>\n",
       "      <td>AVENUE</td>\n",
       "    </tr>\n",
       "    <tr>\n",
       "      <th>has_address</th>\n",
       "      <td>True</td>\n",
       "      <td>True</td>\n",
       "    </tr>\n",
       "    <tr>\n",
       "      <th>hf_built_year</th>\n",
       "      <td>2019</td>\n",
       "      <td>2019</td>\n",
       "    </tr>\n",
       "    <tr>\n",
       "      <th>hf_remodeled_year</th>\n",
       "      <td>0</td>\n",
       "      <td>0</td>\n",
       "    </tr>\n",
       "    <tr>\n",
       "      <th>hf_heating</th>\n",
       "      <td>AIR</td>\n",
       "      <td>NO_DATA</td>\n",
       "    </tr>\n",
       "    <tr>\n",
       "      <th>hf_cooling</th>\n",
       "      <td>NO_DATA</td>\n",
       "      <td>NO_DATA</td>\n",
       "    </tr>\n",
       "    <tr>\n",
       "      <th>hf_parking</th>\n",
       "      <td>NONE</td>\n",
       "      <td>NONE</td>\n",
       "    </tr>\n",
       "    <tr>\n",
       "      <th>hf_lotsize</th>\n",
       "      <td>NONE</td>\n",
       "      <td>'5828 SQFT'</td>\n",
       "    </tr>\n",
       "    <tr>\n",
       "      <th>hf_price_sqft</th>\n",
       "      <td>144</td>\n",
       "      <td>159</td>\n",
       "    </tr>\n",
       "    <tr>\n",
       "      <th>hf_has_remodeled</th>\n",
       "      <td>True</td>\n",
       "      <td>True</td>\n",
       "    </tr>\n",
       "    <tr>\n",
       "      <th>hf_years_before_remodeled</th>\n",
       "      <td>-1</td>\n",
       "      <td>-1</td>\n",
       "    </tr>\n",
       "    <tr>\n",
       "      <th>sk_distance_min</th>\n",
       "      <td>2.7</td>\n",
       "      <td>1.0</td>\n",
       "    </tr>\n",
       "    <tr>\n",
       "      <th>sk_distance_mean</th>\n",
       "      <td>5.5</td>\n",
       "      <td>1.3</td>\n",
       "    </tr>\n",
       "    <tr>\n",
       "      <th>sk_rating_min</th>\n",
       "      <td>4</td>\n",
       "      <td>4</td>\n",
       "    </tr>\n",
       "    <tr>\n",
       "      <th>sk_rating_max</th>\n",
       "      <td>7</td>\n",
       "      <td>4</td>\n",
       "    </tr>\n",
       "    <tr>\n",
       "      <th>sk_rating_mean</th>\n",
       "      <td>5.2</td>\n",
       "      <td>4.0</td>\n",
       "    </tr>\n",
       "    <tr>\n",
       "      <th>sk_gr_pk</th>\n",
       "      <td>3</td>\n",
       "      <td>1</td>\n",
       "    </tr>\n",
       "    <tr>\n",
       "      <th>sk_gr_01</th>\n",
       "      <td>3</td>\n",
       "      <td>1</td>\n",
       "    </tr>\n",
       "    <tr>\n",
       "      <th>sk_gr_02</th>\n",
       "      <td>3</td>\n",
       "      <td>1</td>\n",
       "    </tr>\n",
       "    <tr>\n",
       "      <th>sk_gr_03</th>\n",
       "      <td>3</td>\n",
       "      <td>2</td>\n",
       "    </tr>\n",
       "    <tr>\n",
       "      <th>sk_gr_04</th>\n",
       "      <td>3</td>\n",
       "      <td>2</td>\n",
       "    </tr>\n",
       "    <tr>\n",
       "      <th>sk_gr_05</th>\n",
       "      <td>3</td>\n",
       "      <td>2</td>\n",
       "    </tr>\n",
       "    <tr>\n",
       "      <th>sk_gr_06</th>\n",
       "      <td>3</td>\n",
       "      <td>2</td>\n",
       "    </tr>\n",
       "    <tr>\n",
       "      <th>sk_gr_07</th>\n",
       "      <td>3</td>\n",
       "      <td>2</td>\n",
       "    </tr>\n",
       "    <tr>\n",
       "      <th>sk_gr_08</th>\n",
       "      <td>3</td>\n",
       "      <td>2</td>\n",
       "    </tr>\n",
       "    <tr>\n",
       "      <th>sk_gr_09</th>\n",
       "      <td>3</td>\n",
       "      <td>1</td>\n",
       "    </tr>\n",
       "    <tr>\n",
       "      <th>sk_gr_10</th>\n",
       "      <td>3</td>\n",
       "      <td>1</td>\n",
       "    </tr>\n",
       "    <tr>\n",
       "      <th>sk_gr_11</th>\n",
       "      <td>3</td>\n",
       "      <td>1</td>\n",
       "    </tr>\n",
       "    <tr>\n",
       "      <th>sk_gr_12</th>\n",
       "      <td>3</td>\n",
       "      <td>1</td>\n",
       "    </tr>\n",
       "  </tbody>\n",
       "</table>\n",
       "</div>"
      ],
      "text/plain": [
       "                                                                           0  \\\n",
       "status                                                                ACTIVE   \n",
       "private_pool                                                           False   \n",
       "propertyType                                                          SINGLE   \n",
       "street                                                        240 HEATHER LN   \n",
       "baths                                                                    3.5   \n",
       "homeFacts                  {'atAGlanceFacts': [{'factValue': '2019', 'fac...   \n",
       "fireplace                                                                  1   \n",
       "city                                                          SOUTHERN PINES   \n",
       "schools                    [{'rating': ['4', '4', '7', 'NR', '4', '7', 'N...   \n",
       "sqft                                                                    2900   \n",
       "zipcode                                                                28387   \n",
       "beds                                                                       4   \n",
       "state                                                                     NC   \n",
       "stories                                                                  NaN   \n",
       "mls_id                                                                   NaN   \n",
       "PrivatePool                                                            False   \n",
       "MlsId                                                                 611019   \n",
       "target                                                              $418,000   \n",
       "private_pool_union                                                     False   \n",
       "street_type                                                            OTHER   \n",
       "has_address                                                             True   \n",
       "hf_built_year                                                           2019   \n",
       "hf_remodeled_year                                                          0   \n",
       "hf_heating                                                               AIR   \n",
       "hf_cooling                                                           NO_DATA   \n",
       "hf_parking                                                              NONE   \n",
       "hf_lotsize                                                              NONE   \n",
       "hf_price_sqft                                                            144   \n",
       "hf_has_remodeled                                                        True   \n",
       "hf_years_before_remodeled                                                 -1   \n",
       "sk_distance_min                                                          2.7   \n",
       "sk_distance_mean                                                         5.5   \n",
       "sk_rating_min                                                              4   \n",
       "sk_rating_max                                                              7   \n",
       "sk_rating_mean                                                           5.2   \n",
       "sk_gr_pk                                                                   3   \n",
       "sk_gr_01                                                                   3   \n",
       "sk_gr_02                                                                   3   \n",
       "sk_gr_03                                                                   3   \n",
       "sk_gr_04                                                                   3   \n",
       "sk_gr_05                                                                   3   \n",
       "sk_gr_06                                                                   3   \n",
       "sk_gr_07                                                                   3   \n",
       "sk_gr_08                                                                   3   \n",
       "sk_gr_09                                                                   3   \n",
       "sk_gr_10                                                                   3   \n",
       "sk_gr_11                                                                   3   \n",
       "sk_gr_12                                                                   3   \n",
       "\n",
       "                                                                           1  \n",
       "status                                                              FOR SALE  \n",
       "private_pool                                                           False  \n",
       "propertyType                                                          SINGLE  \n",
       "street                                                     12911 E HEROY AVE  \n",
       "baths                                                                    3.0  \n",
       "homeFacts                  {'atAGlanceFacts': [{'factValue': '2019', 'fac...  \n",
       "fireplace                                                                  0  \n",
       "city                                                          SPOKANE VALLEY  \n",
       "schools                    [{'rating': ['4/10', 'None/10', '4/10'], 'data...  \n",
       "sqft                                                              1,947 sqft  \n",
       "zipcode                                                                99216  \n",
       "beds                                                                  3 Beds  \n",
       "state                                                                     WA  \n",
       "stories                                                                  2.0  \n",
       "mls_id                                                                   NaN  \n",
       "PrivatePool                                                            False  \n",
       "MlsId                                                              201916904  \n",
       "target                                                              $310,000  \n",
       "private_pool_union                                                     False  \n",
       "street_type                                                           AVENUE  \n",
       "has_address                                                             True  \n",
       "hf_built_year                                                           2019  \n",
       "hf_remodeled_year                                                          0  \n",
       "hf_heating                                                           NO_DATA  \n",
       "hf_cooling                                                           NO_DATA  \n",
       "hf_parking                                                              NONE  \n",
       "hf_lotsize                                                       '5828 SQFT'  \n",
       "hf_price_sqft                                                            159  \n",
       "hf_has_remodeled                                                        True  \n",
       "hf_years_before_remodeled                                                 -1  \n",
       "sk_distance_min                                                          1.0  \n",
       "sk_distance_mean                                                         1.3  \n",
       "sk_rating_min                                                              4  \n",
       "sk_rating_max                                                              4  \n",
       "sk_rating_mean                                                           4.0  \n",
       "sk_gr_pk                                                                   1  \n",
       "sk_gr_01                                                                   1  \n",
       "sk_gr_02                                                                   1  \n",
       "sk_gr_03                                                                   2  \n",
       "sk_gr_04                                                                   2  \n",
       "sk_gr_05                                                                   2  \n",
       "sk_gr_06                                                                   2  \n",
       "sk_gr_07                                                                   2  \n",
       "sk_gr_08                                                                   2  \n",
       "sk_gr_09                                                                   1  \n",
       "sk_gr_10                                                                   1  \n",
       "sk_gr_11                                                                   1  \n",
       "sk_gr_12                                                                   1  "
      ]
     },
     "execution_count": 233,
     "metadata": {},
     "output_type": "execute_result"
    }
   ],
   "source": [
    "# Удалим признак schools и объедим с новым датасетом\n",
    "delete_col.append('schools')\n",
    "data_new  = data_new.merge(school_data, left_index=True, right_index=True)\n",
    "data_new.head(2).T"
   ]
  },
  {
   "cell_type": "markdown",
   "metadata": {},
   "source": [
    "### Column \"sqft\""
   ]
  },
  {
   "cell_type": "code",
   "execution_count": 234,
   "metadata": {},
   "outputs": [
    {
     "name": "stdout",
     "output_type": "stream",
     "text": [
      "Пропуски: 40415\n",
      "Уникальных: 25375\n"
     ]
    },
    {
     "data": {
      "text/plain": [
       "NaN            40415\n",
       "0              11797\n",
       "1,200 SQFT       832\n",
       "1,000 SQFT       647\n",
       "1,100 SQFT       569\n",
       "               ...  \n",
       "3736               1\n",
       "5,226              1\n",
       "10,574             1\n",
       "6,579 SQFT         1\n",
       "56,497 SQFT        1\n",
       "Name: sqft, Length: 25376, dtype: int64"
      ]
     },
     "metadata": {},
     "output_type": "display_data"
    }
   ],
   "source": [
    "print('Пропуски:', data_new.sqft.isna().sum())\n",
    "print('Уникальных:', data_new.sqft.nunique())\n",
    "data_new.sqft = data_new.sqft.str.upper()\n",
    "display(data_new.sqft.value_counts(dropna=False))"
   ]
  },
  {
   "cell_type": "code",
   "execution_count": 235,
   "metadata": {},
   "outputs": [
    {
     "data": {
      "text/plain": [
       "NaN      314122\n",
       "0         11797\n",
       "960         284\n",
       "800         256\n",
       "900         232\n",
       "          ...  \n",
       "6564          1\n",
       "4310          1\n",
       "5534          1\n",
       "4775          1\n",
       "10350         1\n",
       "Name: sqft, Length: 5423, dtype: int64"
      ]
     },
     "metadata": {},
     "output_type": "display_data"
    }
   ],
   "source": [
    "sqft = data_new.sqft.replace(r'\\D+',  np.nan,  regex=True)\n",
    "display(sqft.value_counts(dropna=False))"
   ]
  },
  {
   "cell_type": "code",
   "execution_count": 236,
   "metadata": {},
   "outputs": [
    {
     "data": {
      "text/plain": [
       "0         2900.0\n",
       "1            NaN\n",
       "2            NaN\n",
       "3            NaN\n",
       "4            NaN\n",
       "           ...  \n",
       "376097    1421.0\n",
       "376098       NaN\n",
       "376099       NaN\n",
       "376100       NaN\n",
       "376101       NaN\n",
       "Name: sqft, Length: 375544, dtype: float64"
      ]
     },
     "execution_count": 236,
     "metadata": {},
     "output_type": "execute_result"
    }
   ],
   "source": [
    "sqft.astype(float)"
   ]
  },
  {
   "cell_type": "code",
   "execution_count": 237,
   "metadata": {},
   "outputs": [],
   "source": [
    "# sqft.\n",
    "def clen_nan(string):\n",
    "  if type(string)!=str: \n",
    "      print(string)\n",
    "\n",
    "# sqft.map(clen_nan)\n",
    "# TODO проблемный признак пока оставим\n",
    "\n",
    "# Удалим\n",
    "delete_col.append('sqft')"
   ]
  },
  {
   "cell_type": "markdown",
   "metadata": {},
   "source": [
    "### Column \"zipcode\""
   ]
  },
  {
   "cell_type": "code",
   "execution_count": 238,
   "metadata": {},
   "outputs": [
    {
     "name": "stdout",
     "output_type": "stream",
     "text": [
      "Пропуски: 0\n",
      "Уникальных: 4545\n"
     ]
    },
    {
     "data": {
      "text/plain": [
       "32137         2136\n",
       "33131         1548\n",
       "34747         1478\n",
       "78245         1383\n",
       "34759         1328\n",
       "              ... \n",
       "77351            1\n",
       "27613-6949       1\n",
       "20695            1\n",
       "78112            1\n",
       "64015            1\n",
       "Name: zipcode, Length: 4545, dtype: int64"
      ]
     },
     "metadata": {},
     "output_type": "display_data"
    }
   ],
   "source": [
    "print('Пропуски:', data_new.zipcode.isna().sum())\n",
    "print('Уникальных:', data_new.zipcode.nunique())\n",
    "data_new.zipcode = data_new.zipcode.str.upper()\n",
    "display(data_new.zipcode.value_counts(dropna=False))"
   ]
  },
  {
   "cell_type": "code",
   "execution_count": 239,
   "metadata": {},
   "outputs": [],
   "source": [
    "# TOTO Пока удалим\n",
    "delete_col.append('zipcode')"
   ]
  },
  {
   "cell_type": "markdown",
   "metadata": {},
   "source": [
    "### Column \"beds\""
   ]
  },
  {
   "cell_type": "code",
   "execution_count": 240,
   "metadata": {},
   "outputs": [
    {
     "name": "stdout",
     "output_type": "stream",
     "text": [
      "Пропуски: 90878\n",
      "Уникальных: 1177\n"
     ]
    },
    {
     "data": {
      "text/plain": [
       "NaN           90878\n",
       "3 BEDS        53179\n",
       "4 BEDS        35244\n",
       "3             31303\n",
       "2 BEDS        26171\n",
       "              ...  \n",
       "5,510 SQFT        1\n",
       "3.8 ACRES         1\n",
       "7,104 SQFT        1\n",
       "9,443 SQFT        1\n",
       "5,776 SQFT        1\n",
       "Name: beds, Length: 1178, dtype: int64"
      ]
     },
     "metadata": {},
     "output_type": "display_data"
    }
   ],
   "source": [
    "print('Пропуски:', data_new.beds.isna().sum())\n",
    "print('Уникальных:', data_new.beds.nunique())\n",
    "data_new.beds = data_new.beds.str.upper()\n",
    "display(data_new.beds.value_counts(dropna=False))"
   ]
  },
  {
   "cell_type": "code",
   "execution_count": 241,
   "metadata": {},
   "outputs": [],
   "source": [
    "def parse_beds(s):\n",
    "    s = str(s)\n",
    "    if len(s) == 0 or s == ' ':  return 0, 0\n",
    "    if 'nan' in s: return 0, 0\n",
    "    if '--' in s: return 0, 0\n",
    "    if 'BAT' in s: return 1, 0\n",
    "\n",
    "    if ' BED' in s or ' BD' in s: \n",
    "        s = s.split(' ')\n",
    "        try:\n",
    "            return float(s[0]), 0\n",
    "        except:\n",
    "            return 1, 0\n",
    "\n",
    "    if ' SQ' in s: \n",
    "        s = s.split(' ')\n",
    "        try:\n",
    "            return 1, float(s[0])\n",
    "        except:\n",
    "            # print('EX_SQ', s)\n",
    "            return 1, 0\n",
    "\n",
    "    if ' AC' in s: \n",
    "        s = s.split(' ')\n",
    "        try:\n",
    "            return 1, float(s[0])*43560\n",
    "        except:\n",
    "            # print ('EX_AC', s)\n",
    "            return 1, 0\n",
    "    \n",
    "    try:\n",
    "        n = s.split(' ')\n",
    "        try:\n",
    "            #print (\"EX1\", s)\n",
    "            return float(n[0]), 0\n",
    "        except:\n",
    "            # print ('EX2', s)\n",
    "            return 1, 0\n",
    "    except:\n",
    "         return 1, 0\n",
    "    #     try:\n",
    "    #         print (\"EX3\", s)\n",
    "    #         return float(s), 0\n",
    "    #     except:\n",
    "    #         print ('EX4', s)\n",
    "    #         return 1, 0"
   ]
  },
  {
   "cell_type": "code",
   "execution_count": 242,
   "metadata": {},
   "outputs": [
    {
     "data": {
      "text/plain": [
       "(3.0, 0)                   105386\n",
       "(0, 0)                      93877\n",
       "(4.0, 0)                    68678\n",
       "(2.0, 0)                    49887\n",
       "(1, 0)                      23374\n",
       "                            ...  \n",
       "(1, 23609520.0)                 1\n",
       "(1, 61419.6)                    1\n",
       "(1, 175111.19999999998)         1\n",
       "(1, 252212.4)                   1\n",
       "(1, 142876.8)                   1\n",
       "Name: beds, Length: 508, dtype: int64"
      ]
     },
     "metadata": {},
     "output_type": "display_data"
    },
    {
     "data": {
      "text/html": [
       "<div>\n",
       "<style scoped>\n",
       "    .dataframe tbody tr th:only-of-type {\n",
       "        vertical-align: middle;\n",
       "    }\n",
       "\n",
       "    .dataframe tbody tr th {\n",
       "        vertical-align: top;\n",
       "    }\n",
       "\n",
       "    .dataframe thead th {\n",
       "        text-align: right;\n",
       "    }\n",
       "</style>\n",
       "<table border=\"1\" class=\"dataframe\">\n",
       "  <thead>\n",
       "    <tr style=\"text-align: right;\">\n",
       "      <th></th>\n",
       "      <th>beds_num</th>\n",
       "      <th>beds_area</th>\n",
       "    </tr>\n",
       "  </thead>\n",
       "  <tbody>\n",
       "    <tr>\n",
       "      <th>0</th>\n",
       "      <td>4.0</td>\n",
       "      <td>0.0</td>\n",
       "    </tr>\n",
       "    <tr>\n",
       "      <th>1</th>\n",
       "      <td>3.0</td>\n",
       "      <td>0.0</td>\n",
       "    </tr>\n",
       "    <tr>\n",
       "      <th>2</th>\n",
       "      <td>3.0</td>\n",
       "      <td>0.0</td>\n",
       "    </tr>\n",
       "    <tr>\n",
       "      <th>3</th>\n",
       "      <td>5.0</td>\n",
       "      <td>0.0</td>\n",
       "    </tr>\n",
       "    <tr>\n",
       "      <th>4</th>\n",
       "      <td>0.0</td>\n",
       "      <td>0.0</td>\n",
       "    </tr>\n",
       "  </tbody>\n",
       "</table>\n",
       "</div>"
      ],
      "text/plain": [
       "   beds_num  beds_area\n",
       "0       4.0        0.0\n",
       "1       3.0        0.0\n",
       "2       3.0        0.0\n",
       "3       5.0        0.0\n",
       "4       0.0        0.0"
      ]
     },
     "metadata": {},
     "output_type": "display_data"
    },
    {
     "name": "stdout",
     "output_type": "stream",
     "text": [
      "<class 'pandas.core.frame.DataFrame'>\n",
      "RangeIndex: 375544 entries, 0 to 375543\n",
      "Data columns (total 2 columns):\n",
      " #   Column     Non-Null Count   Dtype  \n",
      "---  ------     --------------   -----  \n",
      " 0   beds_num   375544 non-null  float64\n",
      " 1   beds_area  375544 non-null  float64\n",
      "dtypes: float64(2)\n",
      "memory usage: 5.7 MB\n"
     ]
    }
   ],
   "source": [
    "beds = data_new.beds.map(parse_beds) #.astype('category')\n",
    "display(beds.value_counts(dropna=False))\n",
    "\n",
    "data_beds = pd.DataFrame(beds.tolist(), columns=['beds_num', 'beds_area'])\n",
    "display(data_beds.head(5))\n",
    "data_beds.info()"
   ]
  },
  {
   "cell_type": "code",
   "execution_count": 243,
   "metadata": {},
   "outputs": [
    {
     "name": "stdout",
     "output_type": "stream",
     "text": [
      "<class 'pandas.core.frame.DataFrame'>\n",
      "Int64Index: 375544 entries, 0 to 376101\n",
      "Data columns (total 48 columns):\n",
      " #   Column                     Non-Null Count   Dtype   \n",
      "---  ------                     --------------   -----   \n",
      " 0   status                     375544 non-null  category\n",
      " 1   private_pool               375544 non-null  bool    \n",
      " 2   propertyType               375544 non-null  category\n",
      " 3   street                     375542 non-null  object  \n",
      " 4   baths                      375544 non-null  float64 \n",
      " 5   homeFacts                  375544 non-null  object  \n",
      " 6   fireplace                  375544 non-null  int64   \n",
      " 7   city                       375544 non-null  category\n",
      " 8   schools                    375544 non-null  object  \n",
      " 9   sqft                       335129 non-null  object  \n",
      " 10  zipcode                    375544 non-null  object  \n",
      " 11  beds                       284666 non-null  object  \n",
      " 12  state                      375544 non-null  object  \n",
      " 13  stories                    225807 non-null  object  \n",
      " 14  mls_id                     24865 non-null   object  \n",
      " 15  PrivatePool                375544 non-null  bool    \n",
      " 16  MlsId                      309012 non-null  object  \n",
      " 17  target                     373068 non-null  object  \n",
      " 18  private_pool_union         375544 non-null  bool    \n",
      " 19  street_type                375544 non-null  category\n",
      " 20  has_address                375544 non-null  bool    \n",
      " 21  hf_built_year              375544 non-null  int64   \n",
      " 22  hf_remodeled_year          375544 non-null  int64   \n",
      " 23  hf_heating                 375544 non-null  category\n",
      " 24  hf_cooling                 375544 non-null  category\n",
      " 25  hf_parking                 375544 non-null  category\n",
      " 26  hf_lotsize                 374068 non-null  object  \n",
      " 27  hf_price_sqft              374068 non-null  object  \n",
      " 28  hf_has_remodeled           375544 non-null  bool    \n",
      " 29  hf_years_before_remodeled  375544 non-null  int64   \n",
      " 30  sk_distance_min            375544 non-null  float64 \n",
      " 31  sk_distance_mean           375544 non-null  float64 \n",
      " 32  sk_rating_min              375544 non-null  int32   \n",
      " 33  sk_rating_max              375544 non-null  int32   \n",
      " 34  sk_rating_mean             375544 non-null  float64 \n",
      " 35  sk_gr_pk                   375544 non-null  int32   \n",
      " 36  sk_gr_01                   375544 non-null  int32   \n",
      " 37  sk_gr_02                   375544 non-null  int32   \n",
      " 38  sk_gr_03                   375544 non-null  int32   \n",
      " 39  sk_gr_04                   375544 non-null  int32   \n",
      " 40  sk_gr_05                   375544 non-null  int32   \n",
      " 41  sk_gr_06                   375544 non-null  int32   \n",
      " 42  sk_gr_07                   375544 non-null  int32   \n",
      " 43  sk_gr_08                   375544 non-null  int32   \n",
      " 44  sk_gr_09                   375544 non-null  int32   \n",
      " 45  sk_gr_10                   375544 non-null  int32   \n",
      " 46  sk_gr_11                   375544 non-null  int32   \n",
      " 47  sk_gr_12                   375544 non-null  int32   \n",
      "dtypes: bool(5), category(7), float64(4), int32(15), int64(4), object(13)\n",
      "memory usage: 89.3+ MB\n"
     ]
    },
    {
     "data": {
      "text/plain": [
       "None"
      ]
     },
     "metadata": {},
     "output_type": "display_data"
    },
    {
     "name": "stdout",
     "output_type": "stream",
     "text": [
      "<class 'pandas.core.frame.DataFrame'>\n",
      "RangeIndex: 375544 entries, 0 to 375543\n",
      "Data columns (total 2 columns):\n",
      " #   Column     Non-Null Count   Dtype  \n",
      "---  ------     --------------   -----  \n",
      " 0   beds_num   375544 non-null  float64\n",
      " 1   beds_area  375544 non-null  float64\n",
      "dtypes: float64(2)\n",
      "memory usage: 5.7 MB\n"
     ]
    },
    {
     "data": {
      "text/plain": [
       "None"
      ]
     },
     "metadata": {},
     "output_type": "display_data"
    }
   ],
   "source": [
    "display(data_new.info())\n",
    "display(data_beds.info())"
   ]
  },
  {
   "cell_type": "code",
   "execution_count": 244,
   "metadata": {},
   "outputs": [
    {
     "data": {
      "text/plain": [
       "beds_num  beds_area\n",
       "3         0            105386\n",
       "0         0             93877\n",
       "4         0             68678\n",
       "2         0             49887\n",
       "1         0             23374\n",
       "                        ...  \n",
       "          195584            1\n",
       "          193842            1\n",
       "          192970            1\n",
       "          189050            1\n",
       "144       0                 1\n",
       "Length: 508, dtype: int64"
      ]
     },
     "metadata": {},
     "output_type": "display_data"
    },
    {
     "name": "stdout",
     "output_type": "stream",
     "text": [
      "Пропуски: beds_num     0\n",
      "beds_area    0\n",
      "dtype: int64\n"
     ]
    }
   ],
   "source": [
    "display(data_beds.astype(int).value_counts(dropna=False))\n",
    "data_beds = data_beds.astype(int)\n",
    "print('Пропуски:', data_beds.isna().sum())"
   ]
  },
  {
   "cell_type": "code",
   "execution_count": 245,
   "metadata": {},
   "outputs": [
    {
     "data": {
      "text/html": [
       "<div>\n",
       "<style scoped>\n",
       "    .dataframe tbody tr th:only-of-type {\n",
       "        vertical-align: middle;\n",
       "    }\n",
       "\n",
       "    .dataframe tbody tr th {\n",
       "        vertical-align: top;\n",
       "    }\n",
       "\n",
       "    .dataframe thead th {\n",
       "        text-align: right;\n",
       "    }\n",
       "</style>\n",
       "<table border=\"1\" class=\"dataframe\">\n",
       "  <thead>\n",
       "    <tr style=\"text-align: right;\">\n",
       "      <th></th>\n",
       "      <th>status</th>\n",
       "      <th>private_pool</th>\n",
       "      <th>propertyType</th>\n",
       "      <th>street</th>\n",
       "      <th>baths</th>\n",
       "      <th>homeFacts</th>\n",
       "      <th>fireplace</th>\n",
       "      <th>city</th>\n",
       "      <th>schools</th>\n",
       "      <th>sqft</th>\n",
       "      <th>...</th>\n",
       "      <th>sk_gr_05</th>\n",
       "      <th>sk_gr_06</th>\n",
       "      <th>sk_gr_07</th>\n",
       "      <th>sk_gr_08</th>\n",
       "      <th>sk_gr_09</th>\n",
       "      <th>sk_gr_10</th>\n",
       "      <th>sk_gr_11</th>\n",
       "      <th>sk_gr_12</th>\n",
       "      <th>beds_num</th>\n",
       "      <th>beds_area</th>\n",
       "    </tr>\n",
       "  </thead>\n",
       "  <tbody>\n",
       "    <tr>\n",
       "      <th>0</th>\n",
       "      <td>ACTIVE</td>\n",
       "      <td>False</td>\n",
       "      <td>SINGLE</td>\n",
       "      <td>240 HEATHER LN</td>\n",
       "      <td>3.5</td>\n",
       "      <td>{'atAGlanceFacts': [{'factValue': '2019', 'fac...</td>\n",
       "      <td>1</td>\n",
       "      <td>SOUTHERN PINES</td>\n",
       "      <td>[{'rating': ['4', '4', '7', 'NR', '4', '7', 'N...</td>\n",
       "      <td>2900</td>\n",
       "      <td>...</td>\n",
       "      <td>3</td>\n",
       "      <td>3</td>\n",
       "      <td>3</td>\n",
       "      <td>3</td>\n",
       "      <td>3</td>\n",
       "      <td>3</td>\n",
       "      <td>3</td>\n",
       "      <td>3</td>\n",
       "      <td>4.0</td>\n",
       "      <td>0.0</td>\n",
       "    </tr>\n",
       "    <tr>\n",
       "      <th>1</th>\n",
       "      <td>FOR SALE</td>\n",
       "      <td>False</td>\n",
       "      <td>SINGLE</td>\n",
       "      <td>12911 E HEROY AVE</td>\n",
       "      <td>3.0</td>\n",
       "      <td>{'atAGlanceFacts': [{'factValue': '2019', 'fac...</td>\n",
       "      <td>0</td>\n",
       "      <td>SPOKANE VALLEY</td>\n",
       "      <td>[{'rating': ['4/10', 'None/10', '4/10'], 'data...</td>\n",
       "      <td>1,947 SQFT</td>\n",
       "      <td>...</td>\n",
       "      <td>2</td>\n",
       "      <td>2</td>\n",
       "      <td>2</td>\n",
       "      <td>2</td>\n",
       "      <td>1</td>\n",
       "      <td>1</td>\n",
       "      <td>1</td>\n",
       "      <td>1</td>\n",
       "      <td>3.0</td>\n",
       "      <td>0.0</td>\n",
       "    </tr>\n",
       "  </tbody>\n",
       "</table>\n",
       "<p>2 rows × 50 columns</p>\n",
       "</div>"
      ],
      "text/plain": [
       "     status  private_pool propertyType             street  baths  \\\n",
       "0    ACTIVE         False       SINGLE     240 HEATHER LN    3.5   \n",
       "1  FOR SALE         False       SINGLE  12911 E HEROY AVE    3.0   \n",
       "\n",
       "                                           homeFacts  fireplace  \\\n",
       "0  {'atAGlanceFacts': [{'factValue': '2019', 'fac...          1   \n",
       "1  {'atAGlanceFacts': [{'factValue': '2019', 'fac...          0   \n",
       "\n",
       "             city                                            schools  \\\n",
       "0  SOUTHERN PINES  [{'rating': ['4', '4', '7', 'NR', '4', '7', 'N...   \n",
       "1  SPOKANE VALLEY  [{'rating': ['4/10', 'None/10', '4/10'], 'data...   \n",
       "\n",
       "         sqft  ... sk_gr_05 sk_gr_06 sk_gr_07 sk_gr_08 sk_gr_09  sk_gr_10  \\\n",
       "0        2900  ...        3        3        3        3        3         3   \n",
       "1  1,947 SQFT  ...        2        2        2        2        1         1   \n",
       "\n",
       "  sk_gr_11 sk_gr_12  beds_num beds_area  \n",
       "0        3        3       4.0       0.0  \n",
       "1        1        1       3.0       0.0  \n",
       "\n",
       "[2 rows x 50 columns]"
      ]
     },
     "metadata": {},
     "output_type": "display_data"
    },
    {
     "name": "stdout",
     "output_type": "stream",
     "text": [
      "<class 'pandas.core.frame.DataFrame'>\n",
      "Int64Index: 375544 entries, 0 to 376101\n",
      "Data columns (total 50 columns):\n",
      " #   Column                     Non-Null Count   Dtype   \n",
      "---  ------                     --------------   -----   \n",
      " 0   status                     375544 non-null  category\n",
      " 1   private_pool               375544 non-null  bool    \n",
      " 2   propertyType               375544 non-null  category\n",
      " 3   street                     375542 non-null  object  \n",
      " 4   baths                      375544 non-null  float64 \n",
      " 5   homeFacts                  375544 non-null  object  \n",
      " 6   fireplace                  375544 non-null  int64   \n",
      " 7   city                       375544 non-null  category\n",
      " 8   schools                    375544 non-null  object  \n",
      " 9   sqft                       335129 non-null  object  \n",
      " 10  zipcode                    375544 non-null  object  \n",
      " 11  beds                       284666 non-null  object  \n",
      " 12  state                      375544 non-null  object  \n",
      " 13  stories                    225807 non-null  object  \n",
      " 14  mls_id                     24865 non-null   object  \n",
      " 15  PrivatePool                375544 non-null  bool    \n",
      " 16  MlsId                      309012 non-null  object  \n",
      " 17  target                     373068 non-null  object  \n",
      " 18  private_pool_union         375544 non-null  bool    \n",
      " 19  street_type                375544 non-null  category\n",
      " 20  has_address                375544 non-null  bool    \n",
      " 21  hf_built_year              375544 non-null  int64   \n",
      " 22  hf_remodeled_year          375544 non-null  int64   \n",
      " 23  hf_heating                 375544 non-null  category\n",
      " 24  hf_cooling                 375544 non-null  category\n",
      " 25  hf_parking                 375544 non-null  category\n",
      " 26  hf_lotsize                 374068 non-null  object  \n",
      " 27  hf_price_sqft              374068 non-null  object  \n",
      " 28  hf_has_remodeled           375544 non-null  bool    \n",
      " 29  hf_years_before_remodeled  375544 non-null  int64   \n",
      " 30  sk_distance_min            375544 non-null  float64 \n",
      " 31  sk_distance_mean           375544 non-null  float64 \n",
      " 32  sk_rating_min              375544 non-null  int32   \n",
      " 33  sk_rating_max              375544 non-null  int32   \n",
      " 34  sk_rating_mean             375544 non-null  float64 \n",
      " 35  sk_gr_pk                   375544 non-null  int32   \n",
      " 36  sk_gr_01                   375544 non-null  int32   \n",
      " 37  sk_gr_02                   375544 non-null  int32   \n",
      " 38  sk_gr_03                   375544 non-null  int32   \n",
      " 39  sk_gr_04                   375544 non-null  int32   \n",
      " 40  sk_gr_05                   375544 non-null  int32   \n",
      " 41  sk_gr_06                   375544 non-null  int32   \n",
      " 42  sk_gr_07                   375544 non-null  int32   \n",
      " 43  sk_gr_08                   375544 non-null  int32   \n",
      " 44  sk_gr_09                   375544 non-null  int32   \n",
      " 45  sk_gr_10                   375544 non-null  int32   \n",
      " 46  sk_gr_11                   375544 non-null  int32   \n",
      " 47  sk_gr_12                   375544 non-null  int32   \n",
      " 48  beds_num                   374987 non-null  float64 \n",
      " 49  beds_area                  374987 non-null  float64 \n",
      "dtypes: bool(5), category(7), float64(6), int32(15), int64(4), object(13)\n",
      "memory usage: 103.1+ MB\n"
     ]
    }
   ],
   "source": [
    "# Удалим признак beds\n",
    "delete_col.append('beds')\n",
    "data_new = data_new.join(data_beds)\n",
    "display(data_new.head(2))\n",
    "data_new.info()"
   ]
  },
  {
   "cell_type": "markdown",
   "metadata": {},
   "source": [
    "### Column \"state\""
   ]
  },
  {
   "cell_type": "code",
   "execution_count": 246,
   "metadata": {},
   "outputs": [
    {
     "name": "stdout",
     "output_type": "stream",
     "text": [
      "Пропуски: 0\n",
      "Уникальных: 39\n"
     ]
    },
    {
     "data": {
      "text/plain": [
       "FL    115013\n",
       "TX     83436\n",
       "NY     24381\n",
       "CA     23283\n",
       "NC     21739\n",
       "TN     18266\n",
       "WA     13756\n",
       "OH     12552\n",
       "IL      8878\n",
       "NV      8434\n",
       "GA      6668\n",
       "CO      6378\n",
       "PA      5528\n",
       "MI      5140\n",
       "DC      4650\n",
       "AZ      3340\n",
       "IN      3304\n",
       "OR      2776\n",
       "MA      1507\n",
       "UT      1321\n",
       "MD      1086\n",
       "MO       863\n",
       "VT       849\n",
       "VA       799\n",
       "WI       451\n",
       "Name: state, dtype: int64"
      ]
     },
     "metadata": {},
     "output_type": "display_data"
    }
   ],
   "source": [
    "print('Пропуски:', data_new.state.isna().sum())\n",
    "print('Уникальных:', data_new.state.nunique())\n",
    "data_new.state = data_new.state.str.upper()\n",
    "display(data_new.state.value_counts(dropna=False)[:25])\n",
    "# Всего 38 уникальных штата.\n",
    "# Большинство обявлений о продаже в Филадельфии (FL) и Техасе (TX).\n",
    "data_new.state = data_new.state.astype('category')"
   ]
  },
  {
   "cell_type": "markdown",
   "metadata": {},
   "source": [
    "### Column \"stories\" "
   ]
  },
  {
   "cell_type": "code",
   "execution_count": 247,
   "metadata": {},
   "outputs": [
    {
     "name": "stdout",
     "output_type": "stream",
     "text": [
      "Пропуски: 149737\n",
      "Уникальных: 347\n"
     ]
    },
    {
     "data": {
      "text/plain": [
       "NaN                                  149737\n",
       "1.0                                   67258\n",
       "2.0                                   55114\n",
       "1                                     23018\n",
       "2                                     18073\n",
       "                                      ...  \n",
       "manufactured home, non-site built         1\n",
       "bedroom - split plan                      1\n",
       "78                                        1\n",
       "1.70                                      1\n",
       "65.0                                      1\n",
       "Name: stories, Length: 348, dtype: int64"
      ]
     },
     "metadata": {},
     "output_type": "display_data"
    }
   ],
   "source": [
    "print('Пропуски:', data_new.stories.isna().sum())\n",
    "print('Уникальных:', data_new.stories.nunique())\n",
    "data_new.stories = data_new.stories.str.lower()\n",
    "display(data_new.stories.value_counts(dropna=False))"
   ]
  },
  {
   "cell_type": "code",
   "execution_count": 248,
   "metadata": {},
   "outputs": [],
   "source": [
    "def parse_stories(string):\n",
    "  if type(string)!=str: return 0 # Пропуски 150103\n",
    "  if(len(str(string))==0): return 0\n",
    "  string.replace(',', '.')\n",
    "  res = []\n",
    "  res = re.findall(r'\\d+\\.\\d+', str(string)) \n",
    "  if(res): return float(res[0])\n",
    "  res = re.findall(r'\\d+', str(string)) \n",
    "  if(res): return float(res[0])\n",
    "  if('yes' in string): return 1\n",
    "  if('not applicable' in string): return 0\n",
    "  if('storage' in string): return 0\n",
    "  if('one' in string): return 1\n",
    "  if('two' in string): return 2\n",
    "  if('three' in string): return 3\n",
    "  if('four' in string): return 4\n",
    "  if('five' in string): return 5\n",
    "  if('six' in string): return 6\n",
    "  if('seven' in string): return 7\n",
    "  if('eight' in string): return 8\n",
    "  if('nine' in string): return 9\n",
    "  if('ten' in string): return 0\n",
    "  if('eleven' in string): return 11\n",
    "  if('twelve' in string): return 12\n",
    "  return 0 # если не распарсили то пусть будет 0"
   ]
  },
  {
   "cell_type": "code",
   "execution_count": 249,
   "metadata": {},
   "outputs": [
    {
     "data": {
      "text/plain": [
       "0.0       163574\n",
       "1.0        99981\n",
       "2.0        81731\n",
       "3.0        17779\n",
       "9.0         3378\n",
       "           ...  \n",
       "1120.0         1\n",
       "2.2            1\n",
       "1002.0         1\n",
       "96.0           1\n",
       "65.0           1\n",
       "Name: stories, Length: 85, dtype: int64"
      ]
     },
     "metadata": {},
     "output_type": "display_data"
    },
    {
     "data": {
      "text/markdown": [
       "| P1 | Min emission | P25 | IQR | P75 | Max emission | P99 |\n",
       "|-----|:-----:|----|-----|----|:-----:|-----|\n",
       "|0.0|-3.0|0.0|2.0|2.0|5.0|9.0|"
      ],
      "text/plain": [
       "<IPython.core.display.Markdown object>"
      ]
     },
     "metadata": {},
     "output_type": "display_data"
    }
   ],
   "source": [
    "stories = data_new.stories.map(parse_stories) #.astype('category')\n",
    "display(stories.value_counts(dropna=False))\n",
    "perc1, min_emission_limits, max_emission_limits, perc99 = get_emission_limits(stories)"
   ]
  },
  {
   "cell_type": "code",
   "execution_count": 250,
   "metadata": {},
   "outputs": [
    {
     "data": {
      "text/plain": [
       "0.00    163574\n",
       "1.00     99981\n",
       "2.00     81731\n",
       "3.00     17779\n",
       "9.00      7038\n",
       "4.00      3121\n",
       "1.50      1268\n",
       "5.00       805\n",
       "2.50       195\n",
       "1.75        27\n",
       "1.70        19\n",
       "1.30         2\n",
       "3.50         2\n",
       "1.20         1\n",
       "2.20         1\n",
       "Name: stories, dtype: int64"
      ]
     },
     "metadata": {},
     "output_type": "display_data"
    }
   ],
   "source": [
    "# data_new.stories.loc[data_new.stories < min_emission_limits] = 0 #int(perc1)\n",
    "stories.loc[stories > max_emission_limits] = int(perc99)\n",
    "display(stories.value_counts(dropna=False))\n",
    "#data_new.stories = stories.astype(int)\n",
    "data_new.stories = stories"
   ]
  },
  {
   "cell_type": "markdown",
   "metadata": {},
   "source": [
    "### Column \"target\""
   ]
  },
  {
   "cell_type": "code",
   "execution_count": 251,
   "metadata": {},
   "outputs": [
    {
     "name": "stdout",
     "output_type": "stream",
     "text": [
      "Пропуски: 2476\n",
      "Уникальных: 43699\n"
     ]
    }
   ],
   "source": [
    "print('Пропуски:', data_new.target.isna().sum())\n",
    "print('Уникальных:', data_new.target.nunique())"
   ]
  },
  {
   "cell_type": "code",
   "execution_count": 252,
   "metadata": {},
   "outputs": [
    {
     "name": "stdout",
     "output_type": "stream",
     "text": [
      "Пропуски: 0\n",
      "Уникальных: 43699\n"
     ]
    },
    {
     "data": {
      "text/plain": [
       "$225,000     1456\n",
       "$275,000     1352\n",
       "$250,000     1308\n",
       "$350,000     1291\n",
       "$299,900     1271\n",
       "             ... \n",
       "$135,946        1\n",
       "$269,799        1\n",
       "$469,350        1\n",
       "$344,495+       1\n",
       "$262,960        1\n",
       "Name: target, Length: 43699, dtype: int64"
      ]
     },
     "metadata": {},
     "output_type": "display_data"
    }
   ],
   "source": [
    "# Удалим 2476 пустых значения\n",
    "data_new.dropna(subset=['target'], inplace=True)\n",
    "\n",
    "print('Пропуски:', data_new.target.isna().sum())\n",
    "print('Уникальных:', data_new.target.nunique())\n",
    "\n",
    "data_new.target = data_new.target.str.upper()\n",
    "display(data_new.target.value_counts(dropna=False))"
   ]
  },
  {
   "cell_type": "code",
   "execution_count": 253,
   "metadata": {},
   "outputs": [],
   "source": [
    "target = data_new.target.apply(lambda x: x if type(x)!=str else x\n",
    "                                .replace('$', '')\n",
    "                                .replace('+', '')\n",
    "                                .replace(',', '')\n",
    "                                ).astype(int)\n",
    "\n",
    "# display(data.target.value_counts(dropna=False))\n",
    "data_new.target = target\n",
    "# data_new['target_log'] = np.log(data_new.target)"
   ]
  },
  {
   "cell_type": "code",
   "execution_count": 254,
   "metadata": {},
   "outputs": [],
   "source": [
    "# data_new[data_new.target].target.value_counts()"
   ]
  },
  {
   "cell_type": "code",
   "execution_count": 255,
   "metadata": {},
   "outputs": [
    {
     "data": {
      "text/markdown": [
       "| P1 | Min emission | P25 | IQR | P75 | Max emission | P99 |\n",
       "|-----|:-----:|----|-----|----|:-----:|-----|\n",
       "|7500.0|-406378.75|187848.5|396151.5|584000.0|1178227.25|5995000.0|"
      ],
      "text/plain": [
       "<IPython.core.display.Markdown object>"
      ]
     },
     "metadata": {},
     "output_type": "display_data"
    },
    {
     "data": {
      "image/svg+xml": "<?xml version=\"1.0\" encoding=\"utf-8\" standalone=\"no\"?>\r\n<!DOCTYPE svg PUBLIC \"-//W3C//DTD SVG 1.1//EN\"\r\n  \"http://www.w3.org/Graphics/SVG/1.1/DTD/svg11.dtd\">\r\n<svg height=\"343.25875pt\" version=\"1.1\" viewBox=\"0 0 703.283047 343.25875\" width=\"703.283047pt\" xmlns=\"http://www.w3.org/2000/svg\" xmlns:xlink=\"http://www.w3.org/1999/xlink\">\r\n <metadata>\r\n  <rdf:RDF xmlns:cc=\"http://creativecommons.org/ns#\" xmlns:dc=\"http://purl.org/dc/elements/1.1/\" xmlns:rdf=\"http://www.w3.org/1999/02/22-rdf-syntax-ns#\">\r\n   <cc:Work>\r\n    <dc:type rdf:resource=\"http://purl.org/dc/dcmitype/StillImage\"/>\r\n    <dc:date>2022-04-06T20:32:03.434401</dc:date>\r\n    <dc:format>image/svg+xml</dc:format>\r\n    <dc:creator>\r\n     <cc:Agent>\r\n      <dc:title>Matplotlib v3.4.3, https://matplotlib.org/</dc:title>\r\n     </cc:Agent>\r\n    </dc:creator>\r\n   </cc:Work>\r\n  </rdf:RDF>\r\n </metadata>\r\n <defs>\r\n  <style type=\"text/css\">*{stroke-linecap:butt;stroke-linejoin:round;}</style>\r\n </defs>\r\n <g id=\"figure_1\">\r\n  <g id=\"patch_1\">\r\n   <path d=\"M 0 343.25875 \r\nL 703.283047 343.25875 \r\nL 703.283047 0 \r\nL 0 0 \r\nz\r\n\" style=\"fill:#f0f0f0;\"/>\r\n  </g>\r\n  <g id=\"axes_1\">\r\n   <g id=\"patch_2\">\r\n    <path d=\"M 35.34 302.46 \r\nL 696.083047 302.46 \r\nL 696.083047 7.2 \r\nL 35.34 7.2 \r\nz\r\n\" style=\"fill:#f0f0f0;\"/>\r\n   </g>\r\n   <g id=\"matplotlib.axis_1\">\r\n    <g id=\"xtick_1\">\r\n     <g id=\"line2d_1\">\r\n      <path clip-path=\"url(#pf49f1d807b)\" d=\"M 65.373675 302.46 \r\nL 65.373675 7.2 \r\n\" style=\"fill:none;stroke:#cbcbcb;\"/>\r\n     </g>\r\n     <g id=\"line2d_2\"/>\r\n     <g id=\"text_1\">\r\n      <!-- 0 -->\r\n      <g transform=\"translate(60.919925 316.597812)scale(0.14 -0.14)\">\r\n       <defs>\r\n        <path d=\"M 2034 4250 \r\nQ 1547 4250 1301 3770 \r\nQ 1056 3291 1056 2328 \r\nQ 1056 1369 1301 889 \r\nQ 1547 409 2034 409 \r\nQ 2525 409 2770 889 \r\nQ 3016 1369 3016 2328 \r\nQ 3016 3291 2770 3770 \r\nQ 2525 4250 2034 4250 \r\nz\r\nM 2034 4750 \r\nQ 2819 4750 3233 4129 \r\nQ 3647 3509 3647 2328 \r\nQ 3647 1150 3233 529 \r\nQ 2819 -91 2034 -91 \r\nQ 1250 -91 836 529 \r\nQ 422 1150 422 2328 \r\nQ 422 3509 836 4129 \r\nQ 1250 4750 2034 4750 \r\nz\r\n\" id=\"DejaVuSans-30\" transform=\"scale(0.015625)\"/>\r\n       </defs>\r\n       <use xlink:href=\"#DejaVuSans-30\"/>\r\n      </g>\r\n     </g>\r\n    </g>\r\n    <g id=\"xtick_2\">\r\n     <g id=\"line2d_3\">\r\n      <path clip-path=\"url(#pf49f1d807b)\" d=\"M 165.653407 302.46 \r\nL 165.653407 7.2 \r\n\" style=\"fill:none;stroke:#cbcbcb;\"/>\r\n     </g>\r\n     <g id=\"line2d_4\"/>\r\n     <g id=\"text_2\">\r\n      <!-- 1 -->\r\n      <g transform=\"translate(161.199657 316.597812)scale(0.14 -0.14)\">\r\n       <defs>\r\n        <path d=\"M 794 531 \r\nL 1825 531 \r\nL 1825 4091 \r\nL 703 3866 \r\nL 703 4441 \r\nL 1819 4666 \r\nL 2450 4666 \r\nL 2450 531 \r\nL 3481 531 \r\nL 3481 0 \r\nL 794 0 \r\nL 794 531 \r\nz\r\n\" id=\"DejaVuSans-31\" transform=\"scale(0.015625)\"/>\r\n       </defs>\r\n       <use xlink:href=\"#DejaVuSans-31\"/>\r\n      </g>\r\n     </g>\r\n    </g>\r\n    <g id=\"xtick_3\">\r\n     <g id=\"line2d_5\">\r\n      <path clip-path=\"url(#pf49f1d807b)\" d=\"M 265.933139 302.46 \r\nL 265.933139 7.2 \r\n\" style=\"fill:none;stroke:#cbcbcb;\"/>\r\n     </g>\r\n     <g id=\"line2d_6\"/>\r\n     <g id=\"text_3\">\r\n      <!-- 2 -->\r\n      <g transform=\"translate(261.479389 316.597812)scale(0.14 -0.14)\">\r\n       <defs>\r\n        <path d=\"M 1228 531 \r\nL 3431 531 \r\nL 3431 0 \r\nL 469 0 \r\nL 469 531 \r\nQ 828 903 1448 1529 \r\nQ 2069 2156 2228 2338 \r\nQ 2531 2678 2651 2914 \r\nQ 2772 3150 2772 3378 \r\nQ 2772 3750 2511 3984 \r\nQ 2250 4219 1831 4219 \r\nQ 1534 4219 1204 4116 \r\nQ 875 4013 500 3803 \r\nL 500 4441 \r\nQ 881 4594 1212 4672 \r\nQ 1544 4750 1819 4750 \r\nQ 2544 4750 2975 4387 \r\nQ 3406 4025 3406 3419 \r\nQ 3406 3131 3298 2873 \r\nQ 3191 2616 2906 2266 \r\nQ 2828 2175 2409 1742 \r\nQ 1991 1309 1228 531 \r\nz\r\n\" id=\"DejaVuSans-32\" transform=\"scale(0.015625)\"/>\r\n       </defs>\r\n       <use xlink:href=\"#DejaVuSans-32\"/>\r\n      </g>\r\n     </g>\r\n    </g>\r\n    <g id=\"xtick_4\">\r\n     <g id=\"line2d_7\">\r\n      <path clip-path=\"url(#pf49f1d807b)\" d=\"M 366.212872 302.46 \r\nL 366.212872 7.2 \r\n\" style=\"fill:none;stroke:#cbcbcb;\"/>\r\n     </g>\r\n     <g id=\"line2d_8\"/>\r\n     <g id=\"text_4\">\r\n      <!-- 3 -->\r\n      <g transform=\"translate(361.759122 316.597812)scale(0.14 -0.14)\">\r\n       <defs>\r\n        <path d=\"M 2597 2516 \r\nQ 3050 2419 3304 2112 \r\nQ 3559 1806 3559 1356 \r\nQ 3559 666 3084 287 \r\nQ 2609 -91 1734 -91 \r\nQ 1441 -91 1130 -33 \r\nQ 819 25 488 141 \r\nL 488 750 \r\nQ 750 597 1062 519 \r\nQ 1375 441 1716 441 \r\nQ 2309 441 2620 675 \r\nQ 2931 909 2931 1356 \r\nQ 2931 1769 2642 2001 \r\nQ 2353 2234 1838 2234 \r\nL 1294 2234 \r\nL 1294 2753 \r\nL 1863 2753 \r\nQ 2328 2753 2575 2939 \r\nQ 2822 3125 2822 3475 \r\nQ 2822 3834 2567 4026 \r\nQ 2313 4219 1838 4219 \r\nQ 1578 4219 1281 4162 \r\nQ 984 4106 628 3988 \r\nL 628 4550 \r\nQ 988 4650 1302 4700 \r\nQ 1616 4750 1894 4750 \r\nQ 2613 4750 3031 4423 \r\nQ 3450 4097 3450 3541 \r\nQ 3450 3153 3228 2886 \r\nQ 3006 2619 2597 2516 \r\nz\r\n\" id=\"DejaVuSans-33\" transform=\"scale(0.015625)\"/>\r\n       </defs>\r\n       <use xlink:href=\"#DejaVuSans-33\"/>\r\n      </g>\r\n     </g>\r\n    </g>\r\n    <g id=\"xtick_5\">\r\n     <g id=\"line2d_9\">\r\n      <path clip-path=\"url(#pf49f1d807b)\" d=\"M 466.492604 302.46 \r\nL 466.492604 7.2 \r\n\" style=\"fill:none;stroke:#cbcbcb;\"/>\r\n     </g>\r\n     <g id=\"line2d_10\"/>\r\n     <g id=\"text_5\">\r\n      <!-- 4 -->\r\n      <g transform=\"translate(462.038854 316.597812)scale(0.14 -0.14)\">\r\n       <defs>\r\n        <path d=\"M 2419 4116 \r\nL 825 1625 \r\nL 2419 1625 \r\nL 2419 4116 \r\nz\r\nM 2253 4666 \r\nL 3047 4666 \r\nL 3047 1625 \r\nL 3713 1625 \r\nL 3713 1100 \r\nL 3047 1100 \r\nL 3047 0 \r\nL 2419 0 \r\nL 2419 1100 \r\nL 313 1100 \r\nL 313 1709 \r\nL 2253 4666 \r\nz\r\n\" id=\"DejaVuSans-34\" transform=\"scale(0.015625)\"/>\r\n       </defs>\r\n       <use xlink:href=\"#DejaVuSans-34\"/>\r\n      </g>\r\n     </g>\r\n    </g>\r\n    <g id=\"xtick_6\">\r\n     <g id=\"line2d_11\">\r\n      <path clip-path=\"url(#pf49f1d807b)\" d=\"M 566.772337 302.46 \r\nL 566.772337 7.2 \r\n\" style=\"fill:none;stroke:#cbcbcb;\"/>\r\n     </g>\r\n     <g id=\"line2d_12\"/>\r\n     <g id=\"text_6\">\r\n      <!-- 5 -->\r\n      <g transform=\"translate(562.318587 316.597812)scale(0.14 -0.14)\">\r\n       <defs>\r\n        <path d=\"M 691 4666 \r\nL 3169 4666 \r\nL 3169 4134 \r\nL 1269 4134 \r\nL 1269 2991 \r\nQ 1406 3038 1543 3061 \r\nQ 1681 3084 1819 3084 \r\nQ 2600 3084 3056 2656 \r\nQ 3513 2228 3513 1497 \r\nQ 3513 744 3044 326 \r\nQ 2575 -91 1722 -91 \r\nQ 1428 -91 1123 -41 \r\nQ 819 9 494 109 \r\nL 494 744 \r\nQ 775 591 1075 516 \r\nQ 1375 441 1709 441 \r\nQ 2250 441 2565 725 \r\nQ 2881 1009 2881 1497 \r\nQ 2881 1984 2565 2268 \r\nQ 2250 2553 1709 2553 \r\nQ 1456 2553 1204 2497 \r\nQ 953 2441 691 2322 \r\nL 691 4666 \r\nz\r\n\" id=\"DejaVuSans-35\" transform=\"scale(0.015625)\"/>\r\n       </defs>\r\n       <use xlink:href=\"#DejaVuSans-35\"/>\r\n      </g>\r\n     </g>\r\n    </g>\r\n    <g id=\"xtick_7\">\r\n     <g id=\"line2d_13\">\r\n      <path clip-path=\"url(#pf49f1d807b)\" d=\"M 667.052069 302.46 \r\nL 667.052069 7.2 \r\n\" style=\"fill:none;stroke:#cbcbcb;\"/>\r\n     </g>\r\n     <g id=\"line2d_14\"/>\r\n     <g id=\"text_7\">\r\n      <!-- 6 -->\r\n      <g transform=\"translate(662.598319 316.597812)scale(0.14 -0.14)\">\r\n       <defs>\r\n        <path d=\"M 2113 2584 \r\nQ 1688 2584 1439 2293 \r\nQ 1191 2003 1191 1497 \r\nQ 1191 994 1439 701 \r\nQ 1688 409 2113 409 \r\nQ 2538 409 2786 701 \r\nQ 3034 994 3034 1497 \r\nQ 3034 2003 2786 2293 \r\nQ 2538 2584 2113 2584 \r\nz\r\nM 3366 4563 \r\nL 3366 3988 \r\nQ 3128 4100 2886 4159 \r\nQ 2644 4219 2406 4219 \r\nQ 1781 4219 1451 3797 \r\nQ 1122 3375 1075 2522 \r\nQ 1259 2794 1537 2939 \r\nQ 1816 3084 2150 3084 \r\nQ 2853 3084 3261 2657 \r\nQ 3669 2231 3669 1497 \r\nQ 3669 778 3244 343 \r\nQ 2819 -91 2113 -91 \r\nQ 1303 -91 875 529 \r\nQ 447 1150 447 2328 \r\nQ 447 3434 972 4092 \r\nQ 1497 4750 2381 4750 \r\nQ 2619 4750 2861 4703 \r\nQ 3103 4656 3366 4563 \r\nz\r\n\" id=\"DejaVuSans-36\" transform=\"scale(0.015625)\"/>\r\n       </defs>\r\n       <use xlink:href=\"#DejaVuSans-36\"/>\r\n      </g>\r\n     </g>\r\n    </g>\r\n    <g id=\"text_8\">\r\n     <!-- 1e6 -->\r\n     <g transform=\"translate(669.653672 333.147187)scale(0.14 -0.14)\">\r\n      <defs>\r\n       <path d=\"M 3597 1894 \r\nL 3597 1613 \r\nL 953 1613 \r\nQ 991 1019 1311 708 \r\nQ 1631 397 2203 397 \r\nQ 2534 397 2845 478 \r\nQ 3156 559 3463 722 \r\nL 3463 178 \r\nQ 3153 47 2828 -22 \r\nQ 2503 -91 2169 -91 \r\nQ 1331 -91 842 396 \r\nQ 353 884 353 1716 \r\nQ 353 2575 817 3079 \r\nQ 1281 3584 2069 3584 \r\nQ 2775 3584 3186 3129 \r\nQ 3597 2675 3597 1894 \r\nz\r\nM 3022 2063 \r\nQ 3016 2534 2758 2815 \r\nQ 2500 3097 2075 3097 \r\nQ 1594 3097 1305 2825 \r\nQ 1016 2553 972 2059 \r\nL 3022 2063 \r\nz\r\n\" id=\"DejaVuSans-65\" transform=\"scale(0.015625)\"/>\r\n      </defs>\r\n      <use xlink:href=\"#DejaVuSans-31\"/>\r\n      <use x=\"63.623047\" xlink:href=\"#DejaVuSans-65\"/>\r\n      <use x=\"125.146484\" xlink:href=\"#DejaVuSans-36\"/>\r\n     </g>\r\n    </g>\r\n   </g>\r\n   <g id=\"matplotlib.axis_2\">\r\n    <g id=\"ytick_1\">\r\n     <g id=\"line2d_15\">\r\n      <path clip-path=\"url(#pf49f1d807b)\" d=\"M 35.34 268.51183 \r\nL 696.083047 268.51183 \r\n\" style=\"fill:none;stroke:#cbcbcb;\"/>\r\n     </g>\r\n     <g id=\"line2d_16\"/>\r\n     <g id=\"text_9\">\r\n      <!-- $\\mathdefault{10^{1}}$ -->\r\n      <g transform=\"translate(7.2 273.830736)scale(0.14 -0.14)\">\r\n       <use transform=\"translate(0 0.684375)\" xlink:href=\"#DejaVuSans-31\"/>\r\n       <use transform=\"translate(63.623047 0.684375)\" xlink:href=\"#DejaVuSans-30\"/>\r\n       <use transform=\"translate(128.203125 38.965625)scale(0.7)\" xlink:href=\"#DejaVuSans-31\"/>\r\n      </g>\r\n     </g>\r\n    </g>\r\n    <g id=\"ytick_2\">\r\n     <g id=\"line2d_17\">\r\n      <path clip-path=\"url(#pf49f1d807b)\" d=\"M 35.34 200.321744 \r\nL 696.083047 200.321744 \r\n\" style=\"fill:none;stroke:#cbcbcb;\"/>\r\n     </g>\r\n     <g id=\"line2d_18\"/>\r\n     <g id=\"text_10\">\r\n      <!-- $\\mathdefault{10^{2}}$ -->\r\n      <g transform=\"translate(7.2 205.64065)scale(0.14 -0.14)\">\r\n       <use transform=\"translate(0 0.765625)\" xlink:href=\"#DejaVuSans-31\"/>\r\n       <use transform=\"translate(63.623047 0.765625)\" xlink:href=\"#DejaVuSans-30\"/>\r\n       <use transform=\"translate(128.203125 39.046875)scale(0.7)\" xlink:href=\"#DejaVuSans-32\"/>\r\n      </g>\r\n     </g>\r\n    </g>\r\n    <g id=\"ytick_3\">\r\n     <g id=\"line2d_19\">\r\n      <path clip-path=\"url(#pf49f1d807b)\" d=\"M 35.34 132.131658 \r\nL 696.083047 132.131658 \r\n\" style=\"fill:none;stroke:#cbcbcb;\"/>\r\n     </g>\r\n     <g id=\"line2d_20\"/>\r\n     <g id=\"text_11\">\r\n      <!-- $\\mathdefault{10^{3}}$ -->\r\n      <g transform=\"translate(7.2 137.450564)scale(0.14 -0.14)\">\r\n       <use transform=\"translate(0 0.765625)\" xlink:href=\"#DejaVuSans-31\"/>\r\n       <use transform=\"translate(63.623047 0.765625)\" xlink:href=\"#DejaVuSans-30\"/>\r\n       <use transform=\"translate(128.203125 39.046875)scale(0.7)\" xlink:href=\"#DejaVuSans-33\"/>\r\n      </g>\r\n     </g>\r\n    </g>\r\n    <g id=\"ytick_4\">\r\n     <g id=\"line2d_21\">\r\n      <path clip-path=\"url(#pf49f1d807b)\" d=\"M 35.34 63.941572 \r\nL 696.083047 63.941572 \r\n\" style=\"fill:none;stroke:#cbcbcb;\"/>\r\n     </g>\r\n     <g id=\"line2d_22\"/>\r\n     <g id=\"text_12\">\r\n      <!-- $\\mathdefault{10^{4}}$ -->\r\n      <g transform=\"translate(7.2 69.260479)scale(0.14 -0.14)\">\r\n       <use transform=\"translate(0 0.684375)\" xlink:href=\"#DejaVuSans-31\"/>\r\n       <use transform=\"translate(63.623047 0.684375)\" xlink:href=\"#DejaVuSans-30\"/>\r\n       <use transform=\"translate(128.203125 38.965625)scale(0.7)\" xlink:href=\"#DejaVuSans-34\"/>\r\n      </g>\r\n     </g>\r\n    </g>\r\n    <g id=\"ytick_5\">\r\n     <g id=\"line2d_23\"/>\r\n    </g>\r\n    <g id=\"ytick_6\">\r\n     <g id=\"line2d_24\"/>\r\n    </g>\r\n    <g id=\"ytick_7\">\r\n     <g id=\"line2d_25\"/>\r\n    </g>\r\n    <g id=\"ytick_8\">\r\n     <g id=\"line2d_26\"/>\r\n    </g>\r\n    <g id=\"ytick_9\">\r\n     <g id=\"line2d_27\"/>\r\n    </g>\r\n    <g id=\"ytick_10\">\r\n     <g id=\"line2d_28\"/>\r\n    </g>\r\n    <g id=\"ytick_11\">\r\n     <g id=\"line2d_29\"/>\r\n    </g>\r\n    <g id=\"ytick_12\">\r\n     <g id=\"line2d_30\"/>\r\n    </g>\r\n    <g id=\"ytick_13\">\r\n     <g id=\"line2d_31\"/>\r\n    </g>\r\n    <g id=\"ytick_14\">\r\n     <g id=\"line2d_32\"/>\r\n    </g>\r\n    <g id=\"ytick_15\">\r\n     <g id=\"line2d_33\"/>\r\n    </g>\r\n    <g id=\"ytick_16\">\r\n     <g id=\"line2d_34\"/>\r\n    </g>\r\n    <g id=\"ytick_17\">\r\n     <g id=\"line2d_35\"/>\r\n    </g>\r\n    <g id=\"ytick_18\">\r\n     <g id=\"line2d_36\"/>\r\n    </g>\r\n    <g id=\"ytick_19\">\r\n     <g id=\"line2d_37\"/>\r\n    </g>\r\n    <g id=\"ytick_20\">\r\n     <g id=\"line2d_38\"/>\r\n    </g>\r\n    <g id=\"ytick_21\">\r\n     <g id=\"line2d_39\"/>\r\n    </g>\r\n    <g id=\"ytick_22\">\r\n     <g id=\"line2d_40\"/>\r\n    </g>\r\n    <g id=\"ytick_23\">\r\n     <g id=\"line2d_41\"/>\r\n    </g>\r\n    <g id=\"ytick_24\">\r\n     <g id=\"line2d_42\"/>\r\n    </g>\r\n    <g id=\"ytick_25\">\r\n     <g id=\"line2d_43\"/>\r\n    </g>\r\n    <g id=\"ytick_26\">\r\n     <g id=\"line2d_44\"/>\r\n    </g>\r\n    <g id=\"ytick_27\">\r\n     <g id=\"line2d_45\"/>\r\n    </g>\r\n    <g id=\"ytick_28\">\r\n     <g id=\"line2d_46\"/>\r\n    </g>\r\n    <g id=\"ytick_29\">\r\n     <g id=\"line2d_47\"/>\r\n    </g>\r\n    <g id=\"ytick_30\">\r\n     <g id=\"line2d_48\"/>\r\n    </g>\r\n    <g id=\"ytick_31\">\r\n     <g id=\"line2d_49\"/>\r\n    </g>\r\n    <g id=\"ytick_32\">\r\n     <g id=\"line2d_50\"/>\r\n    </g>\r\n    <g id=\"ytick_33\">\r\n     <g id=\"line2d_51\"/>\r\n    </g>\r\n    <g id=\"ytick_34\">\r\n     <g id=\"line2d_52\"/>\r\n    </g>\r\n    <g id=\"ytick_35\">\r\n     <g id=\"line2d_53\"/>\r\n    </g>\r\n    <g id=\"ytick_36\">\r\n     <g id=\"line2d_54\"/>\r\n    </g>\r\n    <g id=\"ytick_37\">\r\n     <g id=\"line2d_55\"/>\r\n    </g>\r\n    <g id=\"ytick_38\">\r\n     <g id=\"line2d_56\"/>\r\n    </g>\r\n    <g id=\"ytick_39\">\r\n     <g id=\"line2d_57\"/>\r\n    </g>\r\n   </g>\r\n   <g id=\"patch_3\">\r\n    <path clip-path=\"url(#pf49f1d807b)\" d=\"M 65.373775 68526.787655 \r\nL 71.38053 68526.787655 \r\nL 71.38053 33.232747 \r\nL 65.373775 33.232747 \r\nz\r\n\" style=\"fill:#008fd5;\"/>\r\n   </g>\r\n   <g id=\"patch_4\">\r\n    <path clip-path=\"url(#pf49f1d807b)\" d=\"M 71.38053 68526.787655 \r\nL 77.387285 68526.787655 \r\nL 77.387285 37.55943 \r\nL 71.38053 37.55943 \r\nz\r\n\" style=\"fill:#008fd5;\"/>\r\n   </g>\r\n   <g id=\"patch_5\">\r\n    <path clip-path=\"url(#pf49f1d807b)\" d=\"M 77.387285 68526.787655 \r\nL 83.39404 68526.787655 \r\nL 83.39404 26.642509 \r\nL 77.387285 26.642509 \r\nz\r\n\" style=\"fill:#008fd5;\"/>\r\n   </g>\r\n   <g id=\"patch_6\">\r\n    <path clip-path=\"url(#pf49f1d807b)\" d=\"M 83.39404 68526.787655 \r\nL 89.400795 68526.787655 \r\nL 89.400795 20.951948 \r\nL 83.39404 20.951948 \r\nz\r\n\" style=\"fill:#008fd5;\"/>\r\n   </g>\r\n   <g id=\"patch_7\">\r\n    <path clip-path=\"url(#pf49f1d807b)\" d=\"M 89.400795 68526.787655 \r\nL 95.40755 68526.787655 \r\nL 95.40755 20.620909 \r\nL 89.400795 20.620909 \r\nz\r\n\" style=\"fill:#008fd5;\"/>\r\n   </g>\r\n   <g id=\"patch_8\">\r\n    <path clip-path=\"url(#pf49f1d807b)\" d=\"M 95.40755 68526.787655 \r\nL 101.414305 68526.787655 \r\nL 101.414305 27.88609 \r\nL 95.40755 27.88609 \r\nz\r\n\" style=\"fill:#008fd5;\"/>\r\n   </g>\r\n   <g id=\"patch_9\">\r\n    <path clip-path=\"url(#pf49f1d807b)\" d=\"M 101.414305 68526.787655 \r\nL 107.42106 68526.787655 \r\nL 107.42106 34.766921 \r\nL 101.414305 34.766921 \r\nz\r\n\" style=\"fill:#008fd5;\"/>\r\n   </g>\r\n   <g id=\"patch_10\">\r\n    <path clip-path=\"url(#pf49f1d807b)\" d=\"M 107.42106 68526.787655 \r\nL 113.427815 68526.787655 \r\nL 113.427815 42.3198 \r\nL 107.42106 42.3198 \r\nz\r\n\" style=\"fill:#008fd5;\"/>\r\n   </g>\r\n   <g id=\"patch_11\">\r\n    <path clip-path=\"url(#pf49f1d807b)\" d=\"M 113.427815 68526.787655 \r\nL 119.43457 68526.787655 \r\nL 119.43457 51.63531 \r\nL 113.427815 51.63531 \r\nz\r\n\" style=\"fill:#008fd5;\"/>\r\n   </g>\r\n   <g id=\"patch_12\">\r\n    <path clip-path=\"url(#pf49f1d807b)\" d=\"M 119.43457 68526.787655 \r\nL 125.441325 68526.787655 \r\nL 125.441325 54.83772 \r\nL 119.43457 54.83772 \r\nz\r\n\" style=\"fill:#008fd5;\"/>\r\n   </g>\r\n   <g id=\"patch_13\">\r\n    <path clip-path=\"url(#pf49f1d807b)\" d=\"M 125.441325 68526.787655 \r\nL 131.44808 68526.787655 \r\nL 131.44808 63.92085 \r\nL 125.441325 63.92085 \r\nz\r\n\" style=\"fill:#008fd5;\"/>\r\n   </g>\r\n   <g id=\"patch_14\">\r\n    <path clip-path=\"url(#pf49f1d807b)\" d=\"M 131.44808 68526.787655 \r\nL 137.454835 68526.787655 \r\nL 137.454835 68.394358 \r\nL 131.44808 68.394358 \r\nz\r\n\" style=\"fill:#008fd5;\"/>\r\n   </g>\r\n   <g id=\"patch_15\">\r\n    <path clip-path=\"url(#pf49f1d807b)\" d=\"M 137.454835 68526.787655 \r\nL 143.461589 68526.787655 \r\nL 143.461589 73.184619 \r\nL 137.454835 73.184619 \r\nz\r\n\" style=\"fill:#008fd5;\"/>\r\n   </g>\r\n   <g id=\"patch_16\">\r\n    <path clip-path=\"url(#pf49f1d807b)\" d=\"M 143.461589 68526.787655 \r\nL 149.468344 68526.787655 \r\nL 149.468344 79.547123 \r\nL 143.461589 79.547123 \r\nz\r\n\" style=\"fill:#008fd5;\"/>\r\n   </g>\r\n   <g id=\"patch_17\">\r\n    <path clip-path=\"url(#pf49f1d807b)\" d=\"M 149.468344 68526.787655 \r\nL 155.475099 68526.787655 \r\nL 155.475099 83.182301 \r\nL 149.468344 83.182301 \r\nz\r\n\" style=\"fill:#008fd5;\"/>\r\n   </g>\r\n   <g id=\"patch_18\">\r\n    <path clip-path=\"url(#pf49f1d807b)\" d=\"M 155.475099 68526.787655 \r\nL 161.481854 68526.787655 \r\nL 161.481854 86.503568 \r\nL 155.475099 86.503568 \r\nz\r\n\" style=\"fill:#008fd5;\"/>\r\n   </g>\r\n   <g id=\"patch_19\">\r\n    <path clip-path=\"url(#pf49f1d807b)\" d=\"M 161.481854 68526.787655 \r\nL 167.488609 68526.787655 \r\nL 167.488609 89.484532 \r\nL 161.481854 89.484532 \r\nz\r\n\" style=\"fill:#008fd5;\"/>\r\n   </g>\r\n   <g id=\"patch_20\">\r\n    <path clip-path=\"url(#pf49f1d807b)\" d=\"M 167.488609 68526.787655 \r\nL 173.495364 68526.787655 \r\nL 173.495364 119.653898 \r\nL 167.488609 119.653898 \r\nz\r\n\" style=\"fill:#008fd5;\"/>\r\n   </g>\r\n   <g id=\"patch_21\">\r\n    <path clip-path=\"url(#pf49f1d807b)\" d=\"M 173.495364 68526.787655 \r\nL 179.502119 68526.787655 \r\nL 179.502119 107.324109 \r\nL 173.495364 107.324109 \r\nz\r\n\" style=\"fill:#008fd5;\"/>\r\n   </g>\r\n   <g id=\"patch_22\">\r\n    <path clip-path=\"url(#pf49f1d807b)\" d=\"M 179.502119 68526.787655 \r\nL 185.508874 68526.787655 \r\nL 185.508874 106.98012 \r\nL 179.502119 106.98012 \r\nz\r\n\" style=\"fill:#008fd5;\"/>\r\n   </g>\r\n   <g id=\"patch_23\">\r\n    <path clip-path=\"url(#pf49f1d807b)\" d=\"M 185.508874 68526.787655 \r\nL 191.515629 68526.787655 \r\nL 191.515629 100.826218 \r\nL 185.508874 100.826218 \r\nz\r\n\" style=\"fill:#008fd5;\"/>\r\n   </g>\r\n   <g id=\"patch_24\">\r\n    <path clip-path=\"url(#pf49f1d807b)\" d=\"M 191.515629 68526.787655 \r\nL 197.522384 68526.787655 \r\nL 197.522384 106.665135 \r\nL 191.515629 106.665135 \r\nz\r\n\" style=\"fill:#008fd5;\"/>\r\n   </g>\r\n   <g id=\"patch_25\">\r\n    <path clip-path=\"url(#pf49f1d807b)\" d=\"M 197.522384 68526.787655 \r\nL 203.529139 68526.787655 \r\nL 203.529139 121.148391 \r\nL 197.522384 121.148391 \r\nz\r\n\" style=\"fill:#008fd5;\"/>\r\n   </g>\r\n   <g id=\"patch_26\">\r\n    <path clip-path=\"url(#pf49f1d807b)\" d=\"M 203.529139 68526.787655 \r\nL 209.535894 68526.787655 \r\nL 209.535894 117.265535 \r\nL 203.529139 117.265535 \r\nz\r\n\" style=\"fill:#008fd5;\"/>\r\n   </g>\r\n   <g id=\"patch_27\">\r\n    <path clip-path=\"url(#pf49f1d807b)\" d=\"M 209.535894 68526.787655 \r\nL 215.542649 68526.787655 \r\nL 215.542649 119.537534 \r\nL 209.535894 119.537534 \r\nz\r\n\" style=\"fill:#008fd5;\"/>\r\n   </g>\r\n   <g id=\"patch_28\">\r\n    <path clip-path=\"url(#pf49f1d807b)\" d=\"M 215.542649 68526.787655 \r\nL 221.549404 68526.787655 \r\nL 221.549404 116.785432 \r\nL 215.542649 116.785432 \r\nz\r\n\" style=\"fill:#008fd5;\"/>\r\n   </g>\r\n   <g id=\"patch_29\">\r\n    <path clip-path=\"url(#pf49f1d807b)\" d=\"M 221.549404 68526.787655 \r\nL 227.556159 68526.787655 \r\nL 227.556159 121.8725 \r\nL 221.549404 121.8725 \r\nz\r\n\" style=\"fill:#008fd5;\"/>\r\n   </g>\r\n   <g id=\"patch_30\">\r\n    <path clip-path=\"url(#pf49f1d807b)\" d=\"M 227.556159 68526.787655 \r\nL 233.562914 68526.787655 \r\nL 233.562914 135.984772 \r\nL 227.556159 135.984772 \r\nz\r\n\" style=\"fill:#008fd5;\"/>\r\n   </g>\r\n   <g id=\"patch_31\">\r\n    <path clip-path=\"url(#pf49f1d807b)\" d=\"M 233.562914 68526.787655 \r\nL 239.569669 68526.787655 \r\nL 239.569669 126.584578 \r\nL 233.562914 126.584578 \r\nz\r\n\" style=\"fill:#008fd5;\"/>\r\n   </g>\r\n   <g id=\"patch_32\">\r\n    <path clip-path=\"url(#pf49f1d807b)\" d=\"M 239.569669 68526.787655 \r\nL 245.576424 68526.787655 \r\nL 245.576424 129.362981 \r\nL 239.569669 129.362981 \r\nz\r\n\" style=\"fill:#008fd5;\"/>\r\n   </g>\r\n   <g id=\"patch_33\">\r\n    <path clip-path=\"url(#pf49f1d807b)\" d=\"M 245.576424 68526.787655 \r\nL 251.583179 68526.787655 \r\nL 251.583179 131.690738 \r\nL 245.576424 131.690738 \r\nz\r\n\" style=\"fill:#008fd5;\"/>\r\n   </g>\r\n   <g id=\"patch_34\">\r\n    <path clip-path=\"url(#pf49f1d807b)\" d=\"M 251.583179 68526.787655 \r\nL 257.589934 68526.787655 \r\nL 257.589934 131.690738 \r\nL 251.583179 131.690738 \r\nz\r\n\" style=\"fill:#008fd5;\"/>\r\n   </g>\r\n   <g id=\"patch_35\">\r\n    <path clip-path=\"url(#pf49f1d807b)\" d=\"M 257.589934 68526.787655 \r\nL 263.596689 68526.787655 \r\nL 263.596689 149.408694 \r\nL 257.589934 149.408694 \r\nz\r\n\" style=\"fill:#008fd5;\"/>\r\n   </g>\r\n   <g id=\"patch_36\">\r\n    <path clip-path=\"url(#pf49f1d807b)\" d=\"M 263.596689 68526.787655 \r\nL 269.603444 68526.787655 \r\nL 269.603444 125.856911 \r\nL 263.596689 125.856911 \r\nz\r\n\" style=\"fill:#008fd5;\"/>\r\n   </g>\r\n   <g id=\"patch_37\">\r\n    <path clip-path=\"url(#pf49f1d807b)\" d=\"M 269.603444 68526.787655 \r\nL 275.610199 68526.787655 \r\nL 275.610199 171.237904 \r\nL 269.603444 171.237904 \r\nz\r\n\" style=\"fill:#008fd5;\"/>\r\n   </g>\r\n   <g id=\"patch_38\">\r\n    <path clip-path=\"url(#pf49f1d807b)\" d=\"M 275.610199 68526.787655 \r\nL 281.616954 68526.787655 \r\nL 281.616954 146.867292 \r\nL 275.610199 146.867292 \r\nz\r\n\" style=\"fill:#008fd5;\"/>\r\n   </g>\r\n   <g id=\"patch_39\">\r\n    <path clip-path=\"url(#pf49f1d807b)\" d=\"M 281.616954 68526.787655 \r\nL 287.623709 68526.787655 \r\nL 287.623709 140.25899 \r\nL 281.616954 140.25899 \r\nz\r\n\" style=\"fill:#008fd5;\"/>\r\n   </g>\r\n   <g id=\"patch_40\">\r\n    <path clip-path=\"url(#pf49f1d807b)\" d=\"M 287.623709 68526.787655 \r\nL 293.630464 68526.787655 \r\nL 293.630464 156.91958 \r\nL 287.623709 156.91958 \r\nz\r\n\" style=\"fill:#008fd5;\"/>\r\n   </g>\r\n   <g id=\"patch_41\">\r\n    <path clip-path=\"url(#pf49f1d807b)\" d=\"M 293.630464 68526.787655 \r\nL 299.637219 68526.787655 \r\nL 299.637219 151.841108 \r\nL 293.630464 151.841108 \r\nz\r\n\" style=\"fill:#008fd5;\"/>\r\n   </g>\r\n   <g id=\"patch_42\">\r\n    <path clip-path=\"url(#pf49f1d807b)\" d=\"M 299.637219 68526.787655 \r\nL 305.643974 68526.787655 \r\nL 305.643974 151.89878 \r\nL 299.637219 151.89878 \r\nz\r\n\" style=\"fill:#008fd5;\"/>\r\n   </g>\r\n   <g id=\"patch_43\">\r\n    <path clip-path=\"url(#pf49f1d807b)\" d=\"M 305.643974 68526.787655 \r\nL 311.650729 68526.787655 \r\nL 311.650729 155.713389 \r\nL 305.643974 155.713389 \r\nz\r\n\" style=\"fill:#008fd5;\"/>\r\n   </g>\r\n   <g id=\"patch_44\">\r\n    <path clip-path=\"url(#pf49f1d807b)\" d=\"M 311.650729 68526.787655 \r\nL 317.657484 68526.787655 \r\nL 317.657484 135.91739 \r\nL 311.650729 135.91739 \r\nz\r\n\" style=\"fill:#008fd5;\"/>\r\n   </g>\r\n   <g id=\"patch_45\">\r\n    <path clip-path=\"url(#pf49f1d807b)\" d=\"M 317.657484 68526.787655 \r\nL 323.664239 68526.787655 \r\nL 323.664239 185.134689 \r\nL 317.657484 185.134689 \r\nz\r\n\" style=\"fill:#008fd5;\"/>\r\n   </g>\r\n   <g id=\"patch_46\">\r\n    <path clip-path=\"url(#pf49f1d807b)\" d=\"M 323.664239 68526.787655 \r\nL 329.670994 68526.787655 \r\nL 329.670994 164.167381 \r\nL 323.664239 164.167381 \r\nz\r\n\" style=\"fill:#008fd5;\"/>\r\n   </g>\r\n   <g id=\"patch_47\">\r\n    <path clip-path=\"url(#pf49f1d807b)\" d=\"M 329.670994 68526.787655 \r\nL 335.677749 68526.787655 \r\nL 335.677749 158.53596 \r\nL 329.670994 158.53596 \r\nz\r\n\" style=\"fill:#008fd5;\"/>\r\n   </g>\r\n   <g id=\"patch_48\">\r\n    <path clip-path=\"url(#pf49f1d807b)\" d=\"M 335.677749 68526.787655 \r\nL 341.684504 68526.787655 \r\nL 341.684504 156.851265 \r\nL 335.677749 156.851265 \r\nz\r\n\" style=\"fill:#008fd5;\"/>\r\n   </g>\r\n   <g id=\"patch_49\">\r\n    <path clip-path=\"url(#pf49f1d807b)\" d=\"M 341.684504 68526.787655 \r\nL 347.691259 68526.787655 \r\nL 347.691259 159.267222 \r\nL 341.684504 159.267222 \r\nz\r\n\" style=\"fill:#008fd5;\"/>\r\n   </g>\r\n   <g id=\"patch_50\">\r\n    <path clip-path=\"url(#pf49f1d807b)\" d=\"M 347.691259 68526.787655 \r\nL 353.698013 68526.787655 \r\nL 353.698013 180.242067 \r\nL 347.691259 180.242067 \r\nz\r\n\" style=\"fill:#008fd5;\"/>\r\n   </g>\r\n   <g id=\"patch_51\">\r\n    <path clip-path=\"url(#pf49f1d807b)\" d=\"M 353.698013 68526.787655 \r\nL 359.704768 68526.787655 \r\nL 359.704768 167.297296 \r\nL 353.698013 167.297296 \r\nz\r\n\" style=\"fill:#008fd5;\"/>\r\n   </g>\r\n   <g id=\"patch_52\">\r\n    <path clip-path=\"url(#pf49f1d807b)\" d=\"M 359.704768 68526.787655 \r\nL 365.711523 68526.787655 \r\nL 365.711523 150.489638 \r\nL 359.704768 150.489638 \r\nz\r\n\" style=\"fill:#008fd5;\"/>\r\n   </g>\r\n   <g id=\"patch_53\">\r\n    <path clip-path=\"url(#pf49f1d807b)\" d=\"M 365.711523 68526.787655 \r\nL 371.718278 68526.787655 \r\nL 371.718278 164.342616 \r\nL 365.711523 164.342616 \r\nz\r\n\" style=\"fill:#008fd5;\"/>\r\n   </g>\r\n   <g id=\"patch_54\">\r\n    <path clip-path=\"url(#pf49f1d807b)\" d=\"M 371.718278 68526.787655 \r\nL 377.725033 68526.787655 \r\nL 377.725033 193.011087 \r\nL 371.718278 193.011087 \r\nz\r\n\" style=\"fill:#008fd5;\"/>\r\n   </g>\r\n   <g id=\"patch_55\">\r\n    <path clip-path=\"url(#pf49f1d807b)\" d=\"M 377.725033 68526.787655 \r\nL 383.731788 68526.787655 \r\nL 383.731788 201.53067 \r\nL 377.725033 201.53067 \r\nz\r\n\" style=\"fill:#008fd5;\"/>\r\n   </g>\r\n   <g id=\"patch_56\">\r\n    <path clip-path=\"url(#pf49f1d807b)\" d=\"M 383.731788 68526.787655 \r\nL 389.738543 68526.787655 \r\nL 389.738543 170.688453 \r\nL 383.731788 170.688453 \r\nz\r\n\" style=\"fill:#008fd5;\"/>\r\n   </g>\r\n   <g id=\"patch_57\">\r\n    <path clip-path=\"url(#pf49f1d807b)\" d=\"M 389.738543 68526.787655 \r\nL 395.745298 68526.787655 \r\nL 395.745298 177.515314 \r\nL 389.738543 177.515314 \r\nz\r\n\" style=\"fill:#008fd5;\"/>\r\n   </g>\r\n   <g id=\"patch_58\">\r\n    <path clip-path=\"url(#pf49f1d807b)\" d=\"M 395.745298 68526.787655 \r\nL 401.752053 68526.787655 \r\nL 401.752053 167.103736 \r\nL 395.745298 167.103736 \r\nz\r\n\" style=\"fill:#008fd5;\"/>\r\n   </g>\r\n   <g id=\"patch_59\">\r\n    <path clip-path=\"url(#pf49f1d807b)\" d=\"M 401.752053 68526.787655 \r\nL 407.758808 68526.787655 \r\nL 407.758808 180.092119 \r\nL 401.752053 180.092119 \r\nz\r\n\" style=\"fill:#008fd5;\"/>\r\n   </g>\r\n   <g id=\"patch_60\">\r\n    <path clip-path=\"url(#pf49f1d807b)\" d=\"M 407.758808 68526.787655 \r\nL 413.765563 68526.787655 \r\nL 413.765563 200.027069 \r\nL 407.758808 200.027069 \r\nz\r\n\" style=\"fill:#008fd5;\"/>\r\n   </g>\r\n   <g id=\"patch_61\">\r\n    <path clip-path=\"url(#pf49f1d807b)\" d=\"M 413.765563 68526.787655 \r\nL 419.772318 68526.787655 \r\nL 419.772318 155.19268 \r\nL 413.765563 155.19268 \r\nz\r\n\" style=\"fill:#008fd5;\"/>\r\n   </g>\r\n   <g id=\"patch_62\">\r\n    <path clip-path=\"url(#pf49f1d807b)\" d=\"M 419.772318 68526.787655 \r\nL 425.779073 68526.787655 \r\nL 425.779073 212.181718 \r\nL 419.772318 212.181718 \r\nz\r\n\" style=\"fill:#008fd5;\"/>\r\n   </g>\r\n   <g id=\"patch_63\">\r\n    <path clip-path=\"url(#pf49f1d807b)\" d=\"M 425.779073 68526.787655 \r\nL 431.785828 68526.787655 \r\nL 431.785828 178.208896 \r\nL 425.779073 178.208896 \r\nz\r\n\" style=\"fill:#008fd5;\"/>\r\n   </g>\r\n   <g id=\"patch_64\">\r\n    <path clip-path=\"url(#pf49f1d807b)\" d=\"M 431.785828 68526.787655 \r\nL 437.792583 68526.787655 \r\nL 437.792583 185.671524 \r\nL 431.785828 185.671524 \r\nz\r\n\" style=\"fill:#008fd5;\"/>\r\n   </g>\r\n   <g id=\"patch_65\">\r\n    <path clip-path=\"url(#pf49f1d807b)\" d=\"M 437.792583 68526.787655 \r\nL 443.799338 68526.787655 \r\nL 443.799338 189.114509 \r\nL 437.792583 189.114509 \r\nz\r\n\" style=\"fill:#008fd5;\"/>\r\n   </g>\r\n   <g id=\"patch_66\">\r\n    <path clip-path=\"url(#pf49f1d807b)\" d=\"M 443.799338 68526.787655 \r\nL 449.806093 68526.787655 \r\nL 449.806093 188.912361 \r\nL 443.799338 188.912361 \r\nz\r\n\" style=\"fill:#008fd5;\"/>\r\n   </g>\r\n   <g id=\"patch_67\">\r\n    <path clip-path=\"url(#pf49f1d807b)\" d=\"M 449.806093 68526.787655 \r\nL 455.812848 68526.787655 \r\nL 455.812848 207.679822 \r\nL 449.806093 207.679822 \r\nz\r\n\" style=\"fill:#008fd5;\"/>\r\n   </g>\r\n   <g id=\"patch_68\">\r\n    <path clip-path=\"url(#pf49f1d807b)\" d=\"M 455.812848 68526.787655 \r\nL 461.819603 68526.787655 \r\nL 461.819603 173.186181 \r\nL 455.812848 173.186181 \r\nz\r\n\" style=\"fill:#008fd5;\"/>\r\n   </g>\r\n   <g id=\"patch_69\">\r\n    <path clip-path=\"url(#pf49f1d807b)\" d=\"M 461.819603 68526.787655 \r\nL 467.826358 68526.787655 \r\nL 467.826358 156.91958 \r\nL 461.819603 156.91958 \r\nz\r\n\" style=\"fill:#008fd5;\"/>\r\n   </g>\r\n   <g id=\"patch_70\">\r\n    <path clip-path=\"url(#pf49f1d807b)\" d=\"M 467.826358 68526.787655 \r\nL 473.833113 68526.787655 \r\nL 473.833113 256.504152 \r\nL 467.826358 256.504152 \r\nz\r\n\" style=\"fill:#008fd5;\"/>\r\n   </g>\r\n   <g id=\"patch_71\">\r\n    <path clip-path=\"url(#pf49f1d807b)\" d=\"M 473.833113 68526.787655 \r\nL 479.839868 68526.787655 \r\nL 479.839868 215.947365 \r\nL 473.833113 215.947365 \r\nz\r\n\" style=\"fill:#008fd5;\"/>\r\n   </g>\r\n   <g id=\"patch_72\">\r\n    <path clip-path=\"url(#pf49f1d807b)\" d=\"M 479.839868 68526.787655 \r\nL 485.846623 68526.787655 \r\nL 485.846623 220.262559 \r\nL 479.839868 220.262559 \r\nz\r\n\" style=\"fill:#008fd5;\"/>\r\n   </g>\r\n   <g id=\"patch_73\">\r\n    <path clip-path=\"url(#pf49f1d807b)\" d=\"M 485.846623 68526.787655 \r\nL 491.853378 68526.787655 \r\nL 491.853378 177.7908 \r\nL 485.846623 177.7908 \r\nz\r\n\" style=\"fill:#008fd5;\"/>\r\n   </g>\r\n   <g id=\"patch_74\">\r\n    <path clip-path=\"url(#pf49f1d807b)\" d=\"M 491.853378 68526.787655 \r\nL 497.860133 68526.787655 \r\nL 497.860133 200.027069 \r\nL 491.853378 200.027069 \r\nz\r\n\" style=\"fill:#008fd5;\"/>\r\n   </g>\r\n   <g id=\"patch_75\">\r\n    <path clip-path=\"url(#pf49f1d807b)\" d=\"M 497.860133 68526.787655 \r\nL 503.866888 68526.787655 \r\nL 503.866888 218.026434 \r\nL 497.860133 218.026434 \r\nz\r\n\" style=\"fill:#008fd5;\"/>\r\n   </g>\r\n   <g id=\"patch_76\">\r\n    <path clip-path=\"url(#pf49f1d807b)\" d=\"M 503.866888 68526.787655 \r\nL 509.873643 68526.787655 \r\nL 509.873643 203.441951 \r\nL 503.866888 203.441951 \r\nz\r\n\" style=\"fill:#008fd5;\"/>\r\n   </g>\r\n   <g id=\"patch_77\">\r\n    <path clip-path=\"url(#pf49f1d807b)\" d=\"M 509.873643 68526.787655 \r\nL 515.880398 68526.787655 \r\nL 515.880398 211.742976 \r\nL 509.873643 211.742976 \r\nz\r\n\" style=\"fill:#008fd5;\"/>\r\n   </g>\r\n   <g id=\"patch_78\">\r\n    <path clip-path=\"url(#pf49f1d807b)\" d=\"M 515.880398 68526.787655 \r\nL 521.887153 68526.787655 \r\nL 521.887153 171.127196 \r\nL 515.880398 171.127196 \r\nz\r\n\" style=\"fill:#008fd5;\"/>\r\n   </g>\r\n   <g id=\"patch_79\">\r\n    <path clip-path=\"url(#pf49f1d807b)\" d=\"M 521.887153 68526.787655 \r\nL 527.893908 68526.787655 \r\nL 527.893908 205.134673 \r\nL 521.887153 205.134673 \r\nz\r\n\" style=\"fill:#008fd5;\"/>\r\n   </g>\r\n   <g id=\"patch_80\">\r\n    <path clip-path=\"url(#pf49f1d807b)\" d=\"M 527.893908 68526.787655 \r\nL 533.900663 68526.787655 \r\nL 533.900663 240.214762 \r\nL 527.893908 240.214762 \r\nz\r\n\" style=\"fill:#008fd5;\"/>\r\n   </g>\r\n   <g id=\"patch_81\">\r\n    <path clip-path=\"url(#pf49f1d807b)\" d=\"M 533.900663 68526.787655 \r\nL 539.907418 68526.787655 \r\nL 539.907418 202.154158 \r\nL 533.900663 202.154158 \r\nz\r\n\" style=\"fill:#008fd5;\"/>\r\n   </g>\r\n   <g id=\"patch_82\">\r\n    <path clip-path=\"url(#pf49f1d807b)\" d=\"M 539.907418 68526.787655 \r\nL 545.914173 68526.787655 \r\nL 545.914173 202.154158 \r\nL 539.907418 202.154158 \r\nz\r\n\" style=\"fill:#008fd5;\"/>\r\n   </g>\r\n   <g id=\"patch_83\">\r\n    <path clip-path=\"url(#pf49f1d807b)\" d=\"M 545.914173 68526.787655 \r\nL 551.920928 68526.787655 \r\nL 551.920928 204.107475 \r\nL 545.914173 204.107475 \r\nz\r\n\" style=\"fill:#008fd5;\"/>\r\n   </g>\r\n   <g id=\"patch_84\">\r\n    <path clip-path=\"url(#pf49f1d807b)\" d=\"M 551.920928 68526.787655 \r\nL 557.927683 68526.787655 \r\nL 557.927683 206.562158 \r\nL 551.920928 206.562158 \r\nz\r\n\" style=\"fill:#008fd5;\"/>\r\n   </g>\r\n   <g id=\"patch_85\">\r\n    <path clip-path=\"url(#pf49f1d807b)\" d=\"M 557.927683 68526.787655 \r\nL 563.934437 68526.787655 \r\nL 563.934437 203.772844 \r\nL 557.927683 203.772844 \r\nz\r\n\" style=\"fill:#008fd5;\"/>\r\n   </g>\r\n   <g id=\"patch_86\">\r\n    <path clip-path=\"url(#pf49f1d807b)\" d=\"M 563.934437 68526.787655 \r\nL 569.941192 68526.787655 \r\nL 569.941192 176.04431 \r\nL 563.934437 176.04431 \r\nz\r\n\" style=\"fill:#008fd5;\"/>\r\n   </g>\r\n   <g id=\"patch_87\">\r\n    <path clip-path=\"url(#pf49f1d807b)\" d=\"M 569.941192 68526.787655 \r\nL 575.947947 68526.787655 \r\nL 575.947947 289.039091 \r\nL 569.941192 289.039091 \r\nz\r\n\" style=\"fill:#008fd5;\"/>\r\n   </g>\r\n   <g id=\"patch_88\">\r\n    <path clip-path=\"url(#pf49f1d807b)\" d=\"M 575.947947 68526.787655 \r\nL 581.954702 68526.787655 \r\nL 581.954702 226.012407 \r\nL 575.947947 226.012407 \r\nz\r\n\" style=\"fill:#008fd5;\"/>\r\n   </g>\r\n   <g id=\"patch_89\">\r\n    <path clip-path=\"url(#pf49f1d807b)\" d=\"M 581.954702 68526.787655 \r\nL 587.961457 68526.787655 \r\nL 587.961457 222.057931 \r\nL 581.954702 222.057931 \r\nz\r\n\" style=\"fill:#008fd5;\"/>\r\n   </g>\r\n   <g id=\"patch_90\">\r\n    <path clip-path=\"url(#pf49f1d807b)\" d=\"M 587.961457 68526.787655 \r\nL 593.968212 68526.787655 \r\nL 593.968212 225.315561 \r\nL 587.961457 225.315561 \r\nz\r\n\" style=\"fill:#008fd5;\"/>\r\n   </g>\r\n   <g id=\"patch_91\">\r\n    <path clip-path=\"url(#pf49f1d807b)\" d=\"M 593.968212 68526.787655 \r\nL 599.974967 68526.787655 \r\nL 599.974967 213.079198 \r\nL 593.968212 213.079198 \r\nz\r\n\" style=\"fill:#008fd5;\"/>\r\n   </g>\r\n   <g id=\"patch_92\">\r\n    <path clip-path=\"url(#pf49f1d807b)\" d=\"M 599.974967 68526.787655 \r\nL 605.981722 68526.787655 \r\nL 605.981722 229.766105 \r\nL 599.974967 229.766105 \r\nz\r\n\" style=\"fill:#008fd5;\"/>\r\n   </g>\r\n   <g id=\"patch_93\">\r\n    <path clip-path=\"url(#pf49f1d807b)\" d=\"M 605.981722 68526.787655 \r\nL 611.988477 68526.787655 \r\nL 611.988477 213.538348 \r\nL 605.981722 213.538348 \r\nz\r\n\" style=\"fill:#008fd5;\"/>\r\n   </g>\r\n   <g id=\"patch_94\">\r\n    <path clip-path=\"url(#pf49f1d807b)\" d=\"M 611.988477 68526.787655 \r\nL 617.995232 68526.787655 \r\nL 617.995232 183.079674 \r\nL 611.988477 183.079674 \r\nz\r\n\" style=\"fill:#008fd5;\"/>\r\n   </g>\r\n   <g id=\"patch_95\">\r\n    <path clip-path=\"url(#pf49f1d807b)\" d=\"M 617.995232 68526.787655 \r\nL 624.001987 68526.787655 \r\nL 624.001987 243.845578 \r\nL 617.995232 243.845578 \r\nz\r\n\" style=\"fill:#008fd5;\"/>\r\n   </g>\r\n   <g id=\"patch_96\">\r\n    <path clip-path=\"url(#pf49f1d807b)\" d=\"M 624.001987 68526.787655 \r\nL 630.008742 68526.787655 \r\nL 630.008742 220.849005 \r\nL 624.001987 220.849005 \r\nz\r\n\" style=\"fill:#008fd5;\"/>\r\n   </g>\r\n   <g id=\"patch_97\">\r\n    <path clip-path=\"url(#pf49f1d807b)\" d=\"M 630.008742 68526.787655 \r\nL 636.015497 68526.787655 \r\nL 636.015497 240.214762 \r\nL 630.008742 240.214762 \r\nz\r\n\" style=\"fill:#008fd5;\"/>\r\n   </g>\r\n   <g id=\"patch_98\">\r\n    <path clip-path=\"url(#pf49f1d807b)\" d=\"M 636.015497 68526.787655 \r\nL 642.022252 68526.787655 \r\nL 642.022252 212.181718 \r\nL 636.015497 212.181718 \r\nz\r\n\" style=\"fill:#008fd5;\"/>\r\n   </g>\r\n   <g id=\"patch_99\">\r\n    <path clip-path=\"url(#pf49f1d807b)\" d=\"M 642.022252 68526.787655 \r\nL 648.029007 68526.787655 \r\nL 648.029007 235.97689 \r\nL 642.022252 235.97689 \r\nz\r\n\" style=\"fill:#008fd5;\"/>\r\n   </g>\r\n   <g id=\"patch_100\">\r\n    <path clip-path=\"url(#pf49f1d807b)\" d=\"M 648.029007 68526.787655 \r\nL 654.035762 68526.787655 \r\nL 654.035762 260.742023 \r\nL 648.029007 260.742023 \r\nz\r\n\" style=\"fill:#008fd5;\"/>\r\n   </g>\r\n   <g id=\"patch_101\">\r\n    <path clip-path=\"url(#pf49f1d807b)\" d=\"M 654.035762 68526.787655 \r\nL 660.042517 68526.787655 \r\nL 660.042517 213.538348 \r\nL 654.035762 213.538348 \r\nz\r\n\" style=\"fill:#008fd5;\"/>\r\n   </g>\r\n   <g id=\"patch_102\">\r\n    <path clip-path=\"url(#pf49f1d807b)\" d=\"M 660.042517 68526.787655 \r\nL 666.049272 68526.787655 \r\nL 666.049272 198.318062 \r\nL 660.042517 198.318062 \r\nz\r\n\" style=\"fill:#008fd5;\"/>\r\n   </g>\r\n   <g id=\"patch_103\">\r\n    <path d=\"M 35.34 302.46 \r\nL 35.34 7.2 \r\n\" style=\"fill:none;stroke:#f0f0f0;stroke-linecap:square;stroke-linejoin:miter;stroke-width:3;\"/>\r\n   </g>\r\n   <g id=\"patch_104\">\r\n    <path d=\"M 696.083047 302.46 \r\nL 696.083047 7.2 \r\n\" style=\"fill:none;stroke:#f0f0f0;stroke-linecap:square;stroke-linejoin:miter;stroke-width:3;\"/>\r\n   </g>\r\n   <g id=\"patch_105\">\r\n    <path d=\"M 35.34 302.46 \r\nL 696.083047 302.46 \r\n\" style=\"fill:none;stroke:#f0f0f0;stroke-linecap:square;stroke-linejoin:miter;stroke-width:3;\"/>\r\n   </g>\r\n   <g id=\"patch_106\">\r\n    <path d=\"M 35.34 7.2 \r\nL 696.083047 7.2 \r\n\" style=\"fill:none;stroke:#f0f0f0;stroke-linecap:square;stroke-linejoin:miter;stroke-width:3;\"/>\r\n   </g>\r\n  </g>\r\n </g>\r\n <defs>\r\n  <clipPath id=\"pf49f1d807b\">\r\n   <rect height=\"295.26\" width=\"660.743047\" x=\"35.34\" y=\"7.2\"/>\r\n  </clipPath>\r\n </defs>\r\n</svg>\r\n",
      "text/plain": [
       "<Figure size 720x360 with 1 Axes>"
      ]
     },
     "metadata": {},
     "output_type": "display_data"
    }
   ],
   "source": [
    "perc1, min_emission_limits, max_emission_limits, perc99 = get_emission_limits(data_new.target)\n",
    "\n",
    "# data.loc[data_new.target < min_emission_limits, 'enginePower'] = int(perc1)\n",
    "data_new.loc[data_new.target < perc99, 'target'].hist(figsize=(10,5), log=True,  bins=100)\n",
    "target_clear = data_new.loc[data_new.target < perc99, 'target']\n",
    "# data_new.target.plot()\n",
    "# data_new.target.value_counts().hist(figsize=(12,5));\n",
    "# sns.histplot(data=data_new[: 4], x=\"target\")\n",
    "\n",
    "plt.tight_layout()"
   ]
  },
  {
   "cell_type": "code",
   "execution_count": 256,
   "metadata": {},
   "outputs": [
    {
     "data": {
      "image/svg+xml": "<?xml version=\"1.0\" encoding=\"utf-8\" standalone=\"no\"?>\r\n<!DOCTYPE svg PUBLIC \"-//W3C//DTD SVG 1.1//EN\"\r\n  \"http://www.w3.org/Graphics/SVG/1.1/DTD/svg11.dtd\">\r\n<svg height=\"343.5772pt\" version=\"1.1\" viewBox=\"0 0 704.8225 343.5772\" width=\"704.8225pt\" xmlns=\"http://www.w3.org/2000/svg\" xmlns:xlink=\"http://www.w3.org/1999/xlink\">\r\n <metadata>\r\n  <rdf:RDF xmlns:cc=\"http://creativecommons.org/ns#\" xmlns:dc=\"http://purl.org/dc/elements/1.1/\" xmlns:rdf=\"http://www.w3.org/1999/02/22-rdf-syntax-ns#\">\r\n   <cc:Work>\r\n    <dc:type rdf:resource=\"http://purl.org/dc/dcmitype/StillImage\"/>\r\n    <dc:date>2022-04-06T20:32:04.757398</dc:date>\r\n    <dc:format>image/svg+xml</dc:format>\r\n    <dc:creator>\r\n     <cc:Agent>\r\n      <dc:title>Matplotlib v3.4.3, https://matplotlib.org/</dc:title>\r\n     </cc:Agent>\r\n    </dc:creator>\r\n   </cc:Work>\r\n  </rdf:RDF>\r\n </metadata>\r\n <defs>\r\n  <style type=\"text/css\">*{stroke-linecap:butt;stroke-linejoin:round;}</style>\r\n </defs>\r\n <g id=\"figure_1\">\r\n  <g id=\"patch_1\">\r\n   <path d=\"M 0 343.5772 \r\nL 704.8225 343.5772 \r\nL 704.8225 0 \r\nL 0 0 \r\nz\r\n\" style=\"fill:#f0f0f0;\"/>\r\n  </g>\r\n  <g id=\"axes_1\">\r\n   <g id=\"patch_2\">\r\n    <path d=\"M 55.2375 302.77845 \r\nL 354.361523 302.77845 \r\nL 354.361523 28.51845 \r\nL 55.2375 28.51845 \r\nz\r\n\" style=\"fill:#f0f0f0;\"/>\r\n   </g>\r\n   <g id=\"matplotlib.axis_1\">\r\n    <g id=\"xtick_1\">\r\n     <g id=\"line2d_1\">\r\n      <path clip-path=\"url(#pf6f7381910)\" d=\"M 68.834001 302.77845 \r\nL 68.834001 28.51845 \r\n\" style=\"fill:none;stroke:#cbcbcb;\"/>\r\n     </g>\r\n     <g id=\"line2d_2\"/>\r\n     <g id=\"text_1\">\r\n      <!-- 0 -->\r\n      <g transform=\"translate(64.380251 316.916262)scale(0.14 -0.14)\">\r\n       <defs>\r\n        <path d=\"M 2034 4250 \r\nQ 1547 4250 1301 3770 \r\nQ 1056 3291 1056 2328 \r\nQ 1056 1369 1301 889 \r\nQ 1547 409 2034 409 \r\nQ 2525 409 2770 889 \r\nQ 3016 1369 3016 2328 \r\nQ 3016 3291 2770 3770 \r\nQ 2525 4250 2034 4250 \r\nz\r\nM 2034 4750 \r\nQ 2819 4750 3233 4129 \r\nQ 3647 3509 3647 2328 \r\nQ 3647 1150 3233 529 \r\nQ 2819 -91 2034 -91 \r\nQ 1250 -91 836 529 \r\nQ 422 1150 422 2328 \r\nQ 422 3509 836 4129 \r\nQ 1250 4750 2034 4750 \r\nz\r\n\" id=\"DejaVuSans-30\" transform=\"scale(0.015625)\"/>\r\n       </defs>\r\n       <use xlink:href=\"#DejaVuSans-30\"/>\r\n      </g>\r\n     </g>\r\n    </g>\r\n    <g id=\"xtick_2\">\r\n     <g id=\"line2d_3\">\r\n      <path clip-path=\"url(#pf6f7381910)\" d=\"M 114.231493 302.77845 \r\nL 114.231493 28.51845 \r\n\" style=\"fill:none;stroke:#cbcbcb;\"/>\r\n     </g>\r\n     <g id=\"line2d_4\"/>\r\n     <g id=\"text_2\">\r\n      <!-- 1 -->\r\n      <g transform=\"translate(109.777743 316.916262)scale(0.14 -0.14)\">\r\n       <defs>\r\n        <path d=\"M 794 531 \r\nL 1825 531 \r\nL 1825 4091 \r\nL 703 3866 \r\nL 703 4441 \r\nL 1819 4666 \r\nL 2450 4666 \r\nL 2450 531 \r\nL 3481 531 \r\nL 3481 0 \r\nL 794 0 \r\nL 794 531 \r\nz\r\n\" id=\"DejaVuSans-31\" transform=\"scale(0.015625)\"/>\r\n       </defs>\r\n       <use xlink:href=\"#DejaVuSans-31\"/>\r\n      </g>\r\n     </g>\r\n    </g>\r\n    <g id=\"xtick_3\">\r\n     <g id=\"line2d_5\">\r\n      <path clip-path=\"url(#pf6f7381910)\" d=\"M 159.628985 302.77845 \r\nL 159.628985 28.51845 \r\n\" style=\"fill:none;stroke:#cbcbcb;\"/>\r\n     </g>\r\n     <g id=\"line2d_6\"/>\r\n     <g id=\"text_3\">\r\n      <!-- 2 -->\r\n      <g transform=\"translate(155.175235 316.916262)scale(0.14 -0.14)\">\r\n       <defs>\r\n        <path d=\"M 1228 531 \r\nL 3431 531 \r\nL 3431 0 \r\nL 469 0 \r\nL 469 531 \r\nQ 828 903 1448 1529 \r\nQ 2069 2156 2228 2338 \r\nQ 2531 2678 2651 2914 \r\nQ 2772 3150 2772 3378 \r\nQ 2772 3750 2511 3984 \r\nQ 2250 4219 1831 4219 \r\nQ 1534 4219 1204 4116 \r\nQ 875 4013 500 3803 \r\nL 500 4441 \r\nQ 881 4594 1212 4672 \r\nQ 1544 4750 1819 4750 \r\nQ 2544 4750 2975 4387 \r\nQ 3406 4025 3406 3419 \r\nQ 3406 3131 3298 2873 \r\nQ 3191 2616 2906 2266 \r\nQ 2828 2175 2409 1742 \r\nQ 1991 1309 1228 531 \r\nz\r\n\" id=\"DejaVuSans-32\" transform=\"scale(0.015625)\"/>\r\n       </defs>\r\n       <use xlink:href=\"#DejaVuSans-32\"/>\r\n      </g>\r\n     </g>\r\n    </g>\r\n    <g id=\"xtick_4\">\r\n     <g id=\"line2d_7\">\r\n      <path clip-path=\"url(#pf6f7381910)\" d=\"M 205.026476 302.77845 \r\nL 205.026476 28.51845 \r\n\" style=\"fill:none;stroke:#cbcbcb;\"/>\r\n     </g>\r\n     <g id=\"line2d_8\"/>\r\n     <g id=\"text_4\">\r\n      <!-- 3 -->\r\n      <g transform=\"translate(200.572726 316.916262)scale(0.14 -0.14)\">\r\n       <defs>\r\n        <path d=\"M 2597 2516 \r\nQ 3050 2419 3304 2112 \r\nQ 3559 1806 3559 1356 \r\nQ 3559 666 3084 287 \r\nQ 2609 -91 1734 -91 \r\nQ 1441 -91 1130 -33 \r\nQ 819 25 488 141 \r\nL 488 750 \r\nQ 750 597 1062 519 \r\nQ 1375 441 1716 441 \r\nQ 2309 441 2620 675 \r\nQ 2931 909 2931 1356 \r\nQ 2931 1769 2642 2001 \r\nQ 2353 2234 1838 2234 \r\nL 1294 2234 \r\nL 1294 2753 \r\nL 1863 2753 \r\nQ 2328 2753 2575 2939 \r\nQ 2822 3125 2822 3475 \r\nQ 2822 3834 2567 4026 \r\nQ 2313 4219 1838 4219 \r\nQ 1578 4219 1281 4162 \r\nQ 984 4106 628 3988 \r\nL 628 4550 \r\nQ 988 4650 1302 4700 \r\nQ 1616 4750 1894 4750 \r\nQ 2613 4750 3031 4423 \r\nQ 3450 4097 3450 3541 \r\nQ 3450 3153 3228 2886 \r\nQ 3006 2619 2597 2516 \r\nz\r\n\" id=\"DejaVuSans-33\" transform=\"scale(0.015625)\"/>\r\n       </defs>\r\n       <use xlink:href=\"#DejaVuSans-33\"/>\r\n      </g>\r\n     </g>\r\n    </g>\r\n    <g id=\"xtick_5\">\r\n     <g id=\"line2d_9\">\r\n      <path clip-path=\"url(#pf6f7381910)\" d=\"M 250.423968 302.77845 \r\nL 250.423968 28.51845 \r\n\" style=\"fill:none;stroke:#cbcbcb;\"/>\r\n     </g>\r\n     <g id=\"line2d_10\"/>\r\n     <g id=\"text_5\">\r\n      <!-- 4 -->\r\n      <g transform=\"translate(245.970218 316.916262)scale(0.14 -0.14)\">\r\n       <defs>\r\n        <path d=\"M 2419 4116 \r\nL 825 1625 \r\nL 2419 1625 \r\nL 2419 4116 \r\nz\r\nM 2253 4666 \r\nL 3047 4666 \r\nL 3047 1625 \r\nL 3713 1625 \r\nL 3713 1100 \r\nL 3047 1100 \r\nL 3047 0 \r\nL 2419 0 \r\nL 2419 1100 \r\nL 313 1100 \r\nL 313 1709 \r\nL 2253 4666 \r\nz\r\n\" id=\"DejaVuSans-34\" transform=\"scale(0.015625)\"/>\r\n       </defs>\r\n       <use xlink:href=\"#DejaVuSans-34\"/>\r\n      </g>\r\n     </g>\r\n    </g>\r\n    <g id=\"xtick_6\">\r\n     <g id=\"line2d_11\">\r\n      <path clip-path=\"url(#pf6f7381910)\" d=\"M 295.82146 302.77845 \r\nL 295.82146 28.51845 \r\n\" style=\"fill:none;stroke:#cbcbcb;\"/>\r\n     </g>\r\n     <g id=\"line2d_12\"/>\r\n     <g id=\"text_6\">\r\n      <!-- 5 -->\r\n      <g transform=\"translate(291.36771 316.916262)scale(0.14 -0.14)\">\r\n       <defs>\r\n        <path d=\"M 691 4666 \r\nL 3169 4666 \r\nL 3169 4134 \r\nL 1269 4134 \r\nL 1269 2991 \r\nQ 1406 3038 1543 3061 \r\nQ 1681 3084 1819 3084 \r\nQ 2600 3084 3056 2656 \r\nQ 3513 2228 3513 1497 \r\nQ 3513 744 3044 326 \r\nQ 2575 -91 1722 -91 \r\nQ 1428 -91 1123 -41 \r\nQ 819 9 494 109 \r\nL 494 744 \r\nQ 775 591 1075 516 \r\nQ 1375 441 1709 441 \r\nQ 2250 441 2565 725 \r\nQ 2881 1009 2881 1497 \r\nQ 2881 1984 2565 2268 \r\nQ 2250 2553 1709 2553 \r\nQ 1456 2553 1204 2497 \r\nQ 953 2441 691 2322 \r\nL 691 4666 \r\nz\r\n\" id=\"DejaVuSans-35\" transform=\"scale(0.015625)\"/>\r\n       </defs>\r\n       <use xlink:href=\"#DejaVuSans-35\"/>\r\n      </g>\r\n     </g>\r\n    </g>\r\n    <g id=\"xtick_7\">\r\n     <g id=\"line2d_13\">\r\n      <path clip-path=\"url(#pf6f7381910)\" d=\"M 341.218952 302.77845 \r\nL 341.218952 28.51845 \r\n\" style=\"fill:none;stroke:#cbcbcb;\"/>\r\n     </g>\r\n     <g id=\"line2d_14\"/>\r\n     <g id=\"text_7\">\r\n      <!-- 6 -->\r\n      <g transform=\"translate(336.765202 316.916262)scale(0.14 -0.14)\">\r\n       <defs>\r\n        <path d=\"M 2113 2584 \r\nQ 1688 2584 1439 2293 \r\nQ 1191 2003 1191 1497 \r\nQ 1191 994 1439 701 \r\nQ 1688 409 2113 409 \r\nQ 2538 409 2786 701 \r\nQ 3034 994 3034 1497 \r\nQ 3034 2003 2786 2293 \r\nQ 2538 2584 2113 2584 \r\nz\r\nM 3366 4563 \r\nL 3366 3988 \r\nQ 3128 4100 2886 4159 \r\nQ 2644 4219 2406 4219 \r\nQ 1781 4219 1451 3797 \r\nQ 1122 3375 1075 2522 \r\nQ 1259 2794 1537 2939 \r\nQ 1816 3084 2150 3084 \r\nQ 2853 3084 3261 2657 \r\nQ 3669 2231 3669 1497 \r\nQ 3669 778 3244 343 \r\nQ 2819 -91 2113 -91 \r\nQ 1303 -91 875 529 \r\nQ 447 1150 447 2328 \r\nQ 447 3434 972 4092 \r\nQ 1497 4750 2381 4750 \r\nQ 2619 4750 2861 4703 \r\nQ 3103 4656 3366 4563 \r\nz\r\n\" id=\"DejaVuSans-36\" transform=\"scale(0.015625)\"/>\r\n       </defs>\r\n       <use xlink:href=\"#DejaVuSans-36\"/>\r\n      </g>\r\n     </g>\r\n    </g>\r\n    <g id=\"text_8\">\r\n     <!-- 1e6 -->\r\n     <g transform=\"translate(327.932148 333.465637)scale(0.14 -0.14)\">\r\n      <defs>\r\n       <path d=\"M 3597 1894 \r\nL 3597 1613 \r\nL 953 1613 \r\nQ 991 1019 1311 708 \r\nQ 1631 397 2203 397 \r\nQ 2534 397 2845 478 \r\nQ 3156 559 3463 722 \r\nL 3463 178 \r\nQ 3153 47 2828 -22 \r\nQ 2503 -91 2169 -91 \r\nQ 1331 -91 842 396 \r\nQ 353 884 353 1716 \r\nQ 353 2575 817 3079 \r\nQ 1281 3584 2069 3584 \r\nQ 2775 3584 3186 3129 \r\nQ 3597 2675 3597 1894 \r\nz\r\nM 3022 2063 \r\nQ 3016 2534 2758 2815 \r\nQ 2500 3097 2075 3097 \r\nQ 1594 3097 1305 2825 \r\nQ 1016 2553 972 2059 \r\nL 3022 2063 \r\nz\r\n\" id=\"DejaVuSans-65\" transform=\"scale(0.015625)\"/>\r\n      </defs>\r\n      <use xlink:href=\"#DejaVuSans-31\"/>\r\n      <use x=\"63.623047\" xlink:href=\"#DejaVuSans-65\"/>\r\n      <use x=\"125.146484\" xlink:href=\"#DejaVuSans-36\"/>\r\n     </g>\r\n    </g>\r\n   </g>\r\n   <g id=\"matplotlib.axis_2\">\r\n    <g id=\"ytick_1\">\r\n     <g id=\"line2d_15\">\r\n      <path clip-path=\"url(#pf6f7381910)\" d=\"M 55.2375 302.77845 \r\nL 354.361523 302.77845 \r\n\" style=\"fill:none;stroke:#cbcbcb;\"/>\r\n     </g>\r\n     <g id=\"line2d_16\"/>\r\n     <g id=\"text_9\">\r\n      <!-- 0 -->\r\n      <g transform=\"translate(42.83 308.097356)scale(0.14 -0.14)\">\r\n       <use xlink:href=\"#DejaVuSans-30\"/>\r\n      </g>\r\n     </g>\r\n    </g>\r\n    <g id=\"ytick_2\">\r\n     <g id=\"line2d_17\">\r\n      <path clip-path=\"url(#pf6f7381910)\" d=\"M 55.2375 242.288883 \r\nL 354.361523 242.288883 \r\n\" style=\"fill:none;stroke:#cbcbcb;\"/>\r\n     </g>\r\n     <g id=\"line2d_18\"/>\r\n     <g id=\"text_10\">\r\n      <!-- 10000 -->\r\n      <g transform=\"translate(7.2 247.607789)scale(0.14 -0.14)\">\r\n       <use xlink:href=\"#DejaVuSans-31\"/>\r\n       <use x=\"63.623047\" xlink:href=\"#DejaVuSans-30\"/>\r\n       <use x=\"127.246094\" xlink:href=\"#DejaVuSans-30\"/>\r\n       <use x=\"190.869141\" xlink:href=\"#DejaVuSans-30\"/>\r\n       <use x=\"254.492188\" xlink:href=\"#DejaVuSans-30\"/>\r\n      </g>\r\n     </g>\r\n    </g>\r\n    <g id=\"ytick_3\">\r\n     <g id=\"line2d_19\">\r\n      <path clip-path=\"url(#pf6f7381910)\" d=\"M 55.2375 181.799316 \r\nL 354.361523 181.799316 \r\n\" style=\"fill:none;stroke:#cbcbcb;\"/>\r\n     </g>\r\n     <g id=\"line2d_20\"/>\r\n     <g id=\"text_11\">\r\n      <!-- 20000 -->\r\n      <g transform=\"translate(7.2 187.118222)scale(0.14 -0.14)\">\r\n       <use xlink:href=\"#DejaVuSans-32\"/>\r\n       <use x=\"63.623047\" xlink:href=\"#DejaVuSans-30\"/>\r\n       <use x=\"127.246094\" xlink:href=\"#DejaVuSans-30\"/>\r\n       <use x=\"190.869141\" xlink:href=\"#DejaVuSans-30\"/>\r\n       <use x=\"254.492188\" xlink:href=\"#DejaVuSans-30\"/>\r\n      </g>\r\n     </g>\r\n    </g>\r\n    <g id=\"ytick_4\">\r\n     <g id=\"line2d_21\">\r\n      <path clip-path=\"url(#pf6f7381910)\" d=\"M 55.2375 121.309748 \r\nL 354.361523 121.309748 \r\n\" style=\"fill:none;stroke:#cbcbcb;\"/>\r\n     </g>\r\n     <g id=\"line2d_22\"/>\r\n     <g id=\"text_12\">\r\n      <!-- 30000 -->\r\n      <g transform=\"translate(7.2 126.628655)scale(0.14 -0.14)\">\r\n       <use xlink:href=\"#DejaVuSans-33\"/>\r\n       <use x=\"63.623047\" xlink:href=\"#DejaVuSans-30\"/>\r\n       <use x=\"127.246094\" xlink:href=\"#DejaVuSans-30\"/>\r\n       <use x=\"190.869141\" xlink:href=\"#DejaVuSans-30\"/>\r\n       <use x=\"254.492188\" xlink:href=\"#DejaVuSans-30\"/>\r\n      </g>\r\n     </g>\r\n    </g>\r\n    <g id=\"ytick_5\">\r\n     <g id=\"line2d_23\">\r\n      <path clip-path=\"url(#pf6f7381910)\" d=\"M 55.2375 60.820181 \r\nL 354.361523 60.820181 \r\n\" style=\"fill:none;stroke:#cbcbcb;\"/>\r\n     </g>\r\n     <g id=\"line2d_24\"/>\r\n     <g id=\"text_13\">\r\n      <!-- 40000 -->\r\n      <g transform=\"translate(7.2 66.139088)scale(0.14 -0.14)\">\r\n       <use xlink:href=\"#DejaVuSans-34\"/>\r\n       <use x=\"63.623047\" xlink:href=\"#DejaVuSans-30\"/>\r\n       <use x=\"127.246094\" xlink:href=\"#DejaVuSans-30\"/>\r\n       <use x=\"190.869141\" xlink:href=\"#DejaVuSans-30\"/>\r\n       <use x=\"254.492188\" xlink:href=\"#DejaVuSans-30\"/>\r\n      </g>\r\n     </g>\r\n    </g>\r\n   </g>\r\n   <g id=\"patch_3\">\r\n    <path clip-path=\"url(#pf6f7381910)\" d=\"M 68.834047 302.77845 \r\nL 71.553356 302.77845 \r\nL 71.553356 132.161577 \r\nL 68.834047 132.161577 \r\nz\r\n\" style=\"fill:#008fd5;\"/>\r\n   </g>\r\n   <g id=\"patch_4\">\r\n    <path clip-path=\"url(#pf6f7381910)\" d=\"M 71.553356 302.77845 \r\nL 74.272665 302.77845 \r\nL 74.272665 155.353277 \r\nL 71.553356 155.353277 \r\nz\r\n\" style=\"fill:#008fd5;\"/>\r\n   </g>\r\n   <g id=\"patch_5\">\r\n    <path clip-path=\"url(#pf6f7381910)\" d=\"M 74.272665 302.77845 \r\nL 76.991974 302.77845 \r\nL 76.991974 89.637411 \r\nL 74.272665 89.637411 \r\nz\r\n\" style=\"fill:#008fd5;\"/>\r\n   </g>\r\n   <g id=\"patch_6\">\r\n    <path clip-path=\"url(#pf6f7381910)\" d=\"M 76.991974 302.77845 \r\nL 79.711284 302.77845 \r\nL 79.711284 44.481949 \r\nL 76.991974 44.481949 \r\nz\r\n\" style=\"fill:#008fd5;\"/>\r\n   </g>\r\n   <g id=\"patch_7\">\r\n    <path clip-path=\"url(#pf6f7381910)\" d=\"M 79.711284 302.77845 \r\nL 82.430593 302.77845 \r\nL 82.430593 41.57845 \r\nL 79.711284 41.57845 \r\nz\r\n\" style=\"fill:#008fd5;\"/>\r\n   </g>\r\n   <g id=\"patch_8\">\r\n    <path clip-path=\"url(#pf6f7381910)\" d=\"M 82.430593 302.77845 \r\nL 85.149902 302.77845 \r\nL 85.149902 98.402349 \r\nL 82.430593 98.402349 \r\nz\r\n\" style=\"fill:#008fd5;\"/>\r\n   </g>\r\n   <g id=\"patch_9\">\r\n    <path clip-path=\"url(#pf6f7381910)\" d=\"M 85.149902 302.77845 \r\nL 87.869212 302.77845 \r\nL 87.869212 140.775291 \r\nL 85.149902 140.775291 \r\nz\r\n\" style=\"fill:#008fd5;\"/>\r\n   </g>\r\n   <g id=\"patch_10\">\r\n    <path clip-path=\"url(#pf6f7381910)\" d=\"M 87.869212 302.77845 \r\nL 90.588521 302.77845 \r\nL 90.588521 177.244451 \r\nL 87.869212 177.244451 \r\nz\r\n\" style=\"fill:#008fd5;\"/>\r\n   </g>\r\n   <g id=\"patch_11\">\r\n    <path clip-path=\"url(#pf6f7381910)\" d=\"M 90.588521 302.77845 \r\nL 93.30783 302.77845 \r\nL 93.30783 211.124658 \r\nL 90.588521 211.124658 \r\nz\r\n\" style=\"fill:#008fd5;\"/>\r\n   </g>\r\n   <g id=\"patch_12\">\r\n    <path clip-path=\"url(#pf6f7381910)\" d=\"M 93.30783 302.77845 \r\nL 96.02714 302.77845 \r\nL 96.02714 220.518688 \r\nL 93.30783 220.518688 \r\nz\r\n\" style=\"fill:#008fd5;\"/>\r\n   </g>\r\n   <g id=\"patch_13\">\r\n    <path clip-path=\"url(#pf6f7381910)\" d=\"M 96.02714 302.77845 \r\nL 98.746449 302.77845 \r\nL 98.746449 242.24654 \r\nL 96.02714 242.24654 \r\nz\r\n\" style=\"fill:#008fd5;\"/>\r\n   </g>\r\n   <g id=\"patch_14\">\r\n    <path clip-path=\"url(#pf6f7381910)\" d=\"M 98.746449 302.77845 \r\nL 101.465758 302.77845 \r\nL 101.465758 250.733226 \r\nL 98.746449 250.733226 \r\nz\r\n\" style=\"fill:#008fd5;\"/>\r\n   </g>\r\n   <g id=\"patch_15\">\r\n    <path clip-path=\"url(#pf6f7381910)\" d=\"M 101.465758 302.77845 \r\nL 104.185067 302.77845 \r\nL 104.185067 258.506136 \r\nL 101.465758 258.506136 \r\nz\r\n\" style=\"fill:#008fd5;\"/>\r\n   </g>\r\n   <g id=\"patch_16\">\r\n    <path clip-path=\"url(#pf6f7381910)\" d=\"M 104.185067 302.77845 \r\nL 106.904377 302.77845 \r\nL 106.904377 267.06541 \r\nL 104.185067 267.06541 \r\nz\r\n\" style=\"fill:#008fd5;\"/>\r\n   </g>\r\n   <g id=\"patch_17\">\r\n    <path clip-path=\"url(#pf6f7381910)\" d=\"M 106.904377 302.77845 \r\nL 109.623686 302.77845 \r\nL 109.623686 271.190798 \r\nL 106.904377 271.190798 \r\nz\r\n\" style=\"fill:#008fd5;\"/>\r\n   </g>\r\n   <g id=\"patch_18\">\r\n    <path clip-path=\"url(#pf6f7381910)\" d=\"M 109.623686 302.77845 \r\nL 112.342995 302.77845 \r\nL 112.342995 274.54192 \r\nL 109.623686 274.54192 \r\nz\r\n\" style=\"fill:#008fd5;\"/>\r\n   </g>\r\n   <g id=\"patch_19\">\r\n    <path clip-path=\"url(#pf6f7381910)\" d=\"M 112.342995 302.77845 \r\nL 115.062305 302.77845 \r\nL 115.062305 277.245804 \r\nL 112.342995 277.245804 \r\nz\r\n\" style=\"fill:#008fd5;\"/>\r\n   </g>\r\n   <g id=\"patch_20\">\r\n    <path clip-path=\"url(#pf6f7381910)\" d=\"M 115.062305 302.77845 \r\nL 117.781614 302.77845 \r\nL 117.781614 293.55984 \r\nL 115.062305 293.55984 \r\nz\r\n\" style=\"fill:#008fd5;\"/>\r\n   </g>\r\n   <g id=\"patch_21\">\r\n    <path clip-path=\"url(#pf6f7381910)\" d=\"M 117.781614 302.77845 \r\nL 120.500923 302.77845 \r\nL 120.500923 288.799311 \r\nL 117.781614 288.799311 \r\nz\r\n\" style=\"fill:#008fd5;\"/>\r\n   </g>\r\n   <g id=\"patch_22\">\r\n    <path clip-path=\"url(#pf6f7381910)\" d=\"M 120.500923 302.77845 \r\nL 123.220233 302.77845 \r\nL 123.220233 288.635989 \r\nL 120.500923 288.635989 \r\nz\r\n\" style=\"fill:#008fd5;\"/>\r\n   </g>\r\n   <g id=\"patch_23\">\r\n    <path clip-path=\"url(#pf6f7381910)\" d=\"M 123.220233 302.77845 \r\nL 125.939542 302.77845 \r\nL 125.939542 285.369553 \r\nL 123.220233 285.369553 \r\nz\r\n\" style=\"fill:#008fd5;\"/>\r\n   </g>\r\n   <g id=\"patch_24\">\r\n    <path clip-path=\"url(#pf6f7381910)\" d=\"M 125.939542 302.77845 \r\nL 128.658851 302.77845 \r\nL 128.658851 288.484765 \r\nL 125.939542 288.484765 \r\nz\r\n\" style=\"fill:#008fd5;\"/>\r\n   </g>\r\n   <g id=\"patch_25\">\r\n    <path clip-path=\"url(#pf6f7381910)\" d=\"M 128.658851 302.77845 \r\nL 131.378161 302.77845 \r\nL 131.378161 294.013512 \r\nL 128.658851 294.013512 \r\nz\r\n\" style=\"fill:#008fd5;\"/>\r\n   </g>\r\n   <g id=\"patch_26\">\r\n    <path clip-path=\"url(#pf6f7381910)\" d=\"M 131.378161 302.77845 \r\nL 134.09747 302.77845 \r\nL 134.09747 292.785574 \r\nL 131.378161 292.785574 \r\nz\r\n\" style=\"fill:#008fd5;\"/>\r\n   </g>\r\n   <g id=\"patch_27\">\r\n    <path clip-path=\"url(#pf6f7381910)\" d=\"M 134.09747 302.77845 \r\nL 136.816779 302.77845 \r\nL 136.816779 293.523546 \r\nL 134.09747 293.523546 \r\nz\r\n\" style=\"fill:#008fd5;\"/>\r\n   </g>\r\n   <g id=\"patch_28\">\r\n    <path clip-path=\"url(#pf6f7381910)\" d=\"M 136.816779 302.77845 \r\nL 139.536088 302.77845 \r\nL 139.536088 292.622252 \r\nL 136.816779 292.622252 \r\nz\r\n\" style=\"fill:#008fd5;\"/>\r\n   </g>\r\n   <g id=\"patch_29\">\r\n    <path clip-path=\"url(#pf6f7381910)\" d=\"M 139.536088 302.77845 \r\nL 142.255398 302.77845 \r\nL 142.255398 294.225225 \r\nL 139.536088 294.225225 \r\nz\r\n\" style=\"fill:#008fd5;\"/>\r\n   </g>\r\n   <g id=\"patch_30\">\r\n    <path clip-path=\"url(#pf6f7381910)\" d=\"M 142.255398 302.77845 \r\nL 144.974707 302.77845 \r\nL 144.974707 297.467466 \r\nL 142.255398 297.467466 \r\nz\r\n\" style=\"fill:#008fd5;\"/>\r\n   </g>\r\n   <g id=\"patch_31\">\r\n    <path clip-path=\"url(#pf6f7381910)\" d=\"M 144.974707 302.77845 \r\nL 147.694016 302.77845 \r\nL 147.694016 295.483408 \r\nL 144.974707 295.483408 \r\nz\r\n\" style=\"fill:#008fd5;\"/>\r\n   </g>\r\n   <g id=\"patch_32\">\r\n    <path clip-path=\"url(#pf6f7381910)\" d=\"M 147.694016 302.77845 \r\nL 150.413326 302.77845 \r\nL 150.413326 296.136696 \r\nL 147.694016 296.136696 \r\nz\r\n\" style=\"fill:#008fd5;\"/>\r\n   </g>\r\n   <g id=\"patch_33\">\r\n    <path clip-path=\"url(#pf6f7381910)\" d=\"M 150.413326 302.77845 \r\nL 153.132635 302.77845 \r\nL 153.132635 296.638759 \r\nL 150.413326 296.638759 \r\nz\r\n\" style=\"fill:#008fd5;\"/>\r\n   </g>\r\n   <g id=\"patch_34\">\r\n    <path clip-path=\"url(#pf6f7381910)\" d=\"M 153.132635 302.77845 \r\nL 155.851944 302.77845 \r\nL 155.851944 296.638759 \r\nL 153.132635 296.638759 \r\nz\r\n\" style=\"fill:#008fd5;\"/>\r\n   </g>\r\n   <g id=\"patch_35\">\r\n    <path clip-path=\"url(#pf6f7381910)\" d=\"M 155.851944 302.77845 \r\nL 158.571254 302.77845 \r\nL 158.571254 299.403132 \r\nL 155.851944 299.403132 \r\nz\r\n\" style=\"fill:#008fd5;\"/>\r\n   </g>\r\n   <g id=\"patch_36\">\r\n    <path clip-path=\"url(#pf6f7381910)\" d=\"M 158.571254 302.77845 \r\nL 161.290563 302.77845 \r\nL 161.290563 295.301939 \r\nL 158.571254 295.301939 \r\nz\r\n\" style=\"fill:#008fd5;\"/>\r\n   </g>\r\n   <g id=\"patch_37\">\r\n    <path clip-path=\"url(#pf6f7381910)\" d=\"M 161.290563 302.77845 \r\nL 164.009872 302.77845 \r\nL 164.009872 301.163379 \r\nL 161.290563 301.163379 \r\nz\r\n\" style=\"fill:#008fd5;\"/>\r\n   </g>\r\n   <g id=\"patch_38\">\r\n    <path clip-path=\"url(#pf6f7381910)\" d=\"M 164.009872 302.77845 \r\nL 166.729181 302.77845 \r\nL 166.729181 299.100684 \r\nL 164.009872 299.100684 \r\nz\r\n\" style=\"fill:#008fd5;\"/>\r\n   </g>\r\n   <g id=\"patch_39\">\r\n    <path clip-path=\"url(#pf6f7381910)\" d=\"M 166.729181 302.77845 \r\nL 169.448491 302.77845 \r\nL 169.448491 298.181243 \r\nL 166.729181 298.181243 \r\nz\r\n\" style=\"fill:#008fd5;\"/>\r\n   </g>\r\n   <g id=\"patch_40\">\r\n    <path clip-path=\"url(#pf6f7381910)\" d=\"M 169.448491 302.77845 \r\nL 172.1678 302.77845 \r\nL 172.1678 300.159252 \r\nL 169.448491 300.159252 \r\nz\r\n\" style=\"fill:#008fd5;\"/>\r\n   </g>\r\n   <g id=\"patch_41\">\r\n    <path clip-path=\"url(#pf6f7381910)\" d=\"M 172.1678 302.77845 \r\nL 174.887109 302.77845 \r\nL 174.887109 299.669286 \r\nL 172.1678 299.669286 \r\nz\r\n\" style=\"fill:#008fd5;\"/>\r\n   </g>\r\n   <g id=\"patch_42\">\r\n    <path clip-path=\"url(#pf6f7381910)\" d=\"M 174.887109 302.77845 \r\nL 177.606419 302.77845 \r\nL 177.606419 299.675335 \r\nL 174.887109 299.675335 \r\nz\r\n\" style=\"fill:#008fd5;\"/>\r\n   </g>\r\n   <g id=\"patch_43\">\r\n    <path clip-path=\"url(#pf6f7381910)\" d=\"M 177.606419 302.77845 \r\nL 180.325728 302.77845 \r\nL 180.325728 300.050371 \r\nL 177.606419 300.050371 \r\nz\r\n\" style=\"fill:#008fd5;\"/>\r\n   </g>\r\n   <g id=\"patch_44\">\r\n    <path clip-path=\"url(#pf6f7381910)\" d=\"M 180.325728 302.77845 \r\nL 183.045037 302.77845 \r\nL 183.045037 297.455368 \r\nL 180.325728 297.455368 \r\nz\r\n\" style=\"fill:#008fd5;\"/>\r\n   </g>\r\n   <g id=\"patch_45\">\r\n    <path clip-path=\"url(#pf6f7381910)\" d=\"M 183.045037 302.77845 \r\nL 185.764347 302.77845 \r\nL 185.764347 301.768274 \r\nL 183.045037 301.768274 \r\nz\r\n\" style=\"fill:#008fd5;\"/>\r\n   </g>\r\n   <g id=\"patch_46\">\r\n    <path clip-path=\"url(#pf6f7381910)\" d=\"M 185.764347 302.77845 \r\nL 188.483656 302.77845 \r\nL 188.483656 300.727854 \r\nL 185.764347 300.727854 \r\nz\r\n\" style=\"fill:#008fd5;\"/>\r\n   </g>\r\n   <g id=\"patch_47\">\r\n    <path clip-path=\"url(#pf6f7381910)\" d=\"M 188.483656 302.77845 \r\nL 191.202965 302.77845 \r\nL 191.202965 300.298378 \r\nL 188.483656 300.298378 \r\nz\r\n\" style=\"fill:#008fd5;\"/>\r\n   </g>\r\n   <g id=\"patch_48\">\r\n    <path clip-path=\"url(#pf6f7381910)\" d=\"M 191.202965 302.77845 \r\nL 193.922275 302.77845 \r\nL 193.922275 300.153203 \r\nL 191.202965 300.153203 \r\nz\r\n\" style=\"fill:#008fd5;\"/>\r\n   </g>\r\n   <g id=\"patch_49\">\r\n    <path clip-path=\"url(#pf6f7381910)\" d=\"M 193.922275 302.77845 \r\nL 196.641584 302.77845 \r\nL 196.641584 300.358867 \r\nL 193.922275 300.358867 \r\nz\r\n\" style=\"fill:#008fd5;\"/>\r\n   </g>\r\n   <g id=\"patch_50\">\r\n    <path clip-path=\"url(#pf6f7381910)\" d=\"M 196.641584 302.77845 \r\nL 199.360893 302.77845 \r\nL 199.360893 301.586806 \r\nL 196.641584 301.586806 \r\nz\r\n\" style=\"fill:#008fd5;\"/>\r\n   </g>\r\n   <g id=\"patch_51\">\r\n    <path clip-path=\"url(#pf6f7381910)\" d=\"M 199.360893 302.77845 \r\nL 202.080202 302.77845 \r\nL 202.080202 300.933518 \r\nL 199.360893 300.933518 \r\nz\r\n\" style=\"fill:#008fd5;\"/>\r\n   </g>\r\n   <g id=\"patch_52\">\r\n    <path clip-path=\"url(#pf6f7381910)\" d=\"M 202.080202 302.77845 \r\nL 204.799512 302.77845 \r\nL 204.799512 299.524111 \r\nL 202.080202 299.524111 \r\nz\r\n\" style=\"fill:#008fd5;\"/>\r\n   </g>\r\n   <g id=\"patch_53\">\r\n    <path clip-path=\"url(#pf6f7381910)\" d=\"M 204.799512 302.77845 \r\nL 207.518821 302.77845 \r\nL 207.518821 300.739952 \r\nL 204.799512 300.739952 \r\nz\r\n\" style=\"fill:#008fd5;\"/>\r\n   </g>\r\n   <g id=\"patch_54\">\r\n    <path clip-path=\"url(#pf6f7381910)\" d=\"M 207.518821 302.77845 \r\nL 210.23813 302.77845 \r\nL 210.23813 302.004184 \r\nL 207.518821 302.004184 \r\nz\r\n\" style=\"fill:#008fd5;\"/>\r\n   </g>\r\n   <g id=\"patch_55\">\r\n    <path clip-path=\"url(#pf6f7381910)\" d=\"M 210.23813 302.77845 \r\nL 212.95744 302.77845 \r\nL 212.95744 302.19775 \r\nL 210.23813 302.19775 \r\nz\r\n\" style=\"fill:#008fd5;\"/>\r\n   </g>\r\n   <g id=\"patch_56\">\r\n    <path clip-path=\"url(#pf6f7381910)\" d=\"M 212.95744 302.77845 \r\nL 215.676749 302.77845 \r\nL 215.676749 301.133134 \r\nL 212.95744 301.133134 \r\nz\r\n\" style=\"fill:#008fd5;\"/>\r\n   </g>\r\n   <g id=\"patch_57\">\r\n    <path clip-path=\"url(#pf6f7381910)\" d=\"M 215.676749 302.77845 \r\nL 218.396058 302.77845 \r\nL 218.396058 301.471875 \r\nL 215.676749 301.471875 \r\nz\r\n\" style=\"fill:#008fd5;\"/>\r\n   </g>\r\n   <g id=\"patch_58\">\r\n    <path clip-path=\"url(#pf6f7381910)\" d=\"M 218.396058 302.77845 \r\nL 221.115368 302.77845 \r\nL 221.115368 300.92142 \r\nL 218.396058 300.92142 \r\nz\r\n\" style=\"fill:#008fd5;\"/>\r\n   </g>\r\n   <g id=\"patch_59\">\r\n    <path clip-path=\"url(#pf6f7381910)\" d=\"M 221.115368 302.77845 \r\nL 223.834677 302.77845 \r\nL 223.834677 301.580757 \r\nL 221.115368 301.580757 \r\nz\r\n\" style=\"fill:#008fd5;\"/>\r\n   </g>\r\n   <g id=\"patch_60\">\r\n    <path clip-path=\"url(#pf6f7381910)\" d=\"M 223.834677 302.77845 \r\nL 226.553986 302.77845 \r\nL 226.553986 302.167505 \r\nL 223.834677 302.167505 \r\nz\r\n\" style=\"fill:#008fd5;\"/>\r\n   </g>\r\n   <g id=\"patch_61\">\r\n    <path clip-path=\"url(#pf6f7381910)\" d=\"M 226.553986 302.77845 \r\nL 229.273295 302.77845 \r\nL 229.273295 300.001979 \r\nL 226.553986 300.001979 \r\nz\r\n\" style=\"fill:#008fd5;\"/>\r\n   </g>\r\n   <g id=\"patch_62\">\r\n    <path clip-path=\"url(#pf6f7381910)\" d=\"M 229.273295 302.77845 \r\nL 231.992605 302.77845 \r\nL 231.992605 302.37317 \r\nL 229.273295 302.37317 \r\nz\r\n\" style=\"fill:#008fd5;\"/>\r\n   </g>\r\n   <g id=\"patch_63\">\r\n    <path clip-path=\"url(#pf6f7381910)\" d=\"M 231.992605 302.77845 \r\nL 234.711914 302.77845 \r\nL 234.711914 301.50212 \r\nL 231.992605 301.50212 \r\nz\r\n\" style=\"fill:#008fd5;\"/>\r\n   </g>\r\n   <g id=\"patch_64\">\r\n    <path clip-path=\"url(#pf6f7381910)\" d=\"M 234.711914 302.77845 \r\nL 237.431223 302.77845 \r\nL 237.431223 301.786421 \r\nL 234.711914 301.786421 \r\nz\r\n\" style=\"fill:#008fd5;\"/>\r\n   </g>\r\n   <g id=\"patch_65\">\r\n    <path clip-path=\"url(#pf6f7381910)\" d=\"M 237.431223 302.77845 \r\nL 240.150533 302.77845 \r\nL 240.150533 301.895302 \r\nL 237.431223 301.895302 \r\nz\r\n\" style=\"fill:#008fd5;\"/>\r\n   </g>\r\n   <g id=\"patch_66\">\r\n    <path clip-path=\"url(#pf6f7381910)\" d=\"M 240.150533 302.77845 \r\nL 242.869842 302.77845 \r\nL 242.869842 301.889253 \r\nL 240.150533 301.889253 \r\nz\r\n\" style=\"fill:#008fd5;\"/>\r\n   </g>\r\n   <g id=\"patch_67\">\r\n    <path clip-path=\"url(#pf6f7381910)\" d=\"M 242.869842 302.77845 \r\nL 245.589151 302.77845 \r\nL 245.589151 302.306631 \r\nL 242.869842 302.306631 \r\nz\r\n\" style=\"fill:#008fd5;\"/>\r\n   </g>\r\n   <g id=\"patch_68\">\r\n    <path clip-path=\"url(#pf6f7381910)\" d=\"M 245.589151 302.77845 \r\nL 248.308461 302.77845 \r\nL 248.308461 301.266211 \r\nL 245.589151 301.266211 \r\nz\r\n\" style=\"fill:#008fd5;\"/>\r\n   </g>\r\n   <g id=\"patch_69\">\r\n    <path clip-path=\"url(#pf6f7381910)\" d=\"M 248.308461 302.77845 \r\nL 251.02777 302.77845 \r\nL 251.02777 300.159252 \r\nL 248.308461 300.159252 \r\nz\r\n\" style=\"fill:#008fd5;\"/>\r\n   </g>\r\n   <g id=\"patch_70\">\r\n    <path clip-path=\"url(#pf6f7381910)\" d=\"M 251.02777 302.77845 \r\nL 253.747079 302.77845 \r\nL 253.747079 302.687716 \r\nL 251.02777 302.687716 \r\nz\r\n\" style=\"fill:#008fd5;\"/>\r\n   </g>\r\n   <g id=\"patch_71\">\r\n    <path clip-path=\"url(#pf6f7381910)\" d=\"M 253.747079 302.77845 \r\nL 256.466388 302.77845 \r\nL 256.466388 302.421562 \r\nL 253.747079 302.421562 \r\nz\r\n\" style=\"fill:#008fd5;\"/>\r\n   </g>\r\n   <g id=\"patch_72\">\r\n    <path clip-path=\"url(#pf6f7381910)\" d=\"M 256.466388 302.77845 \r\nL 259.185698 302.77845 \r\nL 259.185698 302.469953 \r\nL 256.466388 302.469953 \r\nz\r\n\" style=\"fill:#008fd5;\"/>\r\n   </g>\r\n   <g id=\"patch_73\">\r\n    <path clip-path=\"url(#pf6f7381910)\" d=\"M 259.185698 302.77845 \r\nL 261.905007 302.77845 \r\nL 261.905007 301.483973 \r\nL 259.185698 301.483973 \r\nz\r\n\" style=\"fill:#008fd5;\"/>\r\n   </g>\r\n   <g id=\"patch_74\">\r\n    <path clip-path=\"url(#pf6f7381910)\" d=\"M 261.905007 302.77845 \r\nL 264.624316 302.77845 \r\nL 264.624316 302.167505 \r\nL 261.905007 302.167505 \r\nz\r\n\" style=\"fill:#008fd5;\"/>\r\n   </g>\r\n   <g id=\"patch_75\">\r\n    <path clip-path=\"url(#pf6f7381910)\" d=\"M 264.624316 302.77845 \r\nL 267.343626 302.77845 \r\nL 267.343626 302.445757 \r\nL 264.624316 302.445757 \r\nz\r\n\" style=\"fill:#008fd5;\"/>\r\n   </g>\r\n   <g id=\"patch_76\">\r\n    <path clip-path=\"url(#pf6f7381910)\" d=\"M 267.343626 302.77845 \r\nL 270.062935 302.77845 \r\nL 270.062935 302.234044 \r\nL 267.343626 302.234044 \r\nz\r\n\" style=\"fill:#008fd5;\"/>\r\n   </g>\r\n   <g id=\"patch_77\">\r\n    <path clip-path=\"url(#pf6f7381910)\" d=\"M 270.062935 302.77845 \r\nL 272.782244 302.77845 \r\nL 272.782244 302.367121 \r\nL 270.062935 302.367121 \r\nz\r\n\" style=\"fill:#008fd5;\"/>\r\n   </g>\r\n   <g id=\"patch_78\">\r\n    <path clip-path=\"url(#pf6f7381910)\" d=\"M 272.782244 302.77845 \r\nL 275.501554 302.77845 \r\nL 275.501554 301.15733 \r\nL 272.782244 301.15733 \r\nz\r\n\" style=\"fill:#008fd5;\"/>\r\n   </g>\r\n   <g id=\"patch_79\">\r\n    <path clip-path=\"url(#pf6f7381910)\" d=\"M 275.501554 302.77845 \r\nL 278.220863 302.77845 \r\nL 278.220863 302.264289 \r\nL 275.501554 302.264289 \r\nz\r\n\" style=\"fill:#008fd5;\"/>\r\n   </g>\r\n   <g id=\"patch_80\">\r\n    <path clip-path=\"url(#pf6f7381910)\" d=\"M 278.220863 302.77845 \r\nL 280.940172 302.77845 \r\nL 280.940172 302.621177 \r\nL 278.220863 302.621177 \r\nz\r\n\" style=\"fill:#008fd5;\"/>\r\n   </g>\r\n   <g id=\"patch_81\">\r\n    <path clip-path=\"url(#pf6f7381910)\" d=\"M 280.940172 302.77845 \r\nL 283.659482 302.77845 \r\nL 283.659482 302.209848 \r\nL 280.940172 302.209848 \r\nz\r\n\" style=\"fill:#008fd5;\"/>\r\n   </g>\r\n   <g id=\"patch_82\">\r\n    <path clip-path=\"url(#pf6f7381910)\" d=\"M 283.659482 302.77845 \r\nL 286.378791 302.77845 \r\nL 286.378791 302.209848 \r\nL 283.659482 302.209848 \r\nz\r\n\" style=\"fill:#008fd5;\"/>\r\n   </g>\r\n   <g id=\"patch_83\">\r\n    <path clip-path=\"url(#pf6f7381910)\" d=\"M 286.378791 302.77845 \r\nL 289.0981 302.77845 \r\nL 289.0981 302.246142 \r\nL 286.378791 302.246142 \r\nz\r\n\" style=\"fill:#008fd5;\"/>\r\n   </g>\r\n   <g id=\"patch_84\">\r\n    <path clip-path=\"url(#pf6f7381910)\" d=\"M 289.0981 302.77845 \r\nL 291.817409 302.77845 \r\nL 291.817409 302.288485 \r\nL 289.0981 302.288485 \r\nz\r\n\" style=\"fill:#008fd5;\"/>\r\n   </g>\r\n   <g id=\"patch_85\">\r\n    <path clip-path=\"url(#pf6f7381910)\" d=\"M 291.817409 302.77845 \r\nL 294.536719 302.77845 \r\nL 294.536719 302.240093 \r\nL 291.817409 302.240093 \r\nz\r\n\" style=\"fill:#008fd5;\"/>\r\n   </g>\r\n   <g id=\"patch_86\">\r\n    <path clip-path=\"url(#pf6f7381910)\" d=\"M 294.536719 302.77845 \r\nL 297.256028 302.77845 \r\nL 297.256028 301.405337 \r\nL 294.536719 301.405337 \r\nz\r\n\" style=\"fill:#008fd5;\"/>\r\n   </g>\r\n   <g id=\"patch_87\">\r\n    <path clip-path=\"url(#pf6f7381910)\" d=\"M 297.256028 302.77845 \r\nL 299.975337 302.77845 \r\nL 299.975337 302.748205 \r\nL 297.256028 302.748205 \r\nz\r\n\" style=\"fill:#008fd5;\"/>\r\n   </g>\r\n   <g id=\"patch_88\">\r\n    <path clip-path=\"url(#pf6f7381910)\" d=\"M 299.975337 302.77845 \r\nL 302.694647 302.77845 \r\nL 302.694647 302.524394 \r\nL 299.975337 302.524394 \r\nz\r\n\" style=\"fill:#008fd5;\"/>\r\n   </g>\r\n   <g id=\"patch_89\">\r\n    <path clip-path=\"url(#pf6f7381910)\" d=\"M 302.694647 302.77845 \r\nL 305.413956 302.77845 \r\nL 305.413956 302.4881 \r\nL 302.694647 302.4881 \r\nz\r\n\" style=\"fill:#008fd5;\"/>\r\n   </g>\r\n   <g id=\"patch_90\">\r\n    <path clip-path=\"url(#pf6f7381910)\" d=\"M 305.413956 302.77845 \r\nL 308.133265 302.77845 \r\nL 308.133265 302.518345 \r\nL 305.413956 302.518345 \r\nz\r\n\" style=\"fill:#008fd5;\"/>\r\n   </g>\r\n   <g id=\"patch_91\">\r\n    <path clip-path=\"url(#pf6f7381910)\" d=\"M 308.133265 302.77845 \r\nL 310.852575 302.77845 \r\nL 310.852575 302.385268 \r\nL 308.133265 302.385268 \r\nz\r\n\" style=\"fill:#008fd5;\"/>\r\n   </g>\r\n   <g id=\"patch_92\">\r\n    <path clip-path=\"url(#pf6f7381910)\" d=\"M 310.852575 302.77845 \r\nL 313.571884 302.77845 \r\nL 313.571884 302.554639 \r\nL 310.852575 302.554639 \r\nz\r\n\" style=\"fill:#008fd5;\"/>\r\n   </g>\r\n   <g id=\"patch_93\">\r\n    <path clip-path=\"url(#pf6f7381910)\" d=\"M 313.571884 302.77845 \r\nL 316.291193 302.77845 \r\nL 316.291193 302.391317 \r\nL 313.571884 302.391317 \r\nz\r\n\" style=\"fill:#008fd5;\"/>\r\n   </g>\r\n   <g id=\"patch_94\">\r\n    <path clip-path=\"url(#pf6f7381910)\" d=\"M 316.291193 302.77845 \r\nL 319.010502 302.77845 \r\nL 319.010502 301.695687 \r\nL 316.291193 301.695687 \r\nz\r\n\" style=\"fill:#008fd5;\"/>\r\n   </g>\r\n   <g id=\"patch_95\">\r\n    <path clip-path=\"url(#pf6f7381910)\" d=\"M 319.010502 302.77845 \r\nL 321.729812 302.77845 \r\nL 321.729812 302.639324 \r\nL 319.010502 302.639324 \r\nz\r\n\" style=\"fill:#008fd5;\"/>\r\n   </g>\r\n   <g id=\"patch_96\">\r\n    <path clip-path=\"url(#pf6f7381910)\" d=\"M 321.729812 302.77845 \r\nL 324.449121 302.77845 \r\nL 324.449121 302.476002 \r\nL 321.729812 302.476002 \r\nz\r\n\" style=\"fill:#008fd5;\"/>\r\n   </g>\r\n   <g id=\"patch_97\">\r\n    <path clip-path=\"url(#pf6f7381910)\" d=\"M 324.449121 302.77845 \r\nL 327.16843 302.77845 \r\nL 327.16843 302.621177 \r\nL 324.449121 302.621177 \r\nz\r\n\" style=\"fill:#008fd5;\"/>\r\n   </g>\r\n   <g id=\"patch_98\">\r\n    <path clip-path=\"url(#pf6f7381910)\" d=\"M 327.16843 302.77845 \r\nL 329.88774 302.77845 \r\nL 329.88774 302.37317 \r\nL 327.16843 302.37317 \r\nz\r\n\" style=\"fill:#008fd5;\"/>\r\n   </g>\r\n   <g id=\"patch_99\">\r\n    <path clip-path=\"url(#pf6f7381910)\" d=\"M 329.88774 302.77845 \r\nL 332.607049 302.77845 \r\nL 332.607049 302.596981 \r\nL 329.88774 302.596981 \r\nz\r\n\" style=\"fill:#008fd5;\"/>\r\n   </g>\r\n   <g id=\"patch_100\">\r\n    <path clip-path=\"url(#pf6f7381910)\" d=\"M 332.607049 302.77845 \r\nL 335.326358 302.77845 \r\nL 335.326358 302.699814 \r\nL 332.607049 302.699814 \r\nz\r\n\" style=\"fill:#008fd5;\"/>\r\n   </g>\r\n   <g id=\"patch_101\">\r\n    <path clip-path=\"url(#pf6f7381910)\" d=\"M 335.326358 302.77845 \r\nL 338.045668 302.77845 \r\nL 338.045668 302.391317 \r\nL 335.326358 302.391317 \r\nz\r\n\" style=\"fill:#008fd5;\"/>\r\n   </g>\r\n   <g id=\"patch_102\">\r\n    <path clip-path=\"url(#pf6f7381910)\" d=\"M 338.045668 302.77845 \r\nL 340.764977 302.77845 \r\nL 340.764977 302.131212 \r\nL 338.045668 302.131212 \r\nz\r\n\" style=\"fill:#008fd5;\"/>\r\n   </g>\r\n   <g id=\"patch_103\">\r\n    <path d=\"M 55.2375 302.77845 \r\nL 55.2375 28.51845 \r\n\" style=\"fill:none;stroke:#f0f0f0;stroke-linecap:square;stroke-linejoin:miter;stroke-width:3;\"/>\r\n   </g>\r\n   <g id=\"patch_104\">\r\n    <path d=\"M 354.361523 302.77845 \r\nL 354.361523 28.51845 \r\n\" style=\"fill:none;stroke:#f0f0f0;stroke-linecap:square;stroke-linejoin:miter;stroke-width:3;\"/>\r\n   </g>\r\n   <g id=\"patch_105\">\r\n    <path d=\"M 55.2375 302.77845 \r\nL 354.361523 302.77845 \r\n\" style=\"fill:none;stroke:#f0f0f0;stroke-linecap:square;stroke-linejoin:miter;stroke-width:3;\"/>\r\n   </g>\r\n   <g id=\"patch_106\">\r\n    <path d=\"M 55.2375 28.51845 \r\nL 354.361523 28.51845 \r\n\" style=\"fill:none;stroke:#f0f0f0;stroke-linecap:square;stroke-linejoin:miter;stroke-width:3;\"/>\r\n   </g>\r\n   <g id=\"text_14\">\r\n    <!-- Без логарифирования -->\r\n    <g transform=\"translate(87.025737 22.51845)scale(0.2016 -0.2016)\">\r\n     <defs>\r\n      <path d=\"M 3272 1372 \r\nQ 3272 1806 3026 2017 \r\nQ 2781 2228 2272 2228 \r\nL 1259 2228 \r\nL 1259 519 \r\nL 2272 519 \r\nQ 2781 519 3026 730 \r\nQ 3272 941 3272 1372 \r\nz\r\nM 3609 4666 \r\nL 3609 4147 \r\nL 1259 4147 \r\nL 1259 2747 \r\nL 2303 2747 \r\nQ 3088 2747 3513 2406 \r\nQ 3938 2066 3938 1372 \r\nQ 3938 681 3527 340 \r\nQ 3116 0 2303 0 \r\nL 628 0 \r\nL 628 4666 \r\nL 3609 4666 \r\nz\r\n\" id=\"DejaVuSans-411\" transform=\"scale(0.015625)\"/>\r\n      <path d=\"M 3597 1894 \r\nL 3597 1613 \r\nL 953 1613 \r\nQ 991 1019 1311 708 \r\nQ 1631 397 2203 397 \r\nQ 2534 397 2845 478 \r\nQ 3156 559 3463 722 \r\nL 3463 178 \r\nQ 3153 47 2828 -22 \r\nQ 2503 -91 2169 -91 \r\nQ 1331 -91 842 396 \r\nQ 353 884 353 1716 \r\nQ 353 2575 817 3079 \r\nQ 1281 3584 2069 3584 \r\nQ 2775 3584 3186 3129 \r\nQ 3597 2675 3597 1894 \r\nz\r\nM 3022 2063 \r\nQ 3016 2534 2758 2815 \r\nQ 2500 3097 2075 3097 \r\nQ 1594 3097 1305 2825 \r\nQ 1016 2553 972 2059 \r\nL 3022 2063 \r\nz\r\n\" id=\"DejaVuSans-435\" transform=\"scale(0.015625)\"/>\r\n      <path d=\"M 2206 1888 \r\nQ 2594 1813 2809 1584 \r\nQ 3025 1356 3025 1019 \r\nQ 3025 478 2622 193 \r\nQ 2219 -91 1475 -91 \r\nQ 1225 -91 961 -47 \r\nQ 697 -3 416 84 \r\nL 416 619 \r\nQ 638 503 903 445 \r\nQ 1169 388 1459 388 \r\nQ 1931 388 2195 563 \r\nQ 2459 738 2459 1019 \r\nQ 2459 1294 2225 1461 \r\nQ 1991 1628 1563 1628 \r\nL 1100 1628 \r\nL 1100 2103 \r\nL 1584 2103 \r\nQ 1947 2103 2158 2242 \r\nQ 2369 2381 2369 2600 \r\nQ 2369 2800 2151 2944 \r\nQ 1934 3088 1563 3088 \r\nQ 1341 3088 1089 3047 \r\nQ 838 3006 534 2916 \r\nL 534 3438 \r\nQ 841 3513 1106 3550 \r\nQ 1372 3588 1609 3588 \r\nQ 2222 3588 2576 3342 \r\nQ 2931 3097 2931 2656 \r\nQ 2931 2366 2743 2164 \r\nQ 2556 1963 2206 1888 \r\nz\r\n\" id=\"DejaVuSans-437\" transform=\"scale(0.015625)\"/>\r\n      <path id=\"DejaVuSans-20\" transform=\"scale(0.015625)\"/>\r\n      <path d=\"M 238 0 \r\nL 238 478 \r\nQ 806 566 981 959 \r\nQ 1194 1513 1194 2928 \r\nL 1194 3500 \r\nL 3559 3500 \r\nL 3559 0 \r\nL 2984 0 \r\nL 2984 3041 \r\nL 1769 3041 \r\nL 1769 2694 \r\nQ 1769 1344 1494 738 \r\nQ 1200 91 238 0 \r\nz\r\n\" id=\"DejaVuSans-43b\" transform=\"scale(0.015625)\"/>\r\n      <path d=\"M 1959 3097 \r\nQ 1497 3097 1228 2736 \r\nQ 959 2375 959 1747 \r\nQ 959 1119 1226 758 \r\nQ 1494 397 1959 397 \r\nQ 2419 397 2687 759 \r\nQ 2956 1122 2956 1747 \r\nQ 2956 2369 2687 2733 \r\nQ 2419 3097 1959 3097 \r\nz\r\nM 1959 3584 \r\nQ 2709 3584 3137 3096 \r\nQ 3566 2609 3566 1747 \r\nQ 3566 888 3137 398 \r\nQ 2709 -91 1959 -91 \r\nQ 1206 -91 779 398 \r\nQ 353 888 353 1747 \r\nQ 353 2609 779 3096 \r\nQ 1206 3584 1959 3584 \r\nz\r\n\" id=\"DejaVuSans-43e\" transform=\"scale(0.015625)\"/>\r\n      <path d=\"M 581 0 \r\nL 581 3500 \r\nL 3050 3500 \r\nL 3050 3041 \r\nL 1159 3041 \r\nL 1159 0 \r\nL 581 0 \r\nz\r\n\" id=\"DejaVuSans-433\" transform=\"scale(0.015625)\"/>\r\n      <path d=\"M 2194 1759 \r\nQ 1497 1759 1228 1600 \r\nQ 959 1441 959 1056 \r\nQ 959 750 1161 570 \r\nQ 1363 391 1709 391 \r\nQ 2188 391 2477 730 \r\nQ 2766 1069 2766 1631 \r\nL 2766 1759 \r\nL 2194 1759 \r\nz\r\nM 3341 1997 \r\nL 3341 0 \r\nL 2766 0 \r\nL 2766 531 \r\nQ 2569 213 2275 61 \r\nQ 1981 -91 1556 -91 \r\nQ 1019 -91 701 211 \r\nQ 384 513 384 1019 \r\nQ 384 1609 779 1909 \r\nQ 1175 2209 1959 2209 \r\nL 2766 2209 \r\nL 2766 2266 \r\nQ 2766 2663 2505 2880 \r\nQ 2244 3097 1772 3097 \r\nQ 1472 3097 1187 3025 \r\nQ 903 2953 641 2809 \r\nL 641 3341 \r\nQ 956 3463 1253 3523 \r\nQ 1550 3584 1831 3584 \r\nQ 2591 3584 2966 3190 \r\nQ 3341 2797 3341 1997 \r\nz\r\n\" id=\"DejaVuSans-430\" transform=\"scale(0.015625)\"/>\r\n      <path d=\"M 1159 525 \r\nL 1159 -1331 \r\nL 581 -1331 \r\nL 581 3500 \r\nL 1159 3500 \r\nL 1159 2969 \r\nQ 1341 3281 1617 3432 \r\nQ 1894 3584 2278 3584 \r\nQ 2916 3584 3314 3078 \r\nQ 3713 2572 3713 1747 \r\nQ 3713 922 3314 415 \r\nQ 2916 -91 2278 -91 \r\nQ 1894 -91 1617 61 \r\nQ 1341 213 1159 525 \r\nz\r\nM 3116 1747 \r\nQ 3116 2381 2855 2742 \r\nQ 2594 3103 2138 3103 \r\nQ 1681 3103 1420 2742 \r\nQ 1159 2381 1159 1747 \r\nQ 1159 1113 1420 752 \r\nQ 1681 391 2138 391 \r\nQ 2594 391 2855 752 \r\nQ 3116 1113 3116 1747 \r\nz\r\n\" id=\"DejaVuSans-440\" transform=\"scale(0.015625)\"/>\r\n      <path d=\"M 3578 3500 \r\nL 3578 0 \r\nL 3006 0 \r\nL 3006 2809 \r\nL 1319 0 \r\nL 581 0 \r\nL 581 3500 \r\nL 1153 3500 \r\nL 1153 697 \r\nL 2838 3500 \r\nL 3578 3500 \r\nz\r\n\" id=\"DejaVuSans-438\" transform=\"scale(0.015625)\"/>\r\n      <path d=\"M 947 1747 \r\nQ 947 1013 1173 702 \r\nQ 1400 391 1784 391 \r\nQ 2091 391 2447 916 \r\nL 2447 2578 \r\nQ 2091 3103 1784 3103 \r\nQ 1400 3103 1173 2792 \r\nQ 947 2481 947 1747 \r\nz\r\nM 2447 -1331 \r\nL 2447 447 \r\nQ 2269 153 2064 31 \r\nQ 1859 -91 1600 -91 \r\nQ 1078 -91 714 392 \r\nQ 350 875 350 1734 \r\nQ 350 2594 714 3089 \r\nQ 1078 3584 1600 3584 \r\nQ 1859 3584 2064 3465 \r\nQ 2269 3347 2447 3053 \r\nL 2447 4666 \r\nL 3025 4666 \r\nL 3025 3053 \r\nQ 3203 3347 3408 3465 \r\nQ 3613 3584 3872 3584 \r\nQ 4394 3584 4758 3089 \r\nQ 5122 2594 5122 1734 \r\nQ 5122 875 4758 392 \r\nQ 4394 -91 3872 -91 \r\nQ 3613 -91 3408 31 \r\nQ 3203 153 3025 447 \r\nL 3025 -1331 \r\nL 2447 -1331 \r\nz\r\nM 4525 1747 \r\nQ 4525 2481 4298 2792 \r\nQ 4072 3103 3688 3103 \r\nQ 3381 3103 3025 2578 \r\nL 3025 916 \r\nQ 3381 391 3688 391 \r\nQ 4072 391 4298 702 \r\nQ 4525 1013 4525 1747 \r\nz\r\n\" id=\"DejaVuSans-444\" transform=\"scale(0.015625)\"/>\r\n      <path d=\"M 1156 1613 \r\nL 1156 459 \r\nL 1975 459 \r\nQ 2369 459 2575 607 \r\nQ 2781 756 2781 1038 \r\nQ 2781 1319 2575 1466 \r\nQ 2369 1613 1975 1613 \r\nL 1156 1613 \r\nz\r\nM 1156 3041 \r\nL 1156 2072 \r\nL 1913 2072 \r\nQ 2238 2072 2444 2201 \r\nQ 2650 2331 2650 2563 \r\nQ 2650 2794 2444 2917 \r\nQ 2238 3041 1913 3041 \r\nL 1156 3041 \r\nz\r\nM 581 3500 \r\nL 1950 3500 \r\nQ 2566 3500 2897 3275 \r\nQ 3228 3050 3228 2634 \r\nQ 3228 2313 3059 2123 \r\nQ 2891 1934 2559 1888 \r\nQ 2956 1813 3175 1575 \r\nQ 3394 1338 3394 981 \r\nQ 3394 513 3033 256 \r\nQ 2672 0 2003 0 \r\nL 581 0 \r\nL 581 3500 \r\nz\r\n\" id=\"DejaVuSans-432\" transform=\"scale(0.015625)\"/>\r\n      <path d=\"M 581 3500 \r\nL 1159 3500 \r\nL 1159 2072 \r\nL 3025 2072 \r\nL 3025 3500 \r\nL 3603 3500 \r\nL 3603 0 \r\nL 3025 0 \r\nL 3025 1613 \r\nL 1159 1613 \r\nL 1159 0 \r\nL 581 0 \r\nL 581 3500 \r\nz\r\n\" id=\"DejaVuSans-43d\" transform=\"scale(0.015625)\"/>\r\n      <path d=\"M 1181 2491 \r\nQ 1181 2231 1381 2084 \r\nQ 1581 1938 1953 1938 \r\nL 2728 1938 \r\nL 2728 3041 \r\nL 1953 3041 \r\nQ 1581 3041 1381 2897 \r\nQ 1181 2753 1181 2491 \r\nz\r\nM 363 0 \r\nL 1431 1534 \r\nQ 1069 1616 828 1830 \r\nQ 588 2044 588 2491 \r\nQ 588 2997 923 3248 \r\nQ 1259 3500 1938 3500 \r\nL 3306 3500 \r\nL 3306 0 \r\nL 2728 0 \r\nL 2728 1478 \r\nL 2013 1478 \r\nL 981 0 \r\nL 363 0 \r\nz\r\n\" id=\"DejaVuSans-44f\" transform=\"scale(0.015625)\"/>\r\n     </defs>\r\n     <use xlink:href=\"#DejaVuSans-411\"/>\r\n     <use x=\"68.603516\" xlink:href=\"#DejaVuSans-435\"/>\r\n     <use x=\"130.126953\" xlink:href=\"#DejaVuSans-437\"/>\r\n     <use x=\"183.300781\" xlink:href=\"#DejaVuSans-20\"/>\r\n     <use x=\"215.087891\" xlink:href=\"#DejaVuSans-43b\"/>\r\n     <use x=\"279.003906\" xlink:href=\"#DejaVuSans-43e\"/>\r\n     <use x=\"340.185547\" xlink:href=\"#DejaVuSans-433\"/>\r\n     <use x=\"392.724609\" xlink:href=\"#DejaVuSans-430\"/>\r\n     <use x=\"454.003906\" xlink:href=\"#DejaVuSans-440\"/>\r\n     <use x=\"517.480469\" xlink:href=\"#DejaVuSans-438\"/>\r\n     <use x=\"582.470703\" xlink:href=\"#DejaVuSans-444\"/>\r\n     <use x=\"667.96875\" xlink:href=\"#DejaVuSans-438\"/>\r\n     <use x=\"732.958984\" xlink:href=\"#DejaVuSans-440\"/>\r\n     <use x=\"796.435547\" xlink:href=\"#DejaVuSans-43e\"/>\r\n     <use x=\"857.617188\" xlink:href=\"#DejaVuSans-432\"/>\r\n     <use x=\"916.552734\" xlink:href=\"#DejaVuSans-430\"/>\r\n     <use x=\"977.832031\" xlink:href=\"#DejaVuSans-43d\"/>\r\n     <use x=\"1043.212891\" xlink:href=\"#DejaVuSans-438\"/>\r\n     <use x=\"1108.203125\" xlink:href=\"#DejaVuSans-44f\"/>\r\n    </g>\r\n   </g>\r\n  </g>\r\n  <g id=\"axes_2\">\r\n   <g id=\"patch_107\">\r\n    <path d=\"M 398.498477 302.77845 \r\nL 697.6225 302.77845 \r\nL 697.6225 28.51845 \r\nL 398.498477 28.51845 \r\nz\r\n\" style=\"fill:#f0f0f0;\"/>\r\n   </g>\r\n   <g id=\"matplotlib.axis_3\">\r\n    <g id=\"xtick_8\">\r\n     <g id=\"line2d_25\">\r\n      <path clip-path=\"url(#pda83bb4ca8)\" d=\"M 412.094978 302.77845 \r\nL 412.094978 28.51845 \r\n\" style=\"fill:none;stroke:#cbcbcb;\"/>\r\n     </g>\r\n     <g id=\"line2d_26\"/>\r\n     <g id=\"text_15\">\r\n      <!-- 0 -->\r\n      <g transform=\"translate(407.641228 316.916262)scale(0.14 -0.14)\">\r\n       <use xlink:href=\"#DejaVuSans-30\"/>\r\n      </g>\r\n     </g>\r\n    </g>\r\n    <g id=\"xtick_9\">\r\n     <g id=\"line2d_27\">\r\n      <path clip-path=\"url(#pda83bb4ca8)\" d=\"M 457.492469 302.77845 \r\nL 457.492469 28.51845 \r\n\" style=\"fill:none;stroke:#cbcbcb;\"/>\r\n     </g>\r\n     <g id=\"line2d_28\"/>\r\n     <g id=\"text_16\">\r\n      <!-- 1 -->\r\n      <g transform=\"translate(453.038719 316.916262)scale(0.14 -0.14)\">\r\n       <use xlink:href=\"#DejaVuSans-31\"/>\r\n      </g>\r\n     </g>\r\n    </g>\r\n    <g id=\"xtick_10\">\r\n     <g id=\"line2d_29\">\r\n      <path clip-path=\"url(#pda83bb4ca8)\" d=\"M 502.889961 302.77845 \r\nL 502.889961 28.51845 \r\n\" style=\"fill:none;stroke:#cbcbcb;\"/>\r\n     </g>\r\n     <g id=\"line2d_30\"/>\r\n     <g id=\"text_17\">\r\n      <!-- 2 -->\r\n      <g transform=\"translate(498.436211 316.916262)scale(0.14 -0.14)\">\r\n       <use xlink:href=\"#DejaVuSans-32\"/>\r\n      </g>\r\n     </g>\r\n    </g>\r\n    <g id=\"xtick_11\">\r\n     <g id=\"line2d_31\">\r\n      <path clip-path=\"url(#pda83bb4ca8)\" d=\"M 548.287453 302.77845 \r\nL 548.287453 28.51845 \r\n\" style=\"fill:none;stroke:#cbcbcb;\"/>\r\n     </g>\r\n     <g id=\"line2d_32\"/>\r\n     <g id=\"text_18\">\r\n      <!-- 3 -->\r\n      <g transform=\"translate(543.833703 316.916262)scale(0.14 -0.14)\">\r\n       <use xlink:href=\"#DejaVuSans-33\"/>\r\n      </g>\r\n     </g>\r\n    </g>\r\n    <g id=\"xtick_12\">\r\n     <g id=\"line2d_33\">\r\n      <path clip-path=\"url(#pda83bb4ca8)\" d=\"M 593.684945 302.77845 \r\nL 593.684945 28.51845 \r\n\" style=\"fill:none;stroke:#cbcbcb;\"/>\r\n     </g>\r\n     <g id=\"line2d_34\"/>\r\n     <g id=\"text_19\">\r\n      <!-- 4 -->\r\n      <g transform=\"translate(589.231195 316.916262)scale(0.14 -0.14)\">\r\n       <use xlink:href=\"#DejaVuSans-34\"/>\r\n      </g>\r\n     </g>\r\n    </g>\r\n    <g id=\"xtick_13\">\r\n     <g id=\"line2d_35\">\r\n      <path clip-path=\"url(#pda83bb4ca8)\" d=\"M 639.082437 302.77845 \r\nL 639.082437 28.51845 \r\n\" style=\"fill:none;stroke:#cbcbcb;\"/>\r\n     </g>\r\n     <g id=\"line2d_36\"/>\r\n     <g id=\"text_20\">\r\n      <!-- 5 -->\r\n      <g transform=\"translate(634.628687 316.916262)scale(0.14 -0.14)\">\r\n       <use xlink:href=\"#DejaVuSans-35\"/>\r\n      </g>\r\n     </g>\r\n    </g>\r\n    <g id=\"xtick_14\">\r\n     <g id=\"line2d_37\">\r\n      <path clip-path=\"url(#pda83bb4ca8)\" d=\"M 684.479928 302.77845 \r\nL 684.479928 28.51845 \r\n\" style=\"fill:none;stroke:#cbcbcb;\"/>\r\n     </g>\r\n     <g id=\"line2d_38\"/>\r\n     <g id=\"text_21\">\r\n      <!-- 6 -->\r\n      <g transform=\"translate(680.026178 316.916262)scale(0.14 -0.14)\">\r\n       <use xlink:href=\"#DejaVuSans-36\"/>\r\n      </g>\r\n     </g>\r\n    </g>\r\n    <g id=\"text_22\">\r\n     <!-- 1e6 -->\r\n     <g transform=\"translate(671.193125 333.465637)scale(0.14 -0.14)\">\r\n      <use xlink:href=\"#DejaVuSans-31\"/>\r\n      <use x=\"63.623047\" xlink:href=\"#DejaVuSans-65\"/>\r\n      <use x=\"125.146484\" xlink:href=\"#DejaVuSans-36\"/>\r\n     </g>\r\n    </g>\r\n   </g>\r\n   <g id=\"matplotlib.axis_4\">\r\n    <g id=\"ytick_6\">\r\n     <g id=\"line2d_39\">\r\n      <path clip-path=\"url(#pda83bb4ca8)\" d=\"M 398.498477 271.244801 \r\nL 697.6225 271.244801 \r\n\" style=\"fill:none;stroke:#cbcbcb;\"/>\r\n     </g>\r\n     <g id=\"line2d_40\"/>\r\n     <g id=\"text_23\">\r\n      <!-- $\\mathdefault{10^{1}}$ -->\r\n      <g transform=\"translate(370.358477 276.563707)scale(0.14 -0.14)\">\r\n       <use transform=\"translate(0 0.684375)\" xlink:href=\"#DejaVuSans-31\"/>\r\n       <use transform=\"translate(63.623047 0.684375)\" xlink:href=\"#DejaVuSans-30\"/>\r\n       <use transform=\"translate(128.203125 38.965625)scale(0.7)\" xlink:href=\"#DejaVuSans-31\"/>\r\n      </g>\r\n     </g>\r\n    </g>\r\n    <g id=\"ytick_7\">\r\n     <g id=\"line2d_41\">\r\n      <path clip-path=\"url(#pda83bb4ca8)\" d=\"M 398.498477 207.90465 \r\nL 697.6225 207.90465 \r\n\" style=\"fill:none;stroke:#cbcbcb;\"/>\r\n     </g>\r\n     <g id=\"line2d_42\"/>\r\n     <g id=\"text_24\">\r\n      <!-- $\\mathdefault{10^{2}}$ -->\r\n      <g transform=\"translate(370.358477 213.223557)scale(0.14 -0.14)\">\r\n       <use transform=\"translate(0 0.765625)\" xlink:href=\"#DejaVuSans-31\"/>\r\n       <use transform=\"translate(63.623047 0.765625)\" xlink:href=\"#DejaVuSans-30\"/>\r\n       <use transform=\"translate(128.203125 39.046875)scale(0.7)\" xlink:href=\"#DejaVuSans-32\"/>\r\n      </g>\r\n     </g>\r\n    </g>\r\n    <g id=\"ytick_8\">\r\n     <g id=\"line2d_43\">\r\n      <path clip-path=\"url(#pda83bb4ca8)\" d=\"M 398.498477 144.5645 \r\nL 697.6225 144.5645 \r\n\" style=\"fill:none;stroke:#cbcbcb;\"/>\r\n     </g>\r\n     <g id=\"line2d_44\"/>\r\n     <g id=\"text_25\">\r\n      <!-- $\\mathdefault{10^{3}}$ -->\r\n      <g transform=\"translate(370.358477 149.883406)scale(0.14 -0.14)\">\r\n       <use transform=\"translate(0 0.765625)\" xlink:href=\"#DejaVuSans-31\"/>\r\n       <use transform=\"translate(63.623047 0.765625)\" xlink:href=\"#DejaVuSans-30\"/>\r\n       <use transform=\"translate(128.203125 39.046875)scale(0.7)\" xlink:href=\"#DejaVuSans-33\"/>\r\n      </g>\r\n     </g>\r\n    </g>\r\n    <g id=\"ytick_9\">\r\n     <g id=\"line2d_45\">\r\n      <path clip-path=\"url(#pda83bb4ca8)\" d=\"M 398.498477 81.224349 \r\nL 697.6225 81.224349 \r\n\" style=\"fill:none;stroke:#cbcbcb;\"/>\r\n     </g>\r\n     <g id=\"line2d_46\"/>\r\n     <g id=\"text_26\">\r\n      <!-- $\\mathdefault{10^{4}}$ -->\r\n      <g transform=\"translate(370.358477 86.543255)scale(0.14 -0.14)\">\r\n       <use transform=\"translate(0 0.684375)\" xlink:href=\"#DejaVuSans-31\"/>\r\n       <use transform=\"translate(63.623047 0.684375)\" xlink:href=\"#DejaVuSans-30\"/>\r\n       <use transform=\"translate(128.203125 38.965625)scale(0.7)\" xlink:href=\"#DejaVuSans-34\"/>\r\n      </g>\r\n     </g>\r\n    </g>\r\n    <g id=\"ytick_10\">\r\n     <g id=\"line2d_47\"/>\r\n    </g>\r\n    <g id=\"ytick_11\">\r\n     <g id=\"line2d_48\"/>\r\n    </g>\r\n    <g id=\"ytick_12\">\r\n     <g id=\"line2d_49\"/>\r\n    </g>\r\n    <g id=\"ytick_13\">\r\n     <g id=\"line2d_50\"/>\r\n    </g>\r\n    <g id=\"ytick_14\">\r\n     <g id=\"line2d_51\"/>\r\n    </g>\r\n    <g id=\"ytick_15\">\r\n     <g id=\"line2d_52\"/>\r\n    </g>\r\n    <g id=\"ytick_16\">\r\n     <g id=\"line2d_53\"/>\r\n    </g>\r\n    <g id=\"ytick_17\">\r\n     <g id=\"line2d_54\"/>\r\n    </g>\r\n    <g id=\"ytick_18\">\r\n     <g id=\"line2d_55\"/>\r\n    </g>\r\n    <g id=\"ytick_19\">\r\n     <g id=\"line2d_56\"/>\r\n    </g>\r\n    <g id=\"ytick_20\">\r\n     <g id=\"line2d_57\"/>\r\n    </g>\r\n    <g id=\"ytick_21\">\r\n     <g id=\"line2d_58\"/>\r\n    </g>\r\n    <g id=\"ytick_22\">\r\n     <g id=\"line2d_59\"/>\r\n    </g>\r\n    <g id=\"ytick_23\">\r\n     <g id=\"line2d_60\"/>\r\n    </g>\r\n    <g id=\"ytick_24\">\r\n     <g id=\"line2d_61\"/>\r\n    </g>\r\n    <g id=\"ytick_25\">\r\n     <g id=\"line2d_62\"/>\r\n    </g>\r\n    <g id=\"ytick_26\">\r\n     <g id=\"line2d_63\"/>\r\n    </g>\r\n    <g id=\"ytick_27\">\r\n     <g id=\"line2d_64\"/>\r\n    </g>\r\n    <g id=\"ytick_28\">\r\n     <g id=\"line2d_65\"/>\r\n    </g>\r\n    <g id=\"ytick_29\">\r\n     <g id=\"line2d_66\"/>\r\n    </g>\r\n    <g id=\"ytick_30\">\r\n     <g id=\"line2d_67\"/>\r\n    </g>\r\n    <g id=\"ytick_31\">\r\n     <g id=\"line2d_68\"/>\r\n    </g>\r\n    <g id=\"ytick_32\">\r\n     <g id=\"line2d_69\"/>\r\n    </g>\r\n    <g id=\"ytick_33\">\r\n     <g id=\"line2d_70\"/>\r\n    </g>\r\n    <g id=\"ytick_34\">\r\n     <g id=\"line2d_71\"/>\r\n    </g>\r\n    <g id=\"ytick_35\">\r\n     <g id=\"line2d_72\"/>\r\n    </g>\r\n    <g id=\"ytick_36\">\r\n     <g id=\"line2d_73\"/>\r\n    </g>\r\n    <g id=\"ytick_37\">\r\n     <g id=\"line2d_74\"/>\r\n    </g>\r\n    <g id=\"ytick_38\">\r\n     <g id=\"line2d_75\"/>\r\n    </g>\r\n    <g id=\"ytick_39\">\r\n     <g id=\"line2d_76\"/>\r\n    </g>\r\n    <g id=\"ytick_40\">\r\n     <g id=\"line2d_77\"/>\r\n    </g>\r\n    <g id=\"ytick_41\">\r\n     <g id=\"line2d_78\"/>\r\n    </g>\r\n    <g id=\"ytick_42\">\r\n     <g id=\"line2d_79\"/>\r\n    </g>\r\n    <g id=\"ytick_43\">\r\n     <g id=\"line2d_80\"/>\r\n    </g>\r\n    <g id=\"ytick_44\">\r\n     <g id=\"line2d_81\"/>\r\n    </g>\r\n   </g>\r\n   <g id=\"patch_108\">\r\n    <path clip-path=\"url(#pda83bb4ca8)\" d=\"M 412.095023 63674.735717 \r\nL 414.814332 63674.735717 \r\nL 414.814332 52.69965 \r\nL 412.095023 52.69965 \r\nz\r\n\" style=\"fill:#008fd5;\"/>\r\n   </g>\r\n   <g id=\"patch_109\">\r\n    <path clip-path=\"url(#pda83bb4ca8)\" d=\"M 414.814332 63674.735717 \r\nL 417.533642 63674.735717 \r\nL 417.533642 56.718604 \r\nL 414.814332 56.718604 \r\nz\r\n\" style=\"fill:#008fd5;\"/>\r\n   </g>\r\n   <g id=\"patch_110\">\r\n    <path clip-path=\"url(#pda83bb4ca8)\" d=\"M 417.533642 63674.735717 \r\nL 420.252951 63674.735717 \r\nL 420.252951 46.578135 \r\nL 417.533642 46.578135 \r\nz\r\n\" style=\"fill:#008fd5;\"/>\r\n   </g>\r\n   <g id=\"patch_111\">\r\n    <path clip-path=\"url(#pda83bb4ca8)\" d=\"M 420.252951 63674.735717 \r\nL 422.97226 63674.735717 \r\nL 422.97226 41.292308 \r\nL 420.252951 41.292308 \r\nz\r\n\" style=\"fill:#008fd5;\"/>\r\n   </g>\r\n   <g id=\"patch_112\">\r\n    <path clip-path=\"url(#pda83bb4ca8)\" d=\"M 422.97226 63674.735717 \r\nL 425.69157 63674.735717 \r\nL 425.69157 40.984814 \r\nL 422.97226 40.984814 \r\nz\r\n\" style=\"fill:#008fd5;\"/>\r\n   </g>\r\n   <g id=\"patch_113\">\r\n    <path clip-path=\"url(#pda83bb4ca8)\" d=\"M 425.69157 63674.735717 \r\nL 428.410879 63674.735717 \r\nL 428.410879 47.733267 \r\nL 425.69157 47.733267 \r\nz\r\n\" style=\"fill:#008fd5;\"/>\r\n   </g>\r\n   <g id=\"patch_114\">\r\n    <path clip-path=\"url(#pda83bb4ca8)\" d=\"M 428.410879 63674.735717 \r\nL 431.130188 63674.735717 \r\nL 431.130188 54.124708 \r\nL 428.410879 54.124708 \r\nz\r\n\" style=\"fill:#008fd5;\"/>\r\n   </g>\r\n   <g id=\"patch_115\">\r\n    <path clip-path=\"url(#pda83bb4ca8)\" d=\"M 431.130188 63674.735717 \r\nL 433.849498 63674.735717 \r\nL 433.849498 61.140398 \r\nL 431.130188 61.140398 \r\nz\r\n\" style=\"fill:#008fd5;\"/>\r\n   </g>\r\n   <g id=\"patch_116\">\r\n    <path clip-path=\"url(#pda83bb4ca8)\" d=\"M 433.849498 63674.735717 \r\nL 436.568807 63674.735717 \r\nL 436.568807 69.793354 \r\nL 433.849498 69.793354 \r\nz\r\n\" style=\"fill:#008fd5;\"/>\r\n   </g>\r\n   <g id=\"patch_117\">\r\n    <path clip-path=\"url(#pda83bb4ca8)\" d=\"M 436.568807 63674.735717 \r\nL 439.288116 63674.735717 \r\nL 439.288116 72.767997 \r\nL 436.568807 72.767997 \r\nz\r\n\" style=\"fill:#008fd5;\"/>\r\n   </g>\r\n   <g id=\"patch_118\">\r\n    <path clip-path=\"url(#pda83bb4ca8)\" d=\"M 439.288116 63674.735717 \r\nL 442.007425 63674.735717 \r\nL 442.007425 81.2051 \r\nL 439.288116 81.2051 \r\nz\r\n\" style=\"fill:#008fd5;\"/>\r\n   </g>\r\n   <g id=\"patch_119\">\r\n    <path clip-path=\"url(#pda83bb4ca8)\" d=\"M 442.007425 63674.735717 \r\nL 444.726735 63674.735717 \r\nL 444.726735 85.360435 \r\nL 442.007425 85.360435 \r\nz\r\n\" style=\"fill:#008fd5;\"/>\r\n   </g>\r\n   <g id=\"patch_120\">\r\n    <path clip-path=\"url(#pda83bb4ca8)\" d=\"M 444.726735 63674.735717 \r\nL 447.446044 63674.735717 \r\nL 447.446044 89.809996 \r\nL 444.726735 89.809996 \r\nz\r\n\" style=\"fill:#008fd5;\"/>\r\n   </g>\r\n   <g id=\"patch_121\">\r\n    <path clip-path=\"url(#pda83bb4ca8)\" d=\"M 447.446044 63674.735717 \r\nL 450.165353 63674.735717 \r\nL 450.165353 95.719974 \r\nL 447.446044 95.719974 \r\nz\r\n\" style=\"fill:#008fd5;\"/>\r\n   </g>\r\n   <g id=\"patch_122\">\r\n    <path clip-path=\"url(#pda83bb4ca8)\" d=\"M 450.165353 63674.735717 \r\nL 452.884663 63674.735717 \r\nL 452.884663 99.096604 \r\nL 450.165353 99.096604 \r\nz\r\n\" style=\"fill:#008fd5;\"/>\r\n   </g>\r\n   <g id=\"patch_123\">\r\n    <path clip-path=\"url(#pda83bb4ca8)\" d=\"M 452.884663 63674.735717 \r\nL 455.603972 63674.735717 \r\nL 455.603972 102.181651 \r\nL 452.884663 102.181651 \r\nz\r\n\" style=\"fill:#008fd5;\"/>\r\n   </g>\r\n   <g id=\"patch_124\">\r\n    <path clip-path=\"url(#pda83bb4ca8)\" d=\"M 455.603972 63674.735717 \r\nL 458.323281 63674.735717 \r\nL 458.323281 104.950597 \r\nL 455.603972 104.950597 \r\nz\r\n\" style=\"fill:#008fd5;\"/>\r\n   </g>\r\n   <g id=\"patch_125\">\r\n    <path clip-path=\"url(#pda83bb4ca8)\" d=\"M 458.323281 63674.735717 \r\nL 461.042591 63674.735717 \r\nL 461.042591 132.974204 \r\nL 458.323281 132.974204 \r\nz\r\n\" style=\"fill:#008fd5;\"/>\r\n   </g>\r\n   <g id=\"patch_126\">\r\n    <path clip-path=\"url(#pda83bb4ca8)\" d=\"M 461.042591 63674.735717 \r\nL 463.7619 63674.735717 \r\nL 463.7619 121.521356 \r\nL 461.042591 121.521356 \r\nz\r\n\" style=\"fill:#008fd5;\"/>\r\n   </g>\r\n   <g id=\"patch_127\">\r\n    <path clip-path=\"url(#pda83bb4ca8)\" d=\"M 463.7619 63674.735717 \r\nL 466.481209 63674.735717 \r\nL 466.481209 121.201833 \r\nL 463.7619 121.201833 \r\nz\r\n\" style=\"fill:#008fd5;\"/>\r\n   </g>\r\n   <g id=\"patch_128\">\r\n    <path clip-path=\"url(#pda83bb4ca8)\" d=\"M 466.481209 63674.735717 \r\nL 469.200518 63674.735717 \r\nL 469.200518 115.48562 \r\nL 466.481209 115.48562 \r\nz\r\n\" style=\"fill:#008fd5;\"/>\r\n   </g>\r\n   <g id=\"patch_129\">\r\n    <path clip-path=\"url(#pda83bb4ca8)\" d=\"M 469.200518 63674.735717 \r\nL 471.919828 63674.735717 \r\nL 471.919828 120.909251 \r\nL 469.200518 120.909251 \r\nz\r\n\" style=\"fill:#008fd5;\"/>\r\n   </g>\r\n   <g id=\"patch_130\">\r\n    <path clip-path=\"url(#pda83bb4ca8)\" d=\"M 471.919828 63674.735717 \r\nL 474.639137 63674.735717 \r\nL 474.639137 134.362404 \r\nL 471.919828 134.362404 \r\nz\r\n\" style=\"fill:#008fd5;\"/>\r\n   </g>\r\n   <g id=\"patch_131\">\r\n    <path clip-path=\"url(#pda83bb4ca8)\" d=\"M 474.639137 63674.735717 \r\nL 477.358446 63674.735717 \r\nL 477.358446 130.755711 \r\nL 474.639137 130.755711 \r\nz\r\n\" style=\"fill:#008fd5;\"/>\r\n   </g>\r\n   <g id=\"patch_132\">\r\n    <path clip-path=\"url(#pda83bb4ca8)\" d=\"M 477.358446 63674.735717 \r\nL 480.077756 63674.735717 \r\nL 480.077756 132.866116 \r\nL 477.358446 132.866116 \r\nz\r\n\" style=\"fill:#008fd5;\"/>\r\n   </g>\r\n   <g id=\"patch_133\">\r\n    <path clip-path=\"url(#pda83bb4ca8)\" d=\"M 480.077756 63674.735717 \r\nL 482.797065 63674.735717 \r\nL 482.797065 130.309755 \r\nL 480.077756 130.309755 \r\nz\r\n\" style=\"fill:#008fd5;\"/>\r\n   </g>\r\n   <g id=\"patch_134\">\r\n    <path clip-path=\"url(#pda83bb4ca8)\" d=\"M 482.797065 63674.735717 \r\nL 485.516374 63674.735717 \r\nL 485.516374 135.035011 \r\nL 482.797065 135.035011 \r\nz\r\n\" style=\"fill:#008fd5;\"/>\r\n   </g>\r\n   <g id=\"patch_135\">\r\n    <path clip-path=\"url(#pda83bb4ca8)\" d=\"M 485.516374 63674.735717 \r\nL 488.235684 63674.735717 \r\nL 488.235684 148.143565 \r\nL 485.516374 148.143565 \r\nz\r\n\" style=\"fill:#008fd5;\"/>\r\n   </g>\r\n   <g id=\"patch_136\">\r\n    <path clip-path=\"url(#pda83bb4ca8)\" d=\"M 488.235684 63674.735717 \r\nL 490.954993 63674.735717 \r\nL 490.954993 139.411949 \r\nL 488.235684 139.411949 \r\nz\r\n\" style=\"fill:#008fd5;\"/>\r\n   </g>\r\n   <g id=\"patch_137\">\r\n    <path clip-path=\"url(#pda83bb4ca8)\" d=\"M 490.954993 63674.735717 \r\nL 493.674302 63674.735717 \r\nL 493.674302 141.992741 \r\nL 490.954993 141.992741 \r\nz\r\n\" style=\"fill:#008fd5;\"/>\r\n   </g>\r\n   <g id=\"patch_138\">\r\n    <path clip-path=\"url(#pda83bb4ca8)\" d=\"M 493.674302 63674.735717 \r\nL 496.393612 63674.735717 \r\nL 496.393612 144.154939 \r\nL 493.674302 144.154939 \r\nz\r\n\" style=\"fill:#008fd5;\"/>\r\n   </g>\r\n   <g id=\"patch_139\">\r\n    <path clip-path=\"url(#pda83bb4ca8)\" d=\"M 496.393612 63674.735717 \r\nL 499.112921 63674.735717 \r\nL 499.112921 144.154939 \r\nL 496.393612 144.154939 \r\nz\r\n\" style=\"fill:#008fd5;\"/>\r\n   </g>\r\n   <g id=\"patch_140\">\r\n    <path clip-path=\"url(#pda83bb4ca8)\" d=\"M 499.112921 63674.735717 \r\nL 501.83223 63674.735717 \r\nL 501.83223 160.612728 \r\nL 499.112921 160.612728 \r\nz\r\n\" style=\"fill:#008fd5;\"/>\r\n   </g>\r\n   <g id=\"patch_141\">\r\n    <path clip-path=\"url(#pda83bb4ca8)\" d=\"M 501.83223 63674.735717 \r\nL 504.551539 63674.735717 \r\nL 504.551539 138.736036 \r\nL 501.83223 138.736036 \r\nz\r\n\" style=\"fill:#008fd5;\"/>\r\n   </g>\r\n   <g id=\"patch_142\">\r\n    <path clip-path=\"url(#pda83bb4ca8)\" d=\"M 504.551539 63674.735717 \r\nL 507.270849 63674.735717 \r\nL 507.270849 180.889363 \r\nL 504.551539 180.889363 \r\nz\r\n\" style=\"fill:#008fd5;\"/>\r\n   </g>\r\n   <g id=\"patch_143\">\r\n    <path clip-path=\"url(#pda83bb4ca8)\" d=\"M 507.270849 63674.735717 \r\nL 509.990158 63674.735717 \r\nL 509.990158 158.252079 \r\nL 507.270849 158.252079 \r\nz\r\n\" style=\"fill:#008fd5;\"/>\r\n   </g>\r\n   <g id=\"patch_144\">\r\n    <path clip-path=\"url(#pda83bb4ca8)\" d=\"M 509.990158 63674.735717 \r\nL 512.709467 63674.735717 \r\nL 512.709467 152.113785 \r\nL 509.990158 152.113785 \r\nz\r\n\" style=\"fill:#008fd5;\"/>\r\n   </g>\r\n   <g id=\"patch_145\">\r\n    <path clip-path=\"url(#pda83bb4ca8)\" d=\"M 512.709467 63674.735717 \r\nL 515.428777 63674.735717 \r\nL 515.428777 167.589411 \r\nL 512.709467 167.589411 \r\nz\r\n\" style=\"fill:#008fd5;\"/>\r\n   </g>\r\n   <g id=\"patch_146\">\r\n    <path clip-path=\"url(#pda83bb4ca8)\" d=\"M 515.428777 63674.735717 \r\nL 518.148086 63674.735717 \r\nL 518.148086 162.872139 \r\nL 515.428777 162.872139 \r\nz\r\n\" style=\"fill:#008fd5;\"/>\r\n   </g>\r\n   <g id=\"patch_147\">\r\n    <path clip-path=\"url(#pda83bb4ca8)\" d=\"M 518.148086 63674.735717 \r\nL 520.867395 63674.735717 \r\nL 520.867395 162.925709 \r\nL 518.148086 162.925709 \r\nz\r\n\" style=\"fill:#008fd5;\"/>\r\n   </g>\r\n   <g id=\"patch_148\">\r\n    <path clip-path=\"url(#pda83bb4ca8)\" d=\"M 520.867395 63674.735717 \r\nL 523.586705 63674.735717 \r\nL 523.586705 166.469009 \r\nL 520.867395 166.469009 \r\nz\r\n\" style=\"fill:#008fd5;\"/>\r\n   </g>\r\n   <g id=\"patch_149\">\r\n    <path clip-path=\"url(#pda83bb4ca8)\" d=\"M 523.586705 63674.735717 \r\nL 526.306014 63674.735717 \r\nL 526.306014 148.080975 \r\nL 523.586705 148.080975 \r\nz\r\n\" style=\"fill:#008fd5;\"/>\r\n   </g>\r\n   <g id=\"patch_150\">\r\n    <path clip-path=\"url(#pda83bb4ca8)\" d=\"M 526.306014 63674.735717 \r\nL 529.025323 63674.735717 \r\nL 529.025323 193.797755 \r\nL 526.306014 193.797755 \r\nz\r\n\" style=\"fill:#008fd5;\"/>\r\n   </g>\r\n   <g id=\"patch_151\">\r\n    <path clip-path=\"url(#pda83bb4ca8)\" d=\"M 529.025323 63674.735717 \r\nL 531.744632 63674.735717 \r\nL 531.744632 174.321721 \r\nL 529.025323 174.321721 \r\nz\r\n\" style=\"fill:#008fd5;\"/>\r\n   </g>\r\n   <g id=\"patch_152\">\r\n    <path clip-path=\"url(#pda83bb4ca8)\" d=\"M 531.744632 63674.735717 \r\nL 534.463942 63674.735717 \r\nL 534.463942 169.090828 \r\nL 531.744632 169.090828 \r\nz\r\n\" style=\"fill:#008fd5;\"/>\r\n   </g>\r\n   <g id=\"patch_153\">\r\n    <path clip-path=\"url(#pda83bb4ca8)\" d=\"M 534.463942 63674.735717 \r\nL 537.183251 63674.735717 \r\nL 537.183251 167.525955 \r\nL 534.463942 167.525955 \r\nz\r\n\" style=\"fill:#008fd5;\"/>\r\n   </g>\r\n   <g id=\"patch_154\">\r\n    <path clip-path=\"url(#pda83bb4ca8)\" d=\"M 537.183251 63674.735717 \r\nL 539.90256 63674.735717 \r\nL 539.90256 169.77008 \r\nL 537.183251 169.77008 \r\nz\r\n\" style=\"fill:#008fd5;\"/>\r\n   </g>\r\n   <g id=\"patch_155\">\r\n    <path clip-path=\"url(#pda83bb4ca8)\" d=\"M 539.90256 63674.735717 \r\nL 542.62187 63674.735717 \r\nL 542.62187 189.253115 \r\nL 539.90256 189.253115 \r\nz\r\n\" style=\"fill:#008fd5;\"/>\r\n   </g>\r\n   <g id=\"patch_156\">\r\n    <path clip-path=\"url(#pda83bb4ca8)\" d=\"M 542.62187 63674.735717 \r\nL 545.341179 63674.735717 \r\nL 545.341179 177.229025 \r\nL 542.62187 177.229025 \r\nz\r\n\" style=\"fill:#008fd5;\"/>\r\n   </g>\r\n   <g id=\"patch_157\">\r\n    <path clip-path=\"url(#pda83bb4ca8)\" d=\"M 545.341179 63674.735717 \r\nL 548.060488 63674.735717 \r\nL 548.060488 161.616791 \r\nL 545.341179 161.616791 \r\nz\r\n\" style=\"fill:#008fd5;\"/>\r\n   </g>\r\n   <g id=\"patch_158\">\r\n    <path clip-path=\"url(#pda83bb4ca8)\" d=\"M 548.060488 63674.735717 \r\nL 550.779798 63674.735717 \r\nL 550.779798 174.484493 \r\nL 548.060488 174.484493 \r\nz\r\n\" style=\"fill:#008fd5;\"/>\r\n   </g>\r\n   <g id=\"patch_159\">\r\n    <path clip-path=\"url(#pda83bb4ca8)\" d=\"M 550.779798 63674.735717 \r\nL 553.499107 63674.735717 \r\nL 553.499107 201.113955 \r\nL 550.779798 201.113955 \r\nz\r\n\" style=\"fill:#008fd5;\"/>\r\n   </g>\r\n   <g id=\"patch_160\">\r\n    <path clip-path=\"url(#pda83bb4ca8)\" d=\"M 553.499107 63674.735717 \r\nL 556.218416 63674.735717 \r\nL 556.218416 209.027593 \r\nL 553.499107 209.027593 \r\nz\r\n\" style=\"fill:#008fd5;\"/>\r\n   </g>\r\n   <g id=\"patch_161\">\r\n    <path clip-path=\"url(#pda83bb4ca8)\" d=\"M 556.218416 63674.735717 \r\nL 558.937725 63674.735717 \r\nL 558.937725 180.37899 \r\nL 556.218416 180.37899 \r\nz\r\n\" style=\"fill:#008fd5;\"/>\r\n   </g>\r\n   <g id=\"patch_162\">\r\n    <path clip-path=\"url(#pda83bb4ca8)\" d=\"M 558.937725 63674.735717 \r\nL 561.657035 63674.735717 \r\nL 561.657035 186.720299 \r\nL 558.937725 186.720299 \r\nz\r\n\" style=\"fill:#008fd5;\"/>\r\n   </g>\r\n   <g id=\"patch_163\">\r\n    <path clip-path=\"url(#pda83bb4ca8)\" d=\"M 561.657035 63674.735717 \r\nL 564.376344 63674.735717 \r\nL 564.376344 177.049232 \r\nL 561.657035 177.049232 \r\nz\r\n\" style=\"fill:#008fd5;\"/>\r\n   </g>\r\n   <g id=\"patch_164\">\r\n    <path clip-path=\"url(#pda83bb4ca8)\" d=\"M 564.376344 63674.735717 \r\nL 567.095653 63674.735717 \r\nL 567.095653 189.113832 \r\nL 564.376344 189.113832 \r\nz\r\n\" style=\"fill:#008fd5;\"/>\r\n   </g>\r\n   <g id=\"patch_165\">\r\n    <path clip-path=\"url(#pda83bb4ca8)\" d=\"M 567.095653 63674.735717 \r\nL 569.814963 63674.735717 \r\nL 569.814963 207.630934 \r\nL 567.095653 207.630934 \r\nz\r\n\" style=\"fill:#008fd5;\"/>\r\n   </g>\r\n   <g id=\"patch_166\">\r\n    <path clip-path=\"url(#pda83bb4ca8)\" d=\"M 569.814963 63674.735717 \r\nL 572.534272 63674.735717 \r\nL 572.534272 165.985335 \r\nL 569.814963 165.985335 \r\nz\r\n\" style=\"fill:#008fd5;\"/>\r\n   </g>\r\n   <g id=\"patch_167\">\r\n    <path clip-path=\"url(#pda83bb4ca8)\" d=\"M 572.534272 63674.735717 \r\nL 575.253581 63674.735717 \r\nL 575.253581 218.921099 \r\nL 572.534272 218.921099 \r\nz\r\n\" style=\"fill:#008fd5;\"/>\r\n   </g>\r\n   <g id=\"patch_168\">\r\n    <path clip-path=\"url(#pda83bb4ca8)\" d=\"M 575.253581 63674.735717 \r\nL 577.972891 63674.735717 \r\nL 577.972891 187.364551 \r\nL 575.253581 187.364551 \r\nz\r\n\" style=\"fill:#008fd5;\"/>\r\n   </g>\r\n   <g id=\"patch_169\">\r\n    <path clip-path=\"url(#pda83bb4ca8)\" d=\"M 577.972891 63674.735717 \r\nL 580.6922 63674.735717 \r\nL 580.6922 194.296409 \r\nL 577.972891 194.296409 \r\nz\r\n\" style=\"fill:#008fd5;\"/>\r\n   </g>\r\n   <g id=\"patch_170\">\r\n    <path clip-path=\"url(#pda83bb4ca8)\" d=\"M 580.6922 63674.735717 \r\nL 583.411509 63674.735717 \r\nL 583.411509 197.494516 \r\nL 580.6922 197.494516 \r\nz\r\n\" style=\"fill:#008fd5;\"/>\r\n   </g>\r\n   <g id=\"patch_171\">\r\n    <path clip-path=\"url(#pda83bb4ca8)\" d=\"M 583.411509 63674.735717 \r\nL 586.130819 63674.735717 \r\nL 586.130819 197.306745 \r\nL 583.411509 197.306745 \r\nz\r\n\" style=\"fill:#008fd5;\"/>\r\n   </g>\r\n   <g id=\"patch_172\">\r\n    <path clip-path=\"url(#pda83bb4ca8)\" d=\"M 586.130819 63674.735717 \r\nL 588.850128 63674.735717 \r\nL 588.850128 214.739394 \r\nL 586.130819 214.739394 \r\nz\r\n\" style=\"fill:#008fd5;\"/>\r\n   </g>\r\n   <g id=\"patch_173\">\r\n    <path clip-path=\"url(#pda83bb4ca8)\" d=\"M 588.850128 63674.735717 \r\nL 591.569437 63674.735717 \r\nL 591.569437 182.69907 \r\nL 588.850128 182.69907 \r\nz\r\n\" style=\"fill:#008fd5;\"/>\r\n   </g>\r\n   <g id=\"patch_174\">\r\n    <path clip-path=\"url(#pda83bb4ca8)\" d=\"M 591.569437 63674.735717 \r\nL 594.288746 63674.735717 \r\nL 594.288746 167.589411 \r\nL 591.569437 167.589411 \r\nz\r\n\" style=\"fill:#008fd5;\"/>\r\n   </g>\r\n   <g id=\"patch_175\">\r\n    <path clip-path=\"url(#pda83bb4ca8)\" d=\"M 594.288746 63674.735717 \r\nL 597.008056 63674.735717 \r\nL 597.008056 260.091154 \r\nL 594.288746 260.091154 \r\nz\r\n\" style=\"fill:#008fd5;\"/>\r\n   </g>\r\n   <g id=\"patch_176\">\r\n    <path clip-path=\"url(#pda83bb4ca8)\" d=\"M 597.008056 63674.735717 \r\nL 599.727365 63674.735717 \r\nL 599.727365 222.418918 \r\nL 597.008056 222.418918 \r\nz\r\n\" style=\"fill:#008fd5;\"/>\r\n   </g>\r\n   <g id=\"patch_177\">\r\n    <path clip-path=\"url(#pda83bb4ca8)\" d=\"M 599.727365 63674.735717 \r\nL 602.446674 63674.735717 \r\nL 602.446674 226.427199 \r\nL 599.727365 226.427199 \r\nz\r\n\" style=\"fill:#008fd5;\"/>\r\n   </g>\r\n   <g id=\"patch_178\">\r\n    <path clip-path=\"url(#pda83bb4ca8)\" d=\"M 602.446674 63674.735717 \r\nL 605.165984 63674.735717 \r\nL 605.165984 186.976192 \r\nL 602.446674 186.976192 \r\nz\r\n\" style=\"fill:#008fd5;\"/>\r\n   </g>\r\n   <g id=\"patch_179\">\r\n    <path clip-path=\"url(#pda83bb4ca8)\" d=\"M 605.165984 63674.735717 \r\nL 607.885293 63674.735717 \r\nL 607.885293 207.630934 \r\nL 605.165984 207.630934 \r\nz\r\n\" style=\"fill:#008fd5;\"/>\r\n   </g>\r\n   <g id=\"patch_180\">\r\n    <path clip-path=\"url(#pda83bb4ca8)\" d=\"M 607.885293 63674.735717 \r\nL 610.604602 63674.735717 \r\nL 610.604602 224.350117 \r\nL 607.885293 224.350117 \r\nz\r\n\" style=\"fill:#008fd5;\"/>\r\n   </g>\r\n   <g id=\"patch_181\">\r\n    <path clip-path=\"url(#pda83bb4ca8)\" d=\"M 610.604602 63674.735717 \r\nL 613.323912 63674.735717 \r\nL 613.323912 210.802937 \r\nL 610.604602 210.802937 \r\nz\r\n\" style=\"fill:#008fd5;\"/>\r\n   </g>\r\n   <g id=\"patch_182\">\r\n    <path clip-path=\"url(#pda83bb4ca8)\" d=\"M 613.323912 63674.735717 \r\nL 616.043221 63674.735717 \r\nL 616.043221 218.513561 \r\nL 613.323912 218.513561 \r\nz\r\n\" style=\"fill:#008fd5;\"/>\r\n   </g>\r\n   <g id=\"patch_183\">\r\n    <path clip-path=\"url(#pda83bb4ca8)\" d=\"M 616.043221 63674.735717 \r\nL 618.76253 63674.735717 \r\nL 618.76253 180.786528 \r\nL 616.043221 180.786528 \r\nz\r\n\" style=\"fill:#008fd5;\"/>\r\n   </g>\r\n   <g id=\"patch_184\">\r\n    <path clip-path=\"url(#pda83bb4ca8)\" d=\"M 618.76253 63674.735717 \r\nL 621.481839 63674.735717 \r\nL 621.481839 212.375266 \r\nL 618.76253 212.375266 \r\nz\r\n\" style=\"fill:#008fd5;\"/>\r\n   </g>\r\n   <g id=\"patch_185\">\r\n    <path clip-path=\"url(#pda83bb4ca8)\" d=\"M 621.481839 63674.735717 \r\nL 624.201149 63674.735717 \r\nL 624.201149 244.960327 \r\nL 621.481839 244.960327 \r\nz\r\n\" style=\"fill:#008fd5;\"/>\r\n   </g>\r\n   <g id=\"patch_186\">\r\n    <path clip-path=\"url(#pda83bb4ca8)\" d=\"M 624.201149 63674.735717 \r\nL 626.920458 63674.735717 \r\nL 626.920458 209.606736 \r\nL 624.201149 209.606736 \r\nz\r\n\" style=\"fill:#008fd5;\"/>\r\n   </g>\r\n   <g id=\"patch_187\">\r\n    <path clip-path=\"url(#pda83bb4ca8)\" d=\"M 626.920458 63674.735717 \r\nL 629.639767 63674.735717 \r\nL 629.639767 209.606736 \r\nL 626.920458 209.606736 \r\nz\r\n\" style=\"fill:#008fd5;\"/>\r\n   </g>\r\n   <g id=\"patch_188\">\r\n    <path clip-path=\"url(#pda83bb4ca8)\" d=\"M 629.639767 63674.735717 \r\nL 632.359077 63674.735717 \r\nL 632.359077 211.421126 \r\nL 629.639767 211.421126 \r\nz\r\n\" style=\"fill:#008fd5;\"/>\r\n   </g>\r\n   <g id=\"patch_189\">\r\n    <path clip-path=\"url(#pda83bb4ca8)\" d=\"M 632.359077 63674.735717 \r\nL 635.078386 63674.735717 \r\nL 635.078386 213.701223 \r\nL 632.359077 213.701223 \r\nz\r\n\" style=\"fill:#008fd5;\"/>\r\n   </g>\r\n   <g id=\"patch_190\">\r\n    <path clip-path=\"url(#pda83bb4ca8)\" d=\"M 635.078386 63674.735717 \r\nL 637.797695 63674.735717 \r\nL 637.797695 211.110295 \r\nL 635.078386 211.110295 \r\nz\r\n\" style=\"fill:#008fd5;\"/>\r\n   </g>\r\n   <g id=\"patch_191\">\r\n    <path clip-path=\"url(#pda83bb4ca8)\" d=\"M 637.797695 63674.735717 \r\nL 640.517005 63674.735717 \r\nL 640.517005 185.353919 \r\nL 637.797695 185.353919 \r\nz\r\n\" style=\"fill:#008fd5;\"/>\r\n   </g>\r\n   <g id=\"patch_192\">\r\n    <path clip-path=\"url(#pda83bb4ca8)\" d=\"M 640.517005 63674.735717 \r\nL 643.236314 63674.735717 \r\nL 643.236314 290.312086 \r\nL 640.517005 290.312086 \r\nz\r\n\" style=\"fill:#008fd5;\"/>\r\n   </g>\r\n   <g id=\"patch_193\">\r\n    <path clip-path=\"url(#pda83bb4ca8)\" d=\"M 643.236314 63674.735717 \r\nL 645.955623 63674.735717 \r\nL 645.955623 231.768097 \r\nL 643.236314 231.768097 \r\nz\r\n\" style=\"fill:#008fd5;\"/>\r\n   </g>\r\n   <g id=\"patch_194\">\r\n    <path clip-path=\"url(#pda83bb4ca8)\" d=\"M 645.955623 63674.735717 \r\nL 648.674933 63674.735717 \r\nL 648.674933 228.094878 \r\nL 645.955623 228.094878 \r\nz\r\n\" style=\"fill:#008fd5;\"/>\r\n   </g>\r\n   <g id=\"patch_195\">\r\n    <path clip-path=\"url(#pda83bb4ca8)\" d=\"M 648.674933 63674.735717 \r\nL 651.394242 63674.735717 \r\nL 651.394242 231.120814 \r\nL 648.674933 231.120814 \r\nz\r\n\" style=\"fill:#008fd5;\"/>\r\n   </g>\r\n   <g id=\"patch_196\">\r\n    <path clip-path=\"url(#pda83bb4ca8)\" d=\"M 651.394242 63674.735717 \r\nL 654.113551 63674.735717 \r\nL 654.113551 219.754746 \r\nL 651.394242 219.754746 \r\nz\r\n\" style=\"fill:#008fd5;\"/>\r\n   </g>\r\n   <g id=\"patch_197\">\r\n    <path clip-path=\"url(#pda83bb4ca8)\" d=\"M 654.113551 63674.735717 \r\nL 656.83286 63674.735717 \r\nL 656.83286 235.254818 \r\nL 654.113551 235.254818 \r\nz\r\n\" style=\"fill:#008fd5;\"/>\r\n   </g>\r\n   <g id=\"patch_198\">\r\n    <path clip-path=\"url(#pda83bb4ca8)\" d=\"M 656.83286 63674.735717 \r\nL 659.55217 63674.735717 \r\nL 659.55217 220.18124 \r\nL 656.83286 220.18124 \r\nz\r\n\" style=\"fill:#008fd5;\"/>\r\n   </g>\r\n   <g id=\"patch_199\">\r\n    <path clip-path=\"url(#pda83bb4ca8)\" d=\"M 659.55217 63674.735717 \r\nL 662.271479 63674.735717 \r\nL 662.271479 191.888901 \r\nL 659.55217 191.888901 \r\nz\r\n\" style=\"fill:#008fd5;\"/>\r\n   </g>\r\n   <g id=\"patch_200\">\r\n    <path clip-path=\"url(#pda83bb4ca8)\" d=\"M 662.271479 63674.735717 \r\nL 664.990788 63674.735717 \r\nL 664.990788 248.332905 \r\nL 662.271479 248.332905 \r\nz\r\n\" style=\"fill:#008fd5;\"/>\r\n   </g>\r\n   <g id=\"patch_201\">\r\n    <path clip-path=\"url(#pda83bb4ca8)\" d=\"M 664.990788 63674.735717 \r\nL 667.710098 63674.735717 \r\nL 667.710098 226.971936 \r\nL 664.990788 226.971936 \r\nz\r\n\" style=\"fill:#008fd5;\"/>\r\n   </g>\r\n   <g id=\"patch_202\">\r\n    <path clip-path=\"url(#pda83bb4ca8)\" d=\"M 667.710098 63674.735717 \r\nL 670.429407 63674.735717 \r\nL 670.429407 244.960327 \r\nL 667.710098 244.960327 \r\nz\r\n\" style=\"fill:#008fd5;\"/>\r\n   </g>\r\n   <g id=\"patch_203\">\r\n    <path clip-path=\"url(#pda83bb4ca8)\" d=\"M 670.429407 63674.735717 \r\nL 673.148716 63674.735717 \r\nL 673.148716 218.921099 \r\nL 670.429407 218.921099 \r\nz\r\n\" style=\"fill:#008fd5;\"/>\r\n   </g>\r\n   <g id=\"patch_204\">\r\n    <path clip-path=\"url(#pda83bb4ca8)\" d=\"M 673.148716 63674.735717 \r\nL 675.868026 63674.735717 \r\nL 675.868026 241.023869 \r\nL 673.148716 241.023869 \r\nz\r\n\" style=\"fill:#008fd5;\"/>\r\n   </g>\r\n   <g id=\"patch_205\">\r\n    <path clip-path=\"url(#pda83bb4ca8)\" d=\"M 675.868026 63674.735717 \r\nL 678.587335 63674.735717 \r\nL 678.587335 264.027612 \r\nL 675.868026 264.027612 \r\nz\r\n\" style=\"fill:#008fd5;\"/>\r\n   </g>\r\n   <g id=\"patch_206\">\r\n    <path clip-path=\"url(#pda83bb4ca8)\" d=\"M 678.587335 63674.735717 \r\nL 681.306644 63674.735717 \r\nL 681.306644 220.18124 \r\nL 678.587335 220.18124 \r\nz\r\n\" style=\"fill:#008fd5;\"/>\r\n   </g>\r\n   <g id=\"patch_207\">\r\n    <path clip-path=\"url(#pda83bb4ca8)\" d=\"M 681.306644 63674.735717 \r\nL 684.025953 63674.735717 \r\nL 684.025953 206.043477 \r\nL 681.306644 206.043477 \r\nz\r\n\" style=\"fill:#008fd5;\"/>\r\n   </g>\r\n   <g id=\"patch_208\">\r\n    <path d=\"M 398.498477 302.77845 \r\nL 398.498477 28.51845 \r\n\" style=\"fill:none;stroke:#f0f0f0;stroke-linecap:square;stroke-linejoin:miter;stroke-width:3;\"/>\r\n   </g>\r\n   <g id=\"patch_209\">\r\n    <path d=\"M 697.6225 302.77845 \r\nL 697.6225 28.51845 \r\n\" style=\"fill:none;stroke:#f0f0f0;stroke-linecap:square;stroke-linejoin:miter;stroke-width:3;\"/>\r\n   </g>\r\n   <g id=\"patch_210\">\r\n    <path d=\"M 398.498477 302.77845 \r\nL 697.6225 302.77845 \r\n\" style=\"fill:none;stroke:#f0f0f0;stroke-linecap:square;stroke-linejoin:miter;stroke-width:3;\"/>\r\n   </g>\r\n   <g id=\"patch_211\">\r\n    <path d=\"M 398.498477 28.51845 \r\nL 697.6225 28.51845 \r\n\" style=\"fill:none;stroke:#f0f0f0;stroke-linecap:square;stroke-linejoin:miter;stroke-width:3;\"/>\r\n   </g>\r\n   <g id=\"text_27\">\r\n    <!-- С логарифмированием -->\r\n    <g transform=\"translate(426.379138 22.51845)scale(0.2016 -0.2016)\">\r\n     <defs>\r\n      <path d=\"M 4122 4306 \r\nL 4122 3641 \r\nQ 3803 3938 3442 4084 \r\nQ 3081 4231 2675 4231 \r\nQ 1875 4231 1450 3742 \r\nQ 1025 3253 1025 2328 \r\nQ 1025 1406 1450 917 \r\nQ 1875 428 2675 428 \r\nQ 3081 428 3442 575 \r\nQ 3803 722 4122 1019 \r\nL 4122 359 \r\nQ 3791 134 3420 21 \r\nQ 3050 -91 2638 -91 \r\nQ 1578 -91 968 557 \r\nQ 359 1206 359 2328 \r\nQ 359 3453 968 4101 \r\nQ 1578 4750 2638 4750 \r\nQ 3056 4750 3426 4639 \r\nQ 3797 4528 4122 4306 \r\nz\r\n\" id=\"DejaVuSans-421\" transform=\"scale(0.015625)\"/>\r\n      <path d=\"M 581 3500 \r\nL 1422 3500 \r\nL 2416 1156 \r\nL 3413 3500 \r\nL 4247 3500 \r\nL 4247 0 \r\nL 3669 0 \r\nL 3669 2950 \r\nL 2703 672 \r\nL 2128 672 \r\nL 1159 2950 \r\nL 1159 0 \r\nL 581 0 \r\nL 581 3500 \r\nz\r\n\" id=\"DejaVuSans-43c\" transform=\"scale(0.015625)\"/>\r\n     </defs>\r\n     <use xlink:href=\"#DejaVuSans-421\"/>\r\n     <use x=\"69.824219\" xlink:href=\"#DejaVuSans-20\"/>\r\n     <use x=\"101.611328\" xlink:href=\"#DejaVuSans-43b\"/>\r\n     <use x=\"165.527344\" xlink:href=\"#DejaVuSans-43e\"/>\r\n     <use x=\"226.708984\" xlink:href=\"#DejaVuSans-433\"/>\r\n     <use x=\"279.248047\" xlink:href=\"#DejaVuSans-430\"/>\r\n     <use x=\"340.527344\" xlink:href=\"#DejaVuSans-440\"/>\r\n     <use x=\"404.003906\" xlink:href=\"#DejaVuSans-438\"/>\r\n     <use x=\"468.994141\" xlink:href=\"#DejaVuSans-444\"/>\r\n     <use x=\"554.492188\" xlink:href=\"#DejaVuSans-43c\"/>\r\n     <use x=\"629.931641\" xlink:href=\"#DejaVuSans-438\"/>\r\n     <use x=\"694.921875\" xlink:href=\"#DejaVuSans-440\"/>\r\n     <use x=\"758.398438\" xlink:href=\"#DejaVuSans-43e\"/>\r\n     <use x=\"819.580078\" xlink:href=\"#DejaVuSans-432\"/>\r\n     <use x=\"878.515625\" xlink:href=\"#DejaVuSans-430\"/>\r\n     <use x=\"939.794922\" xlink:href=\"#DejaVuSans-43d\"/>\r\n     <use x=\"1005.175781\" xlink:href=\"#DejaVuSans-438\"/>\r\n     <use x=\"1070.166016\" xlink:href=\"#DejaVuSans-435\"/>\r\n     <use x=\"1131.689453\" xlink:href=\"#DejaVuSans-43c\"/>\r\n    </g>\r\n   </g>\r\n  </g>\r\n </g>\r\n <defs>\r\n  <clipPath id=\"pf6f7381910\">\r\n   <rect height=\"274.26\" width=\"299.124023\" x=\"55.2375\" y=\"28.51845\"/>\r\n  </clipPath>\r\n  <clipPath id=\"pda83bb4ca8\">\r\n   <rect height=\"274.26\" width=\"299.124023\" x=\"398.498477\" y=\"28.51845\"/>\r\n  </clipPath>\r\n </defs>\r\n</svg>\r\n",
      "text/plain": [
       "<Figure size 720x360 with 2 Axes>"
      ]
     },
     "metadata": {},
     "output_type": "display_data"
    }
   ],
   "source": [
    "fig ,ax = plt.subplots(1,2,figsize=(10, 15));\n",
    "ax1,ax2 = ax.flatten()\n",
    "ax1.set_title('Без логарифирования')\n",
    "target_clear.hist(figsize=(10,5), log=False, bins=100, ax=ax1);\n",
    "ax2.set_title('С логарифмированием')\n",
    "target_clear.hist(figsize=(10,5), log=True, bins=100, ax=ax2);\n",
    "# display(data.mileage.value_counts(dropna=False))\n",
    "plt.tight_layout()"
   ]
  },
  {
   "cell_type": "markdown",
   "metadata": {},
   "source": [
    "### Результаты EDA\n",
    "* Обработал данные, создал новые признаки, прологарифмировал целевую переменную\n",
    "* Из-за большого количества пропусков в данных приходилось менять их на значения \"NO_DATA\" \n",
    "* Если останется время, можно получить дополнительную информацию о городах из внешних источников."
   ]
  },
  {
   "cell_type": "code",
   "execution_count": 257,
   "metadata": {},
   "outputs": [
    {
     "data": {
      "text/html": [
       "<div>\n",
       "<style scoped>\n",
       "    .dataframe tbody tr th:only-of-type {\n",
       "        vertical-align: middle;\n",
       "    }\n",
       "\n",
       "    .dataframe tbody tr th {\n",
       "        vertical-align: top;\n",
       "    }\n",
       "\n",
       "    .dataframe thead th {\n",
       "        text-align: right;\n",
       "    }\n",
       "</style>\n",
       "<table border=\"1\" class=\"dataframe\">\n",
       "  <thead>\n",
       "    <tr style=\"text-align: right;\">\n",
       "      <th></th>\n",
       "      <th>status</th>\n",
       "      <th>private_pool</th>\n",
       "      <th>propertyType</th>\n",
       "      <th>street</th>\n",
       "      <th>baths</th>\n",
       "      <th>homeFacts</th>\n",
       "      <th>fireplace</th>\n",
       "      <th>city</th>\n",
       "      <th>schools</th>\n",
       "      <th>sqft</th>\n",
       "      <th>...</th>\n",
       "      <th>sk_gr_05</th>\n",
       "      <th>sk_gr_06</th>\n",
       "      <th>sk_gr_07</th>\n",
       "      <th>sk_gr_08</th>\n",
       "      <th>sk_gr_09</th>\n",
       "      <th>sk_gr_10</th>\n",
       "      <th>sk_gr_11</th>\n",
       "      <th>sk_gr_12</th>\n",
       "      <th>beds_num</th>\n",
       "      <th>beds_area</th>\n",
       "    </tr>\n",
       "  </thead>\n",
       "  <tbody>\n",
       "    <tr>\n",
       "      <th>0</th>\n",
       "      <td>ACTIVE</td>\n",
       "      <td>False</td>\n",
       "      <td>SINGLE</td>\n",
       "      <td>240 HEATHER LN</td>\n",
       "      <td>3.5</td>\n",
       "      <td>{'atAGlanceFacts': [{'factValue': '2019', 'fac...</td>\n",
       "      <td>1</td>\n",
       "      <td>SOUTHERN PINES</td>\n",
       "      <td>[{'rating': ['4', '4', '7', 'NR', '4', '7', 'N...</td>\n",
       "      <td>2900</td>\n",
       "      <td>...</td>\n",
       "      <td>3</td>\n",
       "      <td>3</td>\n",
       "      <td>3</td>\n",
       "      <td>3</td>\n",
       "      <td>3</td>\n",
       "      <td>3</td>\n",
       "      <td>3</td>\n",
       "      <td>3</td>\n",
       "      <td>4.0</td>\n",
       "      <td>0.0</td>\n",
       "    </tr>\n",
       "    <tr>\n",
       "      <th>1</th>\n",
       "      <td>FOR SALE</td>\n",
       "      <td>False</td>\n",
       "      <td>SINGLE</td>\n",
       "      <td>12911 E HEROY AVE</td>\n",
       "      <td>3.0</td>\n",
       "      <td>{'atAGlanceFacts': [{'factValue': '2019', 'fac...</td>\n",
       "      <td>0</td>\n",
       "      <td>SPOKANE VALLEY</td>\n",
       "      <td>[{'rating': ['4/10', 'None/10', '4/10'], 'data...</td>\n",
       "      <td>1,947 SQFT</td>\n",
       "      <td>...</td>\n",
       "      <td>2</td>\n",
       "      <td>2</td>\n",
       "      <td>2</td>\n",
       "      <td>2</td>\n",
       "      <td>1</td>\n",
       "      <td>1</td>\n",
       "      <td>1</td>\n",
       "      <td>1</td>\n",
       "      <td>3.0</td>\n",
       "      <td>0.0</td>\n",
       "    </tr>\n",
       "    <tr>\n",
       "      <th>2</th>\n",
       "      <td>FOR SALE</td>\n",
       "      <td>False</td>\n",
       "      <td>SINGLE</td>\n",
       "      <td>2005 WESTRIDGE RD</td>\n",
       "      <td>2.0</td>\n",
       "      <td>{'atAGlanceFacts': [{'factValue': '1961', 'fac...</td>\n",
       "      <td>1</td>\n",
       "      <td>LOS ANGELES</td>\n",
       "      <td>[{'rating': ['8/10', '4/10', '8/10'], 'data': ...</td>\n",
       "      <td>3,000 SQFT</td>\n",
       "      <td>...</td>\n",
       "      <td>1</td>\n",
       "      <td>1</td>\n",
       "      <td>1</td>\n",
       "      <td>1</td>\n",
       "      <td>1</td>\n",
       "      <td>1</td>\n",
       "      <td>1</td>\n",
       "      <td>1</td>\n",
       "      <td>3.0</td>\n",
       "      <td>0.0</td>\n",
       "    </tr>\n",
       "  </tbody>\n",
       "</table>\n",
       "<p>3 rows × 50 columns</p>\n",
       "</div>"
      ],
      "text/plain": [
       "     status  private_pool propertyType             street  baths  \\\n",
       "0    ACTIVE         False       SINGLE     240 HEATHER LN    3.5   \n",
       "1  FOR SALE         False       SINGLE  12911 E HEROY AVE    3.0   \n",
       "2  FOR SALE         False       SINGLE  2005 WESTRIDGE RD    2.0   \n",
       "\n",
       "                                           homeFacts  fireplace  \\\n",
       "0  {'atAGlanceFacts': [{'factValue': '2019', 'fac...          1   \n",
       "1  {'atAGlanceFacts': [{'factValue': '2019', 'fac...          0   \n",
       "2  {'atAGlanceFacts': [{'factValue': '1961', 'fac...          1   \n",
       "\n",
       "             city                                            schools  \\\n",
       "0  SOUTHERN PINES  [{'rating': ['4', '4', '7', 'NR', '4', '7', 'N...   \n",
       "1  SPOKANE VALLEY  [{'rating': ['4/10', 'None/10', '4/10'], 'data...   \n",
       "2     LOS ANGELES  [{'rating': ['8/10', '4/10', '8/10'], 'data': ...   \n",
       "\n",
       "         sqft  ... sk_gr_05 sk_gr_06 sk_gr_07  sk_gr_08 sk_gr_09  sk_gr_10  \\\n",
       "0        2900  ...        3        3        3         3        3         3   \n",
       "1  1,947 SQFT  ...        2        2        2         2        1         1   \n",
       "2  3,000 SQFT  ...        1        1        1         1        1         1   \n",
       "\n",
       "  sk_gr_11  sk_gr_12  beds_num beds_area  \n",
       "0        3         3       4.0       0.0  \n",
       "1        1         1       3.0       0.0  \n",
       "2        1         1       3.0       0.0  \n",
       "\n",
       "[3 rows x 50 columns]"
      ]
     },
     "metadata": {},
     "output_type": "display_data"
    },
    {
     "name": "stdout",
     "output_type": "stream",
     "text": [
      "<class 'pandas.core.frame.DataFrame'>\n",
      "Int64Index: 373068 entries, 0 to 376101\n",
      "Data columns (total 50 columns):\n",
      " #   Column                     Non-Null Count   Dtype   \n",
      "---  ------                     --------------   -----   \n",
      " 0   status                     373068 non-null  category\n",
      " 1   private_pool               373068 non-null  bool    \n",
      " 2   propertyType               373068 non-null  category\n",
      " 3   street                     373066 non-null  object  \n",
      " 4   baths                      373068 non-null  float64 \n",
      " 5   homeFacts                  373068 non-null  object  \n",
      " 6   fireplace                  373068 non-null  int64   \n",
      " 7   city                       373068 non-null  category\n",
      " 8   schools                    373068 non-null  object  \n",
      " 9   sqft                       333106 non-null  object  \n",
      " 10  zipcode                    373068 non-null  object  \n",
      " 11  beds                       282515 non-null  object  \n",
      " 12  state                      373068 non-null  category\n",
      " 13  stories                    373068 non-null  float64 \n",
      " 14  mls_id                     24860 non-null   object  \n",
      " 15  PrivatePool                373068 non-null  bool    \n",
      " 16  MlsId                      308933 non-null  object  \n",
      " 17  target                     373068 non-null  int32   \n",
      " 18  private_pool_union         373068 non-null  bool    \n",
      " 19  street_type                373068 non-null  category\n",
      " 20  has_address                373068 non-null  bool    \n",
      " 21  hf_built_year              373068 non-null  int64   \n",
      " 22  hf_remodeled_year          373068 non-null  int64   \n",
      " 23  hf_heating                 373068 non-null  category\n",
      " 24  hf_cooling                 373068 non-null  category\n",
      " 25  hf_parking                 373068 non-null  category\n",
      " 26  hf_lotsize                 371610 non-null  object  \n",
      " 27  hf_price_sqft              371610 non-null  object  \n",
      " 28  hf_has_remodeled           373068 non-null  bool    \n",
      " 29  hf_years_before_remodeled  373068 non-null  int64   \n",
      " 30  sk_distance_min            373068 non-null  float64 \n",
      " 31  sk_distance_mean           373068 non-null  float64 \n",
      " 32  sk_rating_min              373068 non-null  int32   \n",
      " 33  sk_rating_max              373068 non-null  int32   \n",
      " 34  sk_rating_mean             373068 non-null  float64 \n",
      " 35  sk_gr_pk                   373068 non-null  int32   \n",
      " 36  sk_gr_01                   373068 non-null  int32   \n",
      " 37  sk_gr_02                   373068 non-null  int32   \n",
      " 38  sk_gr_03                   373068 non-null  int32   \n",
      " 39  sk_gr_04                   373068 non-null  int32   \n",
      " 40  sk_gr_05                   373068 non-null  int32   \n",
      " 41  sk_gr_06                   373068 non-null  int32   \n",
      " 42  sk_gr_07                   373068 non-null  int32   \n",
      " 43  sk_gr_08                   373068 non-null  int32   \n",
      " 44  sk_gr_09                   373068 non-null  int32   \n",
      " 45  sk_gr_10                   373068 non-null  int32   \n",
      " 46  sk_gr_11                   373068 non-null  int32   \n",
      " 47  sk_gr_12                   373068 non-null  int32   \n",
      " 48  beds_num                   372514 non-null  float64 \n",
      " 49  beds_area                  372514 non-null  float64 \n",
      "dtypes: bool(5), category(8), float64(7), int32(16), int64(4), object(10)\n",
      "memory usage: 90.5+ MB\n"
     ]
    }
   ],
   "source": [
    "display(data_new.head(3))\n",
    "data_new.info()"
   ]
  },
  {
   "cell_type": "code",
   "execution_count": 258,
   "metadata": {},
   "outputs": [
    {
     "data": {
      "text/plain": [
       "['MlsId',\n",
       " 'mls_id',\n",
       " 'private_pool',\n",
       " 'PrivatePool',\n",
       " 'street',\n",
       " 'street',\n",
       " 'hf_lotsize',\n",
       " 'hf_price_sqft',\n",
       " 'homeFacts',\n",
       " 'schools',\n",
       " 'sqft',\n",
       " 'zipcode',\n",
       " 'beds']"
      ]
     },
     "execution_count": 258,
     "metadata": {},
     "output_type": "execute_result"
    }
   ],
   "source": [
    "delete_col"
   ]
  },
  {
   "cell_type": "code",
   "execution_count": 259,
   "metadata": {},
   "outputs": [
    {
     "name": "stdout",
     "output_type": "stream",
     "text": [
      "<class 'pandas.core.frame.DataFrame'>\n",
      "Int64Index: 373068 entries, 0 to 376101\n",
      "Data columns (total 38 columns):\n",
      " #   Column                     Non-Null Count   Dtype   \n",
      "---  ------                     --------------   -----   \n",
      " 0   status                     373068 non-null  category\n",
      " 1   propertyType               373068 non-null  category\n",
      " 2   baths                      373068 non-null  float64 \n",
      " 3   fireplace                  373068 non-null  int64   \n",
      " 4   city                       373068 non-null  category\n",
      " 5   state                      373068 non-null  category\n",
      " 6   stories                    373068 non-null  float64 \n",
      " 7   target                     373068 non-null  int32   \n",
      " 8   private_pool_union         373068 non-null  bool    \n",
      " 9   street_type                373068 non-null  category\n",
      " 10  has_address                373068 non-null  bool    \n",
      " 11  hf_built_year              373068 non-null  int64   \n",
      " 12  hf_remodeled_year          373068 non-null  int64   \n",
      " 13  hf_heating                 373068 non-null  category\n",
      " 14  hf_cooling                 373068 non-null  category\n",
      " 15  hf_parking                 373068 non-null  category\n",
      " 16  hf_has_remodeled           373068 non-null  bool    \n",
      " 17  hf_years_before_remodeled  373068 non-null  int64   \n",
      " 18  sk_distance_min            373068 non-null  float64 \n",
      " 19  sk_distance_mean           373068 non-null  float64 \n",
      " 20  sk_rating_min              373068 non-null  int32   \n",
      " 21  sk_rating_max              373068 non-null  int32   \n",
      " 22  sk_rating_mean             373068 non-null  float64 \n",
      " 23  sk_gr_pk                   373068 non-null  int32   \n",
      " 24  sk_gr_01                   373068 non-null  int32   \n",
      " 25  sk_gr_02                   373068 non-null  int32   \n",
      " 26  sk_gr_03                   373068 non-null  int32   \n",
      " 27  sk_gr_04                   373068 non-null  int32   \n",
      " 28  sk_gr_05                   373068 non-null  int32   \n",
      " 29  sk_gr_06                   373068 non-null  int32   \n",
      " 30  sk_gr_07                   373068 non-null  int32   \n",
      " 31  sk_gr_08                   373068 non-null  int32   \n",
      " 32  sk_gr_09                   373068 non-null  int32   \n",
      " 33  sk_gr_10                   373068 non-null  int32   \n",
      " 34  sk_gr_11                   373068 non-null  int32   \n",
      " 35  sk_gr_12                   373068 non-null  int32   \n",
      " 36  beds_num                   372514 non-null  float64 \n",
      " 37  beds_area                  372514 non-null  float64 \n",
      "dtypes: bool(3), category(8), float64(7), int32(16), int64(4)\n",
      "memory usage: 61.3 MB\n"
     ]
    }
   ],
   "source": [
    "dataset =  data_new.drop(delete_col, axis=1)\n",
    "dataset.status = dataset.status.astype('category')\n",
    "dataset.info()"
   ]
  },
  {
   "cell_type": "code",
   "execution_count": null,
   "metadata": {},
   "outputs": [],
   "source": [
    "dataset.dropna(inplace=True)\n",
    "dataset.info()"
   ]
  },
  {
   "cell_type": "markdown",
   "metadata": {},
   "source": [
    "### Код ML вынесем в отдельный блокнот"
   ]
  }
 ],
 "metadata": {
  "interpreter": {
   "hash": "83612696a71488aa3c58c647d24dc19ba152fc7225cd05d452bdd4b0a131fc0b"
  },
  "kernelspec": {
   "display_name": "Python 3.8.12 64-bit ('tensorflow_25': conda)",
   "language": "python",
   "name": "python3"
  },
  "language_info": {
   "codemirror_mode": {
    "name": "ipython",
    "version": 3
   },
   "file_extension": ".py",
   "mimetype": "text/x-python",
   "name": "python",
   "nbconvert_exporter": "python",
   "pygments_lexer": "ipython3",
   "version": "3.8.12"
  },
  "orig_nbformat": 4
 },
 "nbformat": 4,
 "nbformat_minor": 2
}
